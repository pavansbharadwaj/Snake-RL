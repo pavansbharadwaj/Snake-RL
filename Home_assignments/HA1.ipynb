{
 "cells": [
  {
   "cell_type": "markdown",
   "metadata": {
    "deletable": false,
    "editable": false,
    "nbgrader": {
     "cell_type": "markdown",
     "checksum": "35e22f542837d636834ad6e869d22beb",
     "grade": false,
     "grade_id": "cell-5690119ead85e67e",
     "locked": true,
     "schema_version": 3,
     "solution": false,
     "task": false
    }
   },
   "source": [
    "### Checklist for submission\n",
    "\n",
    "It is extremely important to make sure that:\n",
    "\n",
    "1. Everything runs as expected (no bugs when running cells);\n",
    "2. The output from each cell corresponds to its code (don't change any cell's contents without rerunning it afterwards);\n",
    "3. All outputs are present (don't delete any of the outputs);\n",
    "4. Fill in all the places that say `# YOUR CODE HERE`, or \"**Your answer:** (fill in here)\".\n",
    "5. Never copy/paste any notebook cells. Inserting new cells is allowed, but it should not be necessary.\n",
    "6. The notebook contains some hidden metadata which is important during our grading process. **Make sure not to corrupt any of this metadata!** The metadata may for example be corrupted if you copy/paste any notebook cells, or if you perform an unsuccessful git merge / git pull. It may also be pruned completely if using Google Colab, so watch out for this. Searching for \"nbgrader\" when opening the notebook in a text editor should take you to the important metadata entries.\n",
    "7. Although we will try our very best to avoid this, it may happen that bugs are found after an assignment is released, and that we will push an updated version of the assignment to GitHub. If this happens, it is important that you update to the new version, while making sure the notebook metadata is properly updated as well. The safest way to make sure nothing gets messed up is to start from scratch on a clean updated version of the notebook, copy/pasting your code from the cells of the previous version into the cells of the new version.\n",
    "8. If you need to have multiple parallel versions of this notebook, make sure not to move them to another directory.\n",
    "9. Although not forced to work exclusively in the course Docker environment, you need to make sure that the notebook will run in that environment, i.e. that you have not added any additional dependencies.\n",
    "\n",
    "Failing to meet any of these requirements might lead to either a subtraction of POEs (at best) or a request for resubmission (at worst).\n",
    "\n",
    "We advise you the following steps before submission for ensuring that requirements 1, 2, and 3 are always met: **Restart the kernel** (in the menubar, select Kernel$\\rightarrow$Restart) and then **run all cells** (in the menubar, select Cell$\\rightarrow$Run All). This might require a bit of time, so plan ahead for this (and possibly use Google Cloud's GPU in HA1 and HA2 for this step). Finally press the \"Save and Checkout\" button before handing in, to make sure that all your changes are saved to this .ipynb file."
   ]
  },
  {
   "cell_type": "markdown",
   "metadata": {
    "deletable": false,
    "editable": false,
    "nbgrader": {
     "cell_type": "markdown",
     "checksum": "a6bb874a16c1ff767ac0f37ce0491265",
     "grade": false,
     "grade_id": "cell-774c93bf6433de68",
     "locked": true,
     "schema_version": 3,
     "solution": false,
     "task": false
    }
   },
   "source": [
    "### Fill in name of notebook file\n",
    "This might seem silly, but the version check below needs to know the filename of the current notebook, which is not trivial to find out programmatically.\n",
    "\n",
    "You might want to have several parallel versions of the notebook, and it is fine to rename the notebook as long as it stays in the same directory. **However**, if you do rename it, you also need to update its own filename below:"
   ]
  },
  {
   "cell_type": "code",
   "execution_count": 2,
   "metadata": {},
   "outputs": [],
   "source": [
    "nb_fname = \"HA1.ipynb\""
   ]
  },
  {
   "cell_type": "markdown",
   "metadata": {
    "deletable": false,
    "editable": false,
    "nbgrader": {
     "cell_type": "markdown",
     "checksum": "a025ba528a4e9c11fc54be126fdffab0",
     "grade": false,
     "grade_id": "cell-5676bcf768a7f9be",
     "locked": true,
     "schema_version": 3,
     "solution": false,
     "task": false
    }
   },
   "source": [
    "### Fill in group number and member names:"
   ]
  },
  {
   "cell_type": "code",
   "execution_count": 2,
   "metadata": {},
   "outputs": [],
   "source": [
    "GROUP = \"34\"\n",
    "NAME1 = \"Johan Martinsson\"\n",
    "NAME2 = \"Sanjiv Thottathodhi\""
   ]
  },
  {
   "cell_type": "markdown",
   "metadata": {
    "deletable": false,
    "editable": false,
    "nbgrader": {
     "cell_type": "markdown",
     "checksum": "42f960a95815e1aa3ce8132fcec59cd9",
     "grade": false,
     "grade_id": "cell-a15fe781533d9590",
     "locked": true,
     "schema_version": 3,
     "solution": false,
     "task": false
    }
   },
   "source": [
    "### Check Python version"
   ]
  },
  {
   "cell_type": "code",
   "execution_count": 3,
   "metadata": {
    "deletable": false,
    "editable": false,
    "nbgrader": {
     "cell_type": "code",
     "checksum": "3fef548ba4fe8319321134f43c6c479f",
     "grade": false,
     "grade_id": "cell-2b9c2390ee464c39",
     "locked": true,
     "schema_version": 3,
     "solution": false,
     "task": false
    }
   },
   "outputs": [],
   "source": [
    "from platform import python_version_tuple\n",
    "assert python_version_tuple()[:2] == ('3','7'), \"You are not running Python 3.7. Make sure to run Python through the course Docker environment, or alternatively in the provided Conda environment.\""
   ]
  },
  {
   "cell_type": "markdown",
   "metadata": {
    "deletable": false,
    "editable": false,
    "nbgrader": {
     "cell_type": "markdown",
     "checksum": "15ec4309f1e85f6e17bda73b9b6f48a2",
     "grade": false,
     "grade_id": "cell-4869b45600ce82f8",
     "locked": true,
     "schema_version": 3,
     "solution": false,
     "task": false
    }
   },
   "source": [
    "### Check that notebook server has access to all required resources, and that notebook has not moved"
   ]
  },
  {
   "cell_type": "code",
   "execution_count": 4,
   "metadata": {
    "deletable": false,
    "editable": false,
    "nbgrader": {
     "cell_type": "code",
     "checksum": "929b996cdd0fd4b8120fad773b146c86",
     "grade": false,
     "grade_id": "cell-122ac3d9100b8afb",
     "locked": true,
     "schema_version": 3,
     "solution": false,
     "task": false
    }
   },
   "outputs": [],
   "source": [
    "import os\n",
    "nb_dirname = os.path.abspath('')\n",
    "assert nb_dirname != '/workspace', \\\n",
    "    '[ERROR] The notebook server appears to have been started via Docker, at the same directory as the assignment. Make sure to start it at least one level above the assignment.'\n",
    "assignment_name = os.path.basename(nb_dirname)\n",
    "assert assignment_name in ['IHA1', 'IHA2', 'HA1', 'HA2', 'HA3'], \\\n",
    "    '[ERROR] The notebook appears to have been moved from its original directory'"
   ]
  },
  {
   "cell_type": "markdown",
   "metadata": {
    "deletable": false,
    "editable": false,
    "nbgrader": {
     "cell_type": "markdown",
     "checksum": "f09f40b5350db83232189137c550f0a1",
     "grade": false,
     "grade_id": "cell-2455deee513cd39c",
     "locked": true,
     "schema_version": 3,
     "solution": false,
     "task": false
    }
   },
   "source": [
    "### Verify correct nb_fname"
   ]
  },
  {
   "cell_type": "code",
   "execution_count": 5,
   "metadata": {
    "deletable": false,
    "editable": false,
    "nbgrader": {
     "cell_type": "code",
     "checksum": "a78c7227b049bb147e6c363affb6dae8",
     "grade": false,
     "grade_id": "cell-0472e2fd710f1d72",
     "locked": true,
     "schema_version": 3,
     "solution": false,
     "task": false
    }
   },
   "outputs": [
    {
     "data": {
      "text/html": [
       "<script>if(\"HA1.ipynb\" != IPython.notebook.notebook_name) { alert(\"You have filled in nb_fname = \\\"HA1.ipynb\\\", but this does not seem to match the notebook filename \\\"\" + IPython.notebook.notebook_name + \"\\\".\"); }</script>"
      ],
      "text/plain": [
       "<IPython.core.display.HTML object>"
      ]
     },
     "metadata": {},
     "output_type": "display_data"
    }
   ],
   "source": [
    "from IPython.display import display, HTML\n",
    "try:\n",
    "    display(HTML(r'<script>if(\"{nb_fname}\" != IPython.notebook.notebook_name) {{ alert(\"You have filled in nb_fname = \\\"{nb_fname}\\\", but this does not seem to match the notebook filename \\\"\" + IPython.notebook.notebook_name + \"\\\".\"); }}</script>'.format(nb_fname=nb_fname)))\n",
    "except NameError:\n",
    "    assert False, 'Make sure to fill in the nb_fname variable above!'"
   ]
  },
  {
   "cell_type": "markdown",
   "metadata": {
    "deletable": false,
    "editable": false,
    "nbgrader": {
     "cell_type": "markdown",
     "checksum": "98d88d8e8da19693053764f29dcc591d",
     "grade": false,
     "grade_id": "cell-ceacb1adcae4783d",
     "locked": true,
     "schema_version": 3,
     "solution": false,
     "task": false
    }
   },
   "source": [
    "### Verify that your notebook is up-to-date and not corrupted in any way"
   ]
  },
  {
   "cell_type": "code",
   "execution_count": 6,
   "metadata": {
    "deletable": false,
    "editable": false,
    "nbgrader": {
     "cell_type": "code",
     "checksum": "bb700528d4644601c1a8c91ef1d84635",
     "grade": false,
     "grade_id": "cell-f5a59288e11b4aec",
     "locked": true,
     "schema_version": 3,
     "solution": false,
     "task": false
    }
   },
   "outputs": [
    {
     "name": "stdout",
     "output_type": "stream",
     "text": [
      "[SUCCESS] No major notebook mismatch found when comparing to latest GitHub version. (There might be minor updates, but even that is the case, submitting your work based on this notebook version would be acceptable.)\n"
     ]
    }
   ],
   "source": [
    "import sys\n",
    "sys.path.append('..')\n",
    "from ha_utils import check_notebook_uptodate_and_not_corrupted\n",
    "check_notebook_uptodate_and_not_corrupted(nb_dirname, nb_fname)"
   ]
  },
  {
   "cell_type": "markdown",
   "metadata": {
    "deletable": false,
    "editable": false,
    "nbgrader": {
     "cell_type": "markdown",
     "checksum": "f0dd7cbad727dec0308b03071cff6d79",
     "grade": false,
     "grade_id": "cell-8092c3fd452a3245",
     "locked": true,
     "schema_version": 3,
     "solution": false
    }
   },
   "source": [
    "# HA1 - Cats and dogs"
   ]
  },
  {
   "cell_type": "markdown",
   "metadata": {
    "deletable": false,
    "editable": false,
    "nbgrader": {
     "cell_type": "markdown",
     "checksum": "87ccf483a45725dd262468c44d2acbae",
     "grade": false,
     "grade_id": "cell-0235e816fc98b0f6",
     "locked": true,
     "schema_version": 3,
     "solution": false
    }
   },
   "source": [
    "<img src=\"http://lghttp.32478.nexcesscdn.net/80E972/organiclifestylemagazine/wp-content/uploads/2015/10/Cats-and-Dogs.jpg\" alt=\"Cats and dogs\" style=\"width: 5000px;\"/>"
   ]
  },
  {
   "cell_type": "markdown",
   "metadata": {
    "deletable": false,
    "editable": false,
    "nbgrader": {
     "cell_type": "markdown",
     "checksum": "e42d5a9a7b415bb217a6b890b6f07c84",
     "grade": false,
     "grade_id": "cell-c4bb694612153106",
     "locked": true,
     "schema_version": 3,
     "solution": false
    }
   },
   "source": [
    "For this home assignment, we'll use the Kaggle dataset for the [Dogs vs. Cats competition](https://www.kaggle.com/c/dogs-vs-cats). It is comprised of 25k colored images of dogs and cats. Our goal with this dataset will be to create a classifier that can tell us if the input image is of a cat or a dog."
   ]
  },
  {
   "cell_type": "markdown",
   "metadata": {
    "deletable": false,
    "editable": false,
    "nbgrader": {
     "cell_type": "markdown",
     "checksum": "df24e512a8eef7d729336a061736c644",
     "grade": false,
     "grade_id": "cell-ee9e2aee031325a2",
     "locked": true,
     "schema_version": 3,
     "solution": false,
     "task": false
    }
   },
   "source": [
    "As a way of helping you speed up the training process, each group gets access to an instance in Google Cloud with a K80 GPU. Take a look at the [Instructions folder](https://github.com/JulianoLagana/deep-machine-learning/blob/master/Instructions/03_using_google_cloud.md) to understand how to connect to this instance and use our tools there. You're free to use this limited resource as you see fit, but if you spend all your credits, you'll need a late day to obtain more (and you can only do this once).\n",
    "\n",
    "In order to make the most out of your GPU hours, first try solving the initial part of this notebook (tasks 0-3) in your own computer (these tasks can be solved only on the CPU), and leave most of the available hours for solving tasks 4-5, and refining your best model further (and, if you have the spare hours, experiment a bit!)."
   ]
  },
  {
   "cell_type": "markdown",
   "metadata": {
    "deletable": false,
    "editable": false,
    "nbgrader": {
     "cell_type": "markdown",
     "checksum": "4d7d5118390d608ed2fdce3fb5f912b0",
     "grade": false,
     "grade_id": "cell-f7371c24b57c153e",
     "locked": true,
     "schema_version": 3,
     "solution": false
    }
   },
   "source": [
    "Requirements:\n",
    "- Whenever we ask you to plot anything, be sure to add a title and label the axes. If you're plotting more than one curve in the same plot, also add a legend.\n",
    "- When we ask you to train an architecture, train it for a reasonable number of epochs. \"Reasonable\" here means you should be fairly confident that training for a higher number of epochs wouldn't impact your conclusions regarding the model's performance.\n",
    "\n",
    "\n",
    "Hints:\n",
    "- If you get errors saying you've exhausted the GPU resources, well, then you exhausted the GPU resources. However, sometimes that's because Pytorch didn't release a part of the GPU's memory. If you think your CNN should fit in your memory during training, try restarting the kernel and directly training only that architecture.\n",
    "- Every group has enough credits on google cloud to complete this assignment. However, this statement assumes you'll use your resources judiciously (e.g. always try the code first in your machine and make sure everything works properly before starting your instances) and **won't forget to stop your instance after using it,**  otherwise you might run out of credits.\n",
    "- Before starting, take a look at the images we'll be using. This is a hard task, don't get discouraged if your first models perform poorly (several participants in the original competition didn't achieve an accuracy higher than 60%).\n",
    "- Solving the [computer labs](https://github.com/JulianoLagana/deep-machine-learning/tree/master/computer-labs) is a good way to get prepared for this assignment."
   ]
  },
  {
   "cell_type": "markdown",
   "metadata": {
    "deletable": false,
    "editable": false,
    "nbgrader": {
     "cell_type": "markdown",
     "checksum": "9f50e27a30d83bcebeb52a8ae43228e2",
     "grade": false,
     "grade_id": "cell-3ee6d24346a80d85",
     "locked": true,
     "schema_version": 3,
     "solution": false
    }
   },
   "source": [
    "---\n",
    "## 0. Imports\n",
    "\n",
    "In the following cell, add all the imports you'll use in this assignment."
   ]
  },
  {
   "cell_type": "code",
   "execution_count": 2,
   "metadata": {
    "deletable": false,
    "nbgrader": {
     "cell_type": "code",
     "checksum": "0075c816ac7a24f2287d6fa9b8a81565",
     "grade": true,
     "grade_id": "cell-464a08ede00083a4",
     "locked": false,
     "points": 0,
     "schema_version": 3,
     "solution": true
    }
   },
   "outputs": [],
   "source": [
    "import os\n",
    "\n",
    "import matplotlib.pyplot as plt\n",
    "\n",
    "import torch, torchvision\n",
    "from torchvision import datasets, transforms\n",
    "from torchvision.transforms import ToTensor, Resize, Compose\n",
    "from torch.utils.data import DataLoader, TensorDataset, random_split\n",
    "from torch import nn\n",
    "import torch.nn.functional as F\n",
    "import matplotlib.ticker as ticker\n",
    "\n",
    "from torch import optim\n",
    "\n",
    "device = torch.device(\"cuda\" if torch.cuda.is_available() \n",
    "                                  else \"cpu\")"
   ]
  },
  {
   "cell_type": "markdown",
   "metadata": {
    "deletable": false,
    "editable": false,
    "nbgrader": {
     "cell_type": "markdown",
     "checksum": "49bf801d5ced99ccf6f0c5cd12100230",
     "grade": false,
     "grade_id": "cell-4821dc273028d702",
     "locked": true,
     "schema_version": 3,
     "solution": false
    }
   },
   "source": [
    "---\n",
    "## 1. Loading the data and preprocessing"
   ]
  },
  {
   "cell_type": "markdown",
   "metadata": {
    "deletable": false,
    "editable": false,
    "nbgrader": {
     "cell_type": "markdown",
     "checksum": "138b1acf9fadf7d44af996034a61f261",
     "grade": false,
     "grade_id": "cell-2ea049dea4713494",
     "locked": true,
     "schema_version": 3,
     "solution": false
    }
   },
   "source": [
    "The first step is to head to the [Kaggle website for the cats and dogs competition](https://www.kaggle.com/c/dogs-vs-cats) and download the data from there. You should download both the test and train folders together in one zip file (by clicking the download all button). The split ratio between training and validation has not been made, you'll need to do it yourself. The `test.zip` file contains unlabeled data, so that participants in the contest are not able to train on this set.\n",
    "\n",
    "Downloading the data to the Google Cloud instance can be a bit tricky. There are a few ways to do it:\n",
    "\n",
    " - Using `scp` with the `gcloud` CLI. Download the `dogs-vs-cats.zip` to your local computer and then copy it from there to your cloud instance with the command:\n",
    " ```\n",
    " # Note: This assumes you named your VM instance (gpu-instance)\n",
    " gcloud compute scp  <path_to_local_file>/dogs-vs-cats.zip dml-host@gpu-instance:~/deep-machine-learning/home-assignments/HA1/\n",
    " ```\n",
    " `scp` uses the same credentials as `ssh`, which `gcloud` handles for you. The first time you `ssh` directly into `dml-host` you have to set a password for your `ssh` keys\n",
    " - Using the Kaggle CLI. We have it installed in the docker image, and you can read about it [here](https://github.com/Kaggle/kaggle-api) \n",
    "\n",
    "For this assignment you should use [data generators](https://pytorch.org/docs/stable/torchvision/datasets.html#imagefolder) to load the images to your CPU/GPU memory. Because of this, your folder structure for the data should conform to the folder structure expected by the data generators (i.e. the samples should be separated into one folder for each class). Furthermore, we ask you to first start with a smaller subset of the data (1/5 of the number of samples), in order to test different models faster.\n",
    "\n",
    "This means that you should create a folder structure that resembles the following (obviously, the folder names are up to you):\n",
    "\n",
    "\n",
    "         small_train             small_val                train                   val\n",
    "              |                      |                      |                      |\n",
    "              |                      |                      |                      |\n",
    "        -------------          -------------          -------------          -------------\n",
    "        |           |          |           |          |           |          |           |\n",
    "        |           |          |           |          |           |          |           |\n",
    "      Cats        Dogs       Cats        Dogs       Cats        Dogs       Cats        Dogs\n",
    "\n",
    "The `small_train` and `small_val` folders have the training and validation samples for your smaller subset of the data, while the `train` and `val` folders contain all the samples you extracted from Kaggle's `train.zip`. We provide you a notebook that shows how to achieve this (`create_project_notebook_structure.ipynb`), starting from the original `dogs-vs-cats.zip` file that you download from Kaggle. If you do use that notebook, we encourage you to understand how each step is being done, so you can generalize this knowledge to new datasets you'll encounter.\n",
    "\n",
    "We advise you to use 30% of the data as validation data in the smaller dataset. However, for the larger dataset, you should decide how to split between training and validation. Please specify your splits in the following cells."
   ]
  },
  {
   "cell_type": "markdown",
   "metadata": {
    "deletable": false,
    "editable": false,
    "nbgrader": {
     "cell_type": "markdown",
     "checksum": "21f8c413dbd2a629e479abc65e02c1a1",
     "grade": false,
     "grade_id": "cell-89ba19509b952af2",
     "locked": true,
     "schema_version": 3,
     "solution": false
    }
   },
   "source": [
    "For the larger subset, what was the training/validation split that you decided to use?"
   ]
  },
  {
   "cell_type": "markdown",
   "metadata": {
    "deletable": false,
    "editable": false,
    "nbgrader": {
     "cell_type": "markdown",
     "checksum": "b5740099dceee0e312b1711006e99c1f",
     "grade": false,
     "grade_id": "cell-b0efa9a80e35cb50",
     "locked": true,
     "schema_version": 3,
     "solution": false
    }
   },
   "source": [
    "**% Samples in the training set:**"
   ]
  },
  {
   "cell_type": "markdown",
   "metadata": {
    "deletable": false,
    "nbgrader": {
     "cell_type": "markdown",
     "checksum": "70ba7076cdc41aac550685544ccb0fa2",
     "grade": true,
     "grade_id": "cell-7f3b0dfbd90a14c1",
     "locked": false,
     "points": 0,
     "schema_version": 3,
     "solution": true
    }
   },
   "source": [
    "**Your answer:** 8750 cats and 8750 dogs"
   ]
  },
  {
   "cell_type": "markdown",
   "metadata": {
    "deletable": false,
    "editable": false,
    "nbgrader": {
     "cell_type": "markdown",
     "checksum": "2ddce1febefd28de63c23277971779d3",
     "grade": false,
     "grade_id": "cell-c23e59a345aa4071",
     "locked": true,
     "schema_version": 3,
     "solution": false
    }
   },
   "source": [
    "**% Samples in the validation set:**"
   ]
  },
  {
   "cell_type": "markdown",
   "metadata": {
    "deletable": false,
    "nbgrader": {
     "cell_type": "markdown",
     "checksum": "37a4a365f2ecccf88fae371dddb4f7a0",
     "grade": true,
     "grade_id": "cell-515a15da68038afe",
     "locked": false,
     "points": 0,
     "schema_version": 3,
     "solution": true
    }
   },
   "source": [
    "**Your answer:** 3750 cats and 3750 dogs"
   ]
  },
  {
   "cell_type": "markdown",
   "metadata": {
    "deletable": false,
    "editable": false,
    "nbgrader": {
     "cell_type": "markdown",
     "checksum": "9646fdf1c5455cf9c6cd01212c8490a2",
     "grade": false,
     "grade_id": "cell-8964386e29e42eee",
     "locked": true,
     "schema_version": 3,
     "solution": false,
     "task": false
    }
   },
   "source": [
    "**Optional (1 POE):** Would you keep the same ratio split between train and validation sets if you had a large dataset compared to if you had a smaller one?\n"
   ]
  },
  {
   "cell_type": "markdown",
   "metadata": {
    "deletable": false,
    "nbgrader": {
     "cell_type": "markdown",
     "checksum": "c3748ce886332354dee82a16ffd9a9a3",
     "grade": true,
     "grade_id": "cell-88d41e16176067ca",
     "locked": false,
     "points": 1,
     "schema_version": 3,
     "solution": true,
     "task": false
    }
   },
   "source": [
    "**Your answer:** No, if we have a very large dataset, there's a good reason to change the split into having a larger amount of training data than validation since we don't require a large amount of validation data to tell us that the CNN is working fine. One way to go is to start with 80/20 and then change the ratio to test the new performance."
   ]
  },
  {
   "cell_type": "markdown",
   "metadata": {
    "deletable": false,
    "editable": false,
    "nbgrader": {
     "cell_type": "markdown",
     "checksum": "f907f0a06aa01c1087ab6e18710c2fbe",
     "grade": false,
     "grade_id": "cell-876ca7df88c9311f",
     "locked": true,
     "schema_version": 3,
     "solution": false
    }
   },
   "source": [
    "Fill in the dataset paths (to be used later by your data generators):"
   ]
  },
  {
   "cell_type": "code",
   "execution_count": 3,
   "metadata": {
    "deletable": false,
    "nbgrader": {
     "cell_type": "code",
     "checksum": "16715c0babca92002d1a3fa1eba91fba",
     "grade": true,
     "grade_id": "cell-1b1314f2ab1b1d6b",
     "locked": false,
     "points": 0,
     "schema_version": 3,
     "solution": true
    }
   },
   "outputs": [],
   "source": [
    "# TODO: Change the directories accordingly\n",
    "cwd = os.getcwd()\n",
    "\n",
    "train_path = '/workspace/home-assignments/HA1/train'\n",
    "val_path = '/workspace/home-assignments/HA1/val'\n",
    "small_train_path = '/workspace/home-assignments/HA1/small_train'\n",
    "small_val_path = '/workspace/home-assignments/HA1/small_val'"
   ]
  },
  {
   "cell_type": "markdown",
   "metadata": {
    "deletable": false,
    "editable": false,
    "nbgrader": {
     "cell_type": "markdown",
     "checksum": "8f5713cd6d9233be6c5c607dc97bd8a7",
     "grade": false,
     "grade_id": "cell-1d6ea64bca94a4ef",
     "locked": true,
     "schema_version": 3,
     "solution": false
    }
   },
   "source": [
    "---\n",
    "### 1.1 Preprocessing\n",
    "**(2 POE)** \n",
    "\n",
    "Once you have the expected folder structure, create two data generators for automatically generating batches from the images in your smaller subset of data. Don't use any [data augmentation](https://cartesianfaith.com/2016/10/06/what-you-need-to-know-about-data-augmentation-for-machine-learning/), but feel free to preprocess the data as you see fit. \n",
    "\n",
    "Hints:\n",
    "- Take a look at [ImageFolder](https://pytorch.org/docs/stable/torchvision/datasets.html#imagefolder) and [DataLoader](https://pytorch.org/docs/stable/data.html#torch.utils.data.DataLoader) from the pytorch docs.\n",
    "- To preprocess the data you can use the built-in pytorch [Transforms](https://pytorch.org/docs/stable/torchvision/transforms.html)\n",
    "- The specified `batch_size` should be chosen so that you don't run out of memory.\n",
    "- The `DataLoader` constructor takes an optional argument `num_workers`, which defaults to `0` if not provided. Setting a higher number creates multiple threads which load batches concurrently. This can speed up training considerably. However, for multi-threading to work, you need to add `--ipc host` to your `docker run` command.  \n",
    "- When feeding the images to your CNN, you'll probably want all of them to have the same spatial size, even though the .jpeg files differ in this. Resizing the images can be done using the previously mentioned built-in pytorch Transforms.\n",
    "- Resizing the images to a smaller size while loading them can be beneficial. However, the VGG network that is used later in this assignment requires that images are at least 224x224."
   ]
  },
  {
   "cell_type": "code",
   "execution_count": 4,
   "metadata": {
    "deletable": false,
    "nbgrader": {
     "cell_type": "code",
     "checksum": "5c26a005c3af7d7c42db7d655225a517",
     "grade": true,
     "grade_id": "cell-31b81f052b6e681e",
     "locked": false,
     "points": 2,
     "schema_version": 3,
     "solution": true,
     "task": false
    }
   },
   "outputs": [],
   "source": [
    "''' Make a compose transform function to be used in ImageFolder, this both resizes and converts to type tensor '''\n",
    "transformFunc = transforms.Compose([transforms.Resize((50,50)), transforms.ToTensor(), transforms.Normalize([0.485, 0.456, 0.406], [0.229, 0.224, 0.225])])\n",
    "\n",
    "small_train = torchvision.datasets.ImageFolder(small_train_path, transform = transformFunc)\n",
    "small_val = torchvision.datasets.ImageFolder(small_val_path, transform = transformFunc)\n",
    "\n",
    "small_train_data_loader = DataLoader(small_train, batch_size=64, shuffle=True)\n",
    "small_val_data_loader = DataLoader(small_val, batch_size=64)"
   ]
  },
  {
   "cell_type": "markdown",
   "metadata": {
    "deletable": false,
    "editable": false,
    "nbgrader": {
     "cell_type": "markdown",
     "checksum": "5cfe89d28ee3de9d9d0472d3393dedb8",
     "grade": false,
     "grade_id": "cell-c0bfc1ac7fadfcc7",
     "locked": true,
     "schema_version": 3,
     "solution": false
    }
   },
   "source": [
    "---\n",
    "## 2. Training\n",
    "\n",
    "**(1 POE)**\n",
    "\n",
    "Create your first CNN architecture for this task. Start with something as simple as possible, that you're almost sure can get an accuracy better than 50% (we'll improve upon it later)."
   ]
  },
  {
   "cell_type": "code",
   "execution_count": 5,
   "metadata": {},
   "outputs": [],
   "source": [
    "device = torch.device(\"cuda\" if torch.cuda.is_available() \n",
    "                                  else \"cpu\")\n",
    "\n",
    "def evaluate_model(small_val_data_loader, model, loss_fn):\n",
    "    losses = []\n",
    "    n_correct = 0\n",
    "    with torch.no_grad():\n",
    "        for b_x, b_y in small_val_data_loader:            \n",
    "            b_x = b_x.to(device)\n",
    "            b_y = b_y.to(device)\n",
    "            pred = model(b_x)\n",
    "            loss = loss_fn(pred, b_y)\n",
    "            losses.append(loss.item())\n",
    "            n_correct += torch.sum(pred.argmax(dim=1) == b_y).item()\n",
    "        val_accuracy = n_correct/len(small_val)\n",
    "        val_avg_loss = sum(losses)/len(losses)    \n",
    "\n",
    "    return val_accuracy, val_avg_loss"
   ]
  },
  {
   "cell_type": "code",
   "execution_count": 11,
   "metadata": {
    "deletable": false,
    "nbgrader": {
     "cell_type": "code",
     "checksum": "2640d61f483bd3ac9c018fd407f71ace",
     "grade": true,
     "grade_id": "cell-4c9de348cd8bc4ff",
     "locked": false,
     "points": 1,
     "schema_version": 3,
     "solution": true
    }
   },
   "outputs": [],
   "source": [
    "# YOUR CODE HERE\n",
    "class CatDogNetwork(nn.Module):\n",
    "    def __init__(self):\n",
    "        super().__init__()\n",
    "        self.conv1 = nn.Conv2d(in_channels=3, out_channels=64, kernel_size=3)\n",
    "        self.fc1 = nn.Linear(24*24*64, 2)\n",
    "        \n",
    "    def forward(self, x):\n",
    "        x = F.relu(self.conv1(x))        \n",
    "        x = F.max_pool2d(x, kernel_size=2)\n",
    "        x = x.view(-1,24*24*64)\n",
    "        x = self.fc1(x)\n",
    "        return x"
   ]
  },
  {
   "cell_type": "markdown",
   "metadata": {
    "deletable": false,
    "editable": false,
    "nbgrader": {
     "cell_type": "markdown",
     "checksum": "eb36b335c1de44cd9af7aa0b6a658b92",
     "grade": false,
     "grade_id": "cell-cb6fc78116ad6b75",
     "locked": true,
     "schema_version": 3,
     "solution": false
    }
   },
   "source": [
    "Train your model using the two data generators you created earlier. Train for a reasonable amount of epochs, so as to get a good sense of how well this architecture performs.\n",
    "\n",
    "Hints:\n",
    "- Note that you will need to plot your training and validation losses and accuracies, so make sure that you saved them during training. "
   ]
  },
  {
   "cell_type": "code",
   "execution_count": 16,
   "metadata": {
    "deletable": false,
    "nbgrader": {
     "cell_type": "code",
     "checksum": "087042eedcc020b6b174d472f9b62e31",
     "grade": true,
     "grade_id": "cell-bb1fcd878f3bea9a",
     "locked": false,
     "points": 0,
     "schema_version": 3,
     "solution": true
    },
    "scrolled": true
   },
   "outputs": [
    {
     "name": "stdout",
     "output_type": "stream",
     "text": [
      "Epoch 1 \tLoss: 7.023 \tLoss (val): 0.945\tAccuracy: 0.58 \tAccuracy (val): 0.63\n",
      "Epoch 2 \tLoss: 0.633 \tLoss (val): 0.714\tAccuracy: 0.71 \tAccuracy (val): 0.68\n",
      "Epoch 3 \tLoss: 0.439 \tLoss (val): 0.682\tAccuracy: 0.80 \tAccuracy (val): 0.68\n",
      "Epoch 4 \tLoss: 0.339 \tLoss (val): 0.726\tAccuracy: 0.85 \tAccuracy (val): 0.67\n",
      "Epoch 5 \tLoss: 0.301 \tLoss (val): 0.778\tAccuracy: 0.88 \tAccuracy (val): 0.69\n",
      "Epoch 6 \tLoss: 0.272 \tLoss (val): 0.782\tAccuracy: 0.89 \tAccuracy (val): 0.69\n",
      "Epoch 7 \tLoss: 0.254 \tLoss (val): 0.862\tAccuracy: 0.89 \tAccuracy (val): 0.69\n",
      "Epoch 8 \tLoss: 0.181 \tLoss (val): 0.857\tAccuracy: 0.93 \tAccuracy (val): 0.70\n",
      "Epoch 9 \tLoss: 0.160 \tLoss (val): 0.937\tAccuracy: 0.94 \tAccuracy (val): 0.68\n",
      "Epoch 10 \tLoss: 0.138 \tLoss (val): 1.007\tAccuracy: 0.95 \tAccuracy (val): 0.68\n"
     ]
    }
   ],
   "source": [
    "# The following line automatically figures out what device (cpu or gpu)\n",
    "# you are using and transfers your model to it \n",
    "device = torch.device(\"cuda\" if torch.cuda.is_available() \n",
    "                                  else \"cpu\")\n",
    "\n",
    "# Any pytorch object (e.g. model, inputs, output, etc.) can \n",
    "# be transferred to the current device by running\n",
    "#       name_of_object.to(device)\n",
    "# Example:\n",
    "#       model.to(device)\n",
    "\n",
    "model = CatDogNetwork()\n",
    "model.to(device)\n",
    "loss_fn = nn.CrossEntropyLoss()\n",
    "optimizer = optim.Adam(model.parameters(), lr=0.01)\n",
    "train_accuracy =[]\n",
    "train_avg_loss=[]\n",
    "val_acc=[]\n",
    "val_loss=[]\n",
    "\n",
    "for epoch in range(10):\n",
    "    losses = []\n",
    "    n_correct = 0\n",
    "    \n",
    "    for b_x, b_y in small_train_data_loader:\n",
    "        \n",
    "        b_x = b_x.to(device)\n",
    "        b_y = b_y.to(device)               \n",
    "        # Compute predictions and losses\n",
    "        pred = model(b_x)\n",
    "        loss = loss_fn(pred, b_y)\n",
    "        losses.append(loss.item())\n",
    "        \n",
    "        # Count number of correct predictions\n",
    "        n_correct += torch.sum(pred.argmax(dim=1) == b_y).item()\n",
    "\n",
    "        # Backpropagate\n",
    "        loss.backward()\n",
    "        optimizer.step()\n",
    "        optimizer.zero_grad()    \n",
    "        \n",
    "    # Compute accuracy and loss in the entire training set\n",
    "    train_accuracy.append((n_correct/len(small_train)))\n",
    "    train_avg_loss.append((sum(losses)/len(losses)))\n",
    "        \n",
    "    # Compute accuracy and loss in the entire validation set\n",
    "    val_accuracy, val_avg_loss = evaluate_model(small_val_data_loader, model, loss_fn)\n",
    "    \n",
    "    val_acc.append((val_accuracy))\n",
    "    val_loss.append((val_avg_loss))\n",
    "        \n",
    "    # Display metrics\n",
    "    display_str = 'Epoch {} '\n",
    "    display_str += '\\tLoss: {:.3f} '\n",
    "    display_str += '\\tLoss (val): {:.3f}'\n",
    "    display_str += '\\tAccuracy: {:.2f} '\n",
    "    display_str += '\\tAccuracy (val): {:.2f}'\n",
    "    print(display_str.format(epoch+1, train_avg_loss[epoch], val_loss[epoch], train_accuracy[epoch], val_acc[epoch]))"
   ]
  },
  {
   "cell_type": "markdown",
   "metadata": {
    "deletable": false,
    "editable": false,
    "nbgrader": {
     "cell_type": "markdown",
     "checksum": "da9811c873c0b5e3672930290854c501",
     "grade": false,
     "grade_id": "cell-4d42c86687697a67",
     "locked": true,
     "schema_version": 3,
     "solution": false
    }
   },
   "source": [
    "Create two plots. In one of them, plot the loss in the training and the validation datasets. In the other one, plot the accuracy in the training and validation datasets."
   ]
  },
  {
   "cell_type": "code",
   "execution_count": 48,
   "metadata": {
    "deletable": false,
    "nbgrader": {
     "cell_type": "code",
     "checksum": "e71729e832321272983178b41b90f874",
     "grade": true,
     "grade_id": "cell-fa81712e1e27432a",
     "locked": false,
     "points": 0,
     "schema_version": 3,
     "solution": true
    }
   },
   "outputs": [
    {
     "data": {
      "image/png": "[encoded data removed]",
      "text/plain": [
       "<Figure size 720x360 with 2 Axes>"
      ]
     },
     "metadata": {
      "needs_background": "light"
     },
     "output_type": "display_data"
    }
   ],
   "source": [
    "# YOUR CODE HERE\n",
    "fig, (ax1, ax2) = plt.subplots(1, 2)\n",
    "fig.suptitle('Initial model, trained from scratch', fontsize = 16, y = 1.05)\n",
    "fig.set_figheight(5)\n",
    "fig.set_figwidth(10)\n",
    "number_epoch=[i+1 for i in range(epoch+1)]\n",
    "ax1.plot(number_epoch, train_avg_loss, label ='Train Loss')\n",
    "ax1.plot(number_epoch, val_loss, label ='Validation Loss')\n",
    "# naming the x axis \n",
    "ax1.set_xlabel('Number of Epoch') \n",
    "# naming the y axis \n",
    "ax1.set_ylabel('Loss') \n",
    "# giving a title to my graph \n",
    "ax1.set_title('Train and Validation loss') \n",
    "ax1.xaxis.set_major_locator(ticker.MultipleLocator(1))\n",
    "ax1.legend()\n",
    "ax2.plot(number_epoch, train_accuracy, label ='Train Accuracy')\n",
    "ax2.plot(number_epoch, val_acc, label ='Validation Accuracy')\n",
    "# naming the x axis \n",
    "ax2.set_xlabel('Number of Epoch') \n",
    "# naming the y axis \n",
    "ax2.set_ylabel('Accuracy') \n",
    "# giving a title to my graph \n",
    "ax2.set_title('Train and Validation accuracy') \n",
    "ax2.xaxis.set_major_locator(ticker.MultipleLocator(1))\n",
    "ax2.legend()\n",
    "fig.tight_layout()"
   ]
  },
  {
   "cell_type": "markdown",
   "metadata": {
    "deletable": false,
    "editable": false,
    "nbgrader": {
     "cell_type": "markdown",
     "checksum": "7acc519e5a759ed1c886e05ff54eced1",
     "grade": false,
     "grade_id": "cell-f2fc166890962bcf",
     "locked": true,
     "schema_version": 3,
     "solution": false
    }
   },
   "source": [
    "**(2 POE)** Based on these, what would you suggest for improving your model? Why?"
   ]
  },
  {
   "cell_type": "markdown",
   "metadata": {
    "deletable": false,
    "nbgrader": {
     "cell_type": "markdown",
     "checksum": "2b42c08ae7bcb61726d89b8dd46922d6",
     "grade": true,
     "grade_id": "cell-506e21ce469b67f5",
     "locked": false,
     "points": 2,
     "schema_version": 3,
     "solution": true
    }
   },
   "source": [
    "**Your answer:** We see a difference between the train and validation accuracy where the validation is notably lower which is a clear sign of overfitting. A possible improvement would be to use regularization and also lower the learning rate. We could also select another architecture for the network which may improve as well. Since we are only using a smaller set of the data, this can also be a reason for the high variance issue.\n",
    "\n",
    "Another improvement would be to lower the learning rate when the validation accuracy plateaus. This seems to be around 67% for this structure. "
   ]
  },
  {
   "cell_type": "markdown",
   "metadata": {
    "deletable": false,
    "editable": false,
    "nbgrader": {
     "cell_type": "markdown",
     "checksum": "afa8e2c066a79d25a5ad58e8095cbfac",
     "grade": false,
     "grade_id": "cell-ee79a83a62b70a8f",
     "locked": true,
     "schema_version": 3,
     "solution": false
    }
   },
   "source": [
    "---\n",
    "## 3. Improving your model"
   ]
  },
  {
   "cell_type": "markdown",
   "metadata": {
    "deletable": false,
    "editable": false,
    "nbgrader": {
     "cell_type": "markdown",
     "checksum": "ec0558d7aff997041cf5cbb7a6648e33",
     "grade": false,
     "grade_id": "cell-5314d286e79e0377",
     "locked": true,
     "schema_version": 3,
     "solution": false
    }
   },
   "source": [
    "**(1 POE)** Continue to improve your model architecture by comparing the value of the metrics you're interested in both the training and validation set. Try different ideas! When you're happy with one architecture, copy it in the cell below and train it here. Save the training and validation losses and accuracies. You'll use this later to compare your best model with the one using transfer learning.\n",
    "\n",
    "**Note**: When trying different ideas, you'll end up with several different models. However, when submitting your solutions to Canvas, the cell below must contain only the definition and training of *one* model. Remove all code related to the models that were not chosen."
   ]
  },
  {
   "cell_type": "code",
   "execution_count": 49,
   "metadata": {
    "deletable": false,
    "nbgrader": {
     "cell_type": "code",
     "checksum": "01447485bf51fbce22145e60e0fb8c93",
     "grade": true,
     "grade_id": "cell-6edb7d7e343ab14b",
     "locked": false,
     "points": 1,
     "schema_version": 3,
     "solution": true
    }
   },
   "outputs": [],
   "source": [
    "# YOUR CODE HERE\n",
    "class CatDogImprovedNetwork(nn.Module):\n",
    "    def __init__(self):\n",
    "        super().__init__()\n",
    "        self.conv1 = nn.Conv2d(in_channels=3, out_channels=64, kernel_size=3)\n",
    "        self.conv1_bn = nn.BatchNorm2d(64)\n",
    "        self.fc1 = nn.Linear(24*24*64, 2)\n",
    "        \n",
    "    def forward(self, x):\n",
    "        x = F.relu(self.conv1(x))        \n",
    "        x = F.max_pool2d(x, kernel_size=2)\n",
    "        x = x.view(-1,24*24*64)\n",
    "        x = self.fc1(x)\n",
    "        return x"
   ]
  },
  {
   "cell_type": "code",
   "execution_count": 59,
   "metadata": {},
   "outputs": [
    {
     "name": "stdout",
     "output_type": "stream",
     "text": [
      "------ Epoch 1 ------\n",
      "Number of batches: 0\n",
      "Number of batches: 10\n",
      "Number of batches: 20\n",
      "Number of batches: 30\n",
      "Number of batches: 40\n",
      "Number of batches: 50\n",
      "Epoch 1 \tLoss: 6.518 \tLoss (val): 0.710\tAccuracy: 0.58 \tAccuracy (val): 0.63\n",
      "------ Epoch 2 ------\n",
      "Number of batches: 0\n",
      "Number of batches: 10\n",
      "Number of batches: 20\n",
      "Number of batches: 30\n",
      "Number of batches: 40\n",
      "Number of batches: 50\n",
      "Epoch 2 \tLoss: 0.558 \tLoss (val): 0.600\tAccuracy: 0.72 \tAccuracy (val): 0.67\n",
      "------ Epoch 3 ------\n",
      "Number of batches: 0\n",
      "Number of batches: 10\n",
      "Number of batches: 20\n",
      "Number of batches: 30\n",
      "Number of batches: 40\n",
      "Number of batches: 50\n",
      "Epoch 3 \tLoss: 0.633 \tLoss (val): 0.708\tAccuracy: 0.63 \tAccuracy (val): 0.61\n",
      "------ Epoch 4 ------\n",
      "Number of batches: 0\n",
      "Number of batches: 10\n",
      "Number of batches: 20\n",
      "Number of batches: 30\n",
      "Number of batches: 40\n",
      "Number of batches: 50\n",
      "Epoch 4 \tLoss: 0.535 \tLoss (val): 0.589\tAccuracy: 0.74 \tAccuracy (val): 0.71\n",
      "------ Epoch 5 ------\n",
      "Number of batches: 0\n",
      "Number of batches: 10\n",
      "Number of batches: 20\n",
      "Number of batches: 30\n",
      "Number of batches: 40\n",
      "Number of batches: 50\n",
      "Epoch 5 \tLoss: 0.565 \tLoss (val): 0.634\tAccuracy: 0.70 \tAccuracy (val): 0.64\n",
      "------ Epoch 6 ------\n",
      "Number of batches: 0\n",
      "Number of batches: 10\n",
      "Number of batches: 20\n",
      "Number of batches: 30\n",
      "Number of batches: 40\n",
      "Number of batches: 50\n",
      "Epoch 6 \tLoss: 0.537 \tLoss (val): 0.579\tAccuracy: 0.73 \tAccuracy (val): 0.72\n",
      "------ Epoch 7 ------\n",
      "Number of batches: 0\n",
      "Number of batches: 10\n",
      "Number of batches: 20\n",
      "Number of batches: 30\n",
      "Number of batches: 40\n",
      "Number of batches: 50\n",
      "Epoch 7 \tLoss: 0.581 \tLoss (val): 0.617\tAccuracy: 0.69 \tAccuracy (val): 0.67\n",
      "------ Epoch 8 ------\n",
      "Number of batches: 0\n",
      "Number of batches: 10\n",
      "Number of batches: 20\n",
      "Number of batches: 30\n",
      "Number of batches: 40\n",
      "Number of batches: 50\n",
      "Epoch 8 \tLoss: 0.589 \tLoss (val): 0.617\tAccuracy: 0.68 \tAccuracy (val): 0.65\n",
      "------ Epoch 9 ------\n",
      "Number of batches: 0\n",
      "Number of batches: 10\n",
      "Number of batches: 20\n",
      "Number of batches: 30\n",
      "Number of batches: 40\n",
      "Number of batches: 50\n",
      "Epoch 9 \tLoss: 0.534 \tLoss (val): 0.587\tAccuracy: 0.73 \tAccuracy (val): 0.70\n",
      "------ Epoch 10 ------\n",
      "Number of batches: 0\n",
      "Number of batches: 10\n",
      "Number of batches: 20\n",
      "Number of batches: 30\n",
      "Number of batches: 40\n",
      "Number of batches: 50\n",
      "Epoch 10 \tLoss: 0.587 \tLoss (val): 0.605\tAccuracy: 0.67 \tAccuracy (val): 0.70\n"
     ]
    }
   ],
   "source": [
    "# Reset the model and the optimizer\n",
    "model = CatDogImprovedNetwork()\n",
    "model.to(device)\n",
    "loss_fn = nn.CrossEntropyLoss()\n",
    "optimizer = optim.Adam(model.parameters(), lr=0.01, weight_decay=0.1)\n",
    "\n",
    "train_accuracy_3 =[]\n",
    "train_avg_loss_3=[]\n",
    "val_acc_3=[]\n",
    "val_loss_3=[]\n",
    "\n",
    "val_accuracy = 0\n",
    "\n",
    "for epoch in range(10):\n",
    "    losses = []\n",
    "    n_correct = 0\n",
    "    \n",
    "    print('------ Epoch {} ------'.format(epoch+1))\n",
    "    for i, (b_x, b_y) in enumerate(small_train_data_loader):\n",
    "        \n",
    "        b_x = b_x.to(device)\n",
    "        b_y = b_y.to(device)               \n",
    "        # Compute predictions and losses\n",
    "        pred = model(b_x)\n",
    "        loss = loss_fn(pred, b_y)\n",
    "        losses.append(loss.item())\n",
    "        \n",
    "        if val_accuracy >= 0.67:\n",
    "            optimizer = optim.Adam(model.parameters(), lr=0.001, weight_decay=0.1) \n",
    "        \n",
    "        # Count number of correct predictions\n",
    "        n_correct += torch.sum(pred.argmax(dim=1) == b_y).item()\n",
    "\n",
    "        # Backpropagate\n",
    "        loss.backward()\n",
    "        optimizer.step()\n",
    "        optimizer.zero_grad()    \n",
    "        \n",
    "        if i % 10 == 0:\n",
    "            print('Number of batches: {}'.format(i))\n",
    "        \n",
    "    # Compute accuracy and loss in the entire training set\n",
    "    train_accuracy_3.append((n_correct/len(small_train)))\n",
    "    train_avg_loss_3.append((sum(losses)/len(losses)))\n",
    "        \n",
    "    # Compute accuracy and loss in the entire validation set\n",
    "    val_accuracy, val_avg_loss = evaluate_model(small_val_data_loader, model, loss_fn)\n",
    "    \n",
    "    val_acc_3.append((val_accuracy))\n",
    "    val_loss_3.append((val_avg_loss))\n",
    "        \n",
    "    # Display metrics\n",
    "    display_str = 'Epoch {} '\n",
    "    display_str += '\\tLoss: {:.3f} '\n",
    "    display_str += '\\tLoss (val): {:.3f}'\n",
    "    display_str += '\\tAccuracy: {:.2f} '\n",
    "    display_str += '\\tAccuracy (val): {:.2f}'\n",
    "    print(display_str.format(epoch+1, train_avg_loss_3[epoch], val_loss_3[epoch], train_accuracy_3[epoch], val_acc_3[epoch]))"
   ]
  },
  {
   "cell_type": "markdown",
   "metadata": {
    "deletable": false,
    "editable": false,
    "nbgrader": {
     "cell_type": "markdown",
     "checksum": "ba6a43ffd69fce436811d9311aedcede",
     "grade": false,
     "grade_id": "cell-d033937b5a8b9875",
     "locked": true,
     "schema_version": 3,
     "solution": false
    }
   },
   "source": [
    "Create two plots. In one of them, plot the loss in the training and the validation datasets. In the other one, plot the accuracy in the training and validation datasets."
   ]
  },
  {
   "cell_type": "code",
   "execution_count": 69,
   "metadata": {
    "deletable": false,
    "nbgrader": {
     "cell_type": "code",
     "checksum": "88f944698dc9dc353e1933fe16b6de87",
     "grade": true,
     "grade_id": "cell-3df999674672de47",
     "locked": false,
     "points": 0,
     "schema_version": 3,
     "solution": true
    }
   },
   "outputs": [
    {
     "data": {
      "image/png": "[encoded data removed]",
      "text/plain": [
       "<Figure size 720x360 with 2 Axes>"
      ]
     },
     "metadata": {
      "needs_background": "light"
     },
     "output_type": "display_data"
    }
   ],
   "source": [
    "# YOUR CODE HERE\n",
    "fig, (ax1, ax2) = plt.subplots(1, 2)\n",
    "fig.suptitle('Improved initial model, trained from scratch', fontsize = 16, y = 1.05)\n",
    "fig.set_figheight(5)\n",
    "fig.set_figwidth(10)\n",
    "number_epoch=[i+1 for i in range(epoch+1)]\n",
    "ax1.plot(number_epoch, train_avg_loss_3, label ='Train Loss')\n",
    "ax1.plot(number_epoch, val_loss_3, label ='Validation Loss')\n",
    "# naming the x axis \n",
    "ax1.set_xlabel('Number of Epoch') \n",
    "# naming the y axis \n",
    "ax1.set_ylabel('Loss') \n",
    "# giving a title to my graph \n",
    "ax1.set_title('Train and Validation loss') \n",
    "ax1.xaxis.set_major_locator(ticker.MultipleLocator(1))\n",
    "ax1.legend()\n",
    "ax2.plot(number_epoch, train_accuracy_3, label ='Train Accuracy')\n",
    "ax2.plot(number_epoch, val_acc_3, label ='Validation Accuracy')\n",
    "# naming the x axis \n",
    "ax2.set_xlabel('Number of Epoch') \n",
    "# naming the y axis \n",
    "ax2.set_ylabel('Accuracy') \n",
    "# giving a title to my graph \n",
    "ax2.set_title('Train and Validation accuracy') \n",
    "ax2.xaxis.set_major_locator(ticker.MultipleLocator(1))\n",
    "ax2.legend()\n",
    "fig.tight_layout()"
   ]
  },
  {
   "cell_type": "markdown",
   "metadata": {
    "deletable": false,
    "editable": false,
    "nbgrader": {
     "cell_type": "markdown",
     "checksum": "79d9c109d0360f12011edaf01804bb44",
     "grade": false,
     "grade_id": "cell-a827c39d9e652e52",
     "locked": true,
     "schema_version": 3,
     "solution": false,
     "task": false
    }
   },
   "source": [
    "**(2 POE)** Did your results improve? What problems did your improvements fix? Explain why, or why not. "
   ]
  },
  {
   "cell_type": "markdown",
   "metadata": {
    "deletable": false,
    "nbgrader": {
     "cell_type": "markdown",
     "checksum": "951f6d4450c82df3800e38edd678a422",
     "grade": true,
     "grade_id": "cell-cbda4b585ad39ddc",
     "locked": false,
     "points": 2,
     "schema_version": 3,
     "solution": true,
     "task": false
    }
   },
   "source": [
    "**Your answer:** The initial model had a large overfitting problem which resulted in high training accuracy but fairly low validation accuracy. This problem has been solved with regularization, but the behaviour of the training is fluctuating a lot more for this model. We are now decreasing the learning rate when the validation accuracy hits 67% or higher, which may be the cause of this behaviour. We can still see that the curve of the accuracy is going upwards and the results for the 10th epoch are better in this model.   "
   ]
  },
  {
   "cell_type": "markdown",
   "metadata": {
    "deletable": false,
    "editable": false,
    "nbgrader": {
     "cell_type": "markdown",
     "checksum": "c06074522725240265e2182d83fda4e2",
     "grade": false,
     "grade_id": "cell-c67bcc4fbec1808e",
     "locked": true,
     "schema_version": 3,
     "solution": false
    }
   },
   "source": [
    "[Save your model](https://pytorch.org/tutorials/beginner/saving_loading_models.html) to disk (the architecture, weights and optimizer state). This is simply so you can use it again easily in the later parts of the notebook, without having to keep it in memory or re-training it. The actual file you create is not relevant to your submission. The code to save the model is given in the cell below. "
   ]
  },
  {
   "cell_type": "code",
   "execution_count": 61,
   "metadata": {},
   "outputs": [],
   "source": [
    "# Assuming that you called your model 'model'\n",
    "torch.save(model.state_dict(), 'model3')"
   ]
  },
  {
   "cell_type": "markdown",
   "metadata": {
    "deletable": false,
    "editable": false,
    "nbgrader": {
     "cell_type": "markdown",
     "checksum": "ceb570afa39d746b3b5f132ecb5bc72e",
     "grade": false,
     "grade_id": "cell-25f9cc8d17491d0d",
     "locked": true,
     "schema_version": 3,
     "solution": false
    }
   },
   "source": [
    "---\n",
    "## 4. Transfer Learning"
   ]
  },
  {
   "cell_type": "markdown",
   "metadata": {
    "deletable": false,
    "editable": false,
    "nbgrader": {
     "cell_type": "markdown",
     "checksum": "6030f38d050ce77486dba120042ef398",
     "grade": false,
     "grade_id": "cell-cf9b347fc3ee9255",
     "locked": true,
     "schema_version": 3,
     "solution": false
    }
   },
   "source": [
    "Now, instead of trying to come up with a good architecture for this task, we'll use the VGG16 architecture, but with the top layers removed (the fully connected layers + softmax). We'll substitute them with a single fully connected layer, and a classification layer that makes sense for our problem.\n",
    "\n",
    "However, this model has a very high capacity, and will probably suffer a lot from overfitting if we try to train it from scratch, using only our small subset of data. Instead, we'll start the optimization with the weights obtained after training VGG16 on the ImageNet dataset.\n",
    "\n",
    "Start by loading the *pretrained* VGG16 model, from the [torchvision.models](https://pytorch.org/docs/stable/torchvision/models.html)."
   ]
  },
  {
   "cell_type": "code",
   "execution_count": 16,
   "metadata": {
    "deletable": false,
    "nbgrader": {
     "cell_type": "code",
     "checksum": "984428d972274a469334141d07c8666a",
     "grade": true,
     "grade_id": "cell-01ebc4c9c306b985",
     "locked": false,
     "points": 0,
     "schema_version": 3,
     "solution": true
    }
   },
   "outputs": [],
   "source": [
    "vgg_model = torchvision.models.vgg16(pretrained=True, progress=True)"
   ]
  },
  {
   "cell_type": "markdown",
   "metadata": {
    "deletable": false,
    "editable": false,
    "nbgrader": {
     "cell_type": "markdown",
     "checksum": "a2089a2783aa342f611b3443b33a6b27",
     "grade": false,
     "grade_id": "cell-faed8047ef25a60d",
     "locked": true,
     "schema_version": 3,
     "solution": false
    }
   },
   "source": [
    "Create a new model with the layers you want to add on top of VGG.\n",
    "\n",
    "*Hint:*\n",
    "- You can access the top layers of the VGG model with `vgg_model.classifier`, and the remaining layers with `vgg_model.features`.\n",
    "- You can get the number of output features of `vgg_model.features` with `vgg_model.classifier[0].in_features`"
   ]
  },
  {
   "cell_type": "code",
   "execution_count": 18,
   "metadata": {
    "deletable": false,
    "nbgrader": {
     "cell_type": "code",
     "checksum": "62829c2400b8ae993b346dd1a4ca68c0",
     "grade": true,
     "grade_id": "cell-56cb37360051a638",
     "locked": false,
     "points": 0,
     "schema_version": 3,
     "solution": true
    }
   },
   "outputs": [
    {
     "name": "stdout",
     "output_type": "stream",
     "text": [
      "Sequential(\n",
      "  (0): Linear(in_features=25088, out_features=2, bias=True)\n",
      ")\n"
     ]
    }
   ],
   "source": [
    "vgg_model.classifier = nn.Sequential(vgg_model.classifier[0])\n",
    "vgg_model.classifier[0].in_features = 25088\n",
    "vgg_model.classifier[0].out_features = 2\n",
    "print(vgg_model.classifier)"
   ]
  },
  {
   "cell_type": "markdown",
   "metadata": {
    "deletable": false,
    "editable": false,
    "nbgrader": {
     "cell_type": "markdown",
     "checksum": "4e10f4a98f6a80e4e74c0d5bf18dbc5f",
     "grade": false,
     "grade_id": "cell-d746f9eb61e3ea44",
     "locked": true,
     "schema_version": 3,
     "solution": false
    }
   },
   "source": [
    "Now add the new model on top of VGG."
   ]
  },
  {
   "cell_type": "code",
   "execution_count": 148,
   "metadata": {
    "deletable": false,
    "nbgrader": {
     "cell_type": "code",
     "checksum": "642f3cbea497868385adff16643091c4",
     "grade": true,
     "grade_id": "cell-76e4aad7fbcf5d05",
     "locked": false,
     "points": 0,
     "schema_version": 3,
     "solution": true
    }
   },
   "outputs": [],
   "source": [
    "# Already solved in the box above"
   ]
  },
  {
   "cell_type": "markdown",
   "metadata": {
    "deletable": false,
    "editable": false,
    "nbgrader": {
     "cell_type": "markdown",
     "checksum": "0ff2dfca08a9262327d0ee7d0c58b2bd",
     "grade": false,
     "grade_id": "cell-f76d1a7f6280af0d",
     "locked": true,
     "schema_version": 3,
     "solution": false
    }
   },
   "source": [
    "### 4.1 Using VGG features"
   ]
  },
  {
   "cell_type": "markdown",
   "metadata": {
    "deletable": false,
    "editable": false,
    "nbgrader": {
     "cell_type": "markdown",
     "checksum": "78c524d5ed4e56c277ae5812e83d797d",
     "grade": false,
     "grade_id": "cell-270f8ec140ddfba3",
     "locked": true,
     "schema_version": 3,
     "solution": false
    }
   },
   "source": [
    "Now we're almost ready to train the new model. However, since the top layers of this architecture are being initialized randomly, it's sometimes possible for them to generate large gradients that can wreck the pretraining of the bottom layers. To avoid this, freeze all the VGG layers in your architecture (i.e. signal to the optimizer that these should not be changed during optimization) by setting the attribute `requires_grad` for all parameters `vgg_model.features` to `False`."
   ]
  },
  {
   "cell_type": "code",
   "execution_count": 149,
   "metadata": {
    "deletable": false,
    "nbgrader": {
     "cell_type": "code",
     "checksum": "b460fd8c5e4c535489d896457d6b22e0",
     "grade": true,
     "grade_id": "cell-bfb58ea46c31df0a",
     "locked": false,
     "points": 0,
     "schema_version": 3,
     "solution": true
    }
   },
   "outputs": [],
   "source": [
    "# Freeze bottom\n",
    "for param in vgg_model.features.parameters():\n",
    "    param.requires_grad = False"
   ]
  },
  {
   "cell_type": "markdown",
   "metadata": {
    "deletable": false,
    "editable": false,
    "nbgrader": {
     "cell_type": "markdown",
     "checksum": "d306e1a138f63e8c8c5eb90707013c9e",
     "grade": false,
     "grade_id": "cell-b508ede3d760a86b",
     "locked": true,
     "schema_version": 3,
     "solution": false
    }
   },
   "source": [
    "Perform the transfer learning by training the top layers of your model."
   ]
  },
  {
   "cell_type": "code",
   "execution_count": 12,
   "metadata": {},
   "outputs": [],
   "source": [
    "''' Change size to 224x224 and set up the datasets accordingly '''\n",
    "transformFunc = transforms.Compose([transforms.Resize((224,224)), transforms.ToTensor(), transforms.Normalize([0.485, 0.456, 0.406], [0.229, 0.224, 0.225])])\n",
    "\n",
    "small_train = torchvision.datasets.ImageFolder(small_train_path, transform = transformFunc)\n",
    "small_val = torchvision.datasets.ImageFolder(small_val_path, transform = transformFunc)\n",
    "\n",
    "small_train_data_loader = DataLoader(small_train, batch_size=64, shuffle=True)\n",
    "small_val_data_loader = DataLoader(small_val, batch_size=64)"
   ]
  },
  {
   "cell_type": "code",
   "execution_count": 151,
   "metadata": {
    "deletable": false,
    "nbgrader": {
     "cell_type": "code",
     "checksum": "4f0d719703f2da49ac4b86f4480c5080",
     "grade": true,
     "grade_id": "cell-5a025e60545ca151",
     "locked": false,
     "points": 0,
     "schema_version": 3,
     "solution": true
    }
   },
   "outputs": [
    {
     "name": "stdout",
     "output_type": "stream",
     "text": [
      "------ Epoch 1 ------\n",
      "Number of batches: 0\n",
      "Number of batches: 10\n",
      "Number of batches: 20\n",
      "Number of batches: 30\n",
      "Number of batches: 40\n",
      "Number of batches: 50\n",
      "Epoch 1 \tLoss: 1.19100 \tLoss (val): 0.72460\tAccuracy: 0.94343 \tAccuracy (val): 0.97800\n",
      "------ Epoch 2 ------\n",
      "Number of batches: 0\n",
      "Number of batches: 10\n",
      "Number of batches: 20\n",
      "Number of batches: 30\n",
      "Number of batches: 40\n",
      "Number of batches: 50\n",
      "Epoch 2 \tLoss: 0.12511 \tLoss (val): 0.67715\tAccuracy: 0.99314 \tAccuracy (val): 0.97933\n",
      "------ Epoch 3 ------\n",
      "Number of batches: 0\n",
      "Number of batches: 10\n",
      "Number of batches: 20\n",
      "Number of batches: 30\n",
      "Number of batches: 40\n",
      "Number of batches: 50\n",
      "Epoch 3 \tLoss: 0.08078 \tLoss (val): 0.60143\tAccuracy: 0.99543 \tAccuracy (val): 0.98267\n",
      "------ Epoch 4 ------\n",
      "Number of batches: 0\n",
      "Number of batches: 10\n",
      "Number of batches: 20\n",
      "Number of batches: 30\n",
      "Number of batches: 40\n",
      "Number of batches: 50\n",
      "Epoch 4 \tLoss: 0.04819 \tLoss (val): 0.75204\tAccuracy: 0.99600 \tAccuracy (val): 0.98067\n",
      "------ Epoch 5 ------\n",
      "Number of batches: 0\n",
      "Number of batches: 10\n",
      "Number of batches: 20\n",
      "Number of batches: 30\n",
      "Number of batches: 40\n",
      "Number of batches: 50\n",
      "Epoch 5 \tLoss: 0.06167 \tLoss (val): 0.68253\tAccuracy: 0.99514 \tAccuracy (val): 0.98000\n",
      "------ Epoch 6 ------\n",
      "Number of batches: 0\n",
      "Number of batches: 10\n",
      "Number of batches: 20\n",
      "Number of batches: 30\n",
      "Number of batches: 40\n",
      "Number of batches: 50\n",
      "Epoch 6 \tLoss: 0.03629 \tLoss (val): 0.64297\tAccuracy: 0.99657 \tAccuracy (val): 0.97733\n",
      "------ Epoch 7 ------\n",
      "Number of batches: 0\n",
      "Number of batches: 10\n",
      "Number of batches: 20\n",
      "Number of batches: 30\n",
      "Number of batches: 40\n",
      "Number of batches: 50\n",
      "Epoch 7 \tLoss: 0.18911 \tLoss (val): 0.90810\tAccuracy: 0.98971 \tAccuracy (val): 0.97200\n",
      "------ Epoch 8 ------\n",
      "Number of batches: 0\n",
      "Number of batches: 10\n",
      "Number of batches: 20\n",
      "Number of batches: 30\n",
      "Number of batches: 40\n",
      "Number of batches: 50\n",
      "Epoch 8 \tLoss: 0.16445 \tLoss (val): 1.01231\tAccuracy: 0.99171 \tAccuracy (val): 0.97600\n",
      "------ Epoch 9 ------\n",
      "Number of batches: 0\n",
      "Number of batches: 10\n",
      "Number of batches: 20\n",
      "Number of batches: 30\n",
      "Number of batches: 40\n",
      "Number of batches: 50\n",
      "Epoch 9 \tLoss: 0.23490 \tLoss (val): 1.06797\tAccuracy: 0.98914 \tAccuracy (val): 0.97267\n",
      "------ Epoch 10 ------\n",
      "Number of batches: 0\n",
      "Number of batches: 10\n",
      "Number of batches: 20\n",
      "Number of batches: 30\n",
      "Number of batches: 40\n",
      "Number of batches: 50\n",
      "Epoch 10 \tLoss: 0.12193 \tLoss (val): 0.86310\tAccuracy: 0.99543 \tAccuracy (val): 0.98000\n"
     ]
    }
   ],
   "source": [
    "# Train only the upper layer of the network \n",
    "vgg_model.to(device)\n",
    "loss_fn = nn.CrossEntropyLoss()\n",
    "optimizer = optim.Adam(vgg_model.classifier.parameters(), lr=0.01, weight_decay=0.01)\n",
    "\n",
    "train_accuracy_4 =[]\n",
    "train_avg_loss_4=[]\n",
    "val_acc_4=[]\n",
    "val_loss_4=[]\n",
    "\n",
    "for epoch in range(10):\n",
    "    losses = []\n",
    "    n_correct = 0\n",
    "    \n",
    "    print('------ Epoch {} ------'.format(epoch+1))\n",
    "    for i, (b_x, b_y) in enumerate(small_train_data_loader):\n",
    "        \n",
    "        b_x = b_x.to(device)\n",
    "        b_y = b_y.to(device)\n",
    "        # Compute predictions and losses\n",
    "        pred = vgg_model(b_x)\n",
    "        loss = loss_fn(pred, b_y)\n",
    "        losses.append(loss.item())\n",
    "        \n",
    "        #if val_accuracy >= 0.70:\n",
    "        #    optimizer = optim.Adam(vgg_model.parameters(), lr=0.0005, weight_decay=0.01) \n",
    "        \n",
    "        # Count number of correct predictions\n",
    "        n_correct += torch.sum(pred.argmax(dim=1) == b_y).item()\n",
    "\n",
    "        # Backpropagate\n",
    "        loss.backward()\n",
    "        optimizer.step()\n",
    "        optimizer.zero_grad()    \n",
    "        \n",
    "        if i % 10 == 0:\n",
    "            print('Number of batches: {}'.format(i))\n",
    "        \n",
    "    # Compute accuracy and loss in the entire training set\n",
    "    train_accuracy_4.append((n_correct/len(small_train)))\n",
    "    train_avg_loss_4.append((sum(losses)/len(losses)))\n",
    "        \n",
    "    # Compute accuracy and loss in the entire validation set\n",
    "    val_accuracy, val_avg_loss = evaluate_model(small_val_data_loader, vgg_model, loss_fn)\n",
    "    \n",
    "    val_acc_4.append((val_accuracy))\n",
    "    val_loss_4.append((val_avg_loss))\n",
    "        \n",
    "    # Display metrics\n",
    "    display_str = 'Epoch {} '\n",
    "    display_str += '\\tLoss: {:.5f} '\n",
    "    display_str += '\\tLoss (val): {:.5f}'\n",
    "    display_str += '\\tAccuracy: {:.5f} '\n",
    "    display_str += '\\tAccuracy (val): {:.5f}'\n",
    "    print(display_str.format(epoch+1, train_avg_loss_4[epoch], val_loss_4[epoch], train_accuracy_4[epoch], val_acc_4[epoch]))"
   ]
  },
  {
   "cell_type": "markdown",
   "metadata": {
    "deletable": false,
    "editable": false,
    "nbgrader": {
     "cell_type": "markdown",
     "checksum": "34bf11c4a55f184ccc7d589c841b0be2",
     "grade": false,
     "grade_id": "cell-ad79e1aa5c4a6185",
     "locked": true,
     "schema_version": 3,
     "solution": false
    }
   },
   "source": [
    "Create two plots. In one of them, plot the loss in the training and the validation datasets. In the other one, plot the accuracy in the training and validation datasets."
   ]
  },
  {
   "cell_type": "code",
   "execution_count": 153,
   "metadata": {
    "deletable": false,
    "nbgrader": {
     "cell_type": "code",
     "checksum": "99986b7bbdfb6b78c25112751969d11f",
     "grade": true,
     "grade_id": "cell-f17c882b2a09dee7",
     "locked": false,
     "points": 0,
     "schema_version": 3,
     "solution": true
    }
   },
   "outputs": [
    {
     "data": {
      "image/png": "[encoded data removed]",
      "text/plain": [
       "<Figure size 720x360 with 2 Axes>"
      ]
     },
     "metadata": {
      "needs_background": "light"
     },
     "output_type": "display_data"
    }
   ],
   "source": [
    "# YOUR CODE HERE\n",
    "fig, (ax1, ax2) = plt.subplots(1, 2)\n",
    "fig.suptitle('VGG model with only trained top layers', fontsize = 16, y = 1.05)\n",
    "fig.set_figheight(5)\n",
    "fig.set_figwidth(10)\n",
    "number_epoch=[i+1 for i in range(epoch+1)]\n",
    "ax1.plot(number_epoch, train_avg_loss_4, label ='Train Loss')\n",
    "ax1.plot(number_epoch, val_loss_4, label ='Validation Loss')\n",
    "# naming the x axis \n",
    "ax1.set_xlabel('Number of Epoch') \n",
    "# naming the y axis \n",
    "ax1.set_ylabel('Loss') \n",
    "# giving a title to my graph \n",
    "ax1.set_title('Train and Validation loss') \n",
    "ax1.xaxis.set_major_locator(ticker.MultipleLocator(1))\n",
    "ax1.legend()\n",
    "ax2.plot(number_epoch, train_accuracy_4, label ='Train Accuracy')\n",
    "ax2.plot(number_epoch, val_acc_4, label ='Validation Accuracy')\n",
    "# naming the x axis \n",
    "ax2.set_xlabel('Number of Epoch') \n",
    "# naming the y axis \n",
    "ax2.set_ylabel('Accuracy') \n",
    "# giving a title to my graph \n",
    "ax2.set_title('Train and Validation accuracy') \n",
    "ax2.xaxis.set_major_locator(ticker.MultipleLocator(1))\n",
    "ax2.legend()\n",
    "fig.tight_layout()"
   ]
  },
  {
   "cell_type": "markdown",
   "metadata": {
    "deletable": false,
    "editable": false,
    "nbgrader": {
     "cell_type": "markdown",
     "checksum": "8c4634579a40b62a3db715b027fbd80a",
     "grade": false,
     "grade_id": "cell-779d477ffe1ebbf6",
     "locked": true,
     "schema_version": 3,
     "solution": false
    }
   },
   "source": [
    "How does the model perform, compared to the model obtained in step 3? Create one plot with the training accuracy and another with the validation accuracy of the two scenarios."
   ]
  },
  {
   "cell_type": "code",
   "execution_count": 154,
   "metadata": {
    "deletable": false,
    "nbgrader": {
     "cell_type": "code",
     "checksum": "873c045fa2e6f22815a90194ed2785f3",
     "grade": true,
     "grade_id": "cell-e3e3990ba39bea67",
     "locked": false,
     "points": 0,
     "schema_version": 3,
     "solution": true
    }
   },
   "outputs": [
    {
     "data": {
      "image/png": "[encoded data removed]",
      "text/plain": [
       "<Figure size 720x360 with 2 Axes>"
      ]
     },
     "metadata": {
      "needs_background": "light"
     },
     "output_type": "display_data"
    }
   ],
   "source": [
    "# YOUR CODE HERE\n",
    "fig, (ax1, ax2) = plt.subplots(1, 2)\n",
    "fig.suptitle('Comparison of accuracy for transfer learning and previous model', fontsize = 16, y = 1.05)\n",
    "fig.set_figheight(5)\n",
    "fig.set_figwidth(10)\n",
    "number_epoch=[i+1 for i in range(epoch+1)]\n",
    "ax1.plot(number_epoch, train_accuracy_3, label ='Previous model')\n",
    "ax1.plot(number_epoch, train_accuracy_4, label ='Transfer learning, top layers')\n",
    "# naming the x axis \n",
    "ax1.set_xlabel('Number of Epoch') \n",
    "# naming the y axis \n",
    "ax1.set_ylabel('Training accuracy') \n",
    "# giving a title to my graph \n",
    "ax1.xaxis.set_major_locator(ticker.MultipleLocator(1))\n",
    "ax1.legend()\n",
    "ax2.plot(number_epoch, val_acc_3, label ='Previous model')\n",
    "ax2.plot(number_epoch, val_acc_4, label ='Transfer learning, top layers')\n",
    "# naming the x axis \n",
    "ax2.set_xlabel('Number of Epoch') \n",
    "# naming the y axis \n",
    "ax2.set_ylabel('Validation accuracy') \n",
    "# giving a title to my graph \n",
    "ax2.xaxis.set_major_locator(ticker.MultipleLocator(1))\n",
    "ax2.legend()\n",
    "fig.tight_layout()"
   ]
  },
  {
   "cell_type": "markdown",
   "metadata": {
    "deletable": false,
    "editable": false,
    "nbgrader": {
     "cell_type": "markdown",
     "checksum": "73735039ec433673c5bf58ce5f16790a",
     "grade": false,
     "grade_id": "cell-b84dd461d5ddcc8d",
     "locked": true,
     "schema_version": 3,
     "solution": false
    }
   },
   "source": [
    "**(1 POE)** Compare these results. Which approach worked best, starting from scratch or doing transfer learning? Explain how you evaluated this."
   ]
  },
  {
   "cell_type": "markdown",
   "metadata": {
    "deletable": false,
    "nbgrader": {
     "cell_type": "markdown",
     "checksum": "d64f6dd39572709917f53e61d91aa474",
     "grade": true,
     "grade_id": "cell-f9e1a6a643946cd2",
     "locked": false,
     "points": 1,
     "schema_version": 3,
     "solution": true
    }
   },
   "source": [
    "**Your answer:** The transfer learning clearly performs better when comparing the accuracy of the validation. We can simply evaluate this from the plots above where the accuracy for validation is significantly better than the previous model. "
   ]
  },
  {
   "cell_type": "markdown",
   "metadata": {
    "deletable": false,
    "editable": false,
    "nbgrader": {
     "cell_type": "markdown",
     "checksum": "746937de51331942cb10b63d8892f29e",
     "grade": false,
     "grade_id": "cell-c8afb448c67da5f8",
     "locked": true,
     "schema_version": 3,
     "solution": false
    }
   },
   "source": [
    "**(1 POE)** What are the main differences between the ImageNet dataset and the Dogs vs Cats dataset we used?"
   ]
  },
  {
   "cell_type": "markdown",
   "metadata": {
    "deletable": false,
    "nbgrader": {
     "cell_type": "markdown",
     "checksum": "4e1152bb9b59ad5cb8016d3ebe648e97",
     "grade": true,
     "grade_id": "cell-2be321b63232ae01",
     "locked": false,
     "points": 1,
     "schema_version": 3,
     "solution": true
    }
   },
   "source": [
    "**Your answer:** The main difference is that the ImageNet dataset has 1000 image classifications and the Dogs vs Cats only has 2 separate image classifications. Another important difference is that the ImageNet has millions of images while the Dogs vs Cats dataset is restricted to 25 000 images"
   ]
  },
  {
   "cell_type": "markdown",
   "metadata": {
    "deletable": false,
    "editable": false,
    "nbgrader": {
     "cell_type": "markdown",
     "checksum": "4abd95aa268f813d682dd372f5f46839",
     "grade": false,
     "grade_id": "cell-71a8b8de004f6e57",
     "locked": true,
     "schema_version": 3,
     "solution": false
    }
   },
   "source": [
    "**Optional (2 POE)** Even though there are considerable differences between these datasets, why is it that transfer learning is still a good idea?"
   ]
  },
  {
   "cell_type": "markdown",
   "metadata": {
    "deletable": false,
    "nbgrader": {
     "cell_type": "markdown",
     "checksum": "9605a949f6c6b94fac8feb5a6bcbbcad",
     "grade": true,
     "grade_id": "cell-655d00face15a862",
     "locked": false,
     "points": 2,
     "schema_version": 3,
     "solution": true
    }
   },
   "source": [
    "**Your answer:** Since the VGG16 model is trained on the ImageNet dataset which contains 1000 image classifications (including dogs and cats) it is able to detect some of the input space features of the Dogs and Cats dataset which we are looking for. Therefore just changing the top layers of the VGG16 model to adapt to our dataset, which is a two classification problem, we get good results using this transfer learning technique."
   ]
  },
  {
   "cell_type": "markdown",
   "metadata": {
    "deletable": false,
    "editable": false,
    "nbgrader": {
     "cell_type": "markdown",
     "checksum": "988d32c37c7135943f9775a37a511973",
     "grade": false,
     "grade_id": "cell-19785940b9624d2c",
     "locked": true,
     "schema_version": 3,
     "solution": false
    }
   },
   "source": [
    "**Optional (1 POE)** In which scenario would transfer learning be unsuitable?"
   ]
  },
  {
   "cell_type": "markdown",
   "metadata": {
    "deletable": false,
    "nbgrader": {
     "cell_type": "markdown",
     "checksum": "ce818a8e86ceb511348597d975b34016",
     "grade": true,
     "grade_id": "cell-e79df7472ff5506a",
     "locked": false,
     "points": 1,
     "schema_version": 3,
     "solution": true
    }
   },
   "source": [
    "**Your answer:** If the pretrained model don't include any similar features for the dataset of our interest, then transfer learning would give bad results. For an example if we use transfer learning on a dataset containing mushrooms and try to use that knowledge for classifying animals, we obviously won't gain much new information regarding the features of animals. "
   ]
  },
  {
   "cell_type": "markdown",
   "metadata": {
    "deletable": false,
    "editable": false,
    "nbgrader": {
     "cell_type": "markdown",
     "checksum": "b24258079f4e71e1842b78e479095117",
     "grade": false,
     "grade_id": "cell-111f2b1d28919293",
     "locked": true,
     "schema_version": 3,
     "solution": false
    }
   },
   "source": [
    "Save the model to a file."
   ]
  },
  {
   "cell_type": "code",
   "execution_count": 76,
   "metadata": {},
   "outputs": [],
   "source": [
    "# Save the model: \n",
    "torch.save(vgg_model.state_dict(), 'trained_wo_finetune')"
   ]
  },
  {
   "cell_type": "markdown",
   "metadata": {
    "deletable": false,
    "editable": false,
    "nbgrader": {
     "cell_type": "markdown",
     "checksum": "ab5bf17534c2ac6852d79e32793fdbf7",
     "grade": false,
     "grade_id": "cell-544a73726bebe121",
     "locked": true,
     "schema_version": 3,
     "solution": false
    }
   },
   "source": [
    "### 4.2 Fine-tuning"
   ]
  },
  {
   "cell_type": "markdown",
   "metadata": {
    "deletable": false,
    "editable": false,
    "nbgrader": {
     "cell_type": "markdown",
     "checksum": "54080ee12529dc9ec0d2a887cc564243",
     "grade": false,
     "grade_id": "cell-1ee9ebc87fd3358e",
     "locked": true,
     "schema_version": 3,
     "solution": false
    }
   },
   "source": [
    "Now that we have a better starting point for the top layers, we can train the entire network. Unfreeze the bottom layers by resetting the `requires_grad` attribute to `True`."
   ]
  },
  {
   "cell_type": "code",
   "execution_count": 156,
   "metadata": {
    "deletable": false,
    "nbgrader": {
     "cell_type": "code",
     "checksum": "5fa86d1e45984112d3d27953e63d312e",
     "grade": true,
     "grade_id": "cell-3918c2cdd9817f7e",
     "locked": false,
     "points": 0,
     "schema_version": 3,
     "solution": true
    }
   },
   "outputs": [],
   "source": [
    "# UnFreeze bottom\n",
    "for param in vgg_model.features.parameters():\n",
    "    param.requires_grad = True"
   ]
  },
  {
   "cell_type": "markdown",
   "metadata": {
    "deletable": false,
    "editable": false,
    "nbgrader": {
     "cell_type": "markdown",
     "checksum": "c7437f0a564e0430e81490cf7c2dc9a5",
     "grade": false,
     "grade_id": "cell-80fa8c89f1b262f1",
     "locked": true,
     "schema_version": 3,
     "solution": false
    }
   },
   "source": [
    "Fine tune the model by training all the layers.\n",
    "\n",
    "Hint:\n",
    "- Even though we do have a decent starting point for the optimization, it's still possible that a bad hyper-parameter choice wrecks the preinitialization. Make sure to use a small learning rate for this step."
   ]
  },
  {
   "cell_type": "code",
   "execution_count": 157,
   "metadata": {
    "deletable": false,
    "nbgrader": {
     "cell_type": "code",
     "checksum": "71ce705f916d83ecec507903ac4a4c64",
     "grade": true,
     "grade_id": "cell-594c6039216461e5",
     "locked": false,
     "points": 0,
     "schema_version": 3,
     "solution": true
    }
   },
   "outputs": [
    {
     "name": "stdout",
     "output_type": "stream",
     "text": [
      "------ Epoch 1 ------\n",
      "Number of batches: 0\n",
      "Number of batches: 10\n",
      "Number of batches: 20\n",
      "Number of batches: 30\n",
      "Number of batches: 40\n",
      "Number of batches: 50\n",
      "Epoch 0 \tLoss: 0.33337 \tLoss (val): 0.58733\tAccuracy: 0.97343 \tAccuracy (val): 0.96600\n",
      "------ Epoch 2 ------\n",
      "Number of batches: 0\n",
      "Number of batches: 10\n",
      "Number of batches: 20\n",
      "Number of batches: 30\n",
      "Number of batches: 40\n",
      "Number of batches: 50\n",
      "Epoch 1 \tLoss: 0.08200 \tLoss (val): 0.17910\tAccuracy: 0.99029 \tAccuracy (val): 0.98000\n",
      "------ Epoch 3 ------\n",
      "Number of batches: 0\n",
      "Number of batches: 10\n",
      "Number of batches: 20\n",
      "Number of batches: 30\n",
      "Number of batches: 40\n",
      "Number of batches: 50\n",
      "Epoch 2 \tLoss: 0.02092 \tLoss (val): 0.18490\tAccuracy: 0.99686 \tAccuracy (val): 0.97800\n",
      "------ Epoch 4 ------\n",
      "Number of batches: 0\n",
      "Number of batches: 10\n",
      "Number of batches: 20\n",
      "Number of batches: 30\n",
      "Number of batches: 40\n",
      "Number of batches: 50\n",
      "Epoch 3 \tLoss: 0.00997 \tLoss (val): 0.19048\tAccuracy: 0.99771 \tAccuracy (val): 0.98533\n",
      "------ Epoch 5 ------\n",
      "Number of batches: 0\n",
      "Number of batches: 10\n",
      "Number of batches: 20\n",
      "Number of batches: 30\n",
      "Number of batches: 40\n",
      "Number of batches: 50\n",
      "Epoch 4 \tLoss: 0.02316 \tLoss (val): 0.23146\tAccuracy: 0.99657 \tAccuracy (val): 0.98133\n",
      "------ Epoch 6 ------\n",
      "Number of batches: 0\n",
      "Number of batches: 10\n",
      "Number of batches: 20\n",
      "Number of batches: 30\n",
      "Number of batches: 40\n",
      "Number of batches: 50\n",
      "Epoch 5 \tLoss: 0.02277 \tLoss (val): 0.25916\tAccuracy: 0.99657 \tAccuracy (val): 0.97533\n",
      "------ Epoch 7 ------\n",
      "Number of batches: 0\n",
      "Number of batches: 10\n",
      "Number of batches: 20\n",
      "Number of batches: 30\n",
      "Number of batches: 40\n",
      "Number of batches: 50\n",
      "Epoch 6 \tLoss: 0.03244 \tLoss (val): 0.25487\tAccuracy: 0.99314 \tAccuracy (val): 0.97133\n",
      "------ Epoch 8 ------\n",
      "Number of batches: 0\n",
      "Number of batches: 10\n",
      "Number of batches: 20\n",
      "Number of batches: 30\n",
      "Number of batches: 40\n",
      "Number of batches: 50\n",
      "Epoch 7 \tLoss: 0.01933 \tLoss (val): 0.18537\tAccuracy: 0.99571 \tAccuracy (val): 0.98600\n",
      "------ Epoch 9 ------\n",
      "Number of batches: 0\n",
      "Number of batches: 10\n",
      "Number of batches: 20\n",
      "Number of batches: 30\n",
      "Number of batches: 40\n",
      "Number of batches: 50\n",
      "Epoch 8 \tLoss: 0.05556 \tLoss (val): 0.20954\tAccuracy: 0.99057 \tAccuracy (val): 0.97000\n",
      "------ Epoch 10 ------\n",
      "Number of batches: 0\n",
      "Number of batches: 10\n",
      "Number of batches: 20\n",
      "Number of batches: 30\n",
      "Number of batches: 40\n",
      "Number of batches: 50\n",
      "Epoch 9 \tLoss: 0.03441 \tLoss (val): 0.28675\tAccuracy: 0.99371 \tAccuracy (val): 0.96267\n"
     ]
    }
   ],
   "source": [
    "# Finetune train all the layers \n",
    "loss_fn = nn.CrossEntropyLoss()\n",
    "optimizer = optim.Adam(vgg_model.parameters(), lr=0.0001, weight_decay=0.01)\n",
    "\n",
    "train_accuracy_4ft=[]\n",
    "train_avg_loss_4ft=[]\n",
    "val_acc_4ft=[]\n",
    "val_loss_4ft=[]\n",
    "\n",
    "val_accuracy = 0\n",
    "\n",
    "for epoch in range(10):\n",
    "    losses = []\n",
    "    n_correct = 0\n",
    "    \n",
    "    print('------ Epoch {} ------'.format(epoch+1))\n",
    "    for i, (b_x, b_y) in enumerate(small_train_data_loader):\n",
    "        \n",
    "        b_x = b_x.to(device)\n",
    "        b_y = b_y.to(device)\n",
    "        # Compute predictions and losses\n",
    "        pred = vgg_model(b_x)\n",
    "        loss = loss_fn(pred, b_y)\n",
    "        losses.append(loss.item())\n",
    "        \n",
    "        #if val_accuracy >= 0.70:\n",
    "        #    optimizer = optim.Adam(vgg_model.parameters(), lr=0.0005, weight_decay=0.01) \n",
    "        \n",
    "        # Count number of correct predictions\n",
    "        n_correct += torch.sum(pred.argmax(dim=1) == b_y).item()\n",
    "\n",
    "        # Backpropagate\n",
    "        loss.backward()\n",
    "        optimizer.step()\n",
    "        optimizer.zero_grad()    \n",
    "        \n",
    "        if i % 10 == 0:\n",
    "            print('Number of batches: {}'.format(i))\n",
    "        \n",
    "    # Compute accuracy and loss in the entire training set\n",
    "    train_accuracy_4ft.append((n_correct/len(small_train)))\n",
    "    train_avg_loss_4ft.append((sum(losses)/len(losses)))\n",
    "        \n",
    "    # Compute accuracy and loss in the entire validation set\n",
    "    val_accuracy, val_avg_loss = evaluate_model(small_val_data_loader, vgg_model, loss_fn)\n",
    "    \n",
    "    val_acc_4ft.append((val_accuracy))\n",
    "    val_loss_4ft.append((val_avg_loss))\n",
    "        \n",
    "    # Display metrics\n",
    "    display_str = 'Epoch {} '\n",
    "    display_str += '\\tLoss: {:.5f} '\n",
    "    display_str += '\\tLoss (val): {:.5f}'\n",
    "    display_str += '\\tAccuracy: {:.5f} '\n",
    "    display_str += '\\tAccuracy (val): {:.5f}'\n",
    "    print(display_str.format(epoch, train_avg_loss_4ft[epoch], val_loss_4ft[epoch], train_accuracy_4ft[epoch], val_acc_4ft[epoch]))"
   ]
  },
  {
   "cell_type": "markdown",
   "metadata": {
    "deletable": false,
    "editable": false,
    "nbgrader": {
     "cell_type": "markdown",
     "checksum": "653d29a729772d9cb73bfbe24fc76065",
     "grade": false,
     "grade_id": "cell-5dc3e388a41da3ed",
     "locked": true,
     "schema_version": 3,
     "solution": false
    }
   },
   "source": [
    "How does the model perform, compared to the model trained with freezed layers? Create one plot with the training accuracy and another with the validation accuracy of the two scenarios."
   ]
  },
  {
   "cell_type": "code",
   "execution_count": 158,
   "metadata": {
    "deletable": false,
    "nbgrader": {
     "cell_type": "code",
     "checksum": "b7b2e69e2ffc7f5bff07ba62225b4cee",
     "grade": true,
     "grade_id": "cell-7edb12ee397ec817",
     "locked": false,
     "points": 0,
     "schema_version": 3,
     "solution": true
    }
   },
   "outputs": [
    {
     "data": {
      "image/png": "[encoded data removed]",
      "text/plain": [
       "<Figure size 720x360 with 2 Axes>"
      ]
     },
     "metadata": {
      "needs_background": "light"
     },
     "output_type": "display_data"
    }
   ],
   "source": [
    "# YOUR CODE HERE\n",
    "fig, (ax1, ax2) = plt.subplots(1, 2)\n",
    "fig.suptitle('Comparison of accuracy for transfer learning and previous model', fontsize = 16, y = 1.05)\n",
    "fig.set_figheight(5)\n",
    "fig.set_figwidth(10)\n",
    "number_epoch=[i+1 for i in range(epoch+1)]\n",
    "ax1.plot(number_epoch, train_accuracy_4, label ='Only top layers trained')\n",
    "ax1.plot(number_epoch, train_accuracy_4ft, label ='Finetuning for all layers')\n",
    "# naming the x axis \n",
    "ax1.set_xlabel('Number of Epoch') \n",
    "# naming the y axis \n",
    "ax1.set_ylabel('Training accuracy') \n",
    "# giving a title to my graph \n",
    "ax1.xaxis.set_major_locator(ticker.MultipleLocator(1))\n",
    "ax1.legend()\n",
    "ax2.plot(number_epoch, val_acc_4, label ='Only top layers trained')\n",
    "ax2.plot(number_epoch, val_acc_4ft, label ='Finetuning for all layers')\n",
    "# naming the x axis \n",
    "ax2.set_xlabel('Number of Epoch') \n",
    "# naming the y axis \n",
    "ax2.set_ylabel('Validation accuracy') \n",
    "# giving a title to my graph \n",
    "ax2.xaxis.set_major_locator(ticker.MultipleLocator(1))\n",
    "ax2.legend()\n",
    "fig.tight_layout()"
   ]
  },
  {
   "cell_type": "markdown",
   "metadata": {
    "deletable": false,
    "editable": false,
    "nbgrader": {
     "cell_type": "markdown",
     "checksum": "23eacf2e2de74dba9a8baf7f4c1c0877",
     "grade": false,
     "grade_id": "cell-5dae528a81d5ff24",
     "locked": true,
     "schema_version": 3,
     "solution": false
    }
   },
   "source": [
    "**(1 POE)** Did the model's performance improve? Why (why not)?"
   ]
  },
  {
   "cell_type": "markdown",
   "metadata": {
    "deletable": false,
    "nbgrader": {
     "cell_type": "markdown",
     "checksum": "69dfca588131944b0e9825a1532de432",
     "grade": true,
     "grade_id": "cell-0f4a5edca490320e",
     "locked": false,
     "points": 1,
     "schema_version": 3,
     "solution": true
    }
   },
   "source": [
    "**Your answer:** The performance is about the same for both models. This may be due to the VGG16 model being pretrained sufficiently already on these features. Another reason may be due to the very low learning rate (lr = 0.0001) which were used for the finetuning. As a conclusion, we can see that the performance is not degrading in time comparing to the previous model, however the last two epochs gives in comparison bad results. The results would most probably be even better by finetuning the layers for more epochs with decaying learning rate such that the accuracy becomes more stable. "
   ]
  },
  {
   "cell_type": "markdown",
   "metadata": {
    "deletable": false,
    "editable": false,
    "nbgrader": {
     "cell_type": "markdown",
     "checksum": "4971aa0a2e159c1780dedfc5e78b7c15",
     "grade": false,
     "grade_id": "cell-4ed3967e4f6c5f7f",
     "locked": true,
     "schema_version": 3,
     "solution": false
    }
   },
   "source": [
    "Save the model to file."
   ]
  },
  {
   "cell_type": "code",
   "execution_count": 159,
   "metadata": {},
   "outputs": [],
   "source": [
    "torch.save(vgg_model.state_dict(), 'trans_learning_full')"
   ]
  },
  {
   "cell_type": "markdown",
   "metadata": {
    "deletable": false,
    "editable": false,
    "nbgrader": {
     "cell_type": "markdown",
     "checksum": "42d6362e7a0f25fc579ad6e33f1b401b",
     "grade": false,
     "grade_id": "cell-56908ee1e60aa411",
     "locked": true,
     "schema_version": 3,
     "solution": false
    }
   },
   "source": [
    "### 4.3 Improving the top model (optional)"
   ]
  },
  {
   "cell_type": "markdown",
   "metadata": {
    "deletable": false,
    "editable": false,
    "nbgrader": {
     "cell_type": "markdown",
     "checksum": "4f74ac0be60b7253bfe604c521647a07",
     "grade": false,
     "grade_id": "cell-3c8d8e5ab949ee35",
     "locked": true,
     "schema_version": 3,
     "solution": false
    }
   },
   "source": [
    "Improve the architecture for the layers you add on top of VGG16. Try different ideas! When you're happy with one architecture, copy it in the cell below and train it here."
   ]
  },
  {
   "cell_type": "code",
   "execution_count": 98,
   "metadata": {},
   "outputs": [],
   "source": [
    "improved_vgg_model = torchvision.models.vgg16(pretrained=True, progress=True)"
   ]
  },
  {
   "cell_type": "code",
   "execution_count": 100,
   "metadata": {
    "deletable": false,
    "nbgrader": {
     "cell_type": "code",
     "checksum": "4c69b20551001d0e612f3b9221dc7dbc",
     "grade": true,
     "grade_id": "cell-22d09c8401d84b61",
     "locked": false,
     "points": 0,
     "schema_version": 3,
     "solution": true
    }
   },
   "outputs": [],
   "source": [
    "improved_vgg_model.classifier[6].out_features = 2"
   ]
  },
  {
   "cell_type": "code",
   "execution_count": 102,
   "metadata": {},
   "outputs": [],
   "source": [
    "# Freeze bottom\n",
    "for param in improved_vgg_model.features.parameters():\n",
    "    param.requires_grad = False"
   ]
  },
  {
   "cell_type": "code",
   "execution_count": 103,
   "metadata": {
    "scrolled": true
   },
   "outputs": [
    {
     "name": "stdout",
     "output_type": "stream",
     "text": [
      "------ Epoch 1 ------\n",
      "Number of batches: 0\n",
      "Number of batches: 10\n",
      "Number of batches: 20\n",
      "Number of batches: 30\n",
      "Number of batches: 40\n",
      "Number of batches: 50\n",
      "Epoch 1 \tLoss: 184.45971 \tLoss (val): 20.22364\tAccuracy: 0.87371 \tAccuracy (val): 0.93333\n",
      "------ Epoch 2 ------\n",
      "Number of batches: 0\n",
      "Number of batches: 10\n",
      "Number of batches: 20\n",
      "Number of batches: 30\n",
      "Number of batches: 40\n",
      "Number of batches: 50\n",
      "Epoch 2 \tLoss: 17.66453 \tLoss (val): 25.13881\tAccuracy: 0.96857 \tAccuracy (val): 0.97000\n",
      "------ Epoch 3 ------\n",
      "Number of batches: 0\n",
      "Number of batches: 10\n",
      "Number of batches: 20\n",
      "Number of batches: 30\n",
      "Number of batches: 40\n",
      "Number of batches: 50\n",
      "Epoch 3 \tLoss: 18.21511 \tLoss (val): 39.40450\tAccuracy: 0.97629 \tAccuracy (val): 0.96200\n",
      "------ Epoch 4 ------\n",
      "Number of batches: 0\n",
      "Number of batches: 10\n",
      "Number of batches: 20\n",
      "Number of batches: 30\n",
      "Number of batches: 40\n",
      "Number of batches: 50\n",
      "Epoch 4 \tLoss: 9.66621 \tLoss (val): 52.09633\tAccuracy: 0.98371 \tAccuracy (val): 0.96867\n",
      "------ Epoch 5 ------\n",
      "Number of batches: 0\n",
      "Number of batches: 10\n",
      "Number of batches: 20\n",
      "Number of batches: 30\n",
      "Number of batches: 40\n",
      "Number of batches: 50\n",
      "Epoch 5 \tLoss: 9.99665 \tLoss (val): 17.76728\tAccuracy: 0.98371 \tAccuracy (val): 0.97467\n",
      "------ Epoch 6 ------\n",
      "Number of batches: 0\n",
      "Number of batches: 10\n",
      "Number of batches: 20\n",
      "Number of batches: 30\n",
      "Number of batches: 40\n",
      "Number of batches: 50\n",
      "Epoch 6 \tLoss: 8.83781 \tLoss (val): 23.90677\tAccuracy: 0.98600 \tAccuracy (val): 0.97533\n",
      "------ Epoch 7 ------\n",
      "Number of batches: 0\n",
      "Number of batches: 10\n",
      "Number of batches: 20\n",
      "Number of batches: 30\n",
      "Number of batches: 40\n",
      "Number of batches: 50\n",
      "Epoch 7 \tLoss: 19.30018 \tLoss (val): 82.57399\tAccuracy: 0.98286 \tAccuracy (val): 0.95067\n",
      "------ Epoch 8 ------\n",
      "Number of batches: 0\n",
      "Number of batches: 10\n",
      "Number of batches: 20\n",
      "Number of batches: 30\n",
      "Number of batches: 40\n",
      "Number of batches: 50\n",
      "Epoch 8 \tLoss: 32.89276 \tLoss (val): 76.79373\tAccuracy: 0.98229 \tAccuracy (val): 0.96467\n",
      "------ Epoch 9 ------\n",
      "Number of batches: 0\n",
      "Number of batches: 10\n",
      "Number of batches: 20\n",
      "Number of batches: 30\n",
      "Number of batches: 40\n",
      "Number of batches: 50\n",
      "Epoch 9 \tLoss: 58.57700 \tLoss (val): 162.42438\tAccuracy: 0.98171 \tAccuracy (val): 0.96267\n",
      "------ Epoch 10 ------\n",
      "Number of batches: 0\n",
      "Number of batches: 10\n",
      "Number of batches: 20\n",
      "Number of batches: 30\n",
      "Number of batches: 40\n",
      "Number of batches: 50\n",
      "Epoch 10 \tLoss: 38.10771 \tLoss (val): 140.02729\tAccuracy: 0.98743 \tAccuracy (val): 0.97667\n"
     ]
    }
   ],
   "source": [
    "# Train only the upper layer of the network \n",
    "improved_vgg_model.to(device)\n",
    "loss_fn = nn.CrossEntropyLoss()\n",
    "optimizer = optim.Adam(improved_vgg_model.classifier.parameters(), lr=0.01, weight_decay=0.01)\n",
    "\n",
    "train_accuracy =[]\n",
    "train_avg_loss=[]\n",
    "val_acc=[]\n",
    "val_loss=[]\n",
    "\n",
    "val_accuracy = 0\n",
    "\n",
    "for epoch in range(10):\n",
    "    losses = []\n",
    "    n_correct = 0\n",
    "    \n",
    "    print('------ Epoch {} ------'.format(epoch+1))\n",
    "    for i, (b_x, b_y) in enumerate(small_train_data_loader):\n",
    "        \n",
    "        b_x = b_x.to(device)\n",
    "        b_y = b_y.to(device)\n",
    "        # Compute predictions and losses\n",
    "        pred = improved_vgg_model(b_x)\n",
    "        loss = loss_fn(pred, b_y)\n",
    "        losses.append(loss.item())\n",
    "        \n",
    "        #if val_accuracy >= 0.70:\n",
    "        #    optimizer = optim.Adam(vgg_model.parameters(), lr=0.0005, weight_decay=0.01) \n",
    "        \n",
    "        # Count number of correct predictions\n",
    "        n_correct += torch.sum(pred.argmax(dim=1) == b_y).item()\n",
    "\n",
    "        # Backpropagate\n",
    "        loss.backward()\n",
    "        optimizer.step()\n",
    "        optimizer.zero_grad()    \n",
    "        \n",
    "        if i % 10 == 0:\n",
    "            print('Number of batches: {}'.format(i))\n",
    "        \n",
    "    # Compute accuracy and loss in the entire training set\n",
    "    train_accuracy.append((n_correct/len(small_train)))\n",
    "    train_avg_loss.append((sum(losses)/len(losses)))\n",
    "        \n",
    "    # Compute accuracy and loss in the entire validation set\n",
    "    val_accuracy, val_avg_loss = evaluate_model(small_val_data_loader, improved_vgg_model, loss_fn)\n",
    "    \n",
    "    val_acc.append((val_accuracy))\n",
    "    val_loss.append((val_avg_loss))\n",
    "        \n",
    "    # Display metrics\n",
    "    display_str = 'Epoch {} '\n",
    "    display_str += '\\tLoss: {:.5f} '\n",
    "    display_str += '\\tLoss (val): {:.5f}'\n",
    "    display_str += '\\tAccuracy: {:.5f} '\n",
    "    display_str += '\\tAccuracy (val): {:.5f}'\n",
    "    print(display_str.format(epoch+1, train_avg_loss[epoch], val_loss[epoch], train_accuracy[epoch], val_acc[epoch]))"
   ]
  },
  {
   "cell_type": "code",
   "execution_count": 105,
   "metadata": {},
   "outputs": [],
   "source": [
    "# UnFreeze bottom\n",
    "for param in improved_vgg_model.features.parameters():\n",
    "    param.requires_grad = True"
   ]
  },
  {
   "cell_type": "code",
   "execution_count": 106,
   "metadata": {},
   "outputs": [
    {
     "name": "stdout",
     "output_type": "stream",
     "text": [
      "------ Epoch 1 ------\n",
      "Number of batches: 0\n",
      "Number of batches: 10\n",
      "Number of batches: 20\n",
      "Number of batches: 30\n",
      "Number of batches: 40\n",
      "Number of batches: 50\n",
      "Epoch 1 \tLoss: 65.62604 \tLoss (val): 35.67779\tAccuracy: 0.95857 \tAccuracy (val): 0.95933\n",
      "------ Epoch 2 ------\n",
      "Number of batches: 0\n",
      "Number of batches: 10\n",
      "Number of batches: 20\n",
      "Number of batches: 30\n",
      "Number of batches: 40\n",
      "Number of batches: 50\n",
      "Epoch 2 \tLoss: 4.15704 \tLoss (val): 26.07140\tAccuracy: 0.98657 \tAccuracy (val): 0.97000\n",
      "------ Epoch 3 ------\n",
      "Number of batches: 0\n",
      "Number of batches: 10\n",
      "Number of batches: 20\n",
      "Number of batches: 30\n",
      "Number of batches: 40\n",
      "Number of batches: 50\n",
      "Epoch 3 \tLoss: 2.47455 \tLoss (val): 27.08315\tAccuracy: 0.98771 \tAccuracy (val): 0.95800\n",
      "------ Epoch 4 ------\n",
      "Number of batches: 0\n",
      "Number of batches: 10\n",
      "Number of batches: 20\n",
      "Number of batches: 30\n",
      "Number of batches: 40\n",
      "Number of batches: 50\n",
      "Epoch 4 \tLoss: 1.82485 \tLoss (val): 20.10237\tAccuracy: 0.98886 \tAccuracy (val): 0.97200\n",
      "------ Epoch 5 ------\n",
      "Number of batches: 0\n",
      "Number of batches: 10\n",
      "Number of batches: 20\n",
      "Number of batches: 30\n",
      "Number of batches: 40\n",
      "Number of batches: 50\n",
      "Epoch 5 \tLoss: 0.27350 \tLoss (val): 31.33389\tAccuracy: 0.99800 \tAccuracy (val): 0.97200\n",
      "------ Epoch 6 ------\n",
      "Number of batches: 0\n",
      "Number of batches: 10\n",
      "Number of batches: 20\n",
      "Number of batches: 30\n",
      "Number of batches: 40\n",
      "Number of batches: 50\n",
      "Epoch 6 \tLoss: 0.28496 \tLoss (val): 23.81639\tAccuracy: 0.99686 \tAccuracy (val): 0.96867\n",
      "------ Epoch 7 ------\n",
      "Number of batches: 0\n",
      "Number of batches: 10\n",
      "Number of batches: 20\n",
      "Number of batches: 30\n",
      "Number of batches: 40\n",
      "Number of batches: 50\n",
      "Epoch 7 \tLoss: 1.30020 \tLoss (val): 28.26073\tAccuracy: 0.99400 \tAccuracy (val): 0.96667\n",
      "------ Epoch 8 ------\n",
      "Number of batches: 0\n",
      "Number of batches: 10\n",
      "Number of batches: 20\n",
      "Number of batches: 30\n",
      "Number of batches: 40\n",
      "Number of batches: 50\n",
      "Epoch 8 \tLoss: 3.57075 \tLoss (val): 10.80645\tAccuracy: 0.97943 \tAccuracy (val): 0.96400\n",
      "------ Epoch 9 ------\n",
      "Number of batches: 0\n",
      "Number of batches: 10\n",
      "Number of batches: 20\n",
      "Number of batches: 30\n",
      "Number of batches: 40\n",
      "Number of batches: 50\n",
      "Epoch 9 \tLoss: 0.39587 \tLoss (val): 13.08737\tAccuracy: 0.99457 \tAccuracy (val): 0.95933\n",
      "------ Epoch 10 ------\n",
      "Number of batches: 0\n",
      "Number of batches: 10\n",
      "Number of batches: 20\n",
      "Number of batches: 30\n",
      "Number of batches: 40\n",
      "Number of batches: 50\n",
      "Epoch 10 \tLoss: 0.12124 \tLoss (val): 12.74408\tAccuracy: 0.99743 \tAccuracy (val): 0.96667\n"
     ]
    }
   ],
   "source": [
    "# Finetune train all the layers \n",
    "loss_fn = nn.CrossEntropyLoss()\n",
    "optimizer = optim.Adam(improved_vgg_model.parameters(), lr=0.0001, weight_decay=0.01)\n",
    "\n",
    "train_accuracy_best=[]\n",
    "train_avg_loss_best=[]\n",
    "val_acc_best=[]\n",
    "val_loss_best=[]\n",
    "\n",
    "val_accuracy = 0\n",
    "\n",
    "for epoch in range(10):\n",
    "    losses = []\n",
    "    n_correct = 0\n",
    "    \n",
    "    print('------ Epoch {} ------'.format(epoch+1))\n",
    "    for i, (b_x, b_y) in enumerate(small_train_data_loader):\n",
    "        \n",
    "        b_x = b_x.to(device)\n",
    "        b_y = b_y.to(device)\n",
    "        # Compute predictions and losses\n",
    "        pred = improved_vgg_model(b_x)\n",
    "        loss = loss_fn(pred, b_y)\n",
    "        losses.append(loss.item())\n",
    "        \n",
    "        #if val_accuracy >= 0.70:\n",
    "        #    optimizer = optim.Adam(vgg_model.parameters(), lr=0.0005, weight_decay=0.01) \n",
    "        \n",
    "        # Count number of correct predictions\n",
    "        n_correct += torch.sum(pred.argmax(dim=1) == b_y).item()\n",
    "\n",
    "        # Backpropagate\n",
    "        loss.backward()\n",
    "        optimizer.step()\n",
    "        optimizer.zero_grad()    \n",
    "        \n",
    "        if i % 10 == 0:\n",
    "            print('Number of batches: {}'.format(i))\n",
    "        \n",
    "    # Compute accuracy and loss in the entire training set\n",
    "    train_accuracy_best.append((n_correct/len(small_train)))\n",
    "    train_avg_loss_best.append((sum(losses)/len(losses)))\n",
    "        \n",
    "    # Compute accuracy and loss in the entire validation set\n",
    "    val_accuracy, val_avg_loss = evaluate_model(small_val_data_loader, improved_vgg_model, loss_fn)\n",
    "    \n",
    "    val_acc_best.append((val_accuracy))\n",
    "    val_loss_best.append((val_avg_loss))\n",
    "        \n",
    "    # Display metrics\n",
    "    display_str = 'Epoch {} '\n",
    "    display_str += '\\tLoss: {:.5f} '\n",
    "    display_str += '\\tLoss (val): {:.5f}'\n",
    "    display_str += '\\tAccuracy: {:.5f} '\n",
    "    display_str += '\\tAccuracy (val): {:.5f}'\n",
    "    print(display_str.format(epoch+1, train_avg_loss_best[epoch], val_loss_best[epoch], train_accuracy_best[epoch], val_acc_best[epoch]))"
   ]
  },
  {
   "cell_type": "markdown",
   "metadata": {
    "deletable": false,
    "editable": false,
    "nbgrader": {
     "cell_type": "markdown",
     "checksum": "8fc346783e0e1a80bd856ca85bf5e744",
     "grade": false,
     "grade_id": "cell-48933baad6c5afeb",
     "locked": true,
     "schema_version": 3,
     "solution": false
    }
   },
   "source": [
    "**(1 POE)** How does the model perform, compared to the model trained in step 4.2? Create one plot with the training accuracy and another with the validation accuracy of the two scenarios."
   ]
  },
  {
   "cell_type": "markdown",
   "metadata": {},
   "source": [
    "**Answer:** The difference between the two models is that the improved one uses the same architecture for the classifier as VGG16 but the last FC layer has an output of 2. The results in the plots show that the new model is  performing slightly better than the previous model for the last epoch. "
   ]
  },
  {
   "cell_type": "code",
   "execution_count": 160,
   "metadata": {
    "deletable": false,
    "nbgrader": {
     "cell_type": "code",
     "checksum": "b520759c1ceb8218d203dc9655d25361",
     "grade": true,
     "grade_id": "cell-7cb62a04916a848e",
     "locked": false,
     "points": 1,
     "schema_version": 3,
     "solution": true
    }
   },
   "outputs": [
    {
     "data": {
      "image/png": "[encoded data removed]",
      "text/plain": [
       "<Figure size 720x360 with 2 Axes>"
      ]
     },
     "metadata": {
      "needs_background": "light"
     },
     "output_type": "display_data"
    }
   ],
   "source": [
    "# YOUR CODE HERE\n",
    "fig, (ax1, ax2) = plt.subplots(1, 2)\n",
    "fig.suptitle('Comparison of accuracy for the previous TL model and improved model', fontsize = 16, y = 1.05)\n",
    "fig.set_figheight(5)\n",
    "fig.set_figwidth(10)\n",
    "number_epoch=[i+1 for i in range(epoch+1)]\n",
    "ax1.plot(number_epoch, train_accuracy_4ft, label ='Previous model')\n",
    "ax1.plot(number_epoch, train_accuracy_best, label ='\"Improved model\"')\n",
    "# naming the x axis \n",
    "ax1.set_xlabel('Number of Epoch') \n",
    "# naming the y axis \n",
    "ax1.set_ylabel('Training accuracy') \n",
    "# giving a title to my graph \n",
    "ax1.xaxis.set_major_locator(ticker.MultipleLocator(1))\n",
    "ax1.legend()\n",
    "ax2.plot(number_epoch, val_acc_4ft, label ='Previous model')\n",
    "ax2.plot(number_epoch, val_acc_best, label ='\"Improved model\"')\n",
    "# naming the x axis \n",
    "ax2.set_xlabel('Number of Epoch') \n",
    "# naming the y axis \n",
    "ax2.set_ylabel('Validation accuracy') \n",
    "# giving a title to my graph \n",
    "ax2.xaxis.set_major_locator(ticker.MultipleLocator(1))\n",
    "ax2.legend()\n",
    "fig.tight_layout()"
   ]
  },
  {
   "cell_type": "markdown",
   "metadata": {
    "deletable": false,
    "editable": false,
    "nbgrader": {
     "cell_type": "markdown",
     "checksum": "84662189498e2454093c4a54a53716d6",
     "grade": false,
     "grade_id": "cell-8bbfa3e11e2dfff9",
     "locked": true,
     "schema_version": 3,
     "solution": false
    }
   },
   "source": [
    "Save the model to a file."
   ]
  },
  {
   "cell_type": "code",
   "execution_count": 111,
   "metadata": {},
   "outputs": [],
   "source": [
    "torch.save(improved_vgg_model.state_dict(), 'not_the_best_trans_learning')"
   ]
  },
  {
   "cell_type": "markdown",
   "metadata": {
    "deletable": false,
    "editable": false,
    "nbgrader": {
     "cell_type": "markdown",
     "checksum": "49c722f31cfd70e995b6226c86584565",
     "grade": false,
     "grade_id": "cell-ad0efbac33de5a65",
     "locked": true,
     "schema_version": 3,
     "solution": false
    }
   },
   "source": [
    "## 5. Final training"
   ]
  },
  {
   "cell_type": "markdown",
   "metadata": {
    "deletable": false,
    "editable": false,
    "nbgrader": {
     "cell_type": "markdown",
     "checksum": "6e460754d2c0f05f0e79ae982a3fe3d3",
     "grade": false,
     "grade_id": "cell-cf811afdac96843b",
     "locked": true,
     "schema_version": 3,
     "solution": false
    }
   },
   "source": [
    "Now we'll train the model that achieved the best performance so far using the entire dataset.\n",
    "\n",
    "**Note**: start the optimization with the weights you obtained training in the smaller subset, i.e. *not* from scratch."
   ]
  },
  {
   "cell_type": "markdown",
   "metadata": {
    "deletable": false,
    "editable": false,
    "nbgrader": {
     "cell_type": "markdown",
     "checksum": "10fada090ba96eae198313ce7e9f1e22",
     "grade": false,
     "grade_id": "cell-3ae2a65188e4ac74",
     "locked": true,
     "schema_version": 3,
     "solution": false
    }
   },
   "source": [
    "First, create two new data generators, one for training samples and one for validation samples. This time, they'll load data from the folders for the entire dataset."
   ]
  },
  {
   "cell_type": "code",
   "execution_count": 162,
   "metadata": {
    "deletable": false,
    "nbgrader": {
     "cell_type": "code",
     "checksum": "94d6c3dc3c25680c53c2f2d4aef85b9d",
     "grade": true,
     "grade_id": "cell-64eaa83780f5eac9",
     "locked": false,
     "points": 0,
     "schema_version": 3,
     "solution": true
    }
   },
   "outputs": [],
   "source": [
    "''' Make a compose transform function to be used in ImageFolder, this both resizes and converts to type tensor '''\n",
    "transformFunc = transforms.Compose([transforms.Resize((224,224)), transforms.ToTensor(), transforms.Normalize([0.485, 0.456, 0.406], [0.229, 0.224, 0.225])])\n",
    "\n",
    "train = torchvision.datasets.ImageFolder(train_path, transform = transformFunc)\n",
    "val = torchvision.datasets.ImageFolder(val_path, transform = transformFunc)\n",
    "\n",
    "train_data_loader = DataLoader(train, batch_size=64, shuffle=True)\n",
    "val_data_loader = DataLoader(val, batch_size=64)"
   ]
  },
  {
   "cell_type": "code",
   "execution_count": 163,
   "metadata": {},
   "outputs": [],
   "source": [
    "def evaluate_model_final(val_data_loader, model, loss_fn):\n",
    "    losses = []\n",
    "    n_correct = 0\n",
    "    with torch.no_grad():\n",
    "        for b_x, b_y in val_data_loader:            \n",
    "            b_x = b_x.to(device)\n",
    "            b_y = b_y.to(device)\n",
    "            pred = model(b_x)\n",
    "            loss = loss_fn(pred, b_y)\n",
    "            losses.append(loss.item())\n",
    "            n_correct += torch.sum(pred.argmax(dim=1) == b_y).item()\n",
    "        val_accuracy = n_correct/len(val)\n",
    "        val_avg_loss = sum(losses)/len(losses)    \n",
    "\n",
    "    return val_accuracy, val_avg_loss"
   ]
  },
  {
   "cell_type": "markdown",
   "metadata": {
    "deletable": false,
    "editable": false,
    "nbgrader": {
     "cell_type": "markdown",
     "checksum": "122af97053f34fc41312863aab715317",
     "grade": false,
     "grade_id": "cell-f3f79586de42561b",
     "locked": true,
     "schema_version": 3,
     "solution": false
    }
   },
   "source": [
    "Train your model using the full data. This optimization might take a long time, so live plotting of some metrics is recommended."
   ]
  },
  {
   "cell_type": "code",
   "execution_count": 164,
   "metadata": {},
   "outputs": [],
   "source": [
    "best_model = improved_vgg_model"
   ]
  },
  {
   "cell_type": "code",
   "execution_count": 165,
   "metadata": {},
   "outputs": [
    {
     "name": "stdout",
     "output_type": "stream",
     "text": [
      "------ Epoch 1 ------\n",
      "Number of batches: 0\n",
      "Number of batches: 10\n",
      "Number of batches: 20\n",
      "Number of batches: 30\n",
      "Number of batches: 40\n",
      "Number of batches: 50\n",
      "Number of batches: 60\n",
      "Number of batches: 70\n",
      "Number of batches: 80\n",
      "Number of batches: 90\n",
      "Number of batches: 100\n",
      "Number of batches: 110\n",
      "Number of batches: 120\n",
      "Number of batches: 130\n",
      "Number of batches: 140\n",
      "Number of batches: 150\n",
      "Number of batches: 160\n",
      "Number of batches: 170\n",
      "Number of batches: 180\n",
      "Number of batches: 190\n",
      "Number of batches: 200\n",
      "Number of batches: 210\n",
      "Number of batches: 220\n",
      "Number of batches: 230\n",
      "Number of batches: 240\n",
      "Number of batches: 250\n",
      "Number of batches: 260\n",
      "Number of batches: 270\n",
      "Epoch 1 \tLoss: 1.98325 \tLoss (val): 0.76796\tAccuracy: 0.96429 \tAccuracy (val): 0.96947\n",
      "------ Epoch 2 ------\n",
      "Number of batches: 0\n",
      "Number of batches: 10\n",
      "Number of batches: 20\n",
      "Number of batches: 30\n",
      "Number of batches: 40\n",
      "Number of batches: 50\n",
      "Number of batches: 60\n",
      "Number of batches: 70\n",
      "Number of batches: 80\n",
      "Number of batches: 90\n",
      "Number of batches: 100\n",
      "Number of batches: 110\n",
      "Number of batches: 120\n",
      "Number of batches: 130\n",
      "Number of batches: 140\n",
      "Number of batches: 150\n",
      "Number of batches: 160\n",
      "Number of batches: 170\n",
      "Number of batches: 180\n",
      "Number of batches: 190\n",
      "Number of batches: 200\n",
      "Number of batches: 210\n",
      "Number of batches: 220\n",
      "Number of batches: 230\n",
      "Number of batches: 240\n",
      "Number of batches: 250\n",
      "Number of batches: 260\n",
      "Number of batches: 270\n",
      "Epoch 2 \tLoss: 0.52803 \tLoss (val): 0.36647\tAccuracy: 0.96697 \tAccuracy (val): 0.96280\n",
      "------ Epoch 3 ------\n",
      "Number of batches: 0\n",
      "Number of batches: 10\n",
      "Number of batches: 20\n",
      "Number of batches: 30\n",
      "Number of batches: 40\n",
      "Number of batches: 50\n",
      "Number of batches: 60\n",
      "Number of batches: 70\n",
      "Number of batches: 80\n",
      "Number of batches: 90\n",
      "Number of batches: 100\n",
      "Number of batches: 110\n",
      "Number of batches: 120\n",
      "Number of batches: 130\n",
      "Number of batches: 140\n",
      "Number of batches: 150\n",
      "Number of batches: 160\n",
      "Number of batches: 170\n",
      "Number of batches: 180\n",
      "Number of batches: 190\n",
      "Number of batches: 200\n",
      "Number of batches: 210\n",
      "Number of batches: 220\n",
      "Number of batches: 230\n",
      "Number of batches: 240\n",
      "Number of batches: 250\n",
      "Number of batches: 260\n",
      "Number of batches: 270\n",
      "Epoch 3 \tLoss: 0.21172 \tLoss (val): 0.16919\tAccuracy: 0.96766 \tAccuracy (val): 0.96533\n",
      "------ Epoch 4 ------\n",
      "Number of batches: 0\n",
      "Number of batches: 10\n",
      "Number of batches: 20\n",
      "Number of batches: 30\n",
      "Number of batches: 40\n",
      "Number of batches: 50\n",
      "Number of batches: 60\n",
      "Number of batches: 70\n",
      "Number of batches: 80\n",
      "Number of batches: 90\n",
      "Number of batches: 100\n",
      "Number of batches: 110\n",
      "Number of batches: 120\n",
      "Number of batches: 130\n",
      "Number of batches: 140\n",
      "Number of batches: 150\n",
      "Number of batches: 160\n",
      "Number of batches: 170\n",
      "Number of batches: 180\n",
      "Number of batches: 190\n",
      "Number of batches: 200\n",
      "Number of batches: 210\n",
      "Number of batches: 220\n",
      "Number of batches: 230\n",
      "Number of batches: 240\n",
      "Number of batches: 250\n",
      "Number of batches: 260\n",
      "Number of batches: 270\n",
      "Epoch 4 \tLoss: 0.14635 \tLoss (val): 0.17355\tAccuracy: 0.97097 \tAccuracy (val): 0.96333\n",
      "------ Epoch 5 ------\n",
      "Number of batches: 0\n",
      "Number of batches: 10\n",
      "Number of batches: 20\n",
      "Number of batches: 30\n",
      "Number of batches: 40\n",
      "Number of batches: 50\n",
      "Number of batches: 60\n",
      "Number of batches: 70\n",
      "Number of batches: 80\n",
      "Number of batches: 90\n",
      "Number of batches: 100\n",
      "Number of batches: 110\n",
      "Number of batches: 120\n",
      "Number of batches: 130\n",
      "Number of batches: 140\n",
      "Number of batches: 150\n",
      "Number of batches: 160\n",
      "Number of batches: 170\n",
      "Number of batches: 180\n",
      "Number of batches: 190\n",
      "Number of batches: 200\n",
      "Number of batches: 210\n",
      "Number of batches: 220\n",
      "Number of batches: 230\n",
      "Number of batches: 240\n",
      "Number of batches: 250\n",
      "Number of batches: 260\n",
      "Number of batches: 270\n",
      "Epoch 5 \tLoss: 0.12626 \tLoss (val): 0.13174\tAccuracy: 0.97234 \tAccuracy (val): 0.96160\n",
      "------ Epoch 6 ------\n",
      "Number of batches: 0\n",
      "Number of batches: 10\n",
      "Number of batches: 20\n",
      "Number of batches: 30\n",
      "Number of batches: 40\n",
      "Number of batches: 50\n",
      "Number of batches: 60\n",
      "Number of batches: 70\n",
      "Number of batches: 80\n",
      "Number of batches: 90\n",
      "Number of batches: 100\n",
      "Number of batches: 110\n",
      "Number of batches: 120\n",
      "Number of batches: 130\n",
      "Number of batches: 140\n",
      "Number of batches: 150\n",
      "Number of batches: 160\n",
      "Number of batches: 170\n",
      "Number of batches: 180\n",
      "Number of batches: 190\n",
      "Number of batches: 200\n",
      "Number of batches: 210\n",
      "Number of batches: 220\n",
      "Number of batches: 230\n",
      "Number of batches: 240\n",
      "Number of batches: 250\n",
      "Number of batches: 260\n",
      "Number of batches: 270\n",
      "Epoch 6 \tLoss: 0.09824 \tLoss (val): 0.13365\tAccuracy: 0.97377 \tAccuracy (val): 0.96400\n",
      "------ Epoch 7 ------\n",
      "Number of batches: 0\n",
      "Number of batches: 10\n",
      "Number of batches: 20\n",
      "Number of batches: 30\n",
      "Number of batches: 40\n",
      "Number of batches: 50\n",
      "Number of batches: 60\n",
      "Number of batches: 70\n",
      "Number of batches: 80\n",
      "Number of batches: 90\n",
      "Number of batches: 100\n",
      "Number of batches: 110\n",
      "Number of batches: 120\n",
      "Number of batches: 130\n",
      "Number of batches: 140\n",
      "Number of batches: 150\n",
      "Number of batches: 160\n",
      "Number of batches: 170\n",
      "Number of batches: 180\n",
      "Number of batches: 190\n",
      "Number of batches: 200\n",
      "Number of batches: 210\n",
      "Number of batches: 220\n",
      "Number of batches: 230\n",
      "Number of batches: 240\n",
      "Number of batches: 250\n",
      "Number of batches: 260\n",
      "Number of batches: 270\n",
      "Epoch 7 \tLoss: 0.08755 \tLoss (val): 0.10616\tAccuracy: 0.97389 \tAccuracy (val): 0.96613\n",
      "------ Epoch 8 ------\n",
      "Number of batches: 0\n",
      "Number of batches: 10\n",
      "Number of batches: 20\n",
      "Number of batches: 30\n",
      "Number of batches: 40\n",
      "Number of batches: 50\n",
      "Number of batches: 60\n",
      "Number of batches: 70\n",
      "Number of batches: 80\n",
      "Number of batches: 90\n",
      "Number of batches: 100\n",
      "Number of batches: 110\n",
      "Number of batches: 120\n",
      "Number of batches: 130\n",
      "Number of batches: 140\n",
      "Number of batches: 150\n",
      "Number of batches: 160\n",
      "Number of batches: 170\n",
      "Number of batches: 180\n",
      "Number of batches: 190\n",
      "Number of batches: 200\n",
      "Number of batches: 210\n",
      "Number of batches: 220\n",
      "Number of batches: 230\n",
      "Number of batches: 240\n",
      "Number of batches: 250\n",
      "Number of batches: 260\n",
      "Number of batches: 270\n",
      "Epoch 8 \tLoss: 0.08292 \tLoss (val): 0.10664\tAccuracy: 0.97314 \tAccuracy (val): 0.96520\n",
      "------ Epoch 9 ------\n",
      "Number of batches: 0\n",
      "Number of batches: 10\n",
      "Number of batches: 20\n",
      "Number of batches: 30\n",
      "Number of batches: 40\n",
      "Number of batches: 50\n",
      "Number of batches: 60\n",
      "Number of batches: 70\n",
      "Number of batches: 80\n",
      "Number of batches: 90\n",
      "Number of batches: 100\n",
      "Number of batches: 110\n",
      "Number of batches: 120\n",
      "Number of batches: 130\n",
      "Number of batches: 140\n",
      "Number of batches: 150\n",
      "Number of batches: 160\n",
      "Number of batches: 170\n",
      "Number of batches: 180\n",
      "Number of batches: 190\n",
      "Number of batches: 200\n",
      "Number of batches: 210\n",
      "Number of batches: 220\n",
      "Number of batches: 230\n",
      "Number of batches: 240\n",
      "Number of batches: 250\n",
      "Number of batches: 260\n",
      "Number of batches: 270\n",
      "Epoch 9 \tLoss: 0.08014 \tLoss (val): 0.10385\tAccuracy: 0.97354 \tAccuracy (val): 0.96947\n",
      "------ Epoch 10 ------\n",
      "Number of batches: 0\n",
      "Number of batches: 10\n",
      "Number of batches: 20\n",
      "Number of batches: 30\n",
      "Number of batches: 40\n",
      "Number of batches: 50\n",
      "Number of batches: 60\n",
      "Number of batches: 70\n",
      "Number of batches: 80\n",
      "Number of batches: 90\n",
      "Number of batches: 100\n",
      "Number of batches: 110\n",
      "Number of batches: 120\n",
      "Number of batches: 130\n",
      "Number of batches: 140\n",
      "Number of batches: 150\n",
      "Number of batches: 160\n",
      "Number of batches: 170\n",
      "Number of batches: 180\n",
      "Number of batches: 190\n",
      "Number of batches: 200\n",
      "Number of batches: 210\n",
      "Number of batches: 220\n",
      "Number of batches: 230\n",
      "Number of batches: 240\n",
      "Number of batches: 250\n",
      "Number of batches: 260\n",
      "Number of batches: 270\n",
      "Epoch 10 \tLoss: 0.07522 \tLoss (val): 0.09542\tAccuracy: 0.97406 \tAccuracy (val): 0.96920\n"
     ]
    }
   ],
   "source": [
    "# Train all the layers for the previous best model with the full data set  \n",
    "best_model.to(device)\n",
    "loss_fn = nn.CrossEntropyLoss()\n",
    "optimizer = optim.Adam(best_model.classifier.parameters(), lr=0.001, weight_decay=0.01)\n",
    "\n",
    "train_accuracy_final =[]\n",
    "train_avg_loss_final=[]\n",
    "val_acc_final=[]\n",
    "val_loss_final=[]\n",
    "\n",
    "for epoch in range(10):\n",
    "    losses = []\n",
    "    n_correct = 0\n",
    "    \n",
    "    print('------ Epoch {} ------'.format(epoch+1))\n",
    "    for i, (b_x, b_y) in enumerate(train_data_loader):\n",
    "        \n",
    "        b_x = b_x.to(device)\n",
    "        b_y = b_y.to(device)\n",
    "        # Compute predictions and losses\n",
    "        pred = best_model(b_x)\n",
    "        loss = loss_fn(pred, b_y)\n",
    "        losses.append(loss.item())\n",
    "        \n",
    "        #if val_accuracy >= 0.70:\n",
    "        #    optimizer = optim.Adam(vgg_model.parameters(), lr=0.0005, weight_decay=0.01) \n",
    "        \n",
    "        # Count number of correct predictions\n",
    "        n_correct += torch.sum(pred.argmax(dim=1) == b_y).item()\n",
    "\n",
    "        # Backpropagate\n",
    "        loss.backward()\n",
    "        optimizer.step()\n",
    "        optimizer.zero_grad()    \n",
    "        \n",
    "        if i % 10 == 0:\n",
    "            print('Number of batches: {}'.format(i))\n",
    "        \n",
    "    # Compute accuracy and loss in the entire training set\n",
    "    train_accuracy_final.append((n_correct/len(train)))\n",
    "    train_avg_loss_final.append((sum(losses)/len(losses)))\n",
    "        \n",
    "    # Compute accuracy and loss in the entire validation set\n",
    "    val_accuracy, val_avg_loss = evaluate_model_final(val_data_loader, best_model, loss_fn)\n",
    "    \n",
    "    val_acc_final.append((val_accuracy))\n",
    "    val_loss_final.append((val_avg_loss))\n",
    "        \n",
    "    # Display metrics\n",
    "    display_str = 'Epoch {} '\n",
    "    display_str += '\\tLoss: {:.5f} '\n",
    "    display_str += '\\tLoss (val): {:.5f}'\n",
    "    display_str += '\\tAccuracy: {:.5f} '\n",
    "    display_str += '\\tAccuracy (val): {:.5f}'\n",
    "    print(display_str.format(epoch+1, train_avg_loss_final[epoch], val_loss_final[epoch], train_accuracy_final[epoch], val_acc_final[epoch]))"
   ]
  },
  {
   "cell_type": "code",
   "execution_count": 166,
   "metadata": {
    "deletable": false,
    "nbgrader": {
     "cell_type": "code",
     "checksum": "c5aa2e83bcbc4bfbd84573165cd3bc47",
     "grade": true,
     "grade_id": "cell-c7dd71a632b5f152",
     "locked": false,
     "points": 0,
     "schema_version": 3,
     "solution": true
    }
   },
   "outputs": [],
   "source": [
    "# YOUR CODE HERE\n",
    "torch.save(best_model.state_dict(), 'final_trans_learning')"
   ]
  },
  {
   "cell_type": "markdown",
   "metadata": {
    "deletable": false,
    "editable": false,
    "nbgrader": {
     "cell_type": "markdown",
     "checksum": "d0ab46f558fb4b49f877ca0bae45376b",
     "grade": false,
     "grade_id": "cell-b1861d3a543c6386",
     "locked": true,
     "schema_version": 3,
     "solution": false
    }
   },
   "source": [
    "How does the model perform now when trained on the entire dataset, compared to when only trained on the smaller subset of data? Create one plot with the training accuracy and another with the validation accuracy of the two scenarios."
   ]
  },
  {
   "cell_type": "code",
   "execution_count": 168,
   "metadata": {
    "deletable": false,
    "nbgrader": {
     "cell_type": "code",
     "checksum": "52bacfa672fbc7eca004c87d041e3411",
     "grade": true,
     "grade_id": "cell-ceaac6be60ce36a9",
     "locked": false,
     "points": 0,
     "schema_version": 3,
     "solution": true
    }
   },
   "outputs": [
    {
     "data": {
      "image/png": "[encoded data removed]",
      "text/plain": [
       "<Figure size 720x360 with 2 Axes>"
      ]
     },
     "metadata": {
      "needs_background": "light"
     },
     "output_type": "display_data"
    }
   ],
   "source": [
    "# YOUR CODE HERE\n",
    "fig, (ax1, ax2) = plt.subplots(1, 2)\n",
    "fig.suptitle('Performance training with small dataset and large dataset', fontsize = 16, y = 1.05)\n",
    "fig.set_figheight(5)\n",
    "fig.set_figwidth(10)\n",
    "number_epoch=[i+1 for i in range(epoch+1)]\n",
    "ax1.plot(number_epoch, train_accuracy_best, label ='Small dataset')\n",
    "ax1.plot(number_epoch, train_accuracy_final, label ='Large dataset')\n",
    "# naming the x axis \n",
    "ax1.set_xlabel('Number of Epoch') \n",
    "# naming the y axis \n",
    "ax1.set_ylabel('Training accuracy') \n",
    "# giving a title to my graph \n",
    "ax1.xaxis.set_major_locator(ticker.MultipleLocator(1))\n",
    "ax1.legend()\n",
    "ax2.plot(number_epoch, val_acc_best, label ='Small dataset')\n",
    "ax2.plot(number_epoch, val_acc_final, label ='Large dataset')\n",
    "# naming the x axis \n",
    "ax2.set_xlabel('Number of Epoch') \n",
    "# naming the y axis \n",
    "ax2.set_ylabel('Validation accuracy') \n",
    "# giving a title to my graph \n",
    "ax2.xaxis.set_major_locator(ticker.MultipleLocator(1))\n",
    "ax2.legend()\n",
    "fig.tight_layout()"
   ]
  },
  {
   "cell_type": "markdown",
   "metadata": {
    "deletable": false,
    "editable": false,
    "nbgrader": {
     "cell_type": "markdown",
     "checksum": "31948b31146233a42a321e2db094035a",
     "grade": false,
     "grade_id": "cell-b38092b08c150e7d",
     "locked": true,
     "schema_version": 3,
     "solution": false
    }
   },
   "source": [
    "**(2 POE)** What can you conclude from these plots?"
   ]
  },
  {
   "cell_type": "markdown",
   "metadata": {
    "deletable": false,
    "nbgrader": {
     "cell_type": "markdown",
     "checksum": "22d5b2529d702c64919bef4e02ca308c",
     "grade": true,
     "grade_id": "cell-694a3fbb7f081da8",
     "locked": false,
     "points": 2,
     "schema_version": 3,
     "solution": true
    }
   },
   "source": [
    "**Your answer:** The training accuracy and the validation accuracy for the large dataset are more similar to each other which implies we have less overfitting than the model with small dataset. We achieve similar results regarding the accuracies of both models, but since we are using a larger dataset the validation accuracy for this model is more trustworthy."
   ]
  },
  {
   "cell_type": "markdown",
   "metadata": {
    "deletable": false,
    "editable": false,
    "nbgrader": {
     "cell_type": "markdown",
     "checksum": "7aa48c7ed472a45c0742ac39e56e7437",
     "grade": false,
     "grade_id": "cell-5e1ddfbfceb4d194",
     "locked": true,
     "schema_version": 3,
     "solution": false
    }
   },
   "source": [
    "## 6. Evaluation on test set"
   ]
  },
  {
   "cell_type": "markdown",
   "metadata": {
    "deletable": false,
    "editable": false,
    "nbgrader": {
     "cell_type": "markdown",
     "checksum": "cd96692057f0be0c7cb1e9c2769f0991",
     "grade": false,
     "grade_id": "cell-a97630bf5d85363f",
     "locked": true,
     "schema_version": 3,
     "solution": false
    }
   },
   "source": [
    "Now we'll evaluate your final model, obtained in step 6, on the test set. As mentioned before, the samples in the test set are not labeled, so we can't compute any performance metrics ourselves. Instead, we'll create a .csv file containing the predictions for each sample, and submit it to Kaggle for evaluation."
   ]
  },
  {
   "cell_type": "markdown",
   "metadata": {
    "deletable": false,
    "editable": false,
    "nbgrader": {
     "cell_type": "markdown",
     "checksum": "20c98ace385c96c94b803ce489dbbcf4",
     "grade": false,
     "grade_id": "cell-96a8fded54ed7011",
     "locked": true,
     "schema_version": 3,
     "solution": false
    }
   },
   "source": [
    "Compute the predictions for all samples in the test set according to your best model, and save it in a .csv file with the format expected by the competition.\n",
    "\n",
    "Hints:\n",
    "- There is a sample_submission file available for download in the same place where you downloaded the data from. Take a look at it to better understand what is the expected format here.\n",
    "- The Python module `os` has a `listdir` function, which returns the filenames of all files in a given path.\n",
    "- If you don't know how to create and write to files with Python, Google can help."
   ]
  },
  {
   "cell_type": "code",
   "execution_count": 260,
   "metadata": {},
   "outputs": [],
   "source": [
    "vgg_model = torchvision.models.vgg16(pretrained=False, progress=True)"
   ]
  },
  {
   "cell_type": "code",
   "execution_count": 261,
   "metadata": {},
   "outputs": [
    {
     "data": {
      "text/plain": [
       "VGG(\n",
       "  (features): Sequential(\n",
       "    (0): Conv2d(3, 64, kernel_size=(3, 3), stride=(1, 1), padding=(1, 1))\n",
       "    (1): ReLU(inplace=True)\n",
       "    (2): Conv2d(64, 64, kernel_size=(3, 3), stride=(1, 1), padding=(1, 1))\n",
       "    (3): ReLU(inplace=True)\n",
       "    (4): MaxPool2d(kernel_size=2, stride=2, padding=0, dilation=1, ceil_mode=False)\n",
       "    (5): Conv2d(64, 128, kernel_size=(3, 3), stride=(1, 1), padding=(1, 1))\n",
       "    (6): ReLU(inplace=True)\n",
       "    (7): Conv2d(128, 128, kernel_size=(3, 3), stride=(1, 1), padding=(1, 1))\n",
       "    (8): ReLU(inplace=True)\n",
       "    (9): MaxPool2d(kernel_size=2, stride=2, padding=0, dilation=1, ceil_mode=False)\n",
       "    (10): Conv2d(128, 256, kernel_size=(3, 3), stride=(1, 1), padding=(1, 1))\n",
       "    (11): ReLU(inplace=True)\n",
       "    (12): Conv2d(256, 256, kernel_size=(3, 3), stride=(1, 1), padding=(1, 1))\n",
       "    (13): ReLU(inplace=True)\n",
       "    (14): Conv2d(256, 256, kernel_size=(3, 3), stride=(1, 1), padding=(1, 1))\n",
       "    (15): ReLU(inplace=True)\n",
       "    (16): MaxPool2d(kernel_size=2, stride=2, padding=0, dilation=1, ceil_mode=False)\n",
       "    (17): Conv2d(256, 512, kernel_size=(3, 3), stride=(1, 1), padding=(1, 1))\n",
       "    (18): ReLU(inplace=True)\n",
       "    (19): Conv2d(512, 512, kernel_size=(3, 3), stride=(1, 1), padding=(1, 1))\n",
       "    (20): ReLU(inplace=True)\n",
       "    (21): Conv2d(512, 512, kernel_size=(3, 3), stride=(1, 1), padding=(1, 1))\n",
       "    (22): ReLU(inplace=True)\n",
       "    (23): MaxPool2d(kernel_size=2, stride=2, padding=0, dilation=1, ceil_mode=False)\n",
       "    (24): Conv2d(512, 512, kernel_size=(3, 3), stride=(1, 1), padding=(1, 1))\n",
       "    (25): ReLU(inplace=True)\n",
       "    (26): Conv2d(512, 512, kernel_size=(3, 3), stride=(1, 1), padding=(1, 1))\n",
       "    (27): ReLU(inplace=True)\n",
       "    (28): Conv2d(512, 512, kernel_size=(3, 3), stride=(1, 1), padding=(1, 1))\n",
       "    (29): ReLU(inplace=True)\n",
       "    (30): MaxPool2d(kernel_size=2, stride=2, padding=0, dilation=1, ceil_mode=False)\n",
       "  )\n",
       "  (avgpool): AdaptiveAvgPool2d(output_size=(7, 7))\n",
       "  (classifier): Sequential(\n",
       "    (0): Linear(in_features=25088, out_features=4096, bias=True)\n",
       "    (1): ReLU(inplace=True)\n",
       "    (2): Dropout(p=0.5, inplace=False)\n",
       "    (3): Linear(in_features=4096, out_features=4096, bias=True)\n",
       "    (4): ReLU(inplace=True)\n",
       "    (5): Dropout(p=0.5, inplace=False)\n",
       "    (6): Linear(in_features=4096, out_features=2, bias=True)\n",
       "  )\n",
       ")"
      ]
     },
     "execution_count": 261,
     "metadata": {},
     "output_type": "execute_result"
    }
   ],
   "source": [
    "best_model = vgg_model\n",
    "best_model.classifier[6].out_features = 2\n",
    "best_model.load_state_dict(torch.load('/workspace/home-assignments/HA1/final_trans_learning'))\n",
    "best_model.eval()\n",
    "best_model.to(device)"
   ]
  },
  {
   "cell_type": "code",
   "execution_count": 262,
   "metadata": {},
   "outputs": [],
   "source": [
    "# Load the images from the test folder and transform them\n",
    "test_path = '/workspace/home-assignments/HA1/test_folder'\n",
    "\n",
    "transformFunc = transforms.Compose([transforms.Resize((224,224)), transforms.ToTensor(), transforms.Normalize([0.485, 0.456, 0.406], [0.229, 0.224, 0.225])])\n",
    "test_dataset = torchvision.datasets.ImageFolder(test_path, transform=transformFunc)\n",
    "\n",
    "test_data_loader = DataLoader(test_dataset, batch_size = 1)"
   ]
  },
  {
   "cell_type": "code",
   "execution_count": 263,
   "metadata": {},
   "outputs": [],
   "source": [
    "# Save all the ids in a list\n",
    "ids = []\n",
    "\n",
    "for i in range(len(test_data_loader)):\n",
    "    string = test_dataset.samples[i][0]\n",
    "    start = string.find('test/') + 5\n",
    "    end = string.find('.jpg', start)\n",
    "    ids.append(string[start:end])"
   ]
  },
  {
   "cell_type": "code",
   "execution_count": 295,
   "metadata": {
    "deletable": false,
    "nbgrader": {
     "cell_type": "code",
     "checksum": "e235a9ab5690a066143575414247f751",
     "grade": true,
     "grade_id": "cell-cc77ac7849f856e1",
     "locked": false,
     "points": 0,
     "schema_version": 3,
     "solution": true
    }
   },
   "outputs": [],
   "source": [
    "# Make a function to check all images and classify each into a list\n",
    "import numpy as np\n",
    "\n",
    "def softmax(x):\n",
    "    \"\"\"Compute softmax values for each sets of scores in x.\"\"\"\n",
    "    e_x = np.exp(x - np.max(x))\n",
    "    return e_x / e_x.sum()\n",
    "\n",
    "def test_check(test_data_loader, model):\n",
    "    pred = []\n",
    "    for i, (image, labels) in enumerate(test_data_loader): \n",
    "        image = image.to(device)\n",
    "        pred_tensor = model(image)\n",
    "        pred_vek = (pred_tensor[0][0].item(), pred_tensor[0][1].item())\n",
    "        softmax_vek = softmax((pred_vek))\n",
    "        pred.append(softmax_vek[1])\n",
    "\n",
    "        if i % 1000 == 0:\n",
    "            print(i)\n",
    "    return pred"
   ]
  },
  {
   "cell_type": "code",
   "execution_count": 296,
   "metadata": {},
   "outputs": [
    {
     "name": "stdout",
     "output_type": "stream",
     "text": [
      "0\n",
      "1000\n",
      "2000\n",
      "3000\n",
      "4000\n",
      "5000\n",
      "6000\n",
      "7000\n",
      "8000\n",
      "9000\n",
      "10000\n",
      "11000\n",
      "12000\n"
     ]
    }
   ],
   "source": [
    "# Run through the model and get all prediction labels\n",
    "labels = test_check(test_data_loader, best_model)"
   ]
  },
  {
   "cell_type": "code",
   "execution_count": 312,
   "metadata": {},
   "outputs": [],
   "source": [
    "# Stack the ids and vector together\n",
    "ids_int = list(map(int, ids))\n",
    "labels_float = list(map(float, labels))\n",
    "#submission = np.column_stack((list(map(int, ids)), list(map(int, labels))))\n",
    "#submission_sorted = submission[submission[:,0].argsort()]"
   ]
  },
  {
   "cell_type": "code",
   "execution_count": 323,
   "metadata": {},
   "outputs": [],
   "source": [
    "# Make a dataframe object containing both the ids and labels\n",
    "submission = list(zip(ids_int,labels_float))\n",
    "predictions = pd.DataFrame(submission, columns = ['id','label'], index = None)"
   ]
  },
  {
   "cell_type": "code",
   "execution_count": 300,
   "metadata": {},
   "outputs": [],
   "source": [
    "# Save as .csv file from the dataframe object\n",
    "import pandas as pd\n",
    "pd.DataFrame(predictions).to_csv('/workspace/home-assignments/HA1/predictions.csv', header = True, index = None)"
   ]
  },
  {
   "cell_type": "code",
   "execution_count": 325,
   "metadata": {},
   "outputs": [],
   "source": [
    "predictions.to_csv(r'/workspace/home-assignments/HA1/predictions.csv', index = None)"
   ]
  },
  {
   "cell_type": "markdown",
   "metadata": {
    "deletable": false,
    "editable": false,
    "nbgrader": {
     "cell_type": "markdown",
     "checksum": "27dacda9469f78ab51d402e931232e99",
     "grade": false,
     "grade_id": "cell-faf8664f26ff7f4e",
     "locked": true,
     "schema_version": 3,
     "solution": false
    }
   },
   "source": [
    "**(2 POE)** Now that you created your submission file, submit it to Kaggle for evaluation. The [old competition](https://www.kaggle.com/c/dogs-vs-cats) does not allow submissions any more, so submit your file to the [new one](https://www.kaggle.com/c/dogs-vs-cats-redux-kernels-edition). Kaggle evaluates your submission according to your log-loss score. Which score did you obtain?"
   ]
  },
  {
   "cell_type": "markdown",
   "metadata": {
    "deletable": false,
    "nbgrader": {
     "cell_type": "markdown",
     "checksum": "e4a90a8a13658eeb9af3ad05c63220de",
     "grade": true,
     "grade_id": "cell-e951dcec64dec85d",
     "locked": false,
     "points": 2,
     "schema_version": 3,
     "solution": true
    }
   },
   "source": [
    "**Your answer:** 0.14082"
   ]
  },
  {
   "cell_type": "markdown",
   "metadata": {
    "deletable": false,
    "editable": false,
    "nbgrader": {
     "cell_type": "markdown",
     "checksum": "e8a7f3a8236f43994efe29067d7237c2",
     "grade": false,
     "grade_id": "cell-dc362abcfef32eae",
     "locked": true,
     "schema_version": 3,
     "solution": false
    }
   },
   "source": [
    "What was the username you used for this submission?"
   ]
  },
  {
   "cell_type": "markdown",
   "metadata": {
    "deletable": false,
    "nbgrader": {
     "cell_type": "markdown",
     "checksum": "8cc61665c676edcd9192df3c15714aa3",
     "grade": true,
     "grade_id": "cell-d519532bb1f957c3",
     "locked": false,
     "points": 0,
     "schema_version": 3,
     "solution": true
    }
   },
   "source": [
    "**Your answer:** jmartins11"
   ]
  }
 ],
 "metadata": {
  "kernelspec": {
   "display_name": "Python 3",
   "language": "python",
   "name": "python3"
  },
  "language_info": {
   "codemirror_mode": {
    "name": "ipython",
    "version": 3
   },
   "file_extension": ".py",
   "mimetype": "text/x-python",
   "name": "python",
   "nbconvert_exporter": "python",
   "pygments_lexer": "ipython3",
   "version": "3.7.4"
  }
 },
 "nbformat": 4,
 "nbformat_minor": 2
}
