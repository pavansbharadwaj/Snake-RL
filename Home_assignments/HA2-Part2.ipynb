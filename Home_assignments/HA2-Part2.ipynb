{
 "cells": [
  {
   "cell_type": "markdown",
   "metadata": {
    "deletable": false,
    "editable": false,
    "nbgrader": {
     "cell_type": "markdown",
     "checksum": "35e22f542837d636834ad6e869d22beb",
     "grade": false,
     "grade_id": "cell-5690119ead85e67e",
     "locked": true,
     "schema_version": 3,
     "solution": false,
     "task": false
    }
   },
   "source": [
    "### Checklist for submission\n",
    "\n",
    "It is extremely important to make sure that:\n",
    "\n",
    "1. Everything runs as expected (no bugs when running cells);\n",
    "2. The output from each cell corresponds to its code (don't change any cell's contents without rerunning it afterwards);\n",
    "3. All outputs are present (don't delete any of the outputs);\n",
    "4. Fill in all the places that say `# YOUR CODE HERE`, or \"**Your answer:** (fill in here)\".\n",
    "5. Never copy/paste any notebook cells. Inserting new cells is allowed, but it should not be necessary.\n",
    "6. The notebook contains some hidden metadata which is important during our grading process. **Make sure not to corrupt any of this metadata!** The metadata may for example be corrupted if you copy/paste any notebook cells, or if you perform an unsuccessful git merge / git pull. It may also be pruned completely if using Google Colab, so watch out for this. Searching for \"nbgrader\" when opening the notebook in a text editor should take you to the important metadata entries.\n",
    "7. Although we will try our very best to avoid this, it may happen that bugs are found after an assignment is released, and that we will push an updated version of the assignment to GitHub. If this happens, it is important that you update to the new version, while making sure the notebook metadata is properly updated as well. The safest way to make sure nothing gets messed up is to start from scratch on a clean updated version of the notebook, copy/pasting your code from the cells of the previous version into the cells of the new version.\n",
    "8. If you need to have multiple parallel versions of this notebook, make sure not to move them to another directory.\n",
    "9. Although not forced to work exclusively in the course Docker environment, you need to make sure that the notebook will run in that environment, i.e. that you have not added any additional dependencies.\n",
    "\n",
    "Failing to meet any of these requirements might lead to either a subtraction of POEs (at best) or a request for resubmission (at worst).\n",
    "\n",
    "We advise you the following steps before submission for ensuring that requirements 1, 2, and 3 are always met: **Restart the kernel** (in the menubar, select Kernel$\\rightarrow$Restart) and then **run all cells** (in the menubar, select Cell$\\rightarrow$Run All). This might require a bit of time, so plan ahead for this (and possibly use Google Cloud's GPU in HA1 and HA2 for this step). Finally press the \"Save and Checkout\" button before handing in, to make sure that all your changes are saved to this .ipynb file."
   ]
  },
  {
   "cell_type": "markdown",
   "metadata": {
    "deletable": false,
    "editable": false,
    "nbgrader": {
     "cell_type": "markdown",
     "checksum": "a6bb874a16c1ff767ac0f37ce0491265",
     "grade": false,
     "grade_id": "cell-774c93bf6433de68",
     "locked": true,
     "schema_version": 3,
     "solution": false,
     "task": false
    }
   },
   "source": [
    "### Fill in name of notebook file\n",
    "This might seem silly, but the version check below needs to know the filename of the current notebook, which is not trivial to find out programmatically.\n",
    "\n",
    "You might want to have several parallel versions of the notebook, and it is fine to rename the notebook as long as it stays in the same directory. **However**, if you do rename it, you also need to update its own filename below:"
   ]
  },
  {
   "cell_type": "code",
   "execution_count": 1,
   "metadata": {},
   "outputs": [],
   "source": [
    "nb_fname = \"HA2-Part2.ipynb\""
   ]
  },
  {
   "cell_type": "markdown",
   "metadata": {
    "deletable": false,
    "editable": false,
    "nbgrader": {
     "cell_type": "markdown",
     "checksum": "a025ba528a4e9c11fc54be126fdffab0",
     "grade": false,
     "grade_id": "cell-5676bcf768a7f9be",
     "locked": true,
     "schema_version": 3,
     "solution": false,
     "task": false
    }
   },
   "source": [
    "### Fill in group number and member names:"
   ]
  },
  {
   "cell_type": "code",
   "execution_count": 1,
   "metadata": {},
   "outputs": [],
   "source": [
    "GROUP = \"Group-02\"\n",
    "NAME1 = \"Anton Öhammar\"\n",
    "NAME2 = \"Sanjiv Thottathodhi\""
   ]
  },
  {
   "cell_type": "markdown",
   "metadata": {
    "deletable": false,
    "editable": false,
    "nbgrader": {
     "cell_type": "markdown",
     "checksum": "42f960a95815e1aa3ce8132fcec59cd9",
     "grade": false,
     "grade_id": "cell-a15fe781533d9590",
     "locked": true,
     "schema_version": 3,
     "solution": false,
     "task": false
    }
   },
   "source": [
    "### Check Python version"
   ]
  },
  {
   "cell_type": "code",
   "execution_count": 3,
   "metadata": {
    "deletable": false,
    "editable": false,
    "nbgrader": {
     "cell_type": "code",
     "checksum": "3fef548ba4fe8319321134f43c6c479f",
     "grade": false,
     "grade_id": "cell-2b9c2390ee464c39",
     "locked": true,
     "schema_version": 3,
     "solution": false,
     "task": false
    }
   },
   "outputs": [],
   "source": [
    "from platform import python_version_tuple\n",
    "assert python_version_tuple()[:2] == ('3','7'), \"You are not running Python 3.7. Make sure to run Python through the course Docker environment, or alternatively in the provided Conda environment.\""
   ]
  },
  {
   "cell_type": "markdown",
   "metadata": {
    "deletable": false,
    "editable": false,
    "nbgrader": {
     "cell_type": "markdown",
     "checksum": "15ec4309f1e85f6e17bda73b9b6f48a2",
     "grade": false,
     "grade_id": "cell-4869b45600ce82f8",
     "locked": true,
     "schema_version": 3,
     "solution": false,
     "task": false
    }
   },
   "source": [
    "### Check that notebook server has access to all required resources, and that notebook has not moved"
   ]
  },
  {
   "cell_type": "code",
   "execution_count": 4,
   "metadata": {
    "deletable": false,
    "editable": false,
    "nbgrader": {
     "cell_type": "code",
     "checksum": "929b996cdd0fd4b8120fad773b146c86",
     "grade": false,
     "grade_id": "cell-122ac3d9100b8afb",
     "locked": true,
     "schema_version": 3,
     "solution": false,
     "task": false
    }
   },
   "outputs": [],
   "source": [
    "import os\n",
    "nb_dirname = os.path.abspath('')\n",
    "assert nb_dirname != '/workspace', \\\n",
    "    '[ERROR] The notebook server appears to have been started via Docker, at the same directory as the assignment. Make sure to start it at least one level above the assignment.'\n",
    "assignment_name = os.path.basename(nb_dirname)\n",
    "assert assignment_name in ['IHA1', 'IHA2', 'HA1', 'HA2', 'HA3'], \\\n",
    "    '[ERROR] The notebook appears to have been moved from its original directory'"
   ]
  },
  {
   "cell_type": "markdown",
   "metadata": {
    "deletable": false,
    "editable": false,
    "nbgrader": {
     "cell_type": "markdown",
     "checksum": "f09f40b5350db83232189137c550f0a1",
     "grade": false,
     "grade_id": "cell-2455deee513cd39c",
     "locked": true,
     "schema_version": 3,
     "solution": false,
     "task": false
    }
   },
   "source": [
    "### Verify correct nb_fname"
   ]
  },
  {
   "cell_type": "code",
   "execution_count": 5,
   "metadata": {
    "deletable": false,
    "editable": false,
    "nbgrader": {
     "cell_type": "code",
     "checksum": "a78c7227b049bb147e6c363affb6dae8",
     "grade": false,
     "grade_id": "cell-0472e2fd710f1d72",
     "locked": true,
     "schema_version": 3,
     "solution": false,
     "task": false
    }
   },
   "outputs": [
    {
     "data": {
      "text/html": [
       "<script>if(\"HA2-Part2.ipynb\" != IPython.notebook.notebook_name) { alert(\"You have filled in nb_fname = \\\"HA2-Part2.ipynb\\\", but this does not seem to match the notebook filename \\\"\" + IPython.notebook.notebook_name + \"\\\".\"); }</script>"
      ],
      "text/plain": [
       "<IPython.core.display.HTML object>"
      ]
     },
     "metadata": {},
     "output_type": "display_data"
    }
   ],
   "source": [
    "from IPython.display import display, HTML\n",
    "try:\n",
    "    display(HTML(r'<script>if(\"{nb_fname}\" != IPython.notebook.notebook_name) {{ alert(\"You have filled in nb_fname = \\\"{nb_fname}\\\", but this does not seem to match the notebook filename \\\"\" + IPython.notebook.notebook_name + \"\\\".\"); }}</script>'.format(nb_fname=nb_fname)))\n",
    "except NameError:\n",
    "    assert False, 'Make sure to fill in the nb_fname variable above!'"
   ]
  },
  {
   "cell_type": "markdown",
   "metadata": {
    "deletable": false,
    "editable": false,
    "nbgrader": {
     "cell_type": "markdown",
     "checksum": "98d88d8e8da19693053764f29dcc591d",
     "grade": false,
     "grade_id": "cell-ceacb1adcae4783d",
     "locked": true,
     "schema_version": 3,
     "solution": false,
     "task": false
    }
   },
   "source": [
    "### Verify that your notebook is up-to-date and not corrupted in any way"
   ]
  },
  {
   "cell_type": "code",
   "execution_count": 6,
   "metadata": {
    "deletable": false,
    "editable": false,
    "nbgrader": {
     "cell_type": "code",
     "checksum": "bb700528d4644601c1a8c91ef1d84635",
     "grade": false,
     "grade_id": "cell-f5a59288e11b4aec",
     "locked": true,
     "schema_version": 3,
     "solution": false,
     "task": false
    }
   },
   "outputs": [
    {
     "name": "stdout",
     "output_type": "stream",
     "text": [
      "Matching current notebook against the following URL:\n",
      "http://raw.githubusercontent.com/JulianoLagana/deep-machine-learning/master/home-assignments/HA2/HA2-Part2.ipynb\n",
      "[SUCCESS] No major notebook mismatch found when comparing to latest GitHub version. (There might be minor updates, but even that is the case, submitting your work based on this notebook version would be acceptable.)\n"
     ]
    }
   ],
   "source": [
    "import sys\n",
    "sys.path.append('..')\n",
    "from ha_utils import check_notebook_uptodate_and_not_corrupted\n",
    "check_notebook_uptodate_and_not_corrupted(nb_dirname, nb_fname)"
   ]
  },
  {
   "cell_type": "markdown",
   "metadata": {
    "deletable": false,
    "editable": false,
    "nbgrader": {
     "cell_type": "markdown",
     "checksum": "be161193815d6c8b524adf7b70ce7543",
     "grade": false,
     "grade_id": "cell-44e7522eff275a3b",
     "locked": true,
     "schema_version": 3,
     "solution": false
    }
   },
   "source": [
    "![test](data/translate.png)"
   ]
  },
  {
   "cell_type": "markdown",
   "metadata": {
    "deletable": false,
    "editable": false,
    "nbgrader": {
     "cell_type": "markdown",
     "checksum": "2b79723d87eadd780ec89fa4452ccc87",
     "grade": false,
     "grade_id": "cell-3c556a39514d3d6c",
     "locked": true,
     "schema_version": 3,
     "solution": false
    }
   },
   "source": [
    "## Task 2 - Neural Machine Translation"
   ]
  },
  {
   "cell_type": "markdown",
   "metadata": {
    "deletable": false,
    "editable": false,
    "nbgrader": {
     "cell_type": "markdown",
     "checksum": "894ae9ce85da0384a36fb57960330fa1",
     "grade": false,
     "grade_id": "cell-1531dbb9354dac88",
     "locked": true,
     "schema_version": 3,
     "solution": false
    }
   },
   "source": [
    "In this task you will build a system that uses recurrent neural networks to translate sentences from English to Spanish! \n",
    "\n",
    "Before we start coding anything, it's important to clear up some details about neural machine translation and make sure everyone is on the same page regarding conventions, etc. Please read the next section carefully and make sure you understand the specifics of the solution we will develop in this task."
   ]
  },
  {
   "cell_type": "markdown",
   "metadata": {
    "deletable": false,
    "editable": false,
    "nbgrader": {
     "cell_type": "markdown",
     "checksum": "409886b827fd4c4421e5946574a6958f",
     "grade": false,
     "grade_id": "cell-a4bff0f2271fff88",
     "locked": true,
     "schema_version": 3,
     "solution": false
    }
   },
   "source": [
    "### 2.0 Preliminaries"
   ]
  },
  {
   "cell_type": "markdown",
   "metadata": {
    "deletable": false,
    "editable": false,
    "nbgrader": {
     "cell_type": "markdown",
     "checksum": "0af648058036adc9d87713a4b89876c0",
     "grade": false,
     "grade_id": "cell-1d1463757139054a",
     "locked": true,
     "schema_version": 3,
     "solution": false
    }
   },
   "source": [
    "For this translation task, we'll use an encoder-decoder architecture. The input sentence (in English) will be first processed by the encoder, which will output its hidden state at the last time-step. After that, this hidden state will be fed as the initial state for the decoder, which will generate the output sentence (in Spanish). The following diagram illustrates the process:\n",
    "\n",
    "![nmt_teacher_forcing](data/nmt_diagram.png)"
   ]
  },
  {
   "cell_type": "markdown",
   "metadata": {
    "deletable": false,
    "editable": false,
    "nbgrader": {
     "cell_type": "markdown",
     "checksum": "0d2e5b2678c07d902f4027f108cf5fc5",
     "grade": false,
     "grade_id": "cell-c9f6b1971b7c0493",
     "locked": true,
     "schema_version": 3,
     "solution": false
    }
   },
   "source": [
    "We feed one word of the input sentence at a time (first `i`, then `am`, then `happy`) to the encoder, which processes it and computes its next hidden state. Once the last word of the input sentence is processed by the encoder, we feed its current hidden state to the decoder.\n",
    "\n",
    "The decoder then uses this hidden state as initial state, together with a special word token that we feed as input, which signifies the \"start of sentence\", `<SOS>`. This tells the decoder it should start generating the output sentence.\n",
    "\n",
    "The decoder then produces a probability distribution over possible spanish words for the first position. We sample from this distribution to obtain one word, which in this case the sample was `estoy`. This output is now the first word of the generated translation. In order to generate the next word, we feed the sample `estoy` as input to the decoder in the next time-step, which then produces a new probability distribution over possible spanish words again, from which we sampled `feliz` in the example. This process continues until it produces the special word token `<EOS>`, which signifies the end of the sentence (or until a maximum number of words have been generated)."
   ]
  },
  {
   "cell_type": "markdown",
   "metadata": {
    "deletable": false,
    "editable": false,
    "nbgrader": {
     "cell_type": "markdown",
     "checksum": "1ad4295974edfe6dd20f1ec1d1dbc5e0",
     "grade": false,
     "grade_id": "cell-5dfda0f0cbf95851",
     "locked": true,
     "schema_version": 3,
     "solution": false
    }
   },
   "source": [
    "Because of this connection from output to input, this type of architecture can be challenging to train. One commonly used technique to circumvent this problem is called *teacher forcing*. In it, instead of feeding the output at time-step $t$ as input to time-step $t+1$, we use as input the *ground-truth label* for time-step $t+1$. The following diagram illustrates it:\n",
    "\n",
    "![nmt_teacher_forcing](data/nmt_teacher_forcing.png)\n",
    "\n",
    "Note how in this example the model incorrectly predicted `estas` as the first word in the translation. However, instead of feeding it as input to the next time-step, and making it more likely to also misclassify the next word, we feed the *ground-truth label* as input, `estoy`, here shown in green. We continue this process until we fed all of the ground-truth words to the decoder (regardless of whether the model predicts `<EOS>` or not)."
   ]
  },
  {
   "cell_type": "markdown",
   "metadata": {
    "deletable": false,
    "editable": false,
    "nbgrader": {
     "cell_type": "markdown",
     "checksum": "c9949acfd493ff4800c33f8e66923f05",
     "grade": false,
     "grade_id": "cell-438e7e0fcd4c4091",
     "locked": true,
     "schema_version": 3,
     "solution": false
    }
   },
   "source": [
    "### 2.1 Loading the data"
   ]
  },
  {
   "cell_type": "markdown",
   "metadata": {
    "deletable": false,
    "editable": false,
    "nbgrader": {
     "cell_type": "markdown",
     "checksum": "ce9b564cefed1357a0db712c6d9a68be",
     "grade": false,
     "grade_id": "cell-4af1474eab90f437",
     "locked": true,
     "schema_version": 3,
     "solution": false
    }
   },
   "source": [
    "Now that it's clear which kind of system we will develop, we can start the task by loading the data we will use.\n",
    "\n",
    "The data for this task is present in the file `data/eng-spa.txt` (obtained from [here](https://www.manythings.org/anki/)), a text file comprised of thousands of sentences in English and their counterpart Spanish translations. Before continuing, take a look at the file now to see its internal structure.\n",
    "\n",
    "We'll load the sentences in this file using the provided helper function `get_data_from_file`. This function loads a subset of the entire dataset (no long sentences, no sentences with rare words, etc) for us."
   ]
  },
  {
   "cell_type": "code",
   "execution_count": 7,
   "metadata": {
    "deletable": false,
    "editable": false,
    "nbgrader": {
     "cell_type": "code",
     "checksum": "6eb5a27fde7a820765d9daf3f55fae3e",
     "grade": false,
     "grade_id": "cell-f846c494c826a310",
     "locked": true,
     "schema_version": 3,
     "solution": false
    }
   },
   "outputs": [],
   "source": [
    "from utils.load_sentences import get_data_from_file, SOS_word_idx, EOS_word_idx, PAD_word_idx\n",
    "pairs, input_lang, output_lang = get_data_from_file('data/eng-spa.txt')"
   ]
  },
  {
   "cell_type": "markdown",
   "metadata": {
    "deletable": false,
    "editable": false,
    "nbgrader": {
     "cell_type": "markdown",
     "checksum": "20a426fcdf0ba683bf63369d52e7a418",
     "grade": false,
     "grade_id": "cell-c2fb9d37d6959f02",
     "locked": true,
     "schema_version": 3,
     "solution": false
    }
   },
   "source": [
    "The first loaded object, `pairs`, is a list of all the loaded pairs of sentences:"
   ]
  },
  {
   "cell_type": "code",
   "execution_count": 8,
   "metadata": {
    "deletable": false,
    "editable": false,
    "nbgrader": {
     "cell_type": "code",
     "checksum": "7f9cb9d771b742b30ef13947a8e822b5",
     "grade": false,
     "grade_id": "cell-1a58d8ec5834578f",
     "locked": true,
     "schema_version": 3,
     "solution": false
    }
   },
   "outputs": [
    {
     "data": {
      "text/plain": [
       "33941"
      ]
     },
     "execution_count": 8,
     "metadata": {},
     "output_type": "execute_result"
    }
   ],
   "source": [
    "len(pairs)"
   ]
  },
  {
   "cell_type": "code",
   "execution_count": 9,
   "metadata": {
    "deletable": false,
    "editable": false,
    "nbgrader": {
     "cell_type": "code",
     "checksum": "4cf7e1869f95a864bf11812110126b53",
     "grade": false,
     "grade_id": "cell-06c2f57520370ab9",
     "locked": true,
     "schema_version": 3,
     "solution": false
    }
   },
   "outputs": [
    {
     "data": {
      "text/plain": [
       "[['go', 've'],\n",
       " ['go', 'vete'],\n",
       " ['go', 'vaya'],\n",
       " ['who', 'quién'],\n",
       " ['fire', 'fuego'],\n",
       " ['fire', 'incendio'],\n",
       " ['help', 'ayuda'],\n",
       " ['stop', 'para'],\n",
       " ['wait', 'espera'],\n",
       " ['go now', 've ahora mismo'],\n",
       " ['go now', 'vaya ahora mismo'],\n",
       " ['go now', 've ya'],\n",
       " ['go now', 'vaya ya'],\n",
       " ['got it', 'lo tengo'],\n",
       " ['he ran', 'él corrió'],\n",
       " ['i know', 'yo lo sé'],\n",
       " ['i lost', 'perdí'],\n",
       " ['i work', 'estoy trabajando'],\n",
       " ['listen', 'escucha'],\n",
       " ['no way', 'no puede ser'],\n",
       " ['no way', 'de ninguna manera'],\n",
       " ['no way', 'de ninguna manera'],\n",
       " ['no way', 'imposible'],\n",
       " ['no way', 'de eso nada'],\n",
       " ['really', 'en serio'],\n",
       " ['really', 'la verdad'],\n",
       " ['thanks', 'gracias'],\n",
       " ['thanks', 'gracias'],\n",
       " ['why me', 'por qué yo'],\n",
       " ['be good', 'sé bueno'],\n",
       " ['be good', 'sé buena'],\n",
       " ['be good', 'sea buena'],\n",
       " ['be good', 'sea bueno'],\n",
       " ['be nice', 'sé agradable'],\n",
       " ['come in', 'entre'],\n",
       " ['come in', 'pase'],\n",
       " ['get out', 'sal'],\n",
       " ['go away', 'vete de aquí'],\n",
       " ['go away', 'largo'],\n",
       " ['go away', 'vete ya'],\n",
       " ['go away', 'a la calle'],\n",
       " ['go away', 'vete de aquí'],\n",
       " ['go away', 'largo'],\n",
       " ['go away', 'vete ya'],\n",
       " ['go home', 'vete a casa'],\n",
       " ['hang on', 'espera'],\n",
       " ['hang on', 'espera un momento'],\n",
       " ['hang on', 'un segundo'],\n",
       " ['he came', 'él vino'],\n",
       " ['hold it', 'espera'],\n",
       " ['i agree', 'estoy de acuerdo'],\n",
       " ['i agree', 'de acuerdo'],\n",
       " ['i tried', 'lo intenté'],\n",
       " ['i ll go', 'iré'],\n",
       " ['i m tom', 'soy tom'],\n",
       " ['i m fit', 'estoy en forma'],\n",
       " ['i m old', 'soy viejo'],\n",
       " ['it s ok', 'está bien'],\n",
       " ['it s me', 'soy yo'],\n",
       " ['it s me', 'soy yo'],\n",
       " ['join us', 'sé parte nuestra'],\n",
       " ['me too', 'yo también'],\n",
       " ['open up', 'abre'],\n",
       " ['perfect', 'perfecto'],\n",
       " ['shut up', 'cierra la boca'],\n",
       " ['so long', 'hasta la vista'],\n",
       " ['so long', 'hasta luego'],\n",
       " ['tom ate', 'tom comió'],\n",
       " ['tom ran', 'tom corrió'],\n",
       " ['tom won', 'tom ganó'],\n",
       " ['we know', 'lo sabemos'],\n",
       " ['who ate', 'quién comió'],\n",
       " ['who ran', 'quién corrió'],\n",
       " ['who won', 'quién ganó'],\n",
       " ['why not', 'por qué no'],\n",
       " ['be a man', 'sé un hombre'],\n",
       " ['don t go', 'no te vayas'],\n",
       " ['get away', 'vete de aquí'],\n",
       " ['get away', 'largo'],\n",
       " ['get away', 'vete ya'],\n",
       " ['get down', 'abajo'],\n",
       " ['get lost', 'vete de aquí'],\n",
       " ['get lost', 'largo'],\n",
       " ['get lost', 'vete ya'],\n",
       " ['get real', 'abre los ojos'],\n",
       " ['go ahead', 'adelante'],\n",
       " ['go ahead', 'adelante'],\n",
       " ['go on in', 'entre'],\n",
       " ['good job', 'buen trabajo'],\n",
       " ['he spoke', 'él habló'],\n",
       " ['help tom', 'ayuda a tom'],\n",
       " ['i am old', 'estoy viejo'],\n",
       " ['i ate it', 'me lo comí'],\n",
       " ['i ate it', 'me la comí'],\n",
       " ['i can go', 'puedo ir'],\n",
       " ['i did ok', 'lo hice bien'],\n",
       " ['i did it', 'lo hice'],\n",
       " ['i forgot', 'lo olvidé'],\n",
       " ['i get it', 'lo entiendo'],\n",
       " ['i got it', 'lo tengo'],\n",
       " ['i saw it', 'lo vi'],\n",
       " ['i stayed', 'me quedé'],\n",
       " ['i m back', 'he vuelto'],\n",
       " ['i m back', 'estoy de vuelta'],\n",
       " ['i m done', 'he terminado'],\n",
       " ['i m free', 'soy libre'],\n",
       " ['i m free', 'yo soy libre'],\n",
       " ['i m full', 'estoy lleno'],\n",
       " ['i m full', 'estoy llena'],\n",
       " ['i m here', 'estoy aquí'],\n",
       " ['i m home', 'estoy en casa'],\n",
       " ['i m hurt', 'estoy herido'],\n",
       " ['i m mean', 'soy malo'],\n",
       " ['i m next', 'me toca a mí'],\n",
       " ['i m poor', 'soy pobre'],\n",
       " ['i m rich', 'soy rica'],\n",
       " ['i m rich', 'soy rico'],\n",
       " ['i m sick', 'estoy enferma'],\n",
       " ['it works', 'funciona'],\n",
       " ['it s tom', 'es tom'],\n",
       " ['it s fun', 'es divertido'],\n",
       " ['it s new', 'es nuevo'],\n",
       " ['it s old', 'es viejo'],\n",
       " ['it s red', 'es rojo'],\n",
       " ['it s sad', 'es triste'],\n",
       " ['keep out', 'no entrar'],\n",
       " ['leave me', 'déjame'],\n",
       " ['let s go', 'vamos'],\n",
       " ['look out', 'cuidado'],\n",
       " ['may i go', 'puedo ir'],\n",
       " ['she came', 'ella vino'],\n",
       " ['she died', 'ella murió'],\n",
       " ['speak up', 'habla más fuerte'],\n",
       " ['speak up', 'habla más alto'],\n",
       " ['stand by', 'un momento'],\n",
       " ['stand up', 'de pie'],\n",
       " ['tom came', 'tom vino'],\n",
       " ['tom died', 'tom ha muerto'],\n",
       " ['tom fell', 'tom se cayó'],\n",
       " ['tom knew', 'tom lo sabía'],\n",
       " ['tom left', 'tom se fue'],\n",
       " ['tom lost', 'tom perdió'],\n",
       " ['too late', 'demasiado tarde'],\n",
       " ['try some', 'prueba un poco'],\n",
       " ['try this', 'prueba esto'],\n",
       " ['use this', 'usa esto'],\n",
       " ['we agree', 'estamos de acuerdo'],\n",
       " ['we re ok', 'estamos bien'],\n",
       " ['what for', 'para qué'],\n",
       " ['what fun', 'qué divertido'],\n",
       " ['who am i', 'quién soy yo'],\n",
       " ['who came', 'quién vino'],\n",
       " ['who died', 'quién murió'],\n",
       " ['who fell', 'quién se cayó'],\n",
       " ['who quit', 'quién se ha ido'],\n",
       " ['who quit', 'quién lo ha dejado'],\n",
       " ['who s he', 'quién es él'],\n",
       " ['you lost', 'has perdido'],\n",
       " ['you lost', 'habéis perdido'],\n",
       " ['you lost', 'perdió usted'],\n",
       " ['you lost', 'ha perdido usted'],\n",
       " ['you lost', 'han perdido ustedes'],\n",
       " ['after you', 'después de ti'],\n",
       " ['after you', 'tú primero'],\n",
       " ['after you', 'usted primero'],\n",
       " ['after you', 'después de usted'],\n",
       " ['after you', 'después de vosotras'],\n",
       " ['call home', 'llama a casa'],\n",
       " ['can we go', 'podemos ir'],\n",
       " ['come back', 'vuelve'],\n",
       " ['come here', 'ven'],\n",
       " ['come home', 'ven a casa'],\n",
       " ['come over', 'venga aquí'],\n",
       " ['come soon', 'vuelve pronto'],\n",
       " ['go for it', 've a por ello'],\n",
       " ['go get it', 've a por ello'],\n",
       " ['go get it', 'vete a por ello'],\n",
       " ['go to bed', 'vete a la cama'],\n",
       " ['have some', 'toma algo'],\n",
       " ['he is old', 'él es viejo'],\n",
       " ['he is old', 'él es anciano'],\n",
       " ['he smiled', 'sonrió'],\n",
       " ['he s good', 'él es bueno'],\n",
       " ['he s rich', 'él es rico'],\n",
       " ['he s rich', 'es rico'],\n",
       " ['here i am', 'acá estoy'],\n",
       " ['how s tom', 'cómo está tom'],\n",
       " ['i am busy', 'estoy ocupada'],\n",
       " ['i am full', 'estoy lleno'],\n",
       " ['i am full', 'estoy llena'],\n",
       " ['i am good', 'soy bueno'],\n",
       " ['i am here', 'estoy aquí'],\n",
       " ['i am sick', 'estoy enferma'],\n",
       " ['i can run', 'puedo correr'],\n",
       " ['i can run', 'sé correr'],\n",
       " ['i gave up', 'lo dejé'],\n",
       " ['i get you', 'te entiendo'],\n",
       " ['i hate it', 'lo odio'],\n",
       " ['i hope so', 'eso espero'],\n",
       " ['i knew it', 'lo sabía'],\n",
       " ['i like it', 'me gusta'],\n",
       " ['i love it', 'me encanta'],\n",
       " ['i mean it', 'hablo en serio'],\n",
       " ['i mean it', 'lo digo en serio'],\n",
       " ['i mean it', 'hablo en serio'],\n",
       " ['i need it', 'lo necesito'],\n",
       " ['i saw tom', 'vi a tom'],\n",
       " ['i saw him', 'le vi'],\n",
       " ['i saw him', 'lo vi'],\n",
       " ['i saw one', 'vi uno'],\n",
       " ['i saw one', 'vi a uno'],\n",
       " ['i saw one', 'veía a uno'],\n",
       " ['i saw you', 'te vi'],\n",
       " ['i saw you', 'te he visto'],\n",
       " ['i see tom', 'veo a tom'],\n",
       " ['i ll work', 'voy a trabajar'],\n",
       " ['i m a man', 'soy un hombre'],\n",
       " ['i m alone', 'estoy solo'],\n",
       " ['i m alone', 'estoy sola'],\n",
       " ['i m alone', 'yo estoy solo'],\n",
       " ['i m alone', 'yo estoy sola'],\n",
       " ['i m angry', 'estoy enojado'],\n",
       " ['i m broke', 'estoy sin dinero'],\n",
       " ['i m crazy', 'estoy loco'],\n",
       " ['i m drunk', 'estoy borracho'],\n",
       " ['i m first', 'soy el primero'],\n",
       " ['i m first', 'voy el primero'],\n",
       " ['i m first', 'me toca primero'],\n",
       " ['i m first', 'yo voy primero'],\n",
       " ['i m happy', 'soy feliz'],\n",
       " ['i m happy', 'estoy feliz'],\n",
       " ['i m ready', 'estoy listo'],\n",
       " ['i m ready', 'estoy listo'],\n",
       " ['i m sorry', 'lo siento'],\n",
       " ['i m tired', 'yo estoy cansado'],\n",
       " ['i m tired', 'yo estoy cansada'],\n",
       " ['i m yours', 'soy tuyo'],\n",
       " ['i m yours', 'soy tuya'],\n",
       " ['i ve lost', 'he perdido'],\n",
       " ['is tom ok', 'está bien tom'],\n",
       " ['is tom in', 'está tom'],\n",
       " ['is it bad', 'es malo'],\n",
       " ['is it far', 'está lejos'],\n",
       " ['is it you', 'eres tú'],\n",
       " ['it failed', 'no lo consiguió'],\n",
       " ['it is new', 'es nuevo'],\n",
       " ['it s', 'son las'],\n",
       " ['it s cold', 'hace frío'],\n",
       " ['it s cold', 'está frío'],\n",
       " ['it s cool', 'está frío'],\n",
       " ['it s dark', 'está oscuro'],\n",
       " ['it s done', 'está listo'],\n",
       " ['it s fine', 'está perfecto'],\n",
       " ['it s good', 'está bien'],\n",
       " ['it s good', 'es bueno'],\n",
       " ['it s here', 'está aquí'],\n",
       " ['it s late', 'es tarde'],\n",
       " ['it s mine', 'es mío'],\n",
       " ['it s mine', 'es mía'],\n",
       " ['it s nice', 'es agradable'],\n",
       " ['it s nice', 'hace buen tiempo'],\n",
       " ['it s over', 'se terminó'],\n",
       " ['it s time', 'ha llegado el momento'],\n",
       " ['it s time', 'es la hora'],\n",
       " ['it s time', 'es el momento'],\n",
       " ['it s time', 'ha llegado la hora'],\n",
       " ['it s true', 'es verdad'],\n",
       " ['it s true', 'es verdad'],\n",
       " ['it s work', 'es mi trabajo'],\n",
       " ['leave now', 'ahora vete'],\n",
       " ['let me in', 'déjame entrar'],\n",
       " ['look away', 'mira para otro lado'],\n",
       " ['look back', 'mira hacia atrás'],\n",
       " ['look back', 'mira atrás'],\n",
       " ['look here', 'mira aquí'],\n",
       " ['move over', 'deja sitio'],\n",
       " ['move over', 'deja pasar'],\n",
       " ['please go', 'por favor ve'],\n",
       " ['please go', 'por favor vete'],\n",
       " ['read this', 'lee esto'],\n",
       " ['seriously', 'en serio'],\n",
       " ['she tried', 'ella lo intentó'],\n",
       " ['she s hot', 'está como un tren'],\n",
       " ['she s hot', 'está buena'],\n",
       " ['stay away', 'fuera'],\n",
       " ['stop here', 'para aquí'],\n",
       " ['stop that', 'para eso'],\n",
       " ['take mine', 'toma el mío'],\n",
       " ['take this', 'toma esto'],\n",
       " ['thank you', 'gracias'],\n",
       " ['thank you', 'gracias a ti'],\n",
       " ['thank you', 'gracias'],\n",
       " ['that s it', 'eso es'],\n",
       " ['that s me', 'soy yo'],\n",
       " ['that s me', 'ese soy yo'],\n",
       " ['then what', 'entonces qué'],\n",
       " ['they left', 'se fueron'],\n",
       " ['tom is ok', 'tom está bien'],\n",
       " ['tom is in', 'tom está dentro'],\n",
       " ['tom knows', 'tom sabe'],\n",
       " ['tom stood', 'tom se quedó'],\n",
       " ['tom tried', 'tomás lo intentó'],\n",
       " ['tom works', 'tomás trabaja'],\n",
       " ['tom s mad', 'tom está loco'],\n",
       " ['tom s sad', 'tom está triste'],\n",
       " ['wait here', 'espera aquí'],\n",
       " ['we can go', 'podemos ir'],\n",
       " ['we saw it', 'lo vimos'],\n",
       " ['well done', 'bien hecho'],\n",
       " ['what s up', 'qué hay'],\n",
       " ['who is he', 'quién es él'],\n",
       " ['who is it', 'quién es'],\n",
       " ['who stood', 'quién se quedó'],\n",
       " ['who s tom', 'quién es tom'],\n",
       " ['write tom', 'escribe a tom'],\n",
       " ['you start', 'tú empieza'],\n",
       " ['am i right', 'tengo razón'],\n",
       " ['are you ok', 'estás bien'],\n",
       " ['are you in', 'estás dentro'],\n",
       " ['ask around', 'pregunta por aquí'],\n",
       " ['be careful', 'ten cuidado'],\n",
       " ['be on time', 'llega a tiempo'],\n",
       " ['be on time', 'llegue a tiempo'],\n",
       " ['be patient', 'sea paciente'],\n",
       " ['be serious', 'sé serio'],\n",
       " ['can i come', 'puedo ir'],\n",
       " ['can i come', 'puedo venir'],\n",
       " ['can i help', 'puedo ayudar'],\n",
       " ['can i stay', 'me puedo quedar'],\n",
       " ['carry this', 'lleva esto'],\n",
       " ['come again', 'vuelve otra vez'],\n",
       " ['come alone', 'ven solo'],\n",
       " ['come early', 'ven temprano'],\n",
       " ['come early', 'venga temprano'],\n",
       " ['come on in', 'entre'],\n",
       " ['come on in', 'pase'],\n",
       " ['come to me', 'ven a mí'],\n",
       " ['come to us', 'ven a nosotros'],\n",
       " ['did tom go', 'fue tom'],\n",
       " ['eat slowly', 'come despacio'],\n",
       " ['get to bed', 'vete a la cama'],\n",
       " ['go on home', 'vete a casa'],\n",
       " ['go see tom', 've a ver a tom'],\n",
       " ['he ate out', 'él salió a comer'],\n",
       " ['he gave up', 'lo dejó'],\n",
       " ['he is here', 'él está aquí'],\n",
       " ['he is kind', 'él es amable'],\n",
       " ['he is tall', 'él es alto'],\n",
       " ['he made it', 'lo hizo él'],\n",
       " ['he made it', 'lo hizo'],\n",
       " ['he s lying', 'él está mintiendo'],\n",
       " ['he s smart', 'es inteligente'],\n",
       " ['he s smart', 'él es inteligente'],\n",
       " ['here he is', 'aquí está él'],\n",
       " ['here it is', 'aquí está'],\n",
       " ['here we go', 'aquí vamos'],\n",
       " ['how is tom', 'cómo está tom'],\n",
       " ['how s work', 'qué tal el trabajo'],\n",
       " ['how s work', 'cómo van las cosas en el trabajo'],\n",
       " ['hurry home', 'rápido a casa'],\n",
       " ['i am a man', 'soy un hombre'],\n",
       " ['i am a man', 'soy una persona'],\n",
       " ['i am happy', 'soy feliz'],\n",
       " ['i am happy', 'estoy feliz'],\n",
       " ['i am happy', 'yo estoy contento'],\n",
       " ['i am ready', 'estoy listo'],\n",
       " ['i can help', 'yo puedo ayudar'],\n",
       " ['i can read', 'sé leer'],\n",
       " ['i can sing', 'puedo cantar'],\n",
       " ['i can swim', 'sé nadar'],\n",
       " ['i eat here', 'como aquí'],\n",
       " ['i eat here', 'yo como aquí'],\n",
       " ['i eat meat', 'yo como carne'],\n",
       " ['i feel bad', 'me siento mal'],\n",
       " ['i feel old', 'me siento viejo'],\n",
       " ['i felt bad', 'me sentía mal'],\n",
       " ['i found it', 'lo encontré'],\n",
       " ['i found it', 'lo encontré'],\n",
       " ['i got lost', 'me perdí'],\n",
       " ['i guess so', 'lo supongo'],\n",
       " ['i hate tom', 'odio a tom'],\n",
       " ['i have one', 'tengo uno'],\n",
       " ['i have one', 'yo tengo uno'],\n",
       " ['i knew tom', 'conocí a tom'],\n",
       " ['i know tom', 'conozco a tom'],\n",
       " ['i know her', 'la conozco'],\n",
       " ['i know him', 'lo conozco'],\n",
       " ['i know now', 'ahora sé'],\n",
       " ['i know you', 'te conozco'],\n",
       " ['i know you', 'os conozco'],\n",
       " ['i know you', 'les conozco'],\n",
       " ['i know you', 'yo a usted le conozco'],\n",
       " ['i know you', 'yo a ustedes les conozco'],\n",
       " ['i like him', 'me gusta él'],\n",
       " ['i like him', 'él me gusta'],\n",
       " ['i like tea', 'me gusta el té'],\n",
       " ['i liked it', 'me gustó'],\n",
       " ['i love tom', 'lo amo a tomás'],\n",
       " ['i love him', 'yo lo amo'],\n",
       " ['i love him', 'lo amo'],\n",
       " ['i love you', 'te quiero'],\n",
       " ['i love you', 'te amo'],\n",
       " ['i love you', 'te amo'],\n",
       " ['i love you', 'os amo'],\n",
       " ['i miss him', 'lo extraño'],\n",
       " ['i must run', 'tengo que correr'],\n",
       " ['i need tom', 'necesito a tom'],\n",
       " ['i need ice', 'necesito hielo'],\n",
       " ['i ran home', 'me fui corriendo a casa'],\n",
       " ['i remember', 'me acuerdo'],\n",
       " ['i remember', 'yo me acuerdo'],\n",
       " ['i remember', 'yo recuerdo'],\n",
       " ['i remember', 'lo recuerdo'],\n",
       " ['i said yes', 'dije que sí'],\n",
       " ['i saw that', 'lo vi'],\n",
       " ['i saw that', 'vi eso'],\n",
       " ['i saw that', 'veía eso'],\n",
       " ['i see them', 'los veo'],\n",
       " ['i see them', 'las veo'],\n",
       " ['i think so', 'creo que sí'],\n",
       " ['i think so', 'eso creo'],\n",
       " ['i told tom', 'se lo dije a tom'],\n",
       " ['i told tom', 'se lo he dicho a tom'],\n",
       " ['i want tom', 'quiero a tom'],\n",
       " ['i want one', 'quiero uno'],\n",
       " ['i want one', 'quiero una'],\n",
       " ['i want one', 'quiero uno'],\n",
       " ['i want one', 'yo quiero uno'],\n",
       " ['i was last', 'fui el último'],\n",
       " ['i was last', 'era el último'],\n",
       " ['i was late', 'llegué tarde'],\n",
       " ['i was sick', 'yo estaba enfermo'],\n",
       " ['i was sick', 'yo estaba enferma'],\n",
       " ['i won t go', 'no voy a ir'],\n",
       " ['i work out', 'yo hago ejercicio'],\n",
       " ['i ll be ok', 'estaré bien'],\n",
       " ['i ll do it', 'lo haré yo'],\n",
       " ['i ll do it', 'lo haré'],\n",
       " ['i ll go in', 'voy a entrar'],\n",
       " ['i m better', 'yo soy mejor'],\n",
       " ['i m coming', 'ahí voy'],\n",
       " ['i m eating', 'estoy comiendo'],\n",
       " ['i m faster', 'yo soy más rápido'],\n",
       " ['i m hungry', 'ya tengo hambre'],\n",
       " ['i m trying', 'lo estoy intentando'],\n",
       " ['i ve eaten', 'he comido'],\n",
       " ['is tom big', 'es grande tom'],\n",
       " ['is tom fun', 'tom es divertido'],\n",
       " ['is tom hot', 'tiene calor tom'],\n",
       " ['is tom ill', 'tom está enfermo'],\n",
       " ['is tom mad', 'está loco tom'],\n",
       " ['is tom out', 'está fuera tom'],\n",
       " ['is he dead', 'está muerto'],\n",
       " ['is he tall', 'es alto'],\n",
       " ['is it good', 'está bueno'],\n",
       " ['is it here', 'es acá'],\n",
       " ['is it here', 'aquí'],\n",
       " ['is it here', 'está aquí'],\n",
       " ['is it safe', 'es seguro'],\n",
       " ['is it true', 'es verdad'],\n",
       " ['is that ok', 'vale eso'],\n",
       " ['is that ok', 'está bien eso'],\n",
       " ['is that it', 'eso es todo'],\n",
       " ['is that it', 'es ese'],\n",
       " ['is that so', 'acaso es así'],\n",
       " ['is that so', 'es así'],\n",
       " ['is this ok', 'esto es bueno'],\n",
       " ['is this it', 'eso es todo'],\n",
       " ['is this it', 'es este'],\n",
       " ['it happens', 'eso pasa'],\n",
       " ['it is cold', 'está frío'],\n",
       " ['it is mine', 'es mío'],\n",
       " ['it s tom s', 'es de tom'],\n",
       " ['it s alive', 'está vivo'],\n",
       " ['it s green', 'es verde'],\n",
       " ['it s green', 'está verde'],\n",
       " ['it s night', 'es de noche'],\n",
       " ['it s on me', 'es de parte mía'],\n",
       " ['it s ready', 'está listo'],\n",
       " ['it s right', 'vale'],\n",
       " ['it s right', 'está bien'],\n",
       " ['it s right', 'es correcto'],\n",
       " ['it s there', 'está ahí'],\n",
       " ['it s white', 'es blanco'],\n",
       " ['it s yours', 'es tuyo'],\n",
       " ['leave town', 'deja la ciudad'],\n",
       " ['leave town', 'sal de la ciudad'],\n",
       " ['let tom go', 'deja ir a tom'],\n",
       " ['let tom in', 'dejar entrar a tom'],\n",
       " ['let him go', 'deja que se vaya'],\n",
       " ['let me out', 'déjame salir'],\n",
       " ['let me see', 'déjame ver'],\n",
       " ['let me see', 'a ver'],\n",
       " ['look again', 'mira de nuevo'],\n",
       " ['look ahead', 'mira hacia adelante'],\n",
       " ['look there', 'mira allí'],\n",
       " ['no problem', 'no hay problema'],\n",
       " ['no problem', 'sin problemas'],\n",
       " ['no problem', 'ningún problema'],\n",
       " ['nobody ran', 'no corrió nadie'],\n",
       " ['nobody ran', 'nadie corrió'],\n",
       " ['say please', 'di por favor'],\n",
       " ['she is old', 'es vieja'],\n",
       " ['she smiled', 'sonrió'],\n",
       " ['she s busy', 'ella está ocupada'],\n",
       " ['she s nice', 'es guapa'],\n",
       " ['start here', 'empieza aquí'],\n",
       " ['start over', 'empieza de nuevo'],\n",
       " ['take a bus', 'toma un bus'],\n",
       " ['talk to me', 'habla conmigo'],\n",
       " ['that a boy', 'buen chico'],\n",
       " ['that works', 'eso funciona'],\n",
       " ['that ll do', 'con eso vale'],\n",
       " ['that ll do', 'eso me vale'],\n",
       " ['that s her', 'es ella'],\n",
       " ['that s his', 'eso le pertenece'],\n",
       " ['that s his', 'eso le pertenece a él'],\n",
       " ['that s new', 'es nuevo'],\n",
       " ['they re in', 'ellos están dentro'],\n",
       " ['they re in', 'ellas están dentro'],\n",
       " ['this is ok', 'esto está bien'],\n",
       " ['this is ok', 'esto está correcto'],\n",
       " ['this is it', 'hemos llegado'],\n",
       " ['this is it', 'este es el fin'],\n",
       " ['this is it', 'esto es todo'],\n",
       " ['this is it', 'éste es'],\n",
       " ['this works', 'esto funciona'],\n",
       " ['this works', 'esto trabaja'],\n",
       " ['this ll do', 'con éste vale'],\n",
       " ['tom agreed', 'tom estuvo de acuerdo'],\n",
       " ['tom called', 'tom llamó'],\n",
       " ['tom did it', 'tom lo hizo'],\n",
       " ['tom drinks', 'tom bebe'],\n",
       " ['tom drinks', 'tom toma'],\n",
       " ['tom forgot', 'a tom se le olvidó'],\n",
       " ['tom got up', 'tom se levantó'],\n",
       " ['tom helped', 'tom ayudó'],\n",
       " ['tom hit me', 'tom me golpeó'],\n",
       " ['tom is bad', 'tom es malo'],\n",
       " ['tom is big', 'tom es grande'],\n",
       " ['tom is fun', 'tom es divertido'],\n",
       " ['tom is ill', 'tom está malo'],\n",
       " ['tom is mad', 'tom está loco'],\n",
       " ['tom is new', 'tom es nuevo'],\n",
       " ['tom is old', 'tom es viejo'],\n",
       " ['tom is sad', 'tom está triste'],\n",
       " ['tom looked', 'tom miró'],\n",
       " ['tom saw it', 'tom lo vio'],\n",
       " ['tom saw me', 'tom me vio'],\n",
       " ['tom saw us', 'tom nos vio'],\n",
       " ['tom smiled', 'tom sonrió'],\n",
       " ['tom stayed', 'tom se quedó'],\n",
       " ['tom was ok', 'tom estaba bien'],\n",
       " ['tom s busy', 'tom está ocupado'],\n",
       " ['tom s dead', 'tom ha muerto'],\n",
       " ['tom s died', 'tom ha muerto'],\n",
       " ['tom s fast', 'tom es rápido'],\n",
       " ['tom s free', 'tom es libre'],\n",
       " ['tom s glad', 'tom está contento'],\n",
       " ['tom s gone', 'tom se ha ido'],\n",
       " ['tom s here', 'tom está aquí'],\n",
       " ['tom s home', 'tom está en casa'],\n",
       " ['tom s hurt', 'tom está herido'],\n",
       " ['tom s mean', 'tom es malo'],\n",
       " ['tom s safe', 'tom está seguro'],\n",
       " ['tom s sick', 'tom está enfermo'],\n",
       " ['tom s well', 'tom está bien'],\n",
       " ['was it fun', 'fue divertido'],\n",
       " ['was it fun', 'era divertido'],\n",
       " ['watch this', 'mira esto'],\n",
       " ['we are men', 'somos hombres'],\n",
       " ['we can pay', 'nosotros podemos pagar'],\n",
       " ['we can win', 'podemos ganar'],\n",
       " ['we like it', 'nos gusta'],\n",
       " ['we love it', 'nos encanta'],\n",
       " ['we made it', 'lo hicimos'],\n",
       " ['we must go', 'nos debemos ir'],\n",
       " ['we saw tom', 'vimos a tom'],\n",
       " ['we saw you', 'te vimos'],\n",
       " ['we want it', 'lo queremos'],\n",
       " ['we ll walk', 'nos vamos a caminar'],\n",
       " ['we re back', 'hemos vuelto'],\n",
       " ['we re back', 'estamos de vuelta'],\n",
       " ['we re cold', 'tenemos frío'],\n",
       " ['we re even', 'estamos a mano'],\n",
       " ['we re fine', 'estamos bien'],\n",
       " ['we re here', 'estamos acá'],\n",
       " ['we re home', 'estamos en casa'],\n",
       " ['what a day', 'pero qué día'],\n",
       " ['what s new', 'qué hay de nuevo'],\n",
       " ['where am i', 'dónde estoy'],\n",
       " ['where am i', 'en dónde estoy'],\n",
       " ['who is tom', 'quién es tom'],\n",
       " ['who stayed', 'quién se quedó'],\n",
       " ['who s here', 'quién está aquí'],\n",
       " ['who s next', 'quién da la vez'],\n",
       " ['who s that', 'quién es'],\n",
       " ['you can go', 'puedes irte'],\n",
       " ['you can go', 'puedes ir'],\n",
       " ['you can go', 'te puedes ir'],\n",
       " ['you may go', 'puedes irte'],\n",
       " ['you may go', 'pueden irse'],\n",
       " ['you may go', 'podéis ir'],\n",
       " ['you may go', 'podés irte'],\n",
       " ['you re bad', 'eres mala'],\n",
       " ['you re big', 'eres grande'],\n",
       " ['you re big', 'estás grande'],\n",
       " ['you re old', 'estás vieja'],\n",
       " ['you re sad', 'estás triste'],\n",
       " ['all is well', 'todo va bien'],\n",
       " ['all is well', 'todo está correcto'],\n",
       " ['anyone home', 'hay alguien en casa'],\n",
       " ['anyone home', 'alguien está en casa'],\n",
       " ['anyone hurt', 'alguien está herido'],\n",
       " ['are we done', 'hemos terminado'],\n",
       " ['are you tom', 'tú eres tom'],\n",
       " ['are you tom', 'es usted tom'],\n",
       " ['are you hot', 'tienes calor'],\n",
       " ['are you hot', 'tenéis calor'],\n",
       " ['are you mad', 'estás loco'],\n",
       " ['are you mad', 'estás enfadado'],\n",
       " ['are you mad', 'está usted loco'],\n",
       " ['are you new', 'eres nuevo'],\n",
       " ['are you new', 'eres nueva'],\n",
       " ['beer s good', 'la cerveza es buena'],\n",
       " ['can it wait', 'puede esperar'],\n",
       " ['can we talk', 'podemos hablar'],\n",
       " ['can you see', 'puedes ver'],\n",
       " ['can you see', 'podéis ver'],\n",
       " ['come see me', 'ven a verme'],\n",
       " ['come see me', 'venga a verme'],\n",
       " ['cook for me', 'cocina para mí'],\n",
       " ['count me in', 'cuenta conmigo'],\n",
       " ['count on it', 'cuenta con eso'],\n",
       " ['count on me', 'cuenta conmigo'],\n",
       " ['did tom die', 'ha muerto tom'],\n",
       " ['do as i say', 'haz lo que te digo'],\n",
       " ['don t do it', 'no lo hagas'],\n",
       " ['don t do it', 'no lo hagas'],\n",
       " ['don t do it', 'no lo haga'],\n",
       " ['don t go in', 'no entre usted'],\n",
       " ['don t leave', 'no te vayas'],\n",
       " ['get started', 'empieza'],\n",
       " ['go find tom', 've a encontrar a tom'],\n",
       " ['go find tom', 'vete a buscar a tom'],\n",
       " ['go for help', 've por ayuda'],\n",
       " ['go get help', 've a pedir ayuda'],\n",
       " ['go help tom', 've a ayudar a tom'],\n",
       " ['go home now', 'vete a casa ahora'],\n",
       " ['go meet tom', 've a ver a tom'],\n",
       " ['go that way', 've por ahí'],\n",
       " ['go that way', 've por allí'],\n",
       " ['go to sleep', 'vete a dormir'],\n",
       " ['go to sleep', 've a dormir'],\n",
       " ['go to sleep', 'vete a dormir'],\n",
       " ['he can come', 'él puede venir'],\n",
       " ['he can read', 'él sabe leer'],\n",
       " ['he can swim', 'él sabe nadar'],\n",
       " ['he found it', 'él lo encontró'],\n",
       " ['he has come', 'ha venido'],\n",
       " ['he has wine', 'tiene vino'],\n",
       " ['he is alone', 'él está solo'],\n",
       " ['he is drunk', 'él está borracho'],\n",
       " ['he is eight', 'él tiene ocho años'],\n",
       " ['he is happy', 'es feliz'],\n",
       " ['he is happy', 'él está feliz'],\n",
       " ['he is lying', 'él está mintiendo'],\n",
       " ['he is tired', 'él está cansado'],\n",
       " ['he is young', 'él es joven'],\n",
       " ['he likes me', 'él me quiere'],\n",
       " ['he stood up', 'él se levantó'],\n",
       " ['he was busy', 'él estaba ocupado'],\n",
       " ['he s not in', 'no está aquí'],\n",
       " ['he s not in', 'no está en casa'],\n",
       " ['he s not in', 'él no está en casa'],\n",
       " ['he s strong', 'él es fuerte'],\n",
       " ['he s stupid', 'él es estúpido'],\n",
       " ['here i come', 'ya estoy aquí'],\n",
       " ['here she is', 'aquí está ella'],\n",
       " ['here we are', 'aquí estamos'],\n",
       " ['here we are', 'aquí estamos'],\n",
       " ['how strange', 'qué raro'],\n",
       " ['how strange', 'qué raro'],\n",
       " ['i am better', 'estoy mejor'],\n",
       " ['i am better', 'soy mejor'],\n",
       " ['i am better', 'me encuentro mejor'],\n",
       " ['i am eating', 'estoy comiendo'],\n",
       " ['i am taller', 'yo soy más alto'],\n",
       " ['i bought it', 'lo he comprado'],\n",
       " ['i bought it', 'lo compré'],\n",
       " ['i came last', 'quedé último'],\n",
       " ['i came last', 'quedé en último lugar'],\n",
       " ['i came last', 'quedé última'],\n",
       " ['i can do it', 'puedo hacerlo'],\n",
       " ['i can t eat', 'no puedo comer'],\n",
       " ['i can t say', 'no lo puedo decir'],\n",
       " ['i can t say', 'no puedo decir'],\n",
       " ['i don t eat', 'no como'],\n",
       " ['i eat bread', 'como pan'],\n",
       " ['i eat fruit', 'como fruta'],\n",
       " ['i feel sick', 'me siento mal'],\n",
       " ['i felt cold', 'tenía frío'],\n",
       " ['i felt that', 'sentí eso'],\n",
       " ['i forgot it', 'lo olvidé'],\n",
       " ['i found you', 'ya te encontré'],\n",
       " ['i found you', 'te encontré'],\n",
       " ['i got a job', 'encontré un trabajo'],\n",
       " ['i had to go', 'tuve que ir'],\n",
       " ['i hate cats', 'odio los gatos'],\n",
       " ['i hate dogs', 'odio a los perros'],\n",
       " ['i hate dogs', 'odio los perros'],\n",
       " ['i hate milk', 'odio la leche'],\n",
       " ['i have time', 'tengo tiempo'],\n",
       " ['i have wine', 'tengo vino'],\n",
       " ['i heard you', 'te oí'],\n",
       " ['i heard you', 'te he oído'],\n",
       " ['i knew that', 'lo sabía'],\n",
       " ['i knew that', 'yo sabía eso'],\n",
       " ['i know that', 'yo sé eso'],\n",
       " ['i know them', 'los conozco'],\n",
       " ['i know this', 'esto lo sé'],\n",
       " ['i know this', 'conozco esto'],\n",
       " ['i know this', 'sé esto'],\n",
       " ['i like both', 'me gustan los dos'],\n",
       " ['i like dogs', 'me gustan los perros'],\n",
       " ['i like milk', 'me gusta la leche'],\n",
       " ['i like rice', 'me gusta el arroz'],\n",
       " ['i like snow', 'me gusta la nieve'],\n",
       " ['i like that', 'me gusta eso'],\n",
       " ['i like them', 'me gustan'],\n",
       " ['i like this', 'me gusta esto'],\n",
       " ['i like wine', 'me gusta el vino'],\n",
       " ['i liked tom', 'amaba a tom'],\n",
       " ['i live here', 'vivo aquí'],\n",
       " ['i live here', 'yo vivo aquí'],\n",
       " ['i love beer', 'me encanta la cerveza'],\n",
       " ['i love fish', 'me encanta el pescado'],\n",
       " ['i love golf', 'me encanta el golf'],\n",
       " ['i love life', 'amo la vida'],\n",
       " ['i love snow', 'me encanta la nieve'],\n",
       " ['i love snow', 'me gusta la nieve'],\n",
       " ['i love soup', 'me encanta la sopa'],\n",
       " ['i loved her', 'yo la amaba'],\n",
       " ['i loved her', 'la amaba'],\n",
       " ['i loved her', 'yo la quería'],\n",
       " ['i loved you', 'yo te quería'],\n",
       " ['i loved you', 'yo te quise'],\n",
       " ['i loved you', 'yo os quería'],\n",
       " ['i loved you', 'yo te amaba'],\n",
       " ['i loved you', 'yo os quise'],\n",
       " ['i loved you', 'yo os amaba'],\n",
       " ['i made that', 'yo hice eso'],\n",
       " ['i need help', 'necesito ayuda'],\n",
       " ['i need help', 'necesito ayuda'],\n",
       " ['i need mine', 'necesito el mío'],\n",
       " ['i need mine', 'necesito la mía'],\n",
       " ['i need them', 'los necesito'],\n",
       " ['i need this', 'necesito esto'],\n",
       " ['i need time', 'necesito tiempo'],\n",
       " ['i said stop', 'dije que alto'],\n",
       " ['i said that', 'yo dije eso'],\n",
       " ['i saw a dog', 'vi a un perro'],\n",
       " ['i saw a dog', 'vi un perro'],\n",
       " ['i saw a dog', 'yo vi un perro'],\n",
       " ['i should go', 'me debería ir'],\n",
       " ['i want mine', 'quiero el mío'],\n",
       " ['i want mine', 'yo quiero el mío'],\n",
       " ['i want mine', 'yo quiero la mía'],\n",
       " ['i want more', 'quiero más'],\n",
       " ['i want that', 'quiero eso'],\n",
       " ['i want them', 'los quiero'],\n",
       " ['i want them', 'las quiero'],\n",
       " ['i want this', 'quiero este'],\n",
       " ['i want this', 'quiero esto'],\n",
       " ['i was bored', 'estaba aburrido'],\n",
       " ['i was drunk', 'estaba borracho'],\n",
       " ['i was lucky', 'tuve suerte'],\n",
       " ['i was right', 'yo tenía razón'],\n",
       " ['i was tired', 'estaba cansado'],\n",
       " ['i was wrong', 'estaba equivocado'],\n",
       " ['i went home', 'me fui a casa'],\n",
       " ['i went too', 'yo también fui'],\n",
       " ['i will work', 'voy a trabajar'],\n",
       " ['i work here', 'trabajo aquí'],\n",
       " ['i m  too', 'yo también tengo  años'],\n",
       " ['i m a woman', 'soy una mujer'],\n",
       " ['i m a woman', 'soy mujer'],\n",
       " ['i m at home', 'estoy en casa'],\n",
       " ['i m at home', 'ya estoy en casa'],\n",
       " ['i m at home', 'estoy en la casa'],\n",
       " ['i m leaving', 'me voy'],\n",
       " ['i m married', 'estoy casado'],\n",
       " ['i m married', 'soy casado'],\n",
       " ['i m nervous', 'estoy nervioso'],\n",
       " ['i m not tom', 'no soy tom'],\n",
       " ['i m not old', 'no estoy viejo'],\n",
       " ['i m not sad', 'no estoy triste'],\n",
       " ['i m patient', 'soy paciente'],\n",
       " ['i m reading', 'estoy leyendo'],\n",
       " ['i m serious', 'lo digo en serio'],\n",
       " ['i m serious', 'hablo en serio'],\n",
       " ['i m so full', 'estoy tan lleno'],\n",
       " ['i m through', 'he terminado'],\n",
       " ['i m waiting', 'estoy esperando'],\n",
       " ['i m working', 'estoy trabajando'],\n",
       " ['is tom dead', 'tom está muerto'],\n",
       " ['is tom good', 'tom es bueno'],\n",
       " ['is tom here', 'está aquí tom'],\n",
       " ['is tom here', 'está tom'],\n",
       " ['is tom home', 'tom está en casa'],\n",
       " ['is tom home', 'está tom en casa'],\n",
       " ['is tom hurt', 'tom está herido'],\n",
       " ['is he right', 'está él bien'],\n",
       " ['is he right', 'está en lo cierto'],\n",
       " ['is he right', 'es lo que él dice'],\n",
       " ['is it there', 'está ahí'],\n",
       " ['is it to go', 'para llevar'],\n",
       " ['is it yours', 'es vuestro'],\n",
       " ['is that tom', 'es ese tom'],\n",
       " ['is that all', 'es todo'],\n",
       " ['is that new', 'es eso nuevo'],\n",
       " ['is that you', 'eres tú'],\n",
       " ['is that you', 'es usted'],\n",
       " ['is this new', 'esto es nuevo'],\n",
       " ['it can t be', 'no puede ser'],\n",
       " ['it cost', 'costó  dólares'],\n",
       " ['it happened', 'pasó'],\n",
       " ['it happened', 'eso sucedió'],\n",
       " ['it is there', 'está ahí'],\n",
       " ['it may snow', 'puede que nieve'],\n",
       " ['it may snow', 'es posible que nieve'],\n",
       " ['it was cool', 'estuvo padre'],\n",
       " ['it was easy', 'fue fácil'],\n",
       " ['it was easy', 'era fácil'],\n",
       " ['it s  yen', 'son  yenes'],\n",
       " ['it s monday', 'es lunes'],\n",
       " ['it s a song', 'esto es una canción'],\n",
       " ['it s all ok', 'todo bien'],\n",
       " ['it s boring', 'esto es aburrido'],\n",
       " ['it s boring', 'es aburrido'],\n",
       " ['it s broken', 'está roto'],\n",
       " ['it s my job', 'es mi trabajo'],\n",
       " ['it s not us', 'no somos nosotros'],\n",
       " ['it s secret', 'es secreto'],\n",
       " ['just say no', 'solo di que no'],\n",
       " ['keep trying', 'sigue intentando'],\n",
       " ['let me help', 'déjame ayudarte'],\n",
       " ['let me help', 'déjame ayudar'],\n",
       " ['let me live', 'déjame vivir'],\n",
       " ['look at tom', 'mira a tom'],\n",
       " ['make a list', 'haz una lista'],\n",
       " ['many thanks', 'muchas gracias'],\n",
       " ['no means no', 'no significa no'],\n",
       " ['no means no', 'no significa no'],\n",
       " ['no one came', 'nadie vino'],\n",
       " ['no one came', 'no vino nadie'],\n",
       " ['no one died', 'nadie murió'],\n",
       " ['no one died', 'no murió nadie'],\n",
       " ['nobody came', 'nadie vino'],\n",
       " ['nobody came', 'no vino nadie'],\n",
       " ['nobody came', 'no ha venido nadie'],\n",
       " ['nobody died', 'nadie murió'],\n",
       " ['nobody died', 'no murió nadie'],\n",
       " ['nobody knew', 'nadie lo sabía'],\n",
       " ['now i m sad', 'ahora estoy triste'],\n",
       " ['now move on', 'ahora sigue'],\n",
       " ['ok i agree', 'bueno estoy de acuerdo'],\n",
       " ['one is blue', 'uno es azul'],\n",
       " ['one is blue', 'una es azul'],\n",
       " ['please wait', 'espera un momento'],\n",
       " ['say nothing', 'no digas nada'],\n",
       " ['shall we go', 'nos vamos'],\n",
       " ['she hit him', 'ella le golpeó'],\n",
       " ['she is kind', 'ella es amable'],\n",
       " ['should i go', 'debería ir'],\n",
       " ['start again', 'empieza de nuevo'],\n",
       " ['start again', 'empieza otra vez'],\n",
       " ['stop crying', 'deja de llorar'],\n",
       " ['talk to tom', 'habla con tom'],\n",
       " ['tea please', 'un té por favor'],\n",
       " ['that helped', 'eso ayudó'],\n",
       " ['that is all', 'ya está'],\n",
       " ['that is all', 'es todo'],\n",
       " ['that s easy', 'eso es fácil'],\n",
       " ['that s fine', 'está bien'],\n",
       " ['that s good', 'eso es bueno'],\n",
       " ['that s good', 'eso está bien'],\n",
       " ['that s life', 'esa es la vida'],\n",
       " ['that s life', 'así es la vida'],\n",
       " ['that s mine', 'eso es mío'],\n",
       " ['that s nice', 'es agradable'],\n",
       " ['that s nice', 'está bien'],\n",
       " ['that s nice', 'eso es bueno'],\n",
       " ['that s over', 'ya ha pasado'],\n",
       " ['that s them', 'ahí están'],\n",
       " ['that s them', 'son ellos'],\n",
       " ['that s true', 'eso es cierto'],\n",
       " ['that s true', 'eso es verdad'],\n",
       " ['there it is', 'allá está'],\n",
       " ['there s tom', 'ahí está tom'],\n",
       " ['they did it', 'lo hicieron'],\n",
       " ['they did it', 'lo hicieron ellos'],\n",
       " ['they did it', 'ellos lo hicieron'],\n",
       " ['they re new', 'son nuevos'],\n",
       " ['think again', 'piensa de nuevo'],\n",
       " ['this is tom', 'este es tom'],\n",
       " ['this is bad', 'eso es malo'],\n",
       " ['this is big', 'esto es grande'],\n",
       " ['this is his', 'esto es de él'],\n",
       " ['tom arrived', 'tom llegó'],\n",
       " ['tom ate out', 'tom salió a comer'],\n",
       " ['tom decided', 'tom decidió'],\n",
       " ['tom is busy', 'tom está ocupado'],\n",
       " ['tom is dead', 'tom está muerto'],\n",
       " ['tom is dead', 'tom ha muerto'],\n",
       " ['tom is full', 'tom está lleno'],\n",
       " ['tom is full', 'tom está satisfecho'],\n",
       " ['tom is here', 'tom está aquí'],\n",
       " ['tom is hurt', 'tom está herido'],\n",
       " ['tom is nice', 'tom es amable'],\n",
       " ['tom is poor', 'tomás es pobre'],\n",
       " ['tom is sick', 'tom está enfermo'],\n",
       " ['tom is tall', 'tom es alto'],\n",
       " ['tom refused', 'tom se negó'],\n",
       " ['tom was old', 'tomás era mayor'],\n",
       " ['tom was sad', 'tom estaba triste'],\n",
       " ['tom s alive', 'tom está vivo'],\n",
       " ['tom s alone', 'tom está solo'],\n",
       " ['tom s bored', 'tom está aburrido'],\n",
       " ['tom s crazy', 'tom es loco'],\n",
       " ['tom s drunk', 'tom está borracho'],\n",
       " ['tom s early', 'tom llega temprano'],\n",
       " ['tom s lying', 'tom está mintiendo'],\n",
       " ['tom s right', 'tom tiene razón'],\n",
       " ['tom s young', 'tom es joven'],\n",
       " ['wait for me', 'espera por mí'],\n",
       " ['wait for us', 'espera por nosotros'],\n",
       " ['was i wrong', 'estaba equivocado'],\n",
       " ['was it cold', 'hacía frío'],\n",
       " ['was it good', 'estuvo bueno'],\n",
       " ['we are even', 'estamos a mano'],\n",
       " ['we are here', 'estamos aquí'],\n",
       " ['we can help', 'podemos ayudar'],\n",
       " ['we can help', 'nosotros podemos ayudar'],\n",
       " ['we can talk', 'podemos hablar'],\n",
       " ['we can wait', 'podemos esperar'],\n",
       " ['we know why', 'sabemos por qué'],\n",
       " ['we like tom', 'tom nos gusta'],\n",
       " ['we like tom', 'queremos a tom'],\n",
       " ['we love you', 'te queremos'],\n",
       " ['we love you', 'os queremos'],\n",
       " ['we must run', 'tenemos que correr'],\n",
       " ['we need you', 'te necesitamos'],\n",
       " ['we want tom', 'queremos a tom'],\n",
       " ['we want one', 'queremos uno de esos'],\n",
       " ['we re broke', 'estamos sin un duro'],\n",
       " ['we re going', 'nos vamos'],\n",
       " ['we re going', 'vamos a ir'],\n",
       " ['we re going', 'nosotros vamos a ir'],\n",
       " ['we re happy', 'somos felices'],\n",
       " ['we re right', 'tenemos razón'],\n",
       " ['we re young', 'somos jóvenes'],\n",
       " ['what a pain', 'qué dolor'],\n",
       " ['what a team', 'qué equipo'],\n",
       " ['what is new', 'qué hay de nuevo'],\n",
       " ['what s good', 'qué está bueno'],\n",
       " ['what s good', 'qué está bien'],\n",
       " ['what s this', 'qué es esto'],\n",
       " ['where is he', 'dónde está él'],\n",
       " ['where s tom', 'dónde está tom'],\n",
       " ['who are you', 'quién sos'],\n",
       " ['who are you', 'quién es usted'],\n",
       " ['who is next', 'quién es el siguiente'],\n",
       " ['who is that', 'quién es'],\n",
       " ['who said it', 'quién lo dijo'],\n",
       " ['who saw you', 'quién te vio'],\n",
       " ['who ll come', 'quién viene'],\n",
       " ['who ll cook', 'quién va a cocinar'],\n",
       " ['who s first', 'a quién le toca'],\n",
       " ['who s first', 'quién va primero'],\n",
       " ['who s first', 'quién es el primero'],\n",
       " ['who s going', 'quién va'],\n",
       " ['who s going', 'quién va a ir'],\n",
       " ['who s there', 'quién está ahí'],\n",
       " ['whose is it', 'de quién es'],\n",
       " ['why is that', 'por qué es eso'],\n",
       " ['why is that', 'por qué pasa eso'],\n",
       " ['why is this', 'a qué viene esto'],\n",
       " ['will you go', 'vas a ir'],\n",
       " ['will you go', 'va a ir'],\n",
       " ['yes i know', 'sí lo sé'],\n",
       " ['you are big', 'sos grande'],\n",
       " ['you know me', 'tú me conoces'],\n",
       " ['you know me', 'me conoces'],\n",
       " ['you know me', 'ya me conoces'],\n",
       " ['you made it', 'lo has hecho'],\n",
       " ['you need it', 'usted lo necesita'],\n",
       " ['you need it', 'lo necesitas'],\n",
       " ['you need us', 'nos necesitas'],\n",
       " ['you said it', 'así exactamente así'],\n",
       " ...]"
      ]
     },
     "execution_count": 9,
     "metadata": {},
     "output_type": "execute_result"
    }
   ],
   "source": [
    "pairs"
   ]
  },
  {
   "cell_type": "markdown",
   "metadata": {
    "deletable": false,
    "editable": false,
    "nbgrader": {
     "cell_type": "markdown",
     "checksum": "8cbaa67546e939414b5752e0a95c0078",
     "grade": false,
     "grade_id": "cell-c9cb3ec23bbe5c66",
     "locked": true,
     "schema_version": 3,
     "solution": false
    }
   },
   "source": [
    "`input_lang` and `output_lang` are helper objects that contain important information about the languages loaded, and also dictionaries to map between words and indexes."
   ]
  },
  {
   "cell_type": "code",
   "execution_count": 10,
   "metadata": {
    "deletable": false,
    "editable": false,
    "nbgrader": {
     "cell_type": "code",
     "checksum": "df9f9b4ebfc127fa4f76a0f17acde741",
     "grade": false,
     "grade_id": "cell-06fb5b83929ba750",
     "locked": true,
     "schema_version": 3,
     "solution": false
    }
   },
   "outputs": [
    {
     "data": {
      "text/plain": [
       "'English'"
      ]
     },
     "execution_count": 10,
     "metadata": {},
     "output_type": "execute_result"
    }
   ],
   "source": [
    "input_lang.name"
   ]
  },
  {
   "cell_type": "code",
   "execution_count": 11,
   "metadata": {
    "deletable": false,
    "editable": false,
    "nbgrader": {
     "cell_type": "code",
     "checksum": "fdab8e48137b1678d343fc9c8b529a8f",
     "grade": false,
     "grade_id": "cell-710f5b42e5f82f03",
     "locked": true,
     "schema_version": 3,
     "solution": false
    }
   },
   "outputs": [
    {
     "data": {
      "text/plain": [
       "1193"
      ]
     },
     "execution_count": 11,
     "metadata": {},
     "output_type": "execute_result"
    }
   ],
   "source": [
    "input_lang.n_words"
   ]
  },
  {
   "cell_type": "code",
   "execution_count": 12,
   "metadata": {
    "deletable": false,
    "editable": false,
    "nbgrader": {
     "cell_type": "code",
     "checksum": "64578e01bbd6c020a26648947532977c",
     "grade": false,
     "grade_id": "cell-062c251db2d72892",
     "locked": true,
     "schema_version": 3,
     "solution": false
    }
   },
   "outputs": [
    {
     "data": {
      "text/plain": [
       "702"
      ]
     },
     "execution_count": 12,
     "metadata": {},
     "output_type": "execute_result"
    }
   ],
   "source": [
    "input_lang.word2index['great']"
   ]
  },
  {
   "cell_type": "code",
   "execution_count": 13,
   "metadata": {
    "deletable": false,
    "editable": false,
    "nbgrader": {
     "cell_type": "code",
     "checksum": "a3a0c2e700574be1e021bf516da051fc",
     "grade": false,
     "grade_id": "cell-2bcfc45667215f16",
     "locked": true,
     "schema_version": 3,
     "solution": false
    }
   },
   "outputs": [
    {
     "data": {
      "text/plain": [
       "'great'"
      ]
     },
     "execution_count": 13,
     "metadata": {},
     "output_type": "execute_result"
    }
   ],
   "source": [
    "input_lang.index2word[702]"
   ]
  },
  {
   "cell_type": "markdown",
   "metadata": {
    "deletable": false,
    "editable": false,
    "nbgrader": {
     "cell_type": "markdown",
     "checksum": "c9e3f0543a9c1e7110ebac1317a86807",
     "grade": false,
     "grade_id": "cell-7130ad219189a0d0",
     "locked": true,
     "schema_version": 3,
     "solution": false
    }
   },
   "source": [
    "Finally, we also loaded some variables that define indexes for the three special word tokens we'll add to the sentences:\n",
    "- `PAD`: Padding;\n",
    "- `SOS`: Start of sentence;\n",
    "- `EOS`: End of sentence."
   ]
  },
  {
   "cell_type": "code",
   "execution_count": 14,
   "metadata": {
    "deletable": false,
    "editable": false,
    "nbgrader": {
     "cell_type": "code",
     "checksum": "d458678d06ea2a89c33b3aee6e3248d4",
     "grade": false,
     "grade_id": "cell-08a85ba00b002bf5",
     "locked": true,
     "schema_version": 3,
     "solution": false
    }
   },
   "outputs": [
    {
     "data": {
      "text/plain": [
       "0"
      ]
     },
     "execution_count": 14,
     "metadata": {},
     "output_type": "execute_result"
    }
   ],
   "source": [
    "PAD_word_idx"
   ]
  },
  {
   "cell_type": "code",
   "execution_count": 15,
   "metadata": {
    "deletable": false,
    "editable": false,
    "nbgrader": {
     "cell_type": "code",
     "checksum": "16d10a92964cc2c62094d56eec31780a",
     "grade": false,
     "grade_id": "cell-9d07489bcff74552",
     "locked": true,
     "schema_version": 3,
     "solution": false
    }
   },
   "outputs": [
    {
     "data": {
      "text/plain": [
       "1"
      ]
     },
     "execution_count": 15,
     "metadata": {},
     "output_type": "execute_result"
    }
   ],
   "source": [
    "SOS_word_idx"
   ]
  },
  {
   "cell_type": "code",
   "execution_count": 16,
   "metadata": {
    "deletable": false,
    "editable": false,
    "nbgrader": {
     "cell_type": "code",
     "checksum": "79ce628f7163f1464f825ce1d81ce472",
     "grade": false,
     "grade_id": "cell-332b49fe883bd8e0",
     "locked": true,
     "schema_version": 3,
     "solution": false
    }
   },
   "outputs": [
    {
     "data": {
      "text/plain": [
       "2"
      ]
     },
     "execution_count": 16,
     "metadata": {},
     "output_type": "execute_result"
    }
   ],
   "source": [
    "EOS_word_idx"
   ]
  },
  {
   "cell_type": "markdown",
   "metadata": {
    "deletable": false,
    "editable": false,
    "nbgrader": {
     "cell_type": "markdown",
     "checksum": "653133d19854fcb6ecaf32dac1a69ff6",
     "grade": false,
     "grade_id": "cell-51d03d46a4730112",
     "locked": true,
     "schema_version": 3,
     "solution": false
    }
   },
   "source": [
    "### 2.2 Pre-processing"
   ]
  },
  {
   "cell_type": "markdown",
   "metadata": {
    "deletable": false,
    "editable": false,
    "nbgrader": {
     "cell_type": "markdown",
     "checksum": "2193bb0434c4d8f7009e6079b045023a",
     "grade": false,
     "grade_id": "cell-39d421f43d0c02c4",
     "locked": true,
     "schema_version": 3,
     "solution": false
    }
   },
   "source": [
    "We'll pre-process the data in a similar way to task 1. The following function transforms a sentence into a tensor by changing each word into its corresponding index."
   ]
  },
  {
   "cell_type": "code",
   "execution_count": 17,
   "metadata": {
    "deletable": false,
    "editable": false,
    "nbgrader": {
     "cell_type": "code",
     "checksum": "9fe3f7938e5256adb6c8e2b90d944781",
     "grade": false,
     "grade_id": "cell-2a548cd9fdb03d8f",
     "locked": true,
     "schema_version": 3,
     "solution": false
    }
   },
   "outputs": [],
   "source": [
    "import torch\n",
    "\n",
    "def sentence2tensor(lang, sentence):\n",
    "    return torch.tensor([lang.word2index[word] for word in sentence.split(' ')], dtype=torch.long)"
   ]
  },
  {
   "cell_type": "code",
   "execution_count": 18,
   "metadata": {
    "deletable": false,
    "editable": false,
    "nbgrader": {
     "cell_type": "code",
     "checksum": "8d4fdd9429729e29d70c46fcccd2d89f",
     "grade": false,
     "grade_id": "cell-9a0498b4a61bc45e",
     "locked": true,
     "schema_version": 3,
     "solution": false
    }
   },
   "outputs": [
    {
     "data": {
      "text/plain": [
       "tensor([107, 121,  60, 512])"
      ]
     },
     "execution_count": 18,
     "metadata": {},
     "output_type": "execute_result"
    }
   ],
   "source": [
    "sentence2tensor(input_lang, 'this is a test')"
   ]
  },
  {
   "cell_type": "code",
   "execution_count": 19,
   "metadata": {
    "deletable": false,
    "editable": false,
    "nbgrader": {
     "cell_type": "code",
     "checksum": "243a3d2e48c38b80f1efba354a165cef",
     "grade": false,
     "grade_id": "cell-17aa1999bb0519d6",
     "locked": true,
     "schema_version": 3,
     "solution": false
    }
   },
   "outputs": [
    {
     "data": {
      "text/plain": [
       "'test'"
      ]
     },
     "execution_count": 19,
     "metadata": {},
     "output_type": "execute_result"
    }
   ],
   "source": [
    "input_lang.index2word[512]"
   ]
  },
  {
   "cell_type": "markdown",
   "metadata": {
    "deletable": false,
    "editable": false,
    "nbgrader": {
     "cell_type": "markdown",
     "checksum": "e8110be2912e9ba135e686572c43a6c2",
     "grade": false,
     "grade_id": "cell-746bafddcbfd9aba",
     "locked": true,
     "schema_version": 3,
     "solution": false
    }
   },
   "source": [
    "We also want to pad the sentences, so that all have equal length - allowing us to batch several sentences together and speed up the training."
   ]
  },
  {
   "cell_type": "code",
   "execution_count": 20,
   "metadata": {
    "deletable": false,
    "editable": false,
    "nbgrader": {
     "cell_type": "code",
     "checksum": "446909d1539c0215ff184090fca8d428",
     "grade": false,
     "grade_id": "cell-4bb35eab7404cf63",
     "locked": true,
     "schema_version": 3,
     "solution": false
    }
   },
   "outputs": [],
   "source": [
    "from torch import nn\n",
    "\n",
    "\n",
    "def pad_all_sequences(sequences, padding_value, pad_on_the_left=False):\n",
    "    \"\"\"\n",
    "    Inputs:\n",
    "        sequences        - List of 1-D LongTensor elements of variable length, each tensor representing one sequence.\n",
    "        padding_value    - Integer value, with which to pad the sequences.\n",
    "        pad_on_the_left  - bool. If True, pad on the left-hand-side instead of right-hand-side.\n",
    "    Returns:\n",
    "        Tensor of shape (nbr_sequences, max_len), where max_len is the length of the padded sequences. nbr_sequences is the number of sequences provided.\n",
    "    \"\"\"\n",
    "    \n",
    "    if pad_on_the_left:\n",
    "        # Flip each sequence along its one and only dimension (dim=0)\n",
    "        sequences = [torch.flip(seq_tensor, [0]) for seq_tensor in sequences]\n",
    "        \n",
    "    tensor_of_padded_seqs = nn.utils.rnn.pad_sequence(sequences, batch_first=True, padding_value=padding_value)\n",
    "    \n",
    "    if pad_on_the_left:\n",
    "        # Flip sequences back, along the sequential dimension (now dim=1)\n",
    "        tensor_of_padded_seqs = torch.flip(tensor_of_padded_seqs, [1])\n",
    "        \n",
    "\n",
    "    return tensor_of_padded_seqs"
   ]
  },
  {
   "cell_type": "markdown",
   "metadata": {
    "deletable": false,
    "editable": false,
    "nbgrader": {
     "cell_type": "markdown",
     "checksum": "054b729d4c2a7240df5e841bf7409541",
     "grade": false,
     "grade_id": "cell-648a50a17d0269e2",
     "locked": true,
     "schema_version": 3,
     "solution": false
    }
   },
   "source": [
    "Note that the function `pad_all_sequences` takes an argument named `pad_on_the_left`, which if set to `True`, pads the sequences on the left, instead of the right."
   ]
  },
  {
   "cell_type": "code",
   "execution_count": 21,
   "metadata": {
    "deletable": false,
    "editable": false,
    "nbgrader": {
     "cell_type": "code",
     "checksum": "b7f9d8c86eb39a3b8ff3bc5b8caa08a1",
     "grade": false,
     "grade_id": "cell-d351e9c8c79ee5df",
     "locked": true,
     "schema_version": 3,
     "solution": false
    }
   },
   "outputs": [
    {
     "name": "stdout",
     "output_type": "stream",
     "text": [
      "Before padding:\n",
      "tensor([107, 121,  60, 702, 512])\n",
      "tensor([107,  49])\n",
      "tensor([778, 354, 512])\n",
      "\n",
      "After padding:\n",
      "tensor([107, 121,  60, 702, 512])\n",
      "tensor([107,  49,   0,   0,   0])\n",
      "tensor([778, 354, 512,   0,   0])\n",
      "\n",
      "After padding (on the left):\n",
      "tensor([107, 121,  60, 702, 512])\n",
      "tensor([  0,   0,   0, 107,  49])\n",
      "tensor([  0,   0, 778, 354, 512])\n"
     ]
    }
   ],
   "source": [
    "test_sentences = ['this is a great test', 'this too', 'yet another test']\n",
    "test_sequences = [sentence2tensor(input_lang, s) for s in test_sentences]\n",
    "print('Before padding:')\n",
    "for s in test_sequences:\n",
    "    print(s)\n",
    "    \n",
    "print('\\nAfter padding:')\n",
    "for s in pad_all_sequences(test_sequences, PAD_word_idx):\n",
    "    print(s)\n",
    "    \n",
    "print('\\nAfter padding (on the left):')\n",
    "for s in pad_all_sequences(test_sequences, PAD_word_idx, pad_on_the_left=True):\n",
    "    print(s)"
   ]
  },
  {
   "cell_type": "markdown",
   "metadata": {
    "deletable": false,
    "editable": false,
    "nbgrader": {
     "cell_type": "markdown",
     "checksum": "2f455354ccfc0a49bb7d94e8c32b3819",
     "grade": false,
     "grade_id": "cell-eeac94c3ecfcc5e8",
     "locked": true,
     "schema_version": 3,
     "solution": false
    }
   },
   "source": [
    "**Question:**\n",
    "Think about the encoder-decoder architecture commonly used for translation. In this context, why would we want to pad some sentences on the left and some on the right?"
   ]
  },
  {
   "cell_type": "markdown",
   "metadata": {
    "deletable": false,
    "nbgrader": {
     "cell_type": "markdown",
     "checksum": "72ae5ad22e2f22b4d9ab00d11e3210a7",
     "grade": true,
     "grade_id": "cell-e1459474d3e61f00",
     "locked": false,
     "points": 0,
     "schema_version": 3,
     "solution": true
    }
   },
   "source": [
    "**Your answer:** Padding sentences on the left is  used in RNN's since the hidden state of the network carries forward in time. If we use post padding for the input sequence, then the hidden state of the network at the final word of the input sentence might be flushed out cause of the zeros.\n",
    "\n",
    "Padding on the right is preferred when we introduce the forced teacher technique in the encoder-decoder architecture."
   ]
  },
  {
   "cell_type": "markdown",
   "metadata": {
    "deletable": false,
    "editable": false,
    "nbgrader": {
     "cell_type": "markdown",
     "checksum": "f09b79e8196a1032081ee6840e604cb8",
     "grade": false,
     "grade_id": "cell-4473215afd0827d8",
     "locked": true,
     "schema_version": 3,
     "solution": false
    }
   },
   "source": [
    "Now we use `sentence2tensor` and `pad_all_sequences` to transform the `pairs` object into input and output tensors of word indexes."
   ]
  },
  {
   "cell_type": "code",
   "execution_count": 22,
   "metadata": {
    "deletable": false,
    "editable": false,
    "nbgrader": {
     "cell_type": "code",
     "checksum": "9f412e8aca812caacb0af72a18f40332",
     "grade": false,
     "grade_id": "cell-535e46dd571b9284",
     "locked": true,
     "schema_version": 3,
     "solution": false
    }
   },
   "outputs": [],
   "source": [
    "# Separate input and target sentences from pairs\n",
    "input_sentences, target_sentences = zip(*pairs)\n",
    "\n",
    "# Create tensors, appending the <SOS> and <EOS> words to the target sequences.\n",
    "input_seq_tensors = [torch.tensor([input_lang.word2index[word] for word in sentence.split(' ')], \n",
    "                                  dtype=torch.long) \n",
    "                     for sentence in input_sentences]\n",
    "target_seq_tensors = [torch.tensor([SOS_word_idx] + [output_lang.word2index[word] for word in sentence.split(' ')] + [EOS_word_idx], \n",
    "                                   dtype=torch.long) \n",
    "                      for sentence in target_sentences]\n",
    "\n",
    "# Pad all sequences to equal length\n",
    "input_seq_tensors = pad_all_sequences(input_seq_tensors, PAD_word_idx, pad_on_the_left=True)\n",
    "target_seq_tensors = pad_all_sequences(target_seq_tensors, PAD_word_idx, pad_on_the_left=False)"
   ]
  },
  {
   "cell_type": "markdown",
   "metadata": {
    "deletable": false,
    "editable": false,
    "nbgrader": {
     "cell_type": "markdown",
     "checksum": "5e4490be9d0d4ddb0e708c41b0039ee6",
     "grade": false,
     "grade_id": "cell-c6938740fc6cf9db",
     "locked": true,
     "schema_version": 3,
     "solution": false
    }
   },
   "source": [
    "Note that we're adding the `SOS` token to the start of all the target sequences."
   ]
  },
  {
   "cell_type": "code",
   "execution_count": 23,
   "metadata": {
    "deletable": false,
    "editable": false,
    "nbgrader": {
     "cell_type": "code",
     "checksum": "c577ca87b1c323f98429d21eb03c1da8",
     "grade": false,
     "grade_id": "cell-9b67db79adeb75d3",
     "locked": true,
     "schema_version": 3,
     "solution": false
    }
   },
   "outputs": [
    {
     "data": {
      "text/plain": [
       "torch.Size([33941, 9])"
      ]
     },
     "execution_count": 23,
     "metadata": {},
     "output_type": "execute_result"
    }
   ],
   "source": [
    "input_seq_tensors.shape"
   ]
  },
  {
   "cell_type": "code",
   "execution_count": 24,
   "metadata": {
    "deletable": false,
    "editable": false,
    "nbgrader": {
     "cell_type": "code",
     "checksum": "d632a2b84fae850bc98a39c96b1d9cc8",
     "grade": false,
     "grade_id": "cell-a68000a248c4d4f7",
     "locked": true,
     "schema_version": 3,
     "solution": false
    }
   },
   "outputs": [
    {
     "data": {
      "text/plain": [
       "torch.Size([33941, 11])"
      ]
     },
     "execution_count": 24,
     "metadata": {},
     "output_type": "execute_result"
    }
   ],
   "source": [
    "target_seq_tensors.shape"
   ]
  },
  {
   "cell_type": "markdown",
   "metadata": {
    "deletable": false,
    "editable": false,
    "nbgrader": {
     "cell_type": "markdown",
     "checksum": "2668f104b3f8683cfeb922c90d1b1168",
     "grade": false,
     "grade_id": "cell-5fcb1a036ccf47fc",
     "locked": true,
     "schema_version": 3,
     "solution": false
    }
   },
   "source": [
    "Using these tensors, we create a dataset and split it into train/val/test as usual."
   ]
  },
  {
   "cell_type": "code",
   "execution_count": 25,
   "metadata": {
    "deletable": false,
    "editable": false,
    "nbgrader": {
     "cell_type": "code",
     "checksum": "b77be122f6731d3c14d60683d8b0039c",
     "grade": false,
     "grade_id": "cell-782a05ee9fec69cb",
     "locked": true,
     "schema_version": 3,
     "solution": false
    }
   },
   "outputs": [
    {
     "name": "stdout",
     "output_type": "stream",
     "text": [
      "tensor([ 75,  49, 111,  ...,   0,   0,   0], dtype=torch.uint8)\n"
     ]
    }
   ],
   "source": [
    "from torch.utils.data import TensorDataset\n",
    "from torch.utils.data import random_split\n",
    "\n",
    "\n",
    "dataset = TensorDataset(input_seq_tensors, target_seq_tensors)\n",
    "\n",
    "val_ratio = 0.15\n",
    "test_ratio = 0.15\n",
    "\n",
    "n_samples = len(dataset)\n",
    "n_val_samples = int(n_samples*val_ratio)\n",
    "n_test_samples = int(n_samples*test_ratio)\n",
    "n_train_samples = n_samples-n_val_samples-n_test_samples\n",
    "\n",
    "# Fix RNG seed\n",
    "old_state = torch.get_rng_state()\n",
    "torch.manual_seed(0)\n",
    "train_dataset, val_dataset, test_dataset = random_split(dataset, [n_train_samples, n_val_samples, n_test_samples])\n",
    "torch.set_rng_state(old_state)\n",
    "print(old_state)"
   ]
  },
  {
   "cell_type": "code",
   "execution_count": 26,
   "metadata": {
    "deletable": false,
    "editable": false,
    "nbgrader": {
     "cell_type": "code",
     "checksum": "0df47891586ccab73dc10b95b21a33e2",
     "grade": false,
     "grade_id": "cell-5554838bcc3faced",
     "locked": true,
     "schema_version": 3,
     "solution": false
    }
   },
   "outputs": [
    {
     "data": {
      "text/plain": [
       "(tensor([  0,   0,   0,   0,   0,   0, 113, 109, 174]),\n",
       " tensor([  1, 389, 245,   2,   0,   0,   0,   0,   0,   0,   0]))"
      ]
     },
     "execution_count": 26,
     "metadata": {},
     "output_type": "execute_result"
    }
   ],
   "source": [
    "train_dataset[0]"
   ]
  },
  {
   "cell_type": "markdown",
   "metadata": {
    "deletable": false,
    "editable": false,
    "nbgrader": {
     "cell_type": "markdown",
     "checksum": "da50cc62be492f949b10d8587783b572",
     "grade": false,
     "grade_id": "cell-d1ffc03b003a1689",
     "locked": true,
     "schema_version": 3,
     "solution": false
    }
   },
   "source": [
    "### 2.3 Defining the models"
   ]
  },
  {
   "cell_type": "markdown",
   "metadata": {
    "deletable": false,
    "editable": false,
    "nbgrader": {
     "cell_type": "markdown",
     "checksum": "de0abd99fef7dbbd1ecbd385d0a82deb",
     "grade": false,
     "grade_id": "cell-ff83666a724761f0",
     "locked": true,
     "schema_version": 3,
     "solution": false
    }
   },
   "source": [
    "As stated before, we'll tackle this translation task with an encoder-decoder architecture. In this section, you will define the `Encoder` and `Decoder` classes, and also the `Translator` class, that combines the other two to translate a sequence."
   ]
  },
  {
   "cell_type": "code",
   "execution_count": 27,
   "metadata": {
    "deletable": false,
    "editable": false,
    "nbgrader": {
     "cell_type": "code",
     "checksum": "b2b67acab17f1e6106ad90daee6b484e",
     "grade": false,
     "grade_id": "cell-957262dc380f1c7c",
     "locked": true,
     "schema_version": 3,
     "solution": false
    }
   },
   "outputs": [],
   "source": [
    "device = torch.device(\"cuda\" if torch.cuda.is_available() else \"cpu\")"
   ]
  },
  {
   "cell_type": "markdown",
   "metadata": {
    "deletable": false,
    "editable": false,
    "nbgrader": {
     "cell_type": "markdown",
     "checksum": "02de08dc94e23ef43bbba5b7f5f20d1d",
     "grade": false,
     "grade_id": "cell-db83c03e65ea6f71",
     "locked": true,
     "schema_version": 3,
     "solution": false
    }
   },
   "source": [
    "#### 2.3.1 Encoder"
   ]
  },
  {
   "cell_type": "markdown",
   "metadata": {
    "deletable": false,
    "editable": false,
    "nbgrader": {
     "cell_type": "markdown",
     "checksum": "96da9b98f01ca49f8deafe1bf0b7496d",
     "grade": false,
     "grade_id": "cell-80c4afb2321f429a",
     "locked": true,
     "schema_version": 3,
     "solution": false
    }
   },
   "source": [
    "We will start with the `Encoder` class. Its `forward` method should take as input a batch of tensors of word indexes and perform the following steps:\n",
    "\n",
    "- Embed the input tensors using the [`Embedding`](https://pytorch.org/docs/stable/nn.html#embedding) PyTorch layer.\n",
    "- Feed the embedded tensors into a multi-layer [`GRU` module](https://pytorch.org/docs/stable/nn.html#gru).\n",
    "- Output the hidden states of all GRU layers at the last time-step of the sequence (i.e. for the last word).\n",
    "\n",
    "*Tips*:\n",
    "- Read the entire documentation for both the [`Embedding`](https://pytorch.org/docs/stable/nn.html#embedding) and the [`GRU`](https://pytorch.org/docs/stable/nn.html#gru) layers.\n",
    "- Don't be confused: in task 1, when predicting nationalities, we created a module with a `forward` method that should be called for each element in the input sequence; *this is not the case for task 2*. Here we want the `forward` method of `Encoder` to run in the entire sequence with one call.\n",
    "- The `forward` method of the `GRU` module can be run in the entire sequence with one call (but you already know this, since you followed the first tip we mentioned 😁). Also, the `GRU` constructor has an argument named `batch_first`...\n",
    "- Initialize the hidden state of the `GRU`s to zero."
   ]
  },
  {
   "cell_type": "code",
   "execution_count": 28,
   "metadata": {
    "deletable": false,
    "nbgrader": {
     "cell_type": "code",
     "checksum": "53a164d71aafd1abc3004c7b86d6adfa",
     "grade": true,
     "grade_id": "cell-34c7a1017392b6bc",
     "locked": false,
     "points": 0,
     "schema_version": 3,
     "solution": true
    }
   },
   "outputs": [],
   "source": [
    "class Encoder(nn.Module):\n",
    "    def __init__(self, input_size, embedding_size, hidden_size, num_layers):\n",
    "        \"\"\"\n",
    "        Inputs:\n",
    "            input_size     - Number of unique word indexes in the input language (i.e. input_lang.n_words)\n",
    "            embedding_size - Dimensionality of the space the input tensors will be embedded before going into the\n",
    "                             recurrent unit.\n",
    "            hidden_size    - Dimensionality of the hidden vector in the GRUs.\n",
    "            num_layers     - Number of layers in the multi-layer GRU unit.\n",
    "        \"\"\"\n",
    "        \n",
    "        super().__init__()\n",
    "        \n",
    "        self.hidden_size = hidden_size\n",
    "        self.num_layers = num_layers\n",
    "        self.input_size = input_size        \n",
    "        \n",
    "        # YOUR CODE HERE\n",
    "        self.embedded = nn.Embedding(input_size, embedding_size)\n",
    "        self.GRU = nn.GRU(embedding_size, hidden_size, num_layers, batch_first=True)\n",
    "\n",
    "    def forward(self, x):\n",
    "        \"\"\"\n",
    "        Runs the RNN encoder.\n",
    "        Inputs:\n",
    "            x              - Input sequence of word indexes. \n",
    "                             LongTensor, shape (batch_size, seq_len).\n",
    "        Returns:\n",
    "            new_h          - Hidden state at current time-step for all layers at the final sequence position.\n",
    "                             FloatTensor, shape (num_layers, batch_size, hidden_size).\n",
    "        \"\"\"\n",
    "        \n",
    "        # YOUR CODE HERE\n",
    "        h = torch.zeros((self.num_layers, x.size(0), self.hidden_size)).to(device)\n",
    "        #print(h.shape)\n",
    "        embedded_out = self.embedded(x)        \n",
    "        #print(embedded_out.shape)\n",
    "        output, new_h = self.GRU(embedded_out,h)\n",
    "       \n",
    "        return new_h"
   ]
  },
  {
   "cell_type": "markdown",
   "metadata": {
    "deletable": false,
    "editable": false,
    "nbgrader": {
     "cell_type": "markdown",
     "checksum": "7bf289fc9b82a4d607e234c9b348e98a",
     "grade": false,
     "grade_id": "cell-ae42248d6749eff6",
     "locked": true,
     "schema_version": 3,
     "solution": false
    }
   },
   "source": [
    "Run the following cell to test whether the shape of your outputs are correct. Note that this *only* checks the shapes, not the content."
   ]
  },
  {
   "cell_type": "code",
   "execution_count": 29,
   "metadata": {
    "deletable": false,
    "editable": false,
    "nbgrader": {
     "cell_type": "code",
     "checksum": "823396af31ee17eca7702fab6924b115",
     "grade": false,
     "grade_id": "cell-08639295de373894",
     "locked": true,
     "schema_version": 3,
     "solution": false
    }
   },
   "outputs": [
    {
     "name": "stdout",
     "output_type": "stream",
     "text": [
      "Test passed. \n"
     ]
    }
   ],
   "source": [
    "test_batch_size = 32\n",
    "test_num_layers = 3\n",
    "\n",
    "# Create encoder\n",
    "test_encoder = Encoder(input_size=input_lang.n_words, embedding_size=30, hidden_size=50, num_layers=test_num_layers)\n",
    "test_encoder.to(device)\n",
    "\n",
    "# Create dummy input\n",
    "test_x = torch.zeros(test_batch_size, 10, dtype=torch.long, device=device)\n",
    "\n",
    "# Forward-prop through the encoder\n",
    "test_new_h = test_encoder(test_x)\n",
    "\n",
    "# Test the shape of the output\n",
    "err_str = '`test_new_h` has incorrect dimensions. Dimension is {}, but should\\'ve been {}'\n",
    "correct_dimension = (test_num_layers, test_batch_size, test_encoder.hidden_size)\n",
    "assert test_new_h.shape == correct_dimension, err_str.format(tuple(test_new_h.shape), correct_dimension)\n",
    "print('Test passed. ')"
   ]
  },
  {
   "cell_type": "markdown",
   "metadata": {
    "deletable": false,
    "editable": false,
    "nbgrader": {
     "cell_type": "markdown",
     "checksum": "84926f90db7db663adeb3a19680d35e1",
     "grade": false,
     "grade_id": "cell-59960950d507a5b7",
     "locked": true,
     "schema_version": 3,
     "solution": false
    }
   },
   "source": [
    "#### 2.3.2 Decoder\n",
    "\n",
    "Now we move to the `Decoder` class. \n",
    "\n",
    "Its `forward` method takes the hidden state output from the `Encoder` as input, and predicts the word indexes corresponding to the translated sentence. Furthermore, since we will train our translator using teacher-forcing, this method also takes as input a sequence of word indexes corresponding to the ground-truth output sentence. \n",
    "\n",
    "The following steps need to be performed by the `forward` method:\n",
    "\n",
    "- Embed the ground-truth output sequence using an `Embedding` layer.\n",
    "- Feed the embedded sequence to a multi-layer `GRU` module.\n",
    "- Pass the computed hidden states of the `GRU` module at each time-step through a linear layer\n",
    "- Pass the outputs of the linear layer at each time-step through a `LogSoftmax` layer.\n",
    "\n",
    "The first output of this method is then a sequence numbers representing the probability mass functions over the possible output indexes for each time-step. The second output should be the hidden-states for all layers of the `GRU`s , for the last time-step of the sequence (i.e. for the last word index)."
   ]
  },
  {
   "cell_type": "code",
   "execution_count": 30,
   "metadata": {
    "deletable": false,
    "nbgrader": {
     "cell_type": "code",
     "checksum": "06b2e266d0915396d0d719ec076f18fd",
     "grade": true,
     "grade_id": "cell-8602e5addd641b49",
     "locked": false,
     "points": 0,
     "schema_version": 3,
     "solution": true
    }
   },
   "outputs": [],
   "source": [
    "class Decoder(nn.Module):\n",
    "    def __init__(self, embedding_size, hidden_size, output_size, num_layers):\n",
    "        \"\"\"\n",
    "        Inputs:\n",
    "            embedding_size - Dimensionality of the space the input tensors will be embedded before going into the\n",
    "                             recurrent unit.\n",
    "            hidden_size    - Dimensionality of the hidden vector in the GRUs.\n",
    "            output_size    - Number of unique word indexes in the output language (i.e. output_lang.n_words)\n",
    "            num_layers     - Number of layers in the multi-layer GRU unit.\n",
    "        \"\"\"\n",
    "        \n",
    "        super().__init__()\n",
    "\n",
    "        self.embedding_size = embedding_size\n",
    "        self.hidden_size = hidden_size\n",
    "        self.output_size = output_size\n",
    "        self.num_layers = num_layers\n",
    "\n",
    "        self.embedding = nn.Embedding(output_size, embedding_size)\n",
    "        self.GRU = nn.GRU(embedding_size, hidden_size, num_layers, batch_first=True)\n",
    "        self.fc= nn.Linear(hidden_size, output_size)\n",
    "        self.softmax = nn.LogSoftmax(dim=2)\n",
    "\n",
    "    def forward(self, x, h):\n",
    "        \"\"\"\n",
    "        Inputs:\n",
    "            x             - Sequence of word indexes corresponding to ground-truth output sentence. \n",
    "                            LongTensor, shape (batch_size, seq_len).\n",
    "            h             - Previous state (output from Encoder object). \n",
    "                            FloatTensor, shape (num_layers, batch_size, hidden_size).\n",
    "\n",
    "        Outputs:\n",
    "            out           - Output sequence of predicted distributions of target words.\n",
    "                            FloatTensor, shape (batch_size, seq_len, output_size).\n",
    "            new_h         - Hidden state at current time-step.\n",
    "                            FloatTensor, shape (num_layers, batch_size, hidden_size)\n",
    "        \"\"\"\n",
    "        embedded_out = self.embedding(x)\n",
    "        gru_out, new_h = self.GRU(embedded_out, h)\n",
    "        linout = self.fc(gru_out)\n",
    "        out = self.softmax(linout)        \n",
    "\n",
    "        return out, new_h"
   ]
  },
  {
   "cell_type": "markdown",
   "metadata": {
    "deletable": false,
    "editable": false,
    "nbgrader": {
     "cell_type": "markdown",
     "checksum": "08647fa8ab35680eac0d5e10fc1efac0",
     "grade": false,
     "grade_id": "cell-4eed24b8e8f0279c",
     "locked": true,
     "schema_version": 3,
     "solution": false
    }
   },
   "source": [
    "Run the following cell to both test the shapes of your outputs and also that the predicted distributions sum to 1."
   ]
  },
  {
   "cell_type": "code",
   "execution_count": 31,
   "metadata": {
    "deletable": false,
    "editable": false,
    "nbgrader": {
     "cell_type": "code",
     "checksum": "24c084d0ca2200027df6b4ef16a7798d",
     "grade": false,
     "grade_id": "cell-768c00536daaf170",
     "locked": true,
     "schema_version": 3,
     "solution": false
    }
   },
   "outputs": [
    {
     "name": "stdout",
     "output_type": "stream",
     "text": [
      "Test passed.\n"
     ]
    }
   ],
   "source": [
    "import numpy as np\n",
    "\n",
    "\n",
    "test_batch_size = 6\n",
    "test_seq_len = 7\n",
    "\n",
    "# Create encoder\n",
    "test_decoder = Decoder(embedding_size=300, \n",
    "                       hidden_size=30, \n",
    "                       output_size=output_lang.n_words, \n",
    "                       num_layers=3)\n",
    "test_decoder.to(device)\n",
    "\n",
    "# Create dummy input and hidden state\n",
    "test_x = torch.ones(test_batch_size, test_seq_len, dtype=torch.long, device=device)\n",
    "test_h = torch.ones(test_decoder.num_layers, test_batch_size, test_decoder.hidden_size, device=device)\n",
    "\n",
    "# Forward-prop through the decoder\n",
    "out, test_new_h = test_decoder(test_x, test_h)\n",
    "\n",
    "# Does the new hidden state have the correct shape?\n",
    "err_msg = '{} has incorrect dimensions. Dimension is {}, but should\\'ve been {}'\n",
    "correct_shape = (test_decoder.num_layers, test_batch_size, test_decoder.hidden_size)\n",
    "assert test_new_h.shape == correct_shape, err_msg.format('`test_new_h`', tuple(test_new_h.shape), correct_shape)\n",
    "\n",
    "# Does the output have the correct shape?\n",
    "correct_shape = (test_batch_size, test_seq_len, output_lang.n_words)\n",
    "assert out.shape == correct_shape, err_msg.format('`out`', tuple(out.shape), correct_shape)\n",
    "\n",
    "# Do the predictions sum to 1?\n",
    "test_pred_sums = torch.sum(out.exp(), dim=2).detach().cpu().numpy()\n",
    "err_msg = 'Predictions do not sum to 1:\\n {}'.format(test_pred_sums)\n",
    "assert np.allclose(test_pred_sums, np.ones_like(test_pred_sums)),  err_msg\n",
    "\n",
    "print('Test passed.')"
   ]
  },
  {
   "cell_type": "markdown",
   "metadata": {
    "deletable": false,
    "editable": false,
    "nbgrader": {
     "cell_type": "markdown",
     "checksum": "4b7c040cc971a1f5468cf40d76fac9bf",
     "grade": false,
     "grade_id": "cell-aade27372bb6c7ac",
     "locked": true,
     "schema_version": 3,
     "solution": false
    }
   },
   "source": [
    "#### 2.3.4 Translator"
   ]
  },
  {
   "cell_type": "markdown",
   "metadata": {
    "deletable": false,
    "editable": false,
    "nbgrader": {
     "cell_type": "markdown",
     "checksum": "701cbd99222d97de73dc372d76583684",
     "grade": false,
     "grade_id": "cell-aeb3fcebf5a4cb1b",
     "locked": true,
     "schema_version": 3,
     "solution": false
    }
   },
   "source": [
    "Now that we defined the `Encoder` and the `Decoder` classes, we're ready to define the full model that connects these two together, the `Translator` class.\n",
    "\n",
    "This class has two methods, `forward` and `forward_no_teacher`. \n",
    "\n",
    "The first one is the one you will implement, which takes as input a sequence of word indexes corresponding to the input sentence. This sequence is fed to the `Translator`'s encoder, which outputs its last hidden state. Finally, this hidden state is then fed to the `Translator`'s decoder, together with the ground-truth word indexes corresponding to the ground-truth output sentence, resulting in the predicted word distributions for each position. This is the method we will use to compute predictions during training.\n",
    "\n",
    "The second method, `forward_no_teacher`, is already implemented for you. This method performs the same steps as outlined above, but this time without using the ground-truth output sequence for teacher forcing. Instead, the output of the decoder at time-step $t$ is fed to itself at time-step $t+1$ (instead of the ground-truth word index for this time-step). We will use this method for evaluating the final quality of our translator."
   ]
  },
  {
   "cell_type": "code",
   "execution_count": 32,
   "metadata": {
    "deletable": false,
    "nbgrader": {
     "cell_type": "code",
     "checksum": "463efb56f55aba53792d83df1463fb5b",
     "grade": true,
     "grade_id": "cell-4c72b777d53ebc3c",
     "locked": false,
     "points": 0,
     "schema_version": 3,
     "solution": true
    }
   },
   "outputs": [],
   "source": [
    "class Translator(nn.Module):\n",
    "    def __init__(self, input_size, embedding_size, hidden_size, output_size, num_layers):\n",
    "        \"\"\"\n",
    "        Inputs:\n",
    "            input_size     - Number of unique word indexes in the input language (i.e. input_lang.n_words)\n",
    "            embedding_size - Dimensionality of the space the input tensors will be embedded before going into the\n",
    "                             recurrent unit.\n",
    "            hidden_size    - Dimensionality of the hidden vector in the GRUs.\n",
    "            output_size    - Number of unique word indexes in the output language (i.e. output_lang.n_words)\n",
    "            num_layers     - Number of layers in the multi-layer GRU unit.\n",
    "        \"\"\"\n",
    "        \n",
    "        super().__init__()\n",
    "        \n",
    "        self.input_size = input_size\n",
    "        self.embedding_size = embedding_size\n",
    "        self.hidden_size = hidden_size\n",
    "        self.output_size = output_size\n",
    "        self.num_layers = num_layers\n",
    "        \n",
    "\n",
    "        self.encoder = Encoder(input_size, embedding_size, hidden_size, num_layers).to(device)\n",
    "        self.decoder = Decoder(embedding_size, hidden_size, output_size, num_layers).to(device)\n",
    "                \n",
    "    def forward(self, x, y):\n",
    "        \"\"\"\n",
    "        Inputs:\n",
    "            x             - Ground-truth output sentence. \n",
    "                            LongTensor, shape (batch_size, seq_len).\n",
    "            h             - Previous state (output from Encoder object). \n",
    "                            FloatTensor, shape (num_layers, batch_size, hidden_size).\n",
    "\n",
    "        Outputs:\n",
    "            out           - Output sequence of predicted distributions of target words.\n",
    "                            FloatTensor, shape (batch_size, seq_len, output_size).\n",
    "            new_h         - Hidden state at current time-step.\n",
    "                            FloatTensor, shape (num_layers, batch_size, hidden_size)\n",
    "        \"\"\"\n",
    "        \n",
    "        # YOUR CODE HERE\n",
    "        # Encode input sentence. Shape: (num_layers, batch_size, hidden_size)\n",
    "        last_hidden_encoder = self.encoder(x)        \n",
    "        \n",
    "        # Initialize tensor for sentence that will be generated\n",
    "        \n",
    "        decoder_outputs = torch.zeros(1, 0, dtype=torch.long, device=device)      \n",
    "       \n",
    "        h = last_hidden_encoder \n",
    "        \n",
    "        word = y\n",
    "\n",
    "        decoder_outputs, h = self.decoder(word, h)\n",
    "\n",
    "        return decoder_outputs    \n",
    "    \n",
    "    def forward_no_teacher(self, x, max_len=10):\n",
    "        with torch.no_grad():\n",
    "\n",
    "            # Encode input sentence. Shape: (num_layers, batch_size, hidden_size)\n",
    "            last_hidden_encoder = self.encoder(x)\n",
    "\n",
    "            # Initialize tensor for sentence that will be generated\n",
    "            generated_sentence = torch.zeros(1, 0, dtype=torch.long, device=device)\n",
    "\n",
    "            # Initialize input (SOS) and hidden state (output hidden state of encoder) for the decoder\n",
    "            x = torch.zeros(1, 1, dtype=torch.long, device=device)*SOS_word_idx\n",
    "            h = last_hidden_encoder        \n",
    "            \n",
    "            for i in range(max_len):\n",
    "                \n",
    "                # Compute output and new hidden state\n",
    "                out, h = self.decoder(x, h)\n",
    "                \n",
    "                # Choose the most probable word in the predicted pmf\n",
    "                x = out.argmax(dim=2)\n",
    "                \n",
    "                # Add this word to the generated sentence\n",
    "                generated_sentence = torch.cat([generated_sentence, x], dim=1)\n",
    "                \n",
    "                # Stop if generated word is EOS\n",
    "                if x.item() == EOS_word_idx:\n",
    "                    break\n",
    "\n",
    "            return generated_sentence"
   ]
  },
  {
   "cell_type": "markdown",
   "metadata": {
    "deletable": false,
    "editable": false,
    "nbgrader": {
     "cell_type": "markdown",
     "checksum": "5ebf354aa97984a408f108ba9d2bf1de",
     "grade": false,
     "grade_id": "cell-dc2c9633f7affdf4",
     "locked": true,
     "schema_version": 3,
     "solution": false
    }
   },
   "source": [
    "Run the following cell to both test the shapes of your outputs and also that the predicted distributions sum to 1."
   ]
  },
  {
   "cell_type": "code",
   "execution_count": 33,
   "metadata": {
    "deletable": false,
    "editable": false,
    "nbgrader": {
     "cell_type": "code",
     "checksum": "5bc86dc737005063ea8dd4f7f567a458",
     "grade": false,
     "grade_id": "cell-1725aad33842598e",
     "locked": true,
     "schema_version": 3,
     "solution": false
    }
   },
   "outputs": [
    {
     "name": "stdout",
     "output_type": "stream",
     "text": [
      "Test passed.\n"
     ]
    }
   ],
   "source": [
    "test_batch_size = 12\n",
    "test_input_len = 8\n",
    "test_ground_truth_output_len = 6\n",
    "\n",
    "# Create translator\n",
    "test_translator = Translator(input_size=10, \n",
    "                            embedding_size=100, \n",
    "                            hidden_size=30, \n",
    "                            output_size=12, \n",
    "                            num_layers=3)\n",
    "test_translator.to(device)\n",
    "\n",
    "# Create test input sentence and output sentence\n",
    "test_input_sentence = torch.ones(test_batch_size, test_input_len, dtype=torch.long, device=device)\n",
    "test_ground_truth_output = torch.ones(test_batch_size, test_ground_truth_output_len, dtype=torch.long, device=device)\n",
    "\n",
    "# Forward-prop through the translator\n",
    "out = test_translator(test_input_sentence, test_ground_truth_output)\n",
    "\n",
    "# Does the output have the correct shape?\n",
    "correct_shape = (test_batch_size, test_ground_truth_output_len, test_translator.output_size)\n",
    "assert out.shape == correct_shape, err_msg.format('`out`', tuple(out.shape), correct_shape)\n",
    "\n",
    "# Do the predictions sum to 1?\n",
    "test_pred_sums = torch.sum(out.exp(), dim=2).detach().cpu().numpy()\n",
    "err_msg = 'Predictions do not sum to 1:\\n {}'.format(test_pred_sums)\n",
    "assert np.allclose(test_pred_sums, np.ones_like(test_pred_sums)),  err_msg\n",
    "\n",
    "print('Test passed.')"
   ]
  },
  {
   "cell_type": "markdown",
   "metadata": {
    "deletable": false,
    "editable": false,
    "nbgrader": {
     "cell_type": "markdown",
     "checksum": "e35c4cb9a70ce3063c0bfc0a3c8595a7",
     "grade": false,
     "grade_id": "cell-a2648e2cc194c3e9",
     "locked": true,
     "schema_version": 3,
     "solution": false,
     "task": false
    }
   },
   "source": [
    "Which steps should be taken in order to make use of word2vec embeddings in our models?"
   ]
  },
  {
   "cell_type": "markdown",
   "metadata": {
    "deletable": false,
    "nbgrader": {
     "cell_type": "markdown",
     "checksum": "2eee4740e2dfbcbfb45a08ef08bd1874",
     "grade": true,
     "grade_id": "cell-bbc68ff3a2bcbcba",
     "locked": false,
     "points": 0,
     "schema_version": 3,
     "solution": true,
     "task": false
    }
   },
   "source": [
    "**Your answer:** We want to use word2vec to be able to not only train using correlations between each word in both languages. When using word2vec one would instead create context vectors of each word which then will let us learn what it means depending on the words around in the sentence. We would in theory replace the \"word2index\" with \"word2vec\" before feeding it into the RNN. We also need to change the size to the inputs on the embedding function, such that it matches our vectors and dictionary."
   ]
  },
  {
   "cell_type": "markdown",
   "metadata": {
    "deletable": false,
    "editable": false,
    "nbgrader": {
     "cell_type": "markdown",
     "checksum": "3ce719f29c702bf16f00e76792ca3cb6",
     "grade": false,
     "grade_id": "cell-a3b7038020450c0f",
     "locked": true,
     "schema_version": 3,
     "solution": false
    }
   },
   "source": [
    "The `forward_no_teacher` method will be used later for evaluating the translator's performance. Make sure you completely understand how it works before proceeding. The following cell shows some example usage. Since we didn't train the translator yet, its translations are mostly gibberish."
   ]
  },
  {
   "cell_type": "code",
   "execution_count": 34,
   "metadata": {
    "deletable": false,
    "editable": false,
    "nbgrader": {
     "cell_type": "code",
     "checksum": "015698a5498f340228d1f7a2b8df898b",
     "grade": false,
     "grade_id": "cell-71cc095b9e95577c",
     "locked": true,
     "schema_version": 3,
     "solution": false
    }
   },
   "outputs": [
    {
     "name": "stdout",
     "output_type": "stream",
     "text": [
      "Input sentence:\t\t this is a test\n",
      "Predicted translation:\t haré haré haré ten ten\n"
     ]
    }
   ],
   "source": [
    "# Create test sentence\n",
    "test_input_sentence = 'this is a test'\n",
    "print('Input sentence:\\t\\t', test_input_sentence)\n",
    "\n",
    "# Map to tensor of word indexes and add batch dimension\n",
    "test_tensor = sentence2tensor(input_lang, test_input_sentence).to(device)\n",
    "test_tensor = test_tensor[None, :]\n",
    "\n",
    "# Create translator\n",
    "test_translator = Translator(input_size=input_lang.n_words,\n",
    "                             embedding_size=100,\n",
    "                             hidden_size=128,\n",
    "                             output_size=output_lang.n_words,\n",
    "                             num_layers=3)\n",
    "test_translator.to(device)\n",
    "\n",
    "# Translate the input sentence (generate at most 5 words in the translation)\n",
    "test_tensor_translated = test_translator.forward_no_teacher(test_tensor, 5).cpu().numpy()\n",
    "\n",
    "# Remove batch dimension\n",
    "test_tensor_translated = test_tensor_translated[0]\n",
    "\n",
    "# Map from indexes to words\n",
    "word_list = [output_lang.index2word[idx] for idx in test_tensor_translated]\n",
    "\n",
    "# Join all words in a string and print it\n",
    "output_sentence = ' '.join(word_list)\n",
    "\n",
    "print('Predicted translation:\\t', output_sentence)"
   ]
  },
  {
   "cell_type": "markdown",
   "metadata": {
    "deletable": false,
    "editable": false,
    "nbgrader": {
     "cell_type": "markdown",
     "checksum": "7b01baef0aa516b117cdcf0a96f74554",
     "grade": false,
     "grade_id": "cell-859e5248b5907028",
     "locked": true,
     "schema_version": 3,
     "solution": false
    }
   },
   "source": [
    "**Question:**\n",
    "Why do we get different translations every time we re-run the above cell?"
   ]
  },
  {
   "cell_type": "markdown",
   "metadata": {
    "deletable": false,
    "nbgrader": {
     "cell_type": "markdown",
     "checksum": "ee3e0005185edb7bc9d7e39f4ee7ae9f",
     "grade": true,
     "grade_id": "cell-82f800442f41bd8d",
     "locked": false,
     "points": 0,
     "schema_version": 3,
     "solution": true
    }
   },
   "source": [
    "**Your answer:** Because the model is not trained. And the predictions that it makes are completely random."
   ]
  },
  {
   "cell_type": "markdown",
   "metadata": {
    "deletable": false,
    "editable": false,
    "nbgrader": {
     "cell_type": "markdown",
     "checksum": "8f1d43eaeeae5e6e1cc2da35fbe5efd7",
     "grade": false,
     "grade_id": "cell-912915a0b61dd530",
     "locked": true,
     "schema_version": 3,
     "solution": false
    }
   },
   "source": [
    "**Question:**\n",
    "What would happen if you tried translating the sentence \"this is extraordinary\"? Why?"
   ]
  },
  {
   "cell_type": "markdown",
   "metadata": {
    "deletable": false,
    "nbgrader": {
     "cell_type": "markdown",
     "checksum": "aeee0cc811e1b7eebe05d72e8aff3203",
     "grade": true,
     "grade_id": "cell-378967bd34f9ff95",
     "locked": false,
     "points": 0,
     "schema_version": 3,
     "solution": true
    }
   },
   "source": [
    "**Your answer:** We get an error. Because we do not have the word \"extraordinary\" in our vocabulary ans therefore cannot be transformed to an index using word2index."
   ]
  },
  {
   "cell_type": "markdown",
   "metadata": {
    "deletable": false,
    "editable": false,
    "nbgrader": {
     "cell_type": "markdown",
     "checksum": "110f0a7f77ec676451faab472cf7ffc2",
     "grade": false,
     "grade_id": "cell-cf018cd730905506",
     "locked": true,
     "schema_version": 3,
     "solution": false
    }
   },
   "source": [
    "### 2.4 Training"
   ]
  },
  {
   "cell_type": "markdown",
   "metadata": {
    "deletable": false,
    "editable": false,
    "nbgrader": {
     "cell_type": "markdown",
     "checksum": "d400bb66e04d92e996af02ea0171007c",
     "grade": false,
     "grade_id": "cell-51f306b5b4d1f042",
     "locked": true,
     "schema_version": 3,
     "solution": false
    }
   },
   "source": [
    "Now we're ready to train the model! Since at every time-step we're generating a prediction over possible words and comparing it to a ground-truth word, this can be seen as a classification problem. Because of this we'll use the `NLLLoss`, and the total loss will be the average loss value across all time-steps of the ground-truth sequence."
   ]
  },
  {
   "cell_type": "code",
   "execution_count": 35,
   "metadata": {
    "deletable": false,
    "editable": false,
    "nbgrader": {
     "cell_type": "code",
     "checksum": "2f8f21aa527306e1805a661b44f5ec89",
     "grade": false,
     "grade_id": "cell-1d438d17fa64ff60",
     "locked": true,
     "schema_version": 3,
     "solution": false
    }
   },
   "outputs": [],
   "source": [
    "loss_fn = nn.NLLLoss()"
   ]
  },
  {
   "cell_type": "markdown",
   "metadata": {
    "deletable": false,
    "editable": false,
    "nbgrader": {
     "cell_type": "markdown",
     "checksum": "10319f653d5d40ddf6a7d79210535455",
     "grade": false,
     "grade_id": "cell-4d4f92c545e608eb",
     "locked": true,
     "schema_version": 3,
     "solution": false
    }
   },
   "source": [
    "Just like in task 1, we also first define a function for training in a single batch of data."
   ]
  },
  {
   "cell_type": "code",
   "execution_count": 36,
   "metadata": {
    "deletable": false,
    "editable": false,
    "nbgrader": {
     "cell_type": "code",
     "checksum": "596a98d969de1837ca312de4317def16",
     "grade": false,
     "grade_id": "cell-2521ffc63214fd17",
     "locked": true,
     "schema_version": 3,
     "solution": false
    }
   },
   "outputs": [],
   "source": [
    "def train_batch(translator, input_sequences, target_sequences, optimizer):\n",
    "    \"\"\"\n",
    "    Performs forward & backward passes for one batch, and takes a gradient step.\n",
    "\n",
    "    Inputs:\n",
    "        translator         - Translator object\n",
    "        input_sequences    - Batch of input sequences.\n",
    "                             LongTensor, shape (batch_size, seq_len). Holding the source language word indexes.\n",
    "        target_sequences   - Batch of target sequences.\n",
    "                             LongTensor, shape (batch_size, seq_len). Holding the true target language word indexes.\n",
    "        optimizer          - Pytorch optimizer object\n",
    "    Returns:\n",
    "        The average loss for the batch (float)\n",
    "    \"\"\"\n",
    "\n",
    "    # Predict distribution for each word position in the translated sentence\n",
    "    out = translator(input_sequences, target_sequences)\n",
    "    \n",
    "    # Zero gradients\n",
    "    optimizer.zero_grad()\n",
    "\n",
    "    # Calculate loss\n",
    "    out = out.permute(0, 2, 1)\n",
    "    loss = loss_fn(out[:, :, :-1], target_sequences[:, 1:])\n",
    "    \n",
    "    # Backward-prop and perform one optimization step\n",
    "    loss.backward()\n",
    "    optimizer.step()\n",
    "\n",
    "    return loss.item()"
   ]
  },
  {
   "cell_type": "markdown",
   "metadata": {
    "deletable": false,
    "editable": false,
    "nbgrader": {
     "cell_type": "markdown",
     "checksum": "678fc76ec1d0e2c2d3e33f88b981bb81",
     "grade": false,
     "grade_id": "cell-5b74ad9ee3d2d964",
     "locked": true,
     "schema_version": 3,
     "solution": false
    }
   },
   "source": [
    "**Question:**\n",
    "Note that before computing the loss for a batch, we permute the dimensions of the output prediction from the translator. Why do we need to do this? \n",
    "\n",
    "*Tip*: read the [NLLLoss documentation](https://pytorch.org/docs/stable/nn.html#nllloss)."
   ]
  },
  {
   "cell_type": "markdown",
   "metadata": {
    "deletable": false,
    "nbgrader": {
     "cell_type": "markdown",
     "checksum": "a6cc1a376b58325b35876785eedfe56a",
     "grade": true,
     "grade_id": "cell-ac30162be0f793e2",
     "locked": false,
     "points": 0,
     "schema_version": 3,
     "solution": true
    }
   },
   "source": [
    "**Your answer:** The permute moves around the dimensions as the following: (batch_size, seq_len, output_size) => (batch_size, output_size, seq_len). This matches the way the NLLLoss wants it's inputs. If we didn't do this we would get a loss function with the wrong size of classes and dimensions, which wouldn't give a correct result."
   ]
  },
  {
   "cell_type": "markdown",
   "metadata": {
    "deletable": false,
    "editable": false,
    "nbgrader": {
     "cell_type": "markdown",
     "checksum": "264e12818fee2a587950260e1276a9e0",
     "grade": false,
     "grade_id": "cell-0125e2d37c03c980",
     "locked": true,
     "schema_version": 3,
     "solution": false
    }
   },
   "source": [
    "We also define functions for computing our metrics of interest in the validation set and for plotting the metrics during training."
   ]
  },
  {
   "cell_type": "code",
   "execution_count": 37,
   "metadata": {
    "deletable": false,
    "editable": false,
    "nbgrader": {
     "cell_type": "code",
     "checksum": "ad26c59c8de810943f4c1ad8697b623f",
     "grade": false,
     "grade_id": "cell-0ab220dc995eea05",
     "locked": true,
     "schema_version": 3,
     "solution": false
    }
   },
   "outputs": [],
   "source": [
    "def compute_metrics_on_validation_set(translator, val_data_loader):\n",
    "\n",
    "    n_processed, loss = 0, 0\n",
    "    for x_val, y_val in val_data_loader:\n",
    "        batch_size = x_val.shape[0]\n",
    "\n",
    "        # Put data in the correct device\n",
    "        x_val = x_val.to(device)\n",
    "        y_val = y_val.to(device)\n",
    "\n",
    "        # Perform forward-prop with autograd disabled\n",
    "        with torch.no_grad():\n",
    "            val_out = translator(x_val, y_val)\n",
    "\n",
    "        # Calculate loss\n",
    "        val_out = val_out.permute(0, 2, 1)\n",
    "        batch_loss = loss_fn(val_out[:, :, :-1], y_val[:, 1:])*batch_size\n",
    "        \n",
    "        loss += batch_loss\n",
    "        n_processed += batch_size\n",
    "    \n",
    "    return loss/n_processed"
   ]
  },
  {
   "cell_type": "code",
   "execution_count": 38,
   "metadata": {
    "deletable": false,
    "editable": false,
    "nbgrader": {
     "cell_type": "code",
     "checksum": "f0985da3cb071adab65c1451180ab2f7",
     "grade": false,
     "grade_id": "cell-da63411703d24d14",
     "locked": true,
     "schema_version": 3,
     "solution": false
    }
   },
   "outputs": [],
   "source": [
    "import matplotlib.pyplot as plt \n",
    "\n",
    "def plot_metrics(fig, ax, ns, train_losses, val_losses):\n",
    "\n",
    "    # Plot losses\n",
    "    ax.clear()\n",
    "    ax.plot(ns, train_losses)\n",
    "    ax.plot(ns, val_losses)\n",
    "    ax.plot(ns, [1]*len(ns), 'k--')\n",
    "    ax.set_title('Loss')\n",
    "    ax.legend(['Train','Validation', 'Validation loss threshold'])\n",
    "    ax.set_xlabel('Number of trained batches')    \n",
    "    ax.grid()\n",
    "    \n",
    "    \n",
    "    fig.canvas.draw()"
   ]
  },
  {
   "cell_type": "markdown",
   "metadata": {
    "deletable": false,
    "editable": false,
    "nbgrader": {
     "cell_type": "markdown",
     "checksum": "bc5fa6d5b913a0afba5801224524d324",
     "grade": false,
     "grade_id": "cell-3f9b1c062f444a2d",
     "locked": true,
     "schema_version": 3,
     "solution": false
    }
   },
   "source": [
    "Note that now the validation set metrics are computed using batches (instead of the entire dataset in one go, like we did in task 1) in order to reduce memory usage. It's also noteworthy that we're computing both losses using teacher forcing."
   ]
  },
  {
   "cell_type": "markdown",
   "metadata": {
    "deletable": false,
    "editable": false,
    "nbgrader": {
     "cell_type": "markdown",
     "checksum": "5e6b74fa61252b67fcd9d10d5c397f3f",
     "grade": false,
     "grade_id": "cell-bd4c43ab07d6c35c",
     "locked": true,
     "schema_version": 3,
     "solution": false
    }
   },
   "source": [
    "With these helper functions we can write the train function in a very similar way to task 1:"
   ]
  },
  {
   "cell_type": "code",
   "execution_count": 39,
   "metadata": {
    "deletable": false,
    "editable": false,
    "nbgrader": {
     "cell_type": "code",
     "checksum": "c0ea7958ff78bd6f00830ac4eb44dbe0",
     "grade": false,
     "grade_id": "cell-23110376805bb695",
     "locked": true,
     "schema_version": 3,
     "solution": false
    }
   },
   "outputs": [],
   "source": [
    "from torch.utils.data import DataLoader\n",
    "from torch.optim import Adam\n",
    "\n",
    "def train(translator, n_epochs, learning_rate, batch_size, train_dataset, val_dataset):\n",
    "    \n",
    "    # Setup the figure for plotting progress during training\n",
    "    %matplotlib notebook\n",
    "    fig, ax = plt.subplots(figsize=(5, 4))\n",
    "    plt.ion()\n",
    "    plot_interval = 100\n",
    "    \n",
    "    # Create arrays to average training metrics across batches\n",
    "    losses = []\n",
    "    \n",
    "    # Create dictionaries to hold the computed metrics in\n",
    "    train_data = {'losses': []}\n",
    "    val_data = {'losses': []}\n",
    "    \n",
    "    optimizer = Adam(translator.parameters(), lr=learning_rate, weight_decay=1e-4)\n",
    "    train_data_loader = DataLoader(train_dataset, batch_size=batch_size, shuffle=True, drop_last=True)\n",
    "    val_data_loader = DataLoader(val_dataset, batch_size=batch_size, shuffle=False, drop_last=False)\n",
    "    batch_idxs = []\n",
    "    \n",
    "    # Training loop\n",
    "    i_batch = 0\n",
    "    for n in range(n_epochs):\n",
    "        for i, (x_batch, y_batch) in enumerate(train_data_loader):\n",
    "            i_batch += 1\n",
    "            \n",
    "            # Put data in the correct device\n",
    "            x_batch = x_batch.to(device)\n",
    "            y_batch = y_batch.to(device)\n",
    "            \n",
    "            # Compute loss and outputs\n",
    "            loss = train_batch(translator, x_batch, y_batch, optimizer)\n",
    "            \n",
    "            # Aggregate for later averaging\n",
    "            losses.append(loss)\n",
    "            \n",
    "            # Compute metrics and plot after every `plot_interval` batches\n",
    "            if i % plot_interval == 0:\n",
    "              \n",
    "                val_loss = compute_metrics_on_validation_set(translator, val_data_loader)\n",
    "                \n",
    "                val_data['losses'].append(val_loss)\n",
    "                train_data['losses'].append(sum(losses)/len(losses))\n",
    "                batch_idxs.append(i_batch)\n",
    "\n",
    "                losses = []\n",
    "\n",
    "                plot_metrics(fig, ax, batch_idxs, train_data['losses'], val_data['losses'])\n",
    "                \n",
    "    return y_batch"
   ]
  },
  {
   "cell_type": "markdown",
   "metadata": {
    "deletable": false,
    "editable": false,
    "nbgrader": {
     "cell_type": "markdown",
     "checksum": "f91cb5336ca4537fbf022992632cd909",
     "grade": false,
     "grade_id": "cell-fd36bbe465cd74d0",
     "locked": true,
     "schema_version": 3,
     "solution": false
    }
   },
   "source": [
    "And we can now actually perform the training! Create a `Translator` object in the next cell and train it using the `train` function. Tune the hyper-parameters so that the validation loss ends below 1.\n",
    "\n",
    "**Tips**:\n",
    "- Tuning the hyper-parameters (number of hidden units, learning rate, batch size, etc) will take some trial-and-error. Try simple things first, and then once you manage to train them, start scaling up. Also, have in mind the bias-variance tradeoff mentioned in the lectures.\n",
    "- When tuning the learning rate, focus first on being able to decrease the training loss. Keep decreasing the learning rate until that starts happening."
   ]
  },
  {
   "cell_type": "code",
   "execution_count": 40,
   "metadata": {
    "deletable": false,
    "nbgrader": {
     "cell_type": "code",
     "checksum": "568b515d4bf09d5de649e81ab40799f9",
     "grade": true,
     "grade_id": "cell-7c18b8ba0338ce9e",
     "locked": false,
     "points": 0,
     "schema_version": 3,
     "solution": true
    }
   },
   "outputs": [
    {
     "data": {
      "application/javascript": [
       "/* Put everything inside the global mpl namespace */\n",
       "window.mpl = {};\n",
       "\n",
       "\n",
       "mpl.get_websocket_type = function() {\n",
       "    if (typeof(WebSocket) !== 'undefined') {\n",
       "        return WebSocket;\n",
       "    } else if (typeof(MozWebSocket) !== 'undefined') {\n",
       "        return MozWebSocket;\n",
       "    } else {\n",
       "        alert('Your browser does not have WebSocket support. ' +\n",
       "              'Please try Chrome, Safari or Firefox ≥ 6. ' +\n",
       "              'Firefox 4 and 5 are also supported but you ' +\n",
       "              'have to enable WebSockets in about:config.');\n",
       "    };\n",
       "}\n",
       "\n",
       "mpl.figure = function(figure_id, websocket, ondownload, parent_element) {\n",
       "    this.id = figure_id;\n",
       "\n",
       "    this.ws = websocket;\n",
       "\n",
       "    this.supports_binary = (this.ws.binaryType != undefined);\n",
       "\n",
       "    if (!this.supports_binary) {\n",
       "        var warnings = document.getElementById(\"mpl-warnings\");\n",
       "        if (warnings) {\n",
       "            warnings.style.display = 'block';\n",
       "            warnings.textContent = (\n",
       "                \"This browser does not support binary websocket messages. \" +\n",
       "                    \"Performance may be slow.\");\n",
       "        }\n",
       "    }\n",
       "\n",
       "    this.imageObj = new Image();\n",
       "\n",
       "    this.context = undefined;\n",
       "    this.message = undefined;\n",
       "    this.canvas = undefined;\n",
       "    this.rubberband_canvas = undefined;\n",
       "    this.rubberband_context = undefined;\n",
       "    this.format_dropdown = undefined;\n",
       "\n",
       "    this.image_mode = 'full';\n",
       "\n",
       "    this.root = $('<div/>');\n",
       "    this._root_extra_style(this.root)\n",
       "    this.root.attr('style', 'display: inline-block');\n",
       "\n",
       "    $(parent_element).append(this.root);\n",
       "\n",
       "    this._init_header(this);\n",
       "    this._init_canvas(this);\n",
       "    this._init_toolbar(this);\n",
       "\n",
       "    var fig = this;\n",
       "\n",
       "    this.waiting = false;\n",
       "\n",
       "    this.ws.onopen =  function () {\n",
       "            fig.send_message(\"supports_binary\", {value: fig.supports_binary});\n",
       "            fig.send_message(\"send_image_mode\", {});\n",
       "            if (mpl.ratio != 1) {\n",
       "                fig.send_message(\"set_dpi_ratio\", {'dpi_ratio': mpl.ratio});\n",
       "            }\n",
       "            fig.send_message(\"refresh\", {});\n",
       "        }\n",
       "\n",
       "    this.imageObj.onload = function() {\n",
       "            if (fig.image_mode == 'full') {\n",
       "                // Full images could contain transparency (where diff images\n",
       "                // almost always do), so we need to clear the canvas so that\n",
       "                // there is no ghosting.\n",
       "                fig.context.clearRect(0, 0, fig.canvas.width, fig.canvas.height);\n",
       "            }\n",
       "            fig.context.drawImage(fig.imageObj, 0, 0);\n",
       "        };\n",
       "\n",
       "    this.imageObj.onunload = function() {\n",
       "        fig.ws.close();\n",
       "    }\n",
       "\n",
       "    this.ws.onmessage = this._make_on_message_function(this);\n",
       "\n",
       "    this.ondownload = ondownload;\n",
       "}\n",
       "\n",
       "mpl.figure.prototype._init_header = function() {\n",
       "    var titlebar = $(\n",
       "        '<div class=\"ui-dialog-titlebar ui-widget-header ui-corner-all ' +\n",
       "        'ui-helper-clearfix\"/>');\n",
       "    var titletext = $(\n",
       "        '<div class=\"ui-dialog-title\" style=\"width: 100%; ' +\n",
       "        'text-align: center; padding: 3px;\"/>');\n",
       "    titlebar.append(titletext)\n",
       "    this.root.append(titlebar);\n",
       "    this.header = titletext[0];\n",
       "}\n",
       "\n",
       "\n",
       "\n",
       "mpl.figure.prototype._canvas_extra_style = function(canvas_div) {\n",
       "\n",
       "}\n",
       "\n",
       "\n",
       "mpl.figure.prototype._root_extra_style = function(canvas_div) {\n",
       "\n",
       "}\n",
       "\n",
       "mpl.figure.prototype._init_canvas = function() {\n",
       "    var fig = this;\n",
       "\n",
       "    var canvas_div = $('<div/>');\n",
       "\n",
       "    canvas_div.attr('style', 'position: relative; clear: both; outline: 0');\n",
       "\n",
       "    function canvas_keyboard_event(event) {\n",
       "        return fig.key_event(event, event['data']);\n",
       "    }\n",
       "\n",
       "    canvas_div.keydown('key_press', canvas_keyboard_event);\n",
       "    canvas_div.keyup('key_release', canvas_keyboard_event);\n",
       "    this.canvas_div = canvas_div\n",
       "    this._canvas_extra_style(canvas_div)\n",
       "    this.root.append(canvas_div);\n",
       "\n",
       "    var canvas = $('<canvas/>');\n",
       "    canvas.addClass('mpl-canvas');\n",
       "    canvas.attr('style', \"left: 0; top: 0; z-index: 0; outline: 0\")\n",
       "\n",
       "    this.canvas = canvas[0];\n",
       "    this.context = canvas[0].getContext(\"2d\");\n",
       "\n",
       "    var backingStore = this.context.backingStorePixelRatio ||\n",
       "\tthis.context.webkitBackingStorePixelRatio ||\n",
       "\tthis.context.mozBackingStorePixelRatio ||\n",
       "\tthis.context.msBackingStorePixelRatio ||\n",
       "\tthis.context.oBackingStorePixelRatio ||\n",
       "\tthis.context.backingStorePixelRatio || 1;\n",
       "\n",
       "    mpl.ratio = (window.devicePixelRatio || 1) / backingStore;\n",
       "\n",
       "    var rubberband = $('<canvas/>');\n",
       "    rubberband.attr('style', \"position: absolute; left: 0; top: 0; z-index: 1;\")\n",
       "\n",
       "    var pass_mouse_events = true;\n",
       "\n",
       "    canvas_div.resizable({\n",
       "        start: function(event, ui) {\n",
       "            pass_mouse_events = false;\n",
       "        },\n",
       "        resize: function(event, ui) {\n",
       "            fig.request_resize(ui.size.width, ui.size.height);\n",
       "        },\n",
       "        stop: function(event, ui) {\n",
       "            pass_mouse_events = true;\n",
       "            fig.request_resize(ui.size.width, ui.size.height);\n",
       "        },\n",
       "    });\n",
       "\n",
       "    function mouse_event_fn(event) {\n",
       "        if (pass_mouse_events)\n",
       "            return fig.mouse_event(event, event['data']);\n",
       "    }\n",
       "\n",
       "    rubberband.mousedown('button_press', mouse_event_fn);\n",
       "    rubberband.mouseup('button_release', mouse_event_fn);\n",
       "    // Throttle sequential mouse events to 1 every 20ms.\n",
       "    rubberband.mousemove('motion_notify', mouse_event_fn);\n",
       "\n",
       "    rubberband.mouseenter('figure_enter', mouse_event_fn);\n",
       "    rubberband.mouseleave('figure_leave', mouse_event_fn);\n",
       "\n",
       "    canvas_div.on(\"wheel\", function (event) {\n",
       "        event = event.originalEvent;\n",
       "        event['data'] = 'scroll'\n",
       "        if (event.deltaY < 0) {\n",
       "            event.step = 1;\n",
       "        } else {\n",
       "            event.step = -1;\n",
       "        }\n",
       "        mouse_event_fn(event);\n",
       "    });\n",
       "\n",
       "    canvas_div.append(canvas);\n",
       "    canvas_div.append(rubberband);\n",
       "\n",
       "    this.rubberband = rubberband;\n",
       "    this.rubberband_canvas = rubberband[0];\n",
       "    this.rubberband_context = rubberband[0].getContext(\"2d\");\n",
       "    this.rubberband_context.strokeStyle = \"#000000\";\n",
       "\n",
       "    this._resize_canvas = function(width, height) {\n",
       "        // Keep the size of the canvas, canvas container, and rubber band\n",
       "        // canvas in synch.\n",
       "        canvas_div.css('width', width)\n",
       "        canvas_div.css('height', height)\n",
       "\n",
       "        canvas.attr('width', width * mpl.ratio);\n",
       "        canvas.attr('height', height * mpl.ratio);\n",
       "        canvas.attr('style', 'width: ' + width + 'px; height: ' + height + 'px;');\n",
       "\n",
       "        rubberband.attr('width', width);\n",
       "        rubberband.attr('height', height);\n",
       "    }\n",
       "\n",
       "    // Set the figure to an initial 600x600px, this will subsequently be updated\n",
       "    // upon first draw.\n",
       "    this._resize_canvas(600, 600);\n",
       "\n",
       "    // Disable right mouse context menu.\n",
       "    $(this.rubberband_canvas).bind(\"contextmenu\",function(e){\n",
       "        return false;\n",
       "    });\n",
       "\n",
       "    function set_focus () {\n",
       "        canvas.focus();\n",
       "        canvas_div.focus();\n",
       "    }\n",
       "\n",
       "    window.setTimeout(set_focus, 100);\n",
       "}\n",
       "\n",
       "mpl.figure.prototype._init_toolbar = function() {\n",
       "    var fig = this;\n",
       "\n",
       "    var nav_element = $('<div/>');\n",
       "    nav_element.attr('style', 'width: 100%');\n",
       "    this.root.append(nav_element);\n",
       "\n",
       "    // Define a callback function for later on.\n",
       "    function toolbar_event(event) {\n",
       "        return fig.toolbar_button_onclick(event['data']);\n",
       "    }\n",
       "    function toolbar_mouse_event(event) {\n",
       "        return fig.toolbar_button_onmouseover(event['data']);\n",
       "    }\n",
       "\n",
       "    for(var toolbar_ind in mpl.toolbar_items) {\n",
       "        var name = mpl.toolbar_items[toolbar_ind][0];\n",
       "        var tooltip = mpl.toolbar_items[toolbar_ind][1];\n",
       "        var image = mpl.toolbar_items[toolbar_ind][2];\n",
       "        var method_name = mpl.toolbar_items[toolbar_ind][3];\n",
       "\n",
       "        if (!name) {\n",
       "            // put a spacer in here.\n",
       "            continue;\n",
       "        }\n",
       "        var button = $('<button/>');\n",
       "        button.addClass('ui-button ui-widget ui-state-default ui-corner-all ' +\n",
       "                        'ui-button-icon-only');\n",
       "        button.attr('role', 'button');\n",
       "        button.attr('aria-disabled', 'false');\n",
       "        button.click(method_name, toolbar_event);\n",
       "        button.mouseover(tooltip, toolbar_mouse_event);\n",
       "\n",
       "        var icon_img = $('<span/>');\n",
       "        icon_img.addClass('ui-button-icon-primary ui-icon');\n",
       "        icon_img.addClass(image);\n",
       "        icon_img.addClass('ui-corner-all');\n",
       "\n",
       "        var tooltip_span = $('<span/>');\n",
       "        tooltip_span.addClass('ui-button-text');\n",
       "        tooltip_span.html(tooltip);\n",
       "\n",
       "        button.append(icon_img);\n",
       "        button.append(tooltip_span);\n",
       "\n",
       "        nav_element.append(button);\n",
       "    }\n",
       "\n",
       "    var fmt_picker_span = $('<span/>');\n",
       "\n",
       "    var fmt_picker = $('<select/>');\n",
       "    fmt_picker.addClass('mpl-toolbar-option ui-widget ui-widget-content');\n",
       "    fmt_picker_span.append(fmt_picker);\n",
       "    nav_element.append(fmt_picker_span);\n",
       "    this.format_dropdown = fmt_picker[0];\n",
       "\n",
       "    for (var ind in mpl.extensions) {\n",
       "        var fmt = mpl.extensions[ind];\n",
       "        var option = $(\n",
       "            '<option/>', {selected: fmt === mpl.default_extension}).html(fmt);\n",
       "        fmt_picker.append(option);\n",
       "    }\n",
       "\n",
       "    // Add hover states to the ui-buttons\n",
       "    $( \".ui-button\" ).hover(\n",
       "        function() { $(this).addClass(\"ui-state-hover\");},\n",
       "        function() { $(this).removeClass(\"ui-state-hover\");}\n",
       "    );\n",
       "\n",
       "    var status_bar = $('<span class=\"mpl-message\"/>');\n",
       "    nav_element.append(status_bar);\n",
       "    this.message = status_bar[0];\n",
       "}\n",
       "\n",
       "mpl.figure.prototype.request_resize = function(x_pixels, y_pixels) {\n",
       "    // Request matplotlib to resize the figure. Matplotlib will then trigger a resize in the client,\n",
       "    // which will in turn request a refresh of the image.\n",
       "    this.send_message('resize', {'width': x_pixels, 'height': y_pixels});\n",
       "}\n",
       "\n",
       "mpl.figure.prototype.send_message = function(type, properties) {\n",
       "    properties['type'] = type;\n",
       "    properties['figure_id'] = this.id;\n",
       "    this.ws.send(JSON.stringify(properties));\n",
       "}\n",
       "\n",
       "mpl.figure.prototype.send_draw_message = function() {\n",
       "    if (!this.waiting) {\n",
       "        this.waiting = true;\n",
       "        this.ws.send(JSON.stringify({type: \"draw\", figure_id: this.id}));\n",
       "    }\n",
       "}\n",
       "\n",
       "\n",
       "mpl.figure.prototype.handle_save = function(fig, msg) {\n",
       "    var format_dropdown = fig.format_dropdown;\n",
       "    var format = format_dropdown.options[format_dropdown.selectedIndex].value;\n",
       "    fig.ondownload(fig, format);\n",
       "}\n",
       "\n",
       "\n",
       "mpl.figure.prototype.handle_resize = function(fig, msg) {\n",
       "    var size = msg['size'];\n",
       "    if (size[0] != fig.canvas.width || size[1] != fig.canvas.height) {\n",
       "        fig._resize_canvas(size[0], size[1]);\n",
       "        fig.send_message(\"refresh\", {});\n",
       "    };\n",
       "}\n",
       "\n",
       "mpl.figure.prototype.handle_rubberband = function(fig, msg) {\n",
       "    var x0 = msg['x0'] / mpl.ratio;\n",
       "    var y0 = (fig.canvas.height - msg['y0']) / mpl.ratio;\n",
       "    var x1 = msg['x1'] / mpl.ratio;\n",
       "    var y1 = (fig.canvas.height - msg['y1']) / mpl.ratio;\n",
       "    x0 = Math.floor(x0) + 0.5;\n",
       "    y0 = Math.floor(y0) + 0.5;\n",
       "    x1 = Math.floor(x1) + 0.5;\n",
       "    y1 = Math.floor(y1) + 0.5;\n",
       "    var min_x = Math.min(x0, x1);\n",
       "    var min_y = Math.min(y0, y1);\n",
       "    var width = Math.abs(x1 - x0);\n",
       "    var height = Math.abs(y1 - y0);\n",
       "\n",
       "    fig.rubberband_context.clearRect(\n",
       "        0, 0, fig.canvas.width / mpl.ratio, fig.canvas.height / mpl.ratio);\n",
       "\n",
       "    fig.rubberband_context.strokeRect(min_x, min_y, width, height);\n",
       "}\n",
       "\n",
       "mpl.figure.prototype.handle_figure_label = function(fig, msg) {\n",
       "    // Updates the figure title.\n",
       "    fig.header.textContent = msg['label'];\n",
       "}\n",
       "\n",
       "mpl.figure.prototype.handle_cursor = function(fig, msg) {\n",
       "    var cursor = msg['cursor'];\n",
       "    switch(cursor)\n",
       "    {\n",
       "    case 0:\n",
       "        cursor = 'pointer';\n",
       "        break;\n",
       "    case 1:\n",
       "        cursor = 'default';\n",
       "        break;\n",
       "    case 2:\n",
       "        cursor = 'crosshair';\n",
       "        break;\n",
       "    case 3:\n",
       "        cursor = 'move';\n",
       "        break;\n",
       "    }\n",
       "    fig.rubberband_canvas.style.cursor = cursor;\n",
       "}\n",
       "\n",
       "mpl.figure.prototype.handle_message = function(fig, msg) {\n",
       "    fig.message.textContent = msg['message'];\n",
       "}\n",
       "\n",
       "mpl.figure.prototype.handle_draw = function(fig, msg) {\n",
       "    // Request the server to send over a new figure.\n",
       "    fig.send_draw_message();\n",
       "}\n",
       "\n",
       "mpl.figure.prototype.handle_image_mode = function(fig, msg) {\n",
       "    fig.image_mode = msg['mode'];\n",
       "}\n",
       "\n",
       "mpl.figure.prototype.updated_canvas_event = function() {\n",
       "    // Called whenever the canvas gets updated.\n",
       "    this.send_message(\"ack\", {});\n",
       "}\n",
       "\n",
       "// A function to construct a web socket function for onmessage handling.\n",
       "// Called in the figure constructor.\n",
       "mpl.figure.prototype._make_on_message_function = function(fig) {\n",
       "    return function socket_on_message(evt) {\n",
       "        if (evt.data instanceof Blob) {\n",
       "            /* FIXME: We get \"Resource interpreted as Image but\n",
       "             * transferred with MIME type text/plain:\" errors on\n",
       "             * Chrome.  But how to set the MIME type?  It doesn't seem\n",
       "             * to be part of the websocket stream */\n",
       "            evt.data.type = \"image/png\";\n",
       "\n",
       "            /* Free the memory for the previous frames */\n",
       "            if (fig.imageObj.src) {\n",
       "                (window.URL || window.webkitURL).revokeObjectURL(\n",
       "                    fig.imageObj.src);\n",
       "            }\n",
       "\n",
       "            fig.imageObj.src = (window.URL || window.webkitURL).createObjectURL(\n",
       "                evt.data);\n",
       "            fig.updated_canvas_event();\n",
       "            fig.waiting = false;\n",
       "            return;\n",
       "        }\n",
       "        else if (typeof evt.data === 'string' && evt.data.slice(0, 21) == \"data:image/png;base64\") {\n",
       "            fig.imageObj.src = evt.data;\n",
       "            fig.updated_canvas_event();\n",
       "            fig.waiting = false;\n",
       "            return;\n",
       "        }\n",
       "\n",
       "        var msg = JSON.parse(evt.data);\n",
       "        var msg_type = msg['type'];\n",
       "\n",
       "        // Call the  \"handle_{type}\" callback, which takes\n",
       "        // the figure and JSON message as its only arguments.\n",
       "        try {\n",
       "            var callback = fig[\"handle_\" + msg_type];\n",
       "        } catch (e) {\n",
       "            console.log(\"No handler for the '\" + msg_type + \"' message type: \", msg);\n",
       "            return;\n",
       "        }\n",
       "\n",
       "        if (callback) {\n",
       "            try {\n",
       "                // console.log(\"Handling '\" + msg_type + \"' message: \", msg);\n",
       "                callback(fig, msg);\n",
       "            } catch (e) {\n",
       "                console.log(\"Exception inside the 'handler_\" + msg_type + \"' callback:\", e, e.stack, msg);\n",
       "            }\n",
       "        }\n",
       "    };\n",
       "}\n",
       "\n",
       "// from http://stackoverflow.com/questions/1114465/getting-mouse-location-in-canvas\n",
       "mpl.findpos = function(e) {\n",
       "    //this section is from http://www.quirksmode.org/js/events_properties.html\n",
       "    var targ;\n",
       "    if (!e)\n",
       "        e = window.event;\n",
       "    if (e.target)\n",
       "        targ = e.target;\n",
       "    else if (e.srcElement)\n",
       "        targ = e.srcElement;\n",
       "    if (targ.nodeType == 3) // defeat Safari bug\n",
       "        targ = targ.parentNode;\n",
       "\n",
       "    // jQuery normalizes the pageX and pageY\n",
       "    // pageX,Y are the mouse positions relative to the document\n",
       "    // offset() returns the position of the element relative to the document\n",
       "    var x = e.pageX - $(targ).offset().left;\n",
       "    var y = e.pageY - $(targ).offset().top;\n",
       "\n",
       "    return {\"x\": x, \"y\": y};\n",
       "};\n",
       "\n",
       "/*\n",
       " * return a copy of an object with only non-object keys\n",
       " * we need this to avoid circular references\n",
       " * http://stackoverflow.com/a/24161582/3208463\n",
       " */\n",
       "function simpleKeys (original) {\n",
       "  return Object.keys(original).reduce(function (obj, key) {\n",
       "    if (typeof original[key] !== 'object')\n",
       "        obj[key] = original[key]\n",
       "    return obj;\n",
       "  }, {});\n",
       "}\n",
       "\n",
       "mpl.figure.prototype.mouse_event = function(event, name) {\n",
       "    var canvas_pos = mpl.findpos(event)\n",
       "\n",
       "    if (name === 'button_press')\n",
       "    {\n",
       "        this.canvas.focus();\n",
       "        this.canvas_div.focus();\n",
       "    }\n",
       "\n",
       "    var x = canvas_pos.x * mpl.ratio;\n",
       "    var y = canvas_pos.y * mpl.ratio;\n",
       "\n",
       "    this.send_message(name, {x: x, y: y, button: event.button,\n",
       "                             step: event.step,\n",
       "                             guiEvent: simpleKeys(event)});\n",
       "\n",
       "    /* This prevents the web browser from automatically changing to\n",
       "     * the text insertion cursor when the button is pressed.  We want\n",
       "     * to control all of the cursor setting manually through the\n",
       "     * 'cursor' event from matplotlib */\n",
       "    event.preventDefault();\n",
       "    return false;\n",
       "}\n",
       "\n",
       "mpl.figure.prototype._key_event_extra = function(event, name) {\n",
       "    // Handle any extra behaviour associated with a key event\n",
       "}\n",
       "\n",
       "mpl.figure.prototype.key_event = function(event, name) {\n",
       "\n",
       "    // Prevent repeat events\n",
       "    if (name == 'key_press')\n",
       "    {\n",
       "        if (event.which === this._key)\n",
       "            return;\n",
       "        else\n",
       "            this._key = event.which;\n",
       "    }\n",
       "    if (name == 'key_release')\n",
       "        this._key = null;\n",
       "\n",
       "    var value = '';\n",
       "    if (event.ctrlKey && event.which != 17)\n",
       "        value += \"ctrl+\";\n",
       "    if (event.altKey && event.which != 18)\n",
       "        value += \"alt+\";\n",
       "    if (event.shiftKey && event.which != 16)\n",
       "        value += \"shift+\";\n",
       "\n",
       "    value += 'k';\n",
       "    value += event.which.toString();\n",
       "\n",
       "    this._key_event_extra(event, name);\n",
       "\n",
       "    this.send_message(name, {key: value,\n",
       "                             guiEvent: simpleKeys(event)});\n",
       "    return false;\n",
       "}\n",
       "\n",
       "mpl.figure.prototype.toolbar_button_onclick = function(name) {\n",
       "    if (name == 'download') {\n",
       "        this.handle_save(this, null);\n",
       "    } else {\n",
       "        this.send_message(\"toolbar_button\", {name: name});\n",
       "    }\n",
       "};\n",
       "\n",
       "mpl.figure.prototype.toolbar_button_onmouseover = function(tooltip) {\n",
       "    this.message.textContent = tooltip;\n",
       "};\n",
       "mpl.toolbar_items = [[\"Home\", \"Reset original view\", \"fa fa-home icon-home\", \"home\"], [\"Back\", \"Back to previous view\", \"fa fa-arrow-left icon-arrow-left\", \"back\"], [\"Forward\", \"Forward to next view\", \"fa fa-arrow-right icon-arrow-right\", \"forward\"], [\"\", \"\", \"\", \"\"], [\"Pan\", \"Pan axes with left mouse, zoom with right\", \"fa fa-arrows icon-move\", \"pan\"], [\"Zoom\", \"Zoom to rectangle\", \"fa fa-square-o icon-check-empty\", \"zoom\"], [\"\", \"\", \"\", \"\"], [\"Download\", \"Download plot\", \"fa fa-floppy-o icon-save\", \"download\"]];\n",
       "\n",
       "mpl.extensions = [\"eps\", \"jpeg\", \"pdf\", \"png\", \"ps\", \"raw\", \"svg\", \"tif\"];\n",
       "\n",
       "mpl.default_extension = \"png\";var comm_websocket_adapter = function(comm) {\n",
       "    // Create a \"websocket\"-like object which calls the given IPython comm\n",
       "    // object with the appropriate methods. Currently this is a non binary\n",
       "    // socket, so there is still some room for performance tuning.\n",
       "    var ws = {};\n",
       "\n",
       "    ws.close = function() {\n",
       "        comm.close()\n",
       "    };\n",
       "    ws.send = function(m) {\n",
       "        //console.log('sending', m);\n",
       "        comm.send(m);\n",
       "    };\n",
       "    // Register the callback with on_msg.\n",
       "    comm.on_msg(function(msg) {\n",
       "        //console.log('receiving', msg['content']['data'], msg);\n",
       "        // Pass the mpl event to the overridden (by mpl) onmessage function.\n",
       "        ws.onmessage(msg['content']['data'])\n",
       "    });\n",
       "    return ws;\n",
       "}\n",
       "\n",
       "mpl.mpl_figure_comm = function(comm, msg) {\n",
       "    // This is the function which gets called when the mpl process\n",
       "    // starts-up an IPython Comm through the \"matplotlib\" channel.\n",
       "\n",
       "    var id = msg.content.data.id;\n",
       "    // Get hold of the div created by the display call when the Comm\n",
       "    // socket was opened in Python.\n",
       "    var element = $(\"#\" + id);\n",
       "    var ws_proxy = comm_websocket_adapter(comm)\n",
       "\n",
       "    function ondownload(figure, format) {\n",
       "        window.open(figure.imageObj.src);\n",
       "    }\n",
       "\n",
       "    var fig = new mpl.figure(id, ws_proxy,\n",
       "                           ondownload,\n",
       "                           element.get(0));\n",
       "\n",
       "    // Call onopen now - mpl needs it, as it is assuming we've passed it a real\n",
       "    // web socket which is closed, not our websocket->open comm proxy.\n",
       "    ws_proxy.onopen();\n",
       "\n",
       "    fig.parent_element = element.get(0);\n",
       "    fig.cell_info = mpl.find_output_cell(\"<div id='\" + id + \"'></div>\");\n",
       "    if (!fig.cell_info) {\n",
       "        console.error(\"Failed to find cell for figure\", id, fig);\n",
       "        return;\n",
       "    }\n",
       "\n",
       "    var output_index = fig.cell_info[2]\n",
       "    var cell = fig.cell_info[0];\n",
       "\n",
       "};\n",
       "\n",
       "mpl.figure.prototype.handle_close = function(fig, msg) {\n",
       "    var width = fig.canvas.width/mpl.ratio\n",
       "    fig.root.unbind('remove')\n",
       "\n",
       "    // Update the output cell to use the data from the current canvas.\n",
       "    fig.push_to_output();\n",
       "    var dataURL = fig.canvas.toDataURL();\n",
       "    // Re-enable the keyboard manager in IPython - without this line, in FF,\n",
       "    // the notebook keyboard shortcuts fail.\n",
       "    IPython.keyboard_manager.enable()\n",
       "    $(fig.parent_element).html('<img src=\"' + dataURL + '\" width=\"' + width + '\">');\n",
       "    fig.close_ws(fig, msg);\n",
       "}\n",
       "\n",
       "mpl.figure.prototype.close_ws = function(fig, msg){\n",
       "    fig.send_message('closing', msg);\n",
       "    // fig.ws.close()\n",
       "}\n",
       "\n",
       "mpl.figure.prototype.push_to_output = function(remove_interactive) {\n",
       "    // Turn the data on the canvas into data in the output cell.\n",
       "    var width = this.canvas.width/mpl.ratio\n",
       "    var dataURL = this.canvas.toDataURL();\n",
       "    this.cell_info[1]['text/html'] = '<img src=\"' + dataURL + '\" width=\"' + width + '\">';\n",
       "}\n",
       "\n",
       "mpl.figure.prototype.updated_canvas_event = function() {\n",
       "    // Tell IPython that the notebook contents must change.\n",
       "    IPython.notebook.set_dirty(true);\n",
       "    this.send_message(\"ack\", {});\n",
       "    var fig = this;\n",
       "    // Wait a second, then push the new image to the DOM so\n",
       "    // that it is saved nicely (might be nice to debounce this).\n",
       "    setTimeout(function () { fig.push_to_output() }, 1000);\n",
       "}\n",
       "\n",
       "mpl.figure.prototype._init_toolbar = function() {\n",
       "    var fig = this;\n",
       "\n",
       "    var nav_element = $('<div/>');\n",
       "    nav_element.attr('style', 'width: 100%');\n",
       "    this.root.append(nav_element);\n",
       "\n",
       "    // Define a callback function for later on.\n",
       "    function toolbar_event(event) {\n",
       "        return fig.toolbar_button_onclick(event['data']);\n",
       "    }\n",
       "    function toolbar_mouse_event(event) {\n",
       "        return fig.toolbar_button_onmouseover(event['data']);\n",
       "    }\n",
       "\n",
       "    for(var toolbar_ind in mpl.toolbar_items){\n",
       "        var name = mpl.toolbar_items[toolbar_ind][0];\n",
       "        var tooltip = mpl.toolbar_items[toolbar_ind][1];\n",
       "        var image = mpl.toolbar_items[toolbar_ind][2];\n",
       "        var method_name = mpl.toolbar_items[toolbar_ind][3];\n",
       "\n",
       "        if (!name) { continue; };\n",
       "\n",
       "        var button = $('<button class=\"btn btn-default\" href=\"#\" title=\"' + name + '\"><i class=\"fa ' + image + ' fa-lg\"></i></button>');\n",
       "        button.click(method_name, toolbar_event);\n",
       "        button.mouseover(tooltip, toolbar_mouse_event);\n",
       "        nav_element.append(button);\n",
       "    }\n",
       "\n",
       "    // Add the status bar.\n",
       "    var status_bar = $('<span class=\"mpl-message\" style=\"text-align:right; float: right;\"/>');\n",
       "    nav_element.append(status_bar);\n",
       "    this.message = status_bar[0];\n",
       "\n",
       "    // Add the close button to the window.\n",
       "    var buttongrp = $('<div class=\"btn-group inline pull-right\"></div>');\n",
       "    var button = $('<button class=\"btn btn-mini btn-primary\" href=\"#\" title=\"Stop Interaction\"><i class=\"fa fa-power-off icon-remove icon-large\"></i></button>');\n",
       "    button.click(function (evt) { fig.handle_close(fig, {}); } );\n",
       "    button.mouseover('Stop Interaction', toolbar_mouse_event);\n",
       "    buttongrp.append(button);\n",
       "    var titlebar = this.root.find($('.ui-dialog-titlebar'));\n",
       "    titlebar.prepend(buttongrp);\n",
       "}\n",
       "\n",
       "mpl.figure.prototype._root_extra_style = function(el){\n",
       "    var fig = this\n",
       "    el.on(\"remove\", function(){\n",
       "\tfig.close_ws(fig, {});\n",
       "    });\n",
       "}\n",
       "\n",
       "mpl.figure.prototype._canvas_extra_style = function(el){\n",
       "    // this is important to make the div 'focusable\n",
       "    el.attr('tabindex', 0)\n",
       "    // reach out to IPython and tell the keyboard manager to turn it's self\n",
       "    // off when our div gets focus\n",
       "\n",
       "    // location in version 3\n",
       "    if (IPython.notebook.keyboard_manager) {\n",
       "        IPython.notebook.keyboard_manager.register_events(el);\n",
       "    }\n",
       "    else {\n",
       "        // location in version 2\n",
       "        IPython.keyboard_manager.register_events(el);\n",
       "    }\n",
       "\n",
       "}\n",
       "\n",
       "mpl.figure.prototype._key_event_extra = function(event, name) {\n",
       "    var manager = IPython.notebook.keyboard_manager;\n",
       "    if (!manager)\n",
       "        manager = IPython.keyboard_manager;\n",
       "\n",
       "    // Check for shift+enter\n",
       "    if (event.shiftKey && event.which == 13) {\n",
       "        this.canvas_div.blur();\n",
       "        event.shiftKey = false;\n",
       "        // Send a \"J\" for go to next cell\n",
       "        event.which = 74;\n",
       "        event.keyCode = 74;\n",
       "        manager.command_mode();\n",
       "        manager.handle_keydown(event);\n",
       "    }\n",
       "}\n",
       "\n",
       "mpl.figure.prototype.handle_save = function(fig, msg) {\n",
       "    fig.ondownload(fig, null);\n",
       "}\n",
       "\n",
       "\n",
       "mpl.find_output_cell = function(html_output) {\n",
       "    // Return the cell and output element which can be found *uniquely* in the notebook.\n",
       "    // Note - this is a bit hacky, but it is done because the \"notebook_saving.Notebook\"\n",
       "    // IPython event is triggered only after the cells have been serialised, which for\n",
       "    // our purposes (turning an active figure into a static one), is too late.\n",
       "    var cells = IPython.notebook.get_cells();\n",
       "    var ncells = cells.length;\n",
       "    for (var i=0; i<ncells; i++) {\n",
       "        var cell = cells[i];\n",
       "        if (cell.cell_type === 'code'){\n",
       "            for (var j=0; j<cell.output_area.outputs.length; j++) {\n",
       "                var data = cell.output_area.outputs[j];\n",
       "                if (data.data) {\n",
       "                    // IPython >= 3 moved mimebundle to data attribute of output\n",
       "                    data = data.data;\n",
       "                }\n",
       "                if (data['text/html'] == html_output) {\n",
       "                    return [cell, data, j];\n",
       "                }\n",
       "            }\n",
       "        }\n",
       "    }\n",
       "}\n",
       "\n",
       "// Register the function which deals with the matplotlib target/channel.\n",
       "// The kernel may be null if the page has been refreshed.\n",
       "if (IPython.notebook.kernel != null) {\n",
       "    IPython.notebook.kernel.comm_manager.register_target('matplotlib', mpl.mpl_figure_comm);\n",
       "}\n"
      ],
      "text/plain": [
       "<IPython.core.display.Javascript object>"
      ]
     },
     "metadata": {},
     "output_type": "display_data"
    },
    {
     "data": {
      "text/html": [
       "<img src=\"data:image/png;base64,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\" width=\"500\">"
      ],
      "text/plain": [
       "<IPython.core.display.HTML object>"
      ]
     },
     "metadata": {},
     "output_type": "display_data"
    },
    {
     "data": {
      "text/plain": [
       "tensor([[   1,  826,  114,  ...,    0,    0,    0],\n",
       "        [   1,   15,  490,  ...,    0,    0,    0],\n",
       "        [   1,   91,  627,  ...,    0,    0,    0],\n",
       "        ...,\n",
       "        [   1,   17, 1112,  ...,    0,    0,    0],\n",
       "        [   1,   40,  242,  ...,    0,    0,    0],\n",
       "        [   1,  242,  577,  ...,    0,    0,    0]], device='cuda:0')"
      ]
     },
     "execution_count": 40,
     "metadata": {},
     "output_type": "execute_result"
    }
   ],
   "source": [
    "# YOUR CODE HERE\n",
    "n_epochs= 50\n",
    "learning_rate=0.05\n",
    "batch_size=512\n",
    "translator = Translator(input_size=input_lang.n_words,\n",
    "                             embedding_size=100,\n",
    "                             hidden_size=128,\n",
    "                             output_size=output_lang.n_words,\n",
    "                             num_layers=3)\n",
    "train(translator, n_epochs, learning_rate, batch_size, train_dataset, val_dataset)"
   ]
  },
  {
   "cell_type": "markdown",
   "metadata": {
    "deletable": false,
    "editable": false,
    "nbgrader": {
     "cell_type": "markdown",
     "checksum": "789e99e0c508d5552130347eb345db7b",
     "grade": false,
     "grade_id": "cell-dbcee1678cbfb5d4",
     "locked": true,
     "schema_version": 3,
     "solution": false
    }
   },
   "source": [
    "Make sure you get the validation loss down to at least 1.0 before proceeding."
   ]
  },
  {
   "cell_type": "markdown",
   "metadata": {
    "deletable": false,
    "editable": false,
    "nbgrader": {
     "cell_type": "markdown",
     "checksum": "db556efe809c1afc0bb9ad0c998b0663",
     "grade": false,
     "grade_id": "cell-bb406463353d0579",
     "locked": true,
     "schema_version": 3,
     "solution": false
    }
   },
   "source": [
    "### 2.5 Evaluation"
   ]
  },
  {
   "cell_type": "markdown",
   "metadata": {
    "deletable": false,
    "editable": false,
    "nbgrader": {
     "cell_type": "markdown",
     "checksum": "35edaf2bc1257eb910c7608a2900e883",
     "grade": false,
     "grade_id": "cell-fd131b12fbda2d16",
     "locked": true,
     "schema_version": 3,
     "solution": false
    }
   },
   "source": [
    "Now we can evaluate how well our translator performs in unseen sentences. The following functions can be used to streamline the translation process."
   ]
  },
  {
   "cell_type": "code",
   "execution_count": 41,
   "metadata": {
    "deletable": false,
    "editable": false,
    "nbgrader": {
     "cell_type": "code",
     "checksum": "dffa9f741679ff11472bb752eca49334",
     "grade": false,
     "grade_id": "cell-c3e14eb95c6c1574",
     "locked": true,
     "schema_version": 3,
     "solution": false
    }
   },
   "outputs": [],
   "source": [
    "def tensor2str(t, lang):\n",
    "    # Remove batch dimension\n",
    "    t = t[0]\n",
    "    \n",
    "    # Get numpy array\n",
    "    t = t.cpu().numpy()\n",
    "    \n",
    "    # Map each index to its corresponding word\n",
    "    list_words = list(map(lambda i: lang.index2word[i], t))\n",
    "    \n",
    "    sentence = ' '.join(list_words)\n",
    "    return sentence.replace('PAD', '').replace('EOS', '').replace('SOS', '').strip()\n",
    "\n",
    "def translate_sentence(translator, in_sentence, n_max_preds=10):\n",
    "    # Transform input sentence into its tensor representation (and add batch dimension)\n",
    "    input_tensor = sentence2tensor(input_lang, in_sentence)[None, :].to(device=device)\n",
    "    \n",
    "    # Translate using the learned translator\n",
    "    output_tensor = translator.forward_no_teacher(input_tensor, n_max_preds)\n",
    "    \n",
    "    # Transform back to a sentence\n",
    "    out_sentence = tensor2str(output_tensor, output_lang)\n",
    "    \n",
    "    return out_sentence"
   ]
  },
  {
   "cell_type": "markdown",
   "metadata": {
    "deletable": false,
    "editable": false,
    "nbgrader": {
     "cell_type": "markdown",
     "checksum": "502da6deec5f58ed72c21625133900c5",
     "grade": false,
     "grade_id": "cell-c7b3f86a3d43ceb5",
     "locked": true,
     "schema_version": 3,
     "solution": false
    }
   },
   "source": [
    "Using them, it's straightforward to translate new sentences from the test set. Note that we're not using teacher forcing anymore, so it's natural to observe some drop in performance (we're also not printing any special word tokens, like `<SOS>`, or `<PAD>`)."
   ]
  },
  {
   "cell_type": "code",
   "execution_count": 42,
   "metadata": {
    "deletable": false,
    "editable": false,
    "nbgrader": {
     "cell_type": "code",
     "checksum": "01e5329169254de54a55b4d36537cdfb",
     "grade": false,
     "grade_id": "cell-459f18c4c522873c",
     "locked": true,
     "schema_version": 3,
     "solution": false
    }
   },
   "outputs": [
    {
     "name": "stdout",
     "output_type": "stream",
     "text": [
      "Input:\t\t i don t want to hear that\n",
      "Translation:\t no quiero escuchar eso\n",
      "Prediction:\t no quiero escuchar eso\n",
      "\n",
      "Input:\t\t i don t do it for money\n",
      "Translation:\t no lo hago por dinero\n",
      "Prediction:\t no lo haré por dinero\n",
      "\n",
      "Input:\t\t i was having my lunch when the phone rang\n",
      "Translation:\t estaba comiendo cuando sonó el teléfono\n",
      "Prediction:\t tenía las teléfono el teléfono\n",
      "\n",
      "Input:\t\t today i am feeling a lot better\n",
      "Translation:\t hoy me siento mucho mejor\n",
      "Prediction:\t tengo mucho mejor\n",
      "\n",
      "Input:\t\t my father lives in the country\n",
      "Translation:\t mi padre vive en el campo\n",
      "Prediction:\t mi padre vive en el campo\n",
      "\n",
      "Input:\t\t i heard the boys singing\n",
      "Translation:\t oí a los niños cantar\n",
      "Prediction:\t escuché la guerra de esta mujer\n",
      "\n",
      "Input:\t\t i was too tired to walk any more\n",
      "Translation:\t estaba demasiado cansado para seguir caminando\n",
      "Prediction:\t estaba demasiado intentando hacer demasiado\n",
      "\n",
      "Input:\t\t i don t say it without reason\n",
      "Translation:\t no lo digo así como así\n",
      "Prediction:\t no lo digas por favor\n",
      "\n",
      "Input:\t\t the store is already closed\n",
      "Translation:\t la tienda ya está cerrada\n",
      "Prediction:\t la tienda está la puerta\n",
      "\n",
      "Input:\t\t get out of here immediately\n",
      "Translation:\t sal de aquí inmediatamente\n",
      "Prediction:\t no vayas aquí mismo\n",
      "\n"
     ]
    }
   ],
   "source": [
    "n_translations = 10\n",
    "for n in range(n_translations):\n",
    "    i = np.random.randint((len(test_dataset)))\n",
    "    x, y = test_dataset[i]\n",
    "    input_sentence = tensor2str(x[None,:], input_lang)\n",
    "    output_sentence = tensor2str(y[None,:], output_lang)\n",
    "    print('Input:\\t\\t', input_sentence)\n",
    "    print('Translation:\\t', output_sentence)\n",
    "    print('Prediction:\\t', translate_sentence(translator, input_sentence))\n",
    "    print('')"
   ]
  },
  {
   "cell_type": "markdown",
   "metadata": {
    "deletable": false,
    "editable": false,
    "nbgrader": {
     "cell_type": "markdown",
     "checksum": "32885b7548a528a3717b836ae9619a6f",
     "grade": false,
     "grade_id": "cell-fe8f404a74761ed5",
     "locked": true,
     "schema_version": 3,
     "solution": false
    }
   },
   "source": [
    "And we can also translate other sentences we want to (just remember that the input sentence can only contain words from the vocabulary we used to train)."
   ]
  },
  {
   "cell_type": "code",
   "execution_count": 43,
   "metadata": {},
   "outputs": [
    {
     "data": {
      "text/plain": [
       "'es una semana que viene'"
      ]
     },
     "execution_count": 43,
     "metadata": {},
     "output_type": "execute_result"
    }
   ],
   "source": [
    "translate_sentence(translator, 'this is a test sentence')"
   ]
  },
  {
   "cell_type": "markdown",
   "metadata": {
    "deletable": false,
    "editable": false,
    "nbgrader": {
     "cell_type": "markdown",
     "checksum": "83c62244957792e4614850fa34f65b28",
     "grade": false,
     "grade_id": "cell-09a52180cf6aa5ad",
     "locked": true,
     "schema_version": 3,
     "solution": false
    }
   },
   "source": [
    "Finally, in order to get a higher-level view of the performance of your translator across the entire test set, we can compute its [BLEU score](https://en.wikipedia.org/wiki/BLEU). This is a metric whose value ranges from 0 to 1, higher values meaning that the translations are closer to ground-truth. However, only a perfect match between prediction and ground-truth yields a value of 1, so very few translations will be this high. The original [BLEU paper](https://www.aclweb.org/anthology/P02-1040) gives one report of a human baseline for a dataset they used:\n",
    "\n",
    "> (...) on a test corpus of about 500 sentences (40 general news stories), a human translator scored 0.3468 against four references and scored 0.2571 against two references.\n",
    "\n",
    "To compute this metric, we use the `nltk` package:"
   ]
  },
  {
   "cell_type": "code",
   "execution_count": 44,
   "metadata": {
    "deletable": false,
    "editable": false,
    "nbgrader": {
     "cell_type": "code",
     "checksum": "a43315e13f0bf963f2a6b09627ccdd89",
     "grade": false,
     "grade_id": "cell-5df1c6895c7e3fc7",
     "locked": true,
     "schema_version": 3,
     "solution": false
    }
   },
   "outputs": [
    {
     "name": "stdout",
     "output_type": "stream",
     "text": [
      "1000 sentences processed...\n",
      "2000 sentences processed...\n",
      "3000 sentences processed...\n",
      "4000 sentences processed...\n",
      "5000 sentences processed...\n",
      "Finished! The BLEU score is: 0.22958907190162903\n"
     ]
    }
   ],
   "source": [
    "from nltk.translate.bleu_score import corpus_bleu\n",
    "\n",
    "references = []\n",
    "preds = []\n",
    "for i, (x, y) in enumerate(test_dataset):\n",
    "    input_sentence = tensor2str(x[None, :], input_lang)\n",
    "    output_sentence = tensor2str(y[None, :], output_lang)\n",
    "    translated = translate_sentence(translator, input_sentence)   \n",
    "    references.append([output_sentence.split()])\n",
    "    preds.append(translated.split())\n",
    "    \n",
    "    if i % 1000 == 0 and i != 0:\n",
    "        print(i, 'sentences processed...')\n",
    "\n",
    "bleu = corpus_bleu(references, preds)\n",
    "print('Finished! The BLEU score is: {}'.format(bleu))"
   ]
  },
  {
   "cell_type": "markdown",
   "metadata": {
    "deletable": false,
    "editable": false,
    "nbgrader": {
     "cell_type": "markdown",
     "checksum": "f9ca78db00bfad99e7575ed42da16b1b",
     "grade": false,
     "grade_id": "cell-9b25041f9e121f34",
     "locked": true,
     "schema_version": 3,
     "solution": false
    }
   },
   "source": [
    "For us, a value ranging from 0.1 - 0.2 is reasonable (note that performance can be sensitive to the initialization of the network, so it might vary among different runs of the same optimization), specially since we're only comparing to one reference translation."
   ]
  },
  {
   "cell_type": "markdown",
   "metadata": {
    "deletable": false,
    "editable": false,
    "nbgrader": {
     "cell_type": "markdown",
     "checksum": "6e9ca833440393726c6a7d50e284ca64",
     "grade": false,
     "grade_id": "cell-71c02eae358d2a85",
     "locked": true,
     "schema_version": 3,
     "solution": false
    }
   },
   "source": [
    "You have now completed HA2. **Good job!**\n",
    "\n",
    "**Final Question:**\n",
    "What changes could you make to the translator (e.g. architecture, optimization, data used, etc) to improve the end result of your translations? Make three suggestions."
   ]
  },
  {
   "cell_type": "markdown",
   "metadata": {
    "deletable": false,
    "nbgrader": {
     "cell_type": "markdown",
     "checksum": "88e3fbe6f3b37634091a974f5295688b",
     "grade": true,
     "grade_id": "cell-1912255711ce6aa8",
     "locked": false,
     "points": 0,
     "schema_version": 3,
     "solution": true
    }
   },
   "source": [
    "**Your answer:**\n",
    "- Use a larger dataset and create a large vocabolary. Training the network with this will then be able to translate new sentences that we couldn't before.\n",
    "- We could use a pre-trained embeddings package (to counter the computational burden of the larger dataset), which then would be a form of transfer learning. It will then perform better even though we don't have to train the network more.\n",
    "- We could change to a LSTM + attention architecture."
   ]
  },
  {
   "cell_type": "code",
   "execution_count": null,
   "metadata": {},
   "outputs": [],
   "source": []
  }
 ],
 "metadata": {
  "kernelspec": {
   "display_name": "Python 3",
   "language": "python",
   "name": "python3"
  },
  "language_info": {
   "codemirror_mode": {
    "name": "ipython",
    "version": 3
   },
   "file_extension": ".py",
   "mimetype": "text/x-python",
   "name": "python",
   "nbconvert_exporter": "python",
   "pygments_lexer": "ipython3",
   "version": "3.7.4"
  }
 },
 "nbformat": 4,
 "nbformat_minor": 2
}
