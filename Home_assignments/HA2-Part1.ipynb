{
 "cells": [
  {
   "cell_type": "markdown",
   "metadata": {
    "deletable": false,
    "editable": false,
    "nbgrader": {
     "cell_type": "markdown",
     "checksum": "35e22f542837d636834ad6e869d22beb",
     "grade": false,
     "grade_id": "cell-5690119ead85e67e",
     "locked": true,
     "schema_version": 3,
     "solution": false,
     "task": false
    }
   },
   "source": [
    "### Checklist for submission\n",
    "\n",
    "It is extremely important to make sure that:\n",
    "\n",
    "1. Everything runs as expected (no bugs when running cells);\n",
    "2. The output from each cell corresponds to its code (don't change any cell's contents without rerunning it afterwards);\n",
    "3. All outputs are present (don't delete any of the outputs);\n",
    "4. Fill in all the places that say `# YOUR CODE HERE`, or \"**Your answer:** (fill in here)\".\n",
    "5. Never copy/paste any notebook cells. Inserting new cells is allowed, but it should not be necessary.\n",
    "6. The notebook contains some hidden metadata which is important during our grading process. **Make sure not to corrupt any of this metadata!** The metadata may for example be corrupted if you copy/paste any notebook cells, or if you perform an unsuccessful git merge / git pull. It may also be pruned completely if using Google Colab, so watch out for this. Searching for \"nbgrader\" when opening the notebook in a text editor should take you to the important metadata entries.\n",
    "7. Although we will try our very best to avoid this, it may happen that bugs are found after an assignment is released, and that we will push an updated version of the assignment to GitHub. If this happens, it is important that you update to the new version, while making sure the notebook metadata is properly updated as well. The safest way to make sure nothing gets messed up is to start from scratch on a clean updated version of the notebook, copy/pasting your code from the cells of the previous version into the cells of the new version.\n",
    "8. If you need to have multiple parallel versions of this notebook, make sure not to move them to another directory.\n",
    "9. Although not forced to work exclusively in the course Docker environment, you need to make sure that the notebook will run in that environment, i.e. that you have not added any additional dependencies.\n",
    "\n",
    "Failing to meet any of these requirements might lead to either a subtraction of POEs (at best) or a request for resubmission (at worst).\n",
    "\n",
    "We advise you the following steps before submission for ensuring that requirements 1, 2, and 3 are always met: **Restart the kernel** (in the menubar, select Kernel$\\rightarrow$Restart) and then **run all cells** (in the menubar, select Cell$\\rightarrow$Run All). This might require a bit of time, so plan ahead for this (and possibly use Google Cloud's GPU in HA1 and HA2 for this step). Finally press the \"Save and Checkout\" button before handing in, to make sure that all your changes are saved to this .ipynb file."
   ]
  },
  {
   "cell_type": "markdown",
   "metadata": {
    "deletable": false,
    "editable": false,
    "nbgrader": {
     "cell_type": "markdown",
     "checksum": "a6bb874a16c1ff767ac0f37ce0491265",
     "grade": false,
     "grade_id": "cell-774c93bf6433de68",
     "locked": true,
     "schema_version": 3,
     "solution": false,
     "task": false
    }
   },
   "source": [
    "### Fill in name of notebook file\n",
    "This might seem silly, but the version check below needs to know the filename of the current notebook, which is not trivial to find out programmatically.\n",
    "\n",
    "You might want to have several parallel versions of the notebook, and it is fine to rename the notebook as long as it stays in the same directory. **However**, if you do rename it, you also need to update its own filename below:"
   ]
  },
  {
   "cell_type": "code",
   "execution_count": 1,
   "metadata": {},
   "outputs": [],
   "source": [
    "nb_fname = \"HA2-Part1.ipynb\""
   ]
  },
  {
   "cell_type": "markdown",
   "metadata": {
    "deletable": false,
    "editable": false,
    "nbgrader": {
     "cell_type": "markdown",
     "checksum": "a025ba528a4e9c11fc54be126fdffab0",
     "grade": false,
     "grade_id": "cell-5676bcf768a7f9be",
     "locked": true,
     "schema_version": 3,
     "solution": false,
     "task": false
    }
   },
   "source": [
    "### Fill in group number and member names:"
   ]
  },
  {
   "cell_type": "code",
   "execution_count": 2,
   "metadata": {},
   "outputs": [],
   "source": [
    "GROUP = \"Group-02\"\n",
    "NAME1 = \"Anton Öhammar\"\n",
    "NAME2 = \"Sanjiv Thottathodhi\""
   ]
  },
  {
   "cell_type": "markdown",
   "metadata": {
    "deletable": false,
    "editable": false,
    "nbgrader": {
     "cell_type": "markdown",
     "checksum": "42f960a95815e1aa3ce8132fcec59cd9",
     "grade": false,
     "grade_id": "cell-a15fe781533d9590",
     "locked": true,
     "schema_version": 3,
     "solution": false,
     "task": false
    }
   },
   "source": [
    "### Check Python version"
   ]
  },
  {
   "cell_type": "code",
   "execution_count": 3,
   "metadata": {
    "deletable": false,
    "editable": false,
    "nbgrader": {
     "cell_type": "code",
     "checksum": "3fef548ba4fe8319321134f43c6c479f",
     "grade": false,
     "grade_id": "cell-2b9c2390ee464c39",
     "locked": true,
     "schema_version": 3,
     "solution": false,
     "task": false
    }
   },
   "outputs": [],
   "source": [
    "from platform import python_version_tuple\n",
    "assert python_version_tuple()[:2] == ('3','7'), \"You are not running Python 3.7. Make sure to run Python through the course Docker environment, or alternatively in the provided Conda environment.\""
   ]
  },
  {
   "cell_type": "markdown",
   "metadata": {
    "deletable": false,
    "editable": false,
    "nbgrader": {
     "cell_type": "markdown",
     "checksum": "15ec4309f1e85f6e17bda73b9b6f48a2",
     "grade": false,
     "grade_id": "cell-4869b45600ce82f8",
     "locked": true,
     "schema_version": 3,
     "solution": false,
     "task": false
    }
   },
   "source": [
    "### Check that notebook server has access to all required resources, and that notebook has not moved"
   ]
  },
  {
   "cell_type": "code",
   "execution_count": 4,
   "metadata": {
    "deletable": false,
    "editable": false,
    "nbgrader": {
     "cell_type": "code",
     "checksum": "929b996cdd0fd4b8120fad773b146c86",
     "grade": false,
     "grade_id": "cell-122ac3d9100b8afb",
     "locked": true,
     "schema_version": 3,
     "solution": false,
     "task": false
    }
   },
   "outputs": [],
   "source": [
    "import os\n",
    "nb_dirname = os.path.abspath('')\n",
    "assert nb_dirname != '/workspace', \\\n",
    "    '[ERROR] The notebook server appears to have been started via Docker, at the same directory as the assignment. Make sure to start it at least one level above the assignment.'\n",
    "assignment_name = os.path.basename(nb_dirname)\n",
    "assert assignment_name in ['IHA1', 'IHA2', 'HA1', 'HA2', 'HA3'], \\\n",
    "    '[ERROR] The notebook appears to have been moved from its original directory'"
   ]
  },
  {
   "cell_type": "markdown",
   "metadata": {
    "deletable": false,
    "editable": false,
    "nbgrader": {
     "cell_type": "markdown",
     "checksum": "f09f40b5350db83232189137c550f0a1",
     "grade": false,
     "grade_id": "cell-2455deee513cd39c",
     "locked": true,
     "schema_version": 3,
     "solution": false,
     "task": false
    }
   },
   "source": [
    "### Verify correct nb_fname"
   ]
  },
  {
   "cell_type": "code",
   "execution_count": 5,
   "metadata": {
    "deletable": false,
    "editable": false,
    "nbgrader": {
     "cell_type": "code",
     "checksum": "a78c7227b049bb147e6c363affb6dae8",
     "grade": false,
     "grade_id": "cell-0472e2fd710f1d72",
     "locked": true,
     "schema_version": 3,
     "solution": false,
     "task": false
    }
   },
   "outputs": [
    {
     "data": {
      "text/html": [
       "<script>if(\"HA2-Part1.ipynb\" != IPython.notebook.notebook_name) { alert(\"You have filled in nb_fname = \\\"HA2-Part1.ipynb\\\", but this does not seem to match the notebook filename \\\"\" + IPython.notebook.notebook_name + \"\\\".\"); }</script>"
      ],
      "text/plain": [
       "<IPython.core.display.HTML object>"
      ]
     },
     "metadata": {},
     "output_type": "display_data"
    }
   ],
   "source": [
    "from IPython.display import display, HTML\n",
    "try:\n",
    "    display(HTML(r'<script>if(\"{nb_fname}\" != IPython.notebook.notebook_name) {{ alert(\"You have filled in nb_fname = \\\"{nb_fname}\\\", but this does not seem to match the notebook filename \\\"\" + IPython.notebook.notebook_name + \"\\\".\"); }}</script>'.format(nb_fname=nb_fname)))\n",
    "except NameError:\n",
    "    assert False, 'Make sure to fill in the nb_fname variable above!'"
   ]
  },
  {
   "cell_type": "markdown",
   "metadata": {
    "deletable": false,
    "editable": false,
    "nbgrader": {
     "cell_type": "markdown",
     "checksum": "98d88d8e8da19693053764f29dcc591d",
     "grade": false,
     "grade_id": "cell-ceacb1adcae4783d",
     "locked": true,
     "schema_version": 3,
     "solution": false,
     "task": false
    }
   },
   "source": [
    "### Verify that your notebook is up-to-date and not corrupted in any way"
   ]
  },
  {
   "cell_type": "code",
   "execution_count": 6,
   "metadata": {
    "deletable": false,
    "editable": false,
    "nbgrader": {
     "cell_type": "code",
     "checksum": "bb700528d4644601c1a8c91ef1d84635",
     "grade": false,
     "grade_id": "cell-f5a59288e11b4aec",
     "locked": true,
     "schema_version": 3,
     "solution": false,
     "task": false
    }
   },
   "outputs": [
    {
     "name": "stdout",
     "output_type": "stream",
     "text": [
      "Matching current notebook against the following URL:\n",
      "http://raw.githubusercontent.com/JulianoLagana/deep-machine-learning/master/home-assignments/HA2/HA2-Part1.ipynb\n",
      "[SUCCESS] No major notebook mismatch found when comparing to latest GitHub version. (There might be minor updates, but even that is the case, submitting your work based on this notebook version would be acceptable.)\n"
     ]
    }
   ],
   "source": [
    "import sys\n",
    "sys.path.append('..')\n",
    "from ha_utils import check_notebook_uptodate_and_not_corrupted\n",
    "check_notebook_uptodate_and_not_corrupted(nb_dirname, nb_fname)"
   ]
  },
  {
   "cell_type": "markdown",
   "metadata": {
    "deletable": false,
    "editable": false,
    "nbgrader": {
     "cell_type": "markdown",
     "checksum": "1a3d4c3586543ada9e989a70ca0b714f",
     "grade": false,
     "grade_id": "cell-64e1db7b9018bb3c",
     "locked": true,
     "schema_version": 3,
     "solution": false
    }
   },
   "source": [
    "# HA2 - Recurrent Neural Networks"
   ]
  },
  {
   "cell_type": "markdown",
   "metadata": {
    "deletable": false,
    "editable": false,
    "nbgrader": {
     "cell_type": "markdown",
     "checksum": "65d44c5f29fc5289953fcd49de8e79f2",
     "grade": false,
     "grade_id": "cell-2a56acd8b54adbc7",
     "locked": true,
     "schema_version": 3,
     "solution": false
    }
   },
   "source": [
    "This assignment is divided in two parts. In the first one, you will implement a vanilla RNN module from scratch using PyTorch to perform the task of predicting the nationality of a given name. In the second, you will use one of PyTorch's efficient implementations of recurrent networks to perform machine translation."
   ]
  },
  {
   "cell_type": "markdown",
   "metadata": {
    "deletable": false,
    "editable": false,
    "nbgrader": {
     "cell_type": "markdown",
     "checksum": "b230b916db79763c4ae31f10fb3834ed",
     "grade": false,
     "grade_id": "cell-a7a1fe5598d08eae",
     "locked": true,
     "schema_version": 3,
     "solution": false
    }
   },
   "source": [
    "## Task 1 - Predicting Nationalities"
   ]
  },
  {
   "cell_type": "markdown",
   "metadata": {
    "deletable": false,
    "editable": false,
    "nbgrader": {
     "cell_type": "markdown",
     "checksum": "d65644acfe5da0801009fd13675d79af",
     "grade": false,
     "grade_id": "cell-15a22deb9bb9fa7f",
     "locked": true,
     "schema_version": 3,
     "solution": false
    }
   },
   "source": [
    "![test](data/wordcloud.png)"
   ]
  },
  {
   "cell_type": "markdown",
   "metadata": {
    "deletable": false,
    "editable": false,
    "nbgrader": {
     "cell_type": "markdown",
     "checksum": "f6d2792c8867f0fd983839444067a2e1",
     "grade": false,
     "grade_id": "cell-aad0c935c03346c9",
     "locked": true,
     "schema_version": 3,
     "solution": false
    }
   },
   "source": [
    "In this task, you will create an RNN module using PyTorch, and train it to predict the nationality of a given input name. Your RNN will process each character of an input name at a time, and at the last character output a probability mass function over the possible countries.\n",
    "\n",
    "The data for this task is present in the file `data/nam_dict.txt`. After parsing it we will have around 44k names from 41 different countries."
   ]
  },
  {
   "cell_type": "markdown",
   "metadata": {
    "deletable": false,
    "editable": false,
    "nbgrader": {
     "cell_type": "markdown",
     "checksum": "88e94a32152c5c6447c42352b00c56f6",
     "grade": false,
     "grade_id": "cell-781c35fef278ad47",
     "locked": true,
     "schema_version": 3,
     "solution": false
    }
   },
   "source": [
    "### 1.1 Loading the data"
   ]
  },
  {
   "cell_type": "markdown",
   "metadata": {
    "deletable": false,
    "editable": false,
    "nbgrader": {
     "cell_type": "markdown",
     "checksum": "ef4e3f8191d07d16c7129210867e1cc4",
     "grade": false,
     "grade_id": "cell-12c085211bc03428",
     "locked": true,
     "schema_version": 3,
     "solution": false
    }
   },
   "source": [
    "We'll start by loading the data from the `nam_dict.txt` file, using the provided method `get_data_from_file`."
   ]
  },
  {
   "cell_type": "code",
   "execution_count": 7,
   "metadata": {
    "deletable": false,
    "editable": false,
    "nbgrader": {
     "cell_type": "code",
     "checksum": "578b8dc7fef786bb9d0eb9bfd9804796",
     "grade": false,
     "grade_id": "cell-7c9a70be36d77bde",
     "locked": true,
     "schema_version": 3,
     "solution": false
    }
   },
   "outputs": [],
   "source": [
    "from utils.load_names import get_data_from_file\n",
    "names_dict = get_data_from_file('data/nam_dict.txt')"
   ]
  },
  {
   "cell_type": "markdown",
   "metadata": {
    "deletable": false,
    "editable": false,
    "nbgrader": {
     "cell_type": "markdown",
     "checksum": "e4396ec5026f36d2d897eb28273fa47c",
     "grade": false,
     "grade_id": "cell-3d6450ecfff464cf",
     "locked": true,
     "schema_version": 3,
     "solution": false
    }
   },
   "source": [
    "The newly-created variable `names_dict` is a dictionary where each country is a key, and the value is the corresponding list of names from that country."
   ]
  },
  {
   "cell_type": "code",
   "execution_count": 8,
   "metadata": {
    "deletable": false,
    "editable": false,
    "nbgrader": {
     "cell_type": "code",
     "checksum": "0a3c16d045a6e3ea16cae84c8f4039b8",
     "grade": false,
     "grade_id": "cell-2979a922e5fd9032",
     "locked": true,
     "schema_version": 3,
     "solution": false
    }
   },
   "outputs": [
    {
     "data": {
      "text/plain": [
       "dict_keys(['Great Britain', 'Ireland', 'U.S.A.', 'Italy', 'Portugal', 'Spain', 'France', 'the Netherlands', 'East Frisia', 'Germany', 'Swiss', 'Iceland', 'Denmark', 'Norway', 'Sweden', 'Finland', 'Estonia', 'Latvia', 'Lithuania', 'Hungary', 'Romania', 'Bulgaria', 'Bosnia and Herzegovina', 'Croatia', 'Kosovo', 'Serbia', 'Albania', 'Greece', 'Russia', 'Ukraine', 'Armenia', 'Azerbaijan', 'Kazakhstan/Uzbekistan,etc.', 'Turkey', 'Arabia/Persia', 'Israel', 'China', 'India/Sri Lanka', 'Japan', 'Korea', 'Vietnam'])"
      ]
     },
     "execution_count": 8,
     "metadata": {},
     "output_type": "execute_result"
    }
   ],
   "source": [
    "names_dict.keys()"
   ]
  },
  {
   "cell_type": "code",
   "execution_count": 9,
   "metadata": {
    "deletable": false,
    "editable": false,
    "nbgrader": {
     "cell_type": "code",
     "checksum": "fabffeb8a60ded472b3ab0996e6acd34",
     "grade": false,
     "grade_id": "cell-b9578aa61d75938e",
     "locked": true,
     "schema_version": 3,
     "solution": false
    }
   },
   "outputs": [
    {
     "data": {
      "text/plain": [
       "['Achilleas',\n",
       " 'Achillefs',\n",
       " 'Adamantia',\n",
       " 'Adamantini',\n",
       " 'Adamantios',\n",
       " 'Aeneas',\n",
       " 'Afroditi',\n",
       " 'Agapi',\n",
       " 'Agapios',\n",
       " 'Agathi']"
      ]
     },
     "execution_count": 9,
     "metadata": {},
     "output_type": "execute_result"
    }
   ],
   "source": [
    "names_dict['Greece'][:10]"
   ]
  },
  {
   "cell_type": "markdown",
   "metadata": {
    "deletable": false,
    "editable": false,
    "nbgrader": {
     "cell_type": "markdown",
     "checksum": "f93bd9258ce3ef4dd0b65bf93a5ec528",
     "grade": false,
     "grade_id": "cell-172dd5d6a5c41971",
     "locked": true,
     "schema_version": 3,
     "solution": false
    }
   },
   "source": [
    "Let's look at the dataset in more detail. Plot the number of names in each country using a [bar plot](https://matplotlib.org/3.1.1/api/_as_gen/matplotlib.pyplot.bar.html).\n",
    "\n",
    "*Tip*: You can put labels in the x-axis using the method [`xticks`](https://matplotlib.org/3.1.1/api/_as_gen/matplotlib.pyplot.xticks.html).\n",
    "\n",
    "*Tip 2*: The `xticks` method accepts a keyword argument named `rotation`."
   ]
  },
  {
   "cell_type": "code",
   "execution_count": 10,
   "metadata": {
    "deletable": false,
    "nbgrader": {
     "cell_type": "code",
     "checksum": "239562267cb4dc6cbc5bdd6e1fa817be",
     "grade": true,
     "grade_id": "cell-ff582e8e844bfb50",
     "locked": false,
     "points": 0,
     "schema_version": 3,
     "solution": true
    }
   },
   "outputs": [
    {
     "data": {
      "image/png": "[encoded data removed]",
      "text/plain": [
       "<Figure size 1080x360 with 1 Axes>"
      ]
     },
     "metadata": {
      "needs_background": "light"
     },
     "output_type": "display_data"
    }
   ],
   "source": [
    "%matplotlib inline\n",
    "import matplotlib.pyplot as plt\n",
    "from matplotlib.pyplot import figure\n",
    "figure(figsize=(15,5));\n",
    "\n",
    "nbr_names = []\n",
    "\n",
    "for k in names_dict.keys():\n",
    "    nbr_names.append(len(names_dict[k]));\n",
    "\n",
    "width=0.5;\n",
    "plt.bar(names_dict.keys(), nbr_names, width, align='center');\n",
    "plt.xticks(rotation='vertical');"
   ]
  },
  {
   "cell_type": "markdown",
   "metadata": {
    "deletable": false,
    "editable": false,
    "nbgrader": {
     "cell_type": "markdown",
     "checksum": "231ffc3e320724f3487dbe7d078d08cf",
     "grade": false,
     "grade_id": "cell-390475b6777ce344",
     "locked": true,
     "schema_version": 3,
     "solution": false
    }
   },
   "source": [
    "**Question:**\n",
    "Is this dataset balanced? If not, which are the top-3 countries with most names?"
   ]
  },
  {
   "cell_type": "markdown",
   "metadata": {
    "deletable": false,
    "nbgrader": {
     "cell_type": "markdown",
     "checksum": "94306b4cb0e033dcaf119982200607ad",
     "grade": true,
     "grade_id": "cell-e70912fa2bf69d84",
     "locked": false,
     "points": 0,
     "schema_version": 3,
     "solution": true
    }
   },
   "source": [
    "**Your answer:** The dataset is not balanced. Top three: China, USA & Italy."
   ]
  },
  {
   "cell_type": "markdown",
   "metadata": {
    "deletable": false,
    "editable": false,
    "nbgrader": {
     "cell_type": "markdown",
     "checksum": "1db6be82caa3a09c812b3158187adcf8",
     "grade": false,
     "grade_id": "cell-b332445688db5846",
     "locked": true,
     "schema_version": 3,
     "solution": false
    }
   },
   "source": [
    "### 1.2 Pre-processing"
   ]
  },
  {
   "cell_type": "markdown",
   "metadata": {
    "deletable": false,
    "editable": false,
    "nbgrader": {
     "cell_type": "markdown",
     "checksum": "8e9d2c3be16a91407c9403684b28ddfe",
     "grade": false,
     "grade_id": "cell-0248575eadc7e93e",
     "locked": true,
     "schema_version": 3,
     "solution": false
    }
   },
   "source": [
    "We will train an RNN which takes as input one character at each time-step. In order to do so, we will encode every character in the input names into a one-hot representation that is more suited to be fed to neural networks. \n",
    "\n",
    "The first thing we need to do is to decide the size of the alphabet used for the one-hot encoding. To do so, let's take a look at all the characters used in the dataset. A simple way to do so is putting all names in the same string and then using a `set` to get the unique values. We'll treat upper-case and lower-case characters as being the same."
   ]
  },
  {
   "cell_type": "code",
   "execution_count": 11,
   "metadata": {
    "deletable": false,
    "editable": false,
    "nbgrader": {
     "cell_type": "code",
     "checksum": "3a81db43686a82f5ae64c79e77af076a",
     "grade": false,
     "grade_id": "cell-6b58e326e17e53f5",
     "locked": true,
     "schema_version": 3,
     "solution": false
    }
   },
   "outputs": [
    {
     "data": {
      "text/plain": [
       "[' ',\n",
       " \"'\",\n",
       " '-',\n",
       " 'a',\n",
       " 'b',\n",
       " 'c',\n",
       " 'd',\n",
       " 'e',\n",
       " 'f',\n",
       " 'g',\n",
       " 'h',\n",
       " 'i',\n",
       " 'j',\n",
       " 'k',\n",
       " 'l',\n",
       " 'm',\n",
       " 'n',\n",
       " 'o',\n",
       " 'p',\n",
       " 'q',\n",
       " 'r',\n",
       " 's',\n",
       " 't',\n",
       " 'u',\n",
       " 'v',\n",
       " 'w',\n",
       " 'x',\n",
       " 'y',\n",
       " 'z',\n",
       " 'ß',\n",
       " 'à',\n",
       " 'á',\n",
       " 'â',\n",
       " 'ã',\n",
       " 'ä',\n",
       " 'å',\n",
       " 'æ',\n",
       " 'ç',\n",
       " 'è',\n",
       " 'é',\n",
       " 'ê',\n",
       " 'ë',\n",
       " 'í',\n",
       " 'î',\n",
       " 'ï',\n",
       " 'ð',\n",
       " 'ñ',\n",
       " 'ò',\n",
       " 'ó',\n",
       " 'ô',\n",
       " 'õ',\n",
       " 'ö',\n",
       " 'ø',\n",
       " 'ú',\n",
       " 'ü',\n",
       " 'ý',\n",
       " 'þ']"
      ]
     },
     "execution_count": 11,
     "metadata": {},
     "output_type": "execute_result"
    }
   ],
   "source": [
    "temp = ''\n",
    "for name_list in names_dict.values():\n",
    "    for name in name_list:\n",
    "        temp += name.lower()\n",
    "charset = sorted(set(temp))\n",
    "charset"
   ]
  },
  {
   "cell_type": "markdown",
   "metadata": {
    "deletable": false,
    "editable": false,
    "nbgrader": {
     "cell_type": "markdown",
     "checksum": "aa26ef5d12faceb8d330856b41769a40",
     "grade": false,
     "grade_id": "cell-c28ba53b5126e2f5",
     "locked": true,
     "schema_version": 3,
     "solution": false
    }
   },
   "source": [
    "Now we can create a function that takes as input a name, and outputs a `(name length) x (charset length)` tensor."
   ]
  },
  {
   "cell_type": "code",
   "execution_count": 12,
   "metadata": {
    "deletable": false,
    "editable": false,
    "nbgrader": {
     "cell_type": "code",
     "checksum": "14585ce3bdfe1f68870f92fa78e537ad",
     "grade": false,
     "grade_id": "cell-e078bcfbef92ef2d",
     "locked": true,
     "schema_version": 3,
     "solution": false
    }
   },
   "outputs": [],
   "source": [
    "import torch"
   ]
  },
  {
   "cell_type": "code",
   "execution_count": 13,
   "metadata": {
    "deletable": false,
    "editable": false,
    "nbgrader": {
     "cell_type": "code",
     "checksum": "1f3a2f737754dd7e7735d97ab0a7b1a8",
     "grade": false,
     "grade_id": "cell-28b1f4faf5fe75a3",
     "locked": true,
     "schema_version": 3,
     "solution": false
    }
   },
   "outputs": [],
   "source": [
    "def name2tensor(name):\n",
    "    name = name.lower()\n",
    "    \n",
    "    # Create tensor of correct size filled with zeros\n",
    "    tensor = torch.zeros(len(name), len(charset))\n",
    "    \n",
    "    # For each letter, fill in the tensor with a 1 in the position corresponding to the character index in the charset\n",
    "    for i, letter in enumerate(name):\n",
    "        char_index = charset.index(letter)\n",
    "        tensor[i][char_index] = 1\n",
    "        \n",
    "    return tensor"
   ]
  },
  {
   "cell_type": "code",
   "execution_count": 14,
   "metadata": {
    "deletable": false,
    "editable": false,
    "nbgrader": {
     "cell_type": "code",
     "checksum": "8a9bbbdc34b5d27a2f3187bda44fa59f",
     "grade": false,
     "grade_id": "cell-5d8cbbfaa7917f2c",
     "locked": true,
     "schema_version": 3,
     "solution": false
    }
   },
   "outputs": [
    {
     "data": {
      "text/plain": [
       "tensor([[0., 0., 0., 1., 0., 0., 0., 0., 0., 0., 0., 0., 0., 0., 0., 0., 0., 0.,\n",
       "         0., 0., 0., 0., 0., 0., 0., 0., 0., 0., 0., 0., 0., 0., 0., 0., 0., 0.,\n",
       "         0., 0., 0., 0., 0., 0., 0., 0., 0., 0., 0., 0., 0., 0., 0., 0., 0., 0.,\n",
       "         0., 0., 0.],\n",
       "        [0., 0., 0., 0., 0., 0., 0., 0., 0., 0., 0., 0., 0., 0., 1., 0., 0., 0.,\n",
       "         0., 0., 0., 0., 0., 0., 0., 0., 0., 0., 0., 0., 0., 0., 0., 0., 0., 0.,\n",
       "         0., 0., 0., 0., 0., 0., 0., 0., 0., 0., 0., 0., 0., 0., 0., 0., 0., 0.,\n",
       "         0., 0., 0.],\n",
       "        [0., 0., 0., 0., 0., 0., 0., 0., 0., 0., 0., 1., 0., 0., 0., 0., 0., 0.,\n",
       "         0., 0., 0., 0., 0., 0., 0., 0., 0., 0., 0., 0., 0., 0., 0., 0., 0., 0.,\n",
       "         0., 0., 0., 0., 0., 0., 0., 0., 0., 0., 0., 0., 0., 0., 0., 0., 0., 0.,\n",
       "         0., 0., 0.]])"
      ]
     },
     "execution_count": 14,
     "metadata": {},
     "output_type": "execute_result"
    }
   ],
   "source": [
    "name2tensor('Ali')"
   ]
  },
  {
   "cell_type": "markdown",
   "metadata": {
    "deletable": false,
    "editable": false,
    "nbgrader": {
     "cell_type": "markdown",
     "checksum": "4d63ac9e219e829c7f2b791274f2cd41",
     "grade": false,
     "grade_id": "cell-5beb6efb1f504ce2",
     "locked": true,
     "schema_version": 3,
     "solution": false
    }
   },
   "source": [
    "**Question:**\n",
    "What happens if you try encoding the string `Lol@` using this function? Why?"
   ]
  },
  {
   "cell_type": "markdown",
   "metadata": {
    "deletable": false,
    "nbgrader": {
     "cell_type": "markdown",
     "checksum": "2d3e67af9309e62496b8f528eead264e",
     "grade": true,
     "grade_id": "cell-613a1d700434e11a",
     "locked": false,
     "points": 0,
     "schema_version": 3,
     "solution": true
    }
   },
   "source": [
    "**Your answer:** Since there isn't any one hot-encode tensor created for the @ we will get the error \"'@' is not in list\"."
   ]
  },
  {
   "cell_type": "markdown",
   "metadata": {
    "deletable": false,
    "editable": false,
    "nbgrader": {
     "cell_type": "markdown",
     "checksum": "2eddedf45ff9a0a647b955affa6a5bc6",
     "grade": false,
     "grade_id": "cell-fdfe2093caad0c9d",
     "locked": true,
     "schema_version": 3,
     "solution": false
    }
   },
   "source": [
    "It's definitely possible to use the tensors created with `name2tensor` to train our RNN, but in that case we would only be able to conveniently perform forward-propagation using one sample at a time.\n",
    "\n",
    "Instead, we want to batch samples together and parallelize the forward-propagation step. To do so, all samples must have the same dimensions (right now every sample has dimension `(name length) x (charset length)`, and the length of the names varies). Modify the function `name2padded_tensor` to achieve this by padding the start of the tensor with zeros, so that the output tensor always has length `target_len x (charset length)`.\n",
    "\n",
    "*Tip*:\n",
    "\n",
    "- To make it easier to catch bugs in the next parts of the assignment, make sure to raise an exception if the `target_len` is smaller than the length of the input word."
   ]
  },
  {
   "cell_type": "code",
   "execution_count": 15,
   "metadata": {
    "deletable": false,
    "nbgrader": {
     "cell_type": "code",
     "checksum": "00bfec2441b0ed4cce214efbd27292cb",
     "grade": true,
     "grade_id": "cell-fbe880f01de97439",
     "locked": false,
     "points": 0,
     "schema_version": 3,
     "solution": true
    }
   },
   "outputs": [],
   "source": [
    "def name2padded_tensor(name, target_len):\n",
    "\n",
    "    assert target_len>=len(name),\"Target length is samller than the length of the name\"\n",
    "    \n",
    "    tensor = name2tensor(name)\n",
    "        \n",
    "    tensor = torch.cat((torch.zeros((target_len-len(name)), len(charset)),tensor),0)\n",
    "    \n",
    "    return tensor"
   ]
  },
  {
   "cell_type": "code",
   "execution_count": 16,
   "metadata": {
    "deletable": false,
    "editable": false,
    "nbgrader": {
     "cell_type": "code",
     "checksum": "2fe9190009f3e6ba615a26e2556ec6ee",
     "grade": false,
     "grade_id": "cell-22bb8ede1d7a7da2",
     "locked": true,
     "schema_version": 3,
     "solution": false
    }
   },
   "outputs": [
    {
     "data": {
      "text/plain": [
       "tensor([[0., 0., 0., 0., 0., 0., 0., 0., 0., 0., 0., 0., 0., 0., 0., 0., 0., 0.,\n",
       "         0., 0., 0., 0., 0., 0., 0., 0., 0., 0., 0., 0., 0., 0., 0., 0., 0., 0.,\n",
       "         0., 0., 0., 0., 0., 0., 0., 0., 0., 0., 0., 0., 0., 0., 0., 0., 0., 0.,\n",
       "         0., 0., 0.],\n",
       "        [0., 0., 0., 0., 0., 0., 0., 0., 0., 0., 0., 0., 0., 0., 0., 0., 0., 0.,\n",
       "         0., 0., 0., 0., 0., 0., 0., 0., 0., 0., 0., 0., 0., 0., 0., 0., 0., 0.,\n",
       "         0., 0., 0., 0., 0., 0., 0., 0., 0., 0., 0., 0., 0., 0., 0., 0., 0., 0.,\n",
       "         0., 0., 0.],\n",
       "        [0., 0., 0., 1., 0., 0., 0., 0., 0., 0., 0., 0., 0., 0., 0., 0., 0., 0.,\n",
       "         0., 0., 0., 0., 0., 0., 0., 0., 0., 0., 0., 0., 0., 0., 0., 0., 0., 0.,\n",
       "         0., 0., 0., 0., 0., 0., 0., 0., 0., 0., 0., 0., 0., 0., 0., 0., 0., 0.,\n",
       "         0., 0., 0.],\n",
       "        [0., 0., 0., 0., 0., 0., 0., 0., 0., 0., 0., 0., 0., 0., 1., 0., 0., 0.,\n",
       "         0., 0., 0., 0., 0., 0., 0., 0., 0., 0., 0., 0., 0., 0., 0., 0., 0., 0.,\n",
       "         0., 0., 0., 0., 0., 0., 0., 0., 0., 0., 0., 0., 0., 0., 0., 0., 0., 0.,\n",
       "         0., 0., 0.],\n",
       "        [0., 0., 0., 0., 0., 0., 0., 0., 0., 0., 0., 1., 0., 0., 0., 0., 0., 0.,\n",
       "         0., 0., 0., 0., 0., 0., 0., 0., 0., 0., 0., 0., 0., 0., 0., 0., 0., 0.,\n",
       "         0., 0., 0., 0., 0., 0., 0., 0., 0., 0., 0., 0., 0., 0., 0., 0., 0., 0.,\n",
       "         0., 0., 0.]])"
      ]
     },
     "execution_count": 16,
     "metadata": {},
     "output_type": "execute_result"
    }
   ],
   "source": [
    "name2padded_tensor('Ali', 5)"
   ]
  },
  {
   "cell_type": "code",
   "execution_count": 17,
   "metadata": {
    "deletable": false,
    "editable": false,
    "nbgrader": {
     "cell_type": "code",
     "checksum": "3e839f739e1d01d380c241844e7d5ddc",
     "grade": false,
     "grade_id": "cell-31278e8f5ab83f35",
     "locked": true,
     "schema_version": 3,
     "solution": false
    }
   },
   "outputs": [
    {
     "data": {
      "text/plain": [
       "torch.Size([10, 57])"
      ]
     },
     "execution_count": 17,
     "metadata": {},
     "output_type": "execute_result"
    }
   ],
   "source": [
    "name2padded_tensor('Ali Baba', 10).shape"
   ]
  },
  {
   "cell_type": "code",
   "execution_count": 18,
   "metadata": {
    "deletable": false,
    "editable": false,
    "nbgrader": {
     "cell_type": "code",
     "checksum": "2bd89bad48726a71da49814b9a52d3f8",
     "grade": false,
     "grade_id": "cell-0044d8cff1e4b4c0",
     "locked": true,
     "schema_version": 3,
     "solution": false
    }
   },
   "outputs": [
    {
     "data": {
      "text/plain": [
       "torch.Size([10, 57])"
      ]
     },
     "execution_count": 18,
     "metadata": {},
     "output_type": "execute_result"
    }
   ],
   "source": [
    "name2padded_tensor('Ali', 10).shape"
   ]
  },
  {
   "cell_type": "markdown",
   "metadata": {
    "deletable": false,
    "editable": false,
    "nbgrader": {
     "cell_type": "markdown",
     "checksum": "867b73c2ba68fcc9c1798c49969dac8c",
     "grade": false,
     "grade_id": "cell-c9657b653aeb1c93",
     "locked": true,
     "schema_version": 3,
     "solution": false
    }
   },
   "source": [
    "What should be the target length for our case in this dataset? Compute it (i.e. don't hardcode it) in the cell below and save it in a variable named `target_len`, which will be used from here on."
   ]
  },
  {
   "cell_type": "code",
   "execution_count": 19,
   "metadata": {
    "deletable": false,
    "nbgrader": {
     "cell_type": "code",
     "checksum": "648616943150dba84fbf4c675deb0421",
     "grade": true,
     "grade_id": "cell-ceb412223ee3e6dd",
     "locked": false,
     "points": 0,
     "schema_version": 3,
     "solution": true
    }
   },
   "outputs": [],
   "source": [
    "lengths = [len(v) for v in names_dict.values()]\n",
    "all_names = []\n",
    "for v in names_dict.keys():\n",
    "    all_names.append(max(names_dict[v], key=len))\n",
    "\n",
    "target_len=(len(max(all_names, key=len)))"
   ]
  },
  {
   "cell_type": "markdown",
   "metadata": {
    "deletable": false,
    "editable": false,
    "nbgrader": {
     "cell_type": "markdown",
     "checksum": "901b6c3ed25c85d2cec741ad2e575ade",
     "grade": false,
     "grade_id": "cell-0bd908b10b33e7e2",
     "locked": true,
     "schema_version": 3,
     "solution": false
    }
   },
   "source": [
    "Now we can go through the entire dataset, encode each of the names, and save all of it in a tensor. We'll do the same with the ground-truth labels for the countries of each name."
   ]
  },
  {
   "cell_type": "code",
   "execution_count": 20,
   "metadata": {
    "deletable": false,
    "editable": false,
    "nbgrader": {
     "cell_type": "code",
     "checksum": "c8489dea2b3d3620bfc103811f2d5de3",
     "grade": false,
     "grade_id": "cell-c41ca1beab4900d1",
     "locked": true,
     "schema_version": 3,
     "solution": false
    }
   },
   "outputs": [],
   "source": [
    "# Create the tensors that will hold the names and labels \n",
    "# (note that the first dimension has 0 elements, this is a way to initialize an empty tensor for concatenating later)\n",
    "xs = torch.zeros(0, target_len, len(charset))\n",
    "ys = torch.zeros(0, dtype=torch.long)\n",
    "\n",
    "for i, country in enumerate(names_dict.keys()):\n",
    "    \n",
    "    # Apply the nam2padded_tensor function to each name in this country\n",
    "    temp = map(\n",
    "        lambda n: name2padded_tensor(n, target_len), \n",
    "        names_dict[country])\n",
    "    \n",
    "    # Add a new dimension to the resulting tensors\n",
    "    temp = [name_tensor[None, :, :] for name_tensor in temp]\n",
    "    \n",
    "    # Concatenate all of them along this new dimension\n",
    "    names_tensor = torch.cat(temp, dim=0)\n",
    "    \n",
    "    # Add these tensors to `xs`\n",
    "    xs = torch.cat([xs, names_tensor], dim=0)\n",
    "    \n",
    "    # Create tensor filled with i`s and add that to the ground-truth tensor\n",
    "    ys_for_this_country = torch.zeros(names_tensor.shape[0], dtype=torch.long) + i\n",
    "    ys = torch.cat([ys, ys_for_this_country])    "
   ]
  },
  {
   "cell_type": "code",
   "execution_count": 21,
   "metadata": {
    "deletable": false,
    "editable": false,
    "nbgrader": {
     "cell_type": "code",
     "checksum": "59844c38d7efe88476c8c7299e4e0eb4",
     "grade": false,
     "grade_id": "cell-52dbbea6ddcef37d",
     "locked": true,
     "schema_version": 3,
     "solution": false
    }
   },
   "outputs": [
    {
     "data": {
      "text/plain": [
       "torch.Size([44504, 22, 57])"
      ]
     },
     "execution_count": 21,
     "metadata": {},
     "output_type": "execute_result"
    }
   ],
   "source": [
    "xs.shape"
   ]
  },
  {
   "cell_type": "code",
   "execution_count": 22,
   "metadata": {
    "deletable": false,
    "editable": false,
    "nbgrader": {
     "cell_type": "code",
     "checksum": "84f30aec4ebb491a7b47bc37f3c4428d",
     "grade": false,
     "grade_id": "cell-7e884148f06eed5d",
     "locked": true,
     "schema_version": 3,
     "solution": false
    }
   },
   "outputs": [
    {
     "data": {
      "text/plain": [
       "torch.Size([44504])"
      ]
     },
     "execution_count": 22,
     "metadata": {},
     "output_type": "execute_result"
    }
   ],
   "source": [
    "ys.shape"
   ]
  },
  {
   "cell_type": "markdown",
   "metadata": {
    "deletable": false,
    "editable": false,
    "nbgrader": {
     "cell_type": "markdown",
     "checksum": "d0ad8b82a67e3dae17a9dcf05d4886e3",
     "grade": false,
     "grade_id": "cell-0aa1483447535d5e",
     "locked": true,
     "schema_version": 3,
     "solution": false
    }
   },
   "source": [
    "Now we can create a dataset with these tensors."
   ]
  },
  {
   "cell_type": "code",
   "execution_count": 23,
   "metadata": {
    "deletable": false,
    "editable": false,
    "nbgrader": {
     "cell_type": "code",
     "checksum": "bfe3df0f9d0e144e99d070814a493a6f",
     "grade": false,
     "grade_id": "cell-6b352207c061f029",
     "locked": true,
     "schema_version": 3,
     "solution": false
    }
   },
   "outputs": [],
   "source": [
    "from torch.utils.data import TensorDataset\n",
    "\n",
    "device = torch.device(\"cuda\" if torch.cuda.is_available() else \"cpu\")\n",
    "dataset = TensorDataset(xs.to(device), ys.to(device))"
   ]
  },
  {
   "cell_type": "markdown",
   "metadata": {
    "deletable": false,
    "editable": false,
    "nbgrader": {
     "cell_type": "markdown",
     "checksum": "86cdcef7c72b84485a13de4cf47e3dde",
     "grade": false,
     "grade_id": "cell-c20e8ae6ac70f92f",
     "locked": true,
     "schema_version": 3,
     "solution": false
    }
   },
   "source": [
    "And split it in training, validation, and test sets."
   ]
  },
  {
   "cell_type": "code",
   "execution_count": 24,
   "metadata": {
    "deletable": false,
    "editable": false,
    "nbgrader": {
     "cell_type": "code",
     "checksum": "db198d7a02c0fae8959ccb3ebcbb62f8",
     "grade": false,
     "grade_id": "cell-57448454a3d5dc19",
     "locked": true,
     "schema_version": 3,
     "solution": false
    }
   },
   "outputs": [],
   "source": [
    "from torch.utils.data import random_split\n",
    "\n",
    "val_ratio = 0.15\n",
    "test_ratio = 0.15\n",
    "\n",
    "n_samples = len(dataset)\n",
    "n_val_samples = int(n_samples*val_ratio)\n",
    "n_test_samples = int(n_samples*test_ratio)\n",
    "n_train_samples = n_samples-n_val_samples-n_test_samples\n",
    "\n",
    "train_dataset, val_dataset, test_dataset = random_split(dataset, [n_train_samples, n_val_samples, n_test_samples])"
   ]
  },
  {
   "cell_type": "markdown",
   "metadata": {
    "deletable": false,
    "editable": false,
    "nbgrader": {
     "cell_type": "markdown",
     "checksum": "da53c7a8fffae55f48861e3dd82bfb1f",
     "grade": false,
     "grade_id": "cell-485c36faf4913176",
     "locked": true,
     "schema_version": 3,
     "solution": false
    }
   },
   "source": [
    "### 1.3 Defining the optimization"
   ]
  },
  {
   "cell_type": "markdown",
   "metadata": {
    "deletable": false,
    "editable": false,
    "nbgrader": {
     "cell_type": "markdown",
     "checksum": "307fe2c781061aa901a56c0c2e2218bf",
     "grade": false,
     "grade_id": "cell-b2ed39f361f618c2",
     "locked": true,
     "schema_version": 3,
     "solution": false
    }
   },
   "source": [
    "Now we will define the model to be trained. As usual, we will create a class for the model and inherit from `nn.Module`. Define in the next cell a class for an RNN that follows the equations:\n",
    "\n",
    "$$ h_t = \\text{tanh}(W_h x_t + U_h h_{t-1} + b_h) $$\n",
    "$$ y_t = \\text{Log}\\Big(\\text{Softmax}(W_y h_t + b_y)\\Big)~,$$\n",
    "\n",
    "where $h_t$ is the current hidden-state, $h_{t-1}$ is the previous hidden state, $x_t$ is the input, $y_t$ is the output, and $W_h, U_h, b_h, W_y, b_y$ are the trainable parts of the RNN. As explained before, we will use this RNN to classify names, inputting one character at each step and using the last output as the prediction for a distribution over probable countries for the name.\n",
    "\n",
    "*Tips:*\n",
    "\n",
    "- As you're probably aware by now, PyTorch [has a layer](https://pytorch.org/docs/stable/nn.html#logsoftmax) that already applies the log and the softmax in one pass.\n",
    "- If you get errors related to size mismatches when computing the forward-propagation in your model, try reading the documentation for the specific module where to problem is occurring (e.g. [`nn.Linear`](https://pytorch.org/docs/stable/nn.html#linear)), specially the part about the expected shape of inputs and outputs."
   ]
  },
  {
   "cell_type": "code",
   "execution_count": 25,
   "metadata": {
    "deletable": false,
    "nbgrader": {
     "cell_type": "code",
     "checksum": "779f945b274e152fdb2d16a0f0c59719",
     "grade": true,
     "grade_id": "cell-63759a1c550cd7e1",
     "locked": false,
     "points": 0,
     "schema_version": 3,
     "solution": true
    }
   },
   "outputs": [],
   "source": [
    "import torch.nn as nn\n",
    "import numpy as np\n",
    "\n",
    "class RNN(nn.Module):\n",
    "    def __init__(self, input_size, hidden_size, output_size):\n",
    "        \"\"\"\n",
    "        Inputs:\n",
    "            input_size     - Dimensionality of the input of this RNN.\n",
    "            hidden_size    - Dimensionality of the hidden state.\n",
    "            output_size    - Dimensionality of the output of this RNN.\n",
    "        \"\"\"\n",
    "        \n",
    "        super(RNN, self).__init__()\n",
    "        self.hidden_size = hidden_size\n",
    "        \n",
    "        self.fc1 = nn.Linear(input_size+hidden_size, hidden_size) #Should we have bias=False??\n",
    "        self.fc2 = nn.Linear(hidden_size, output_size)\n",
    "        self.tanhfunk = nn.Tanh()\n",
    "        self.softmaxfunk = nn.LogSoftmax(dim=1)\n",
    "        \n",
    "        \n",
    "    def forward(self, x, h):      \n",
    "        \"\"\"\n",
    "        Runs the RNN module for one time-step.\n",
    "        Inputs:\n",
    "            x              - Batch of one-hot encoded characters. \n",
    "                             Tensor of size (BATCH SIZE x CHARSET LENGTH).\n",
    "            h              - Batch of hidden states at previous time-step.\n",
    "                             Tensor of size (BATCH SIZE x hidden_size).\n",
    "        \n",
    "        Returns:\n",
    "            y              - Batch of outputs.\n",
    "                             Tensor of size (BATCH SIZE x NUMBER OF COUNTRIES).\n",
    "            new_h          - Batch of hidden states at current time-step.\n",
    "                             Tensor of size (BATCH SIZE x hidden_size).\n",
    "        \"\"\"\n",
    "   \n",
    "        concated = torch.cat((x, h), 1)\n",
    "        concat_linear = self.fc1(concated)\n",
    "        new_h = self.tanhfunk(concat_linear)\n",
    "        y = self.softmaxfunk(self.fc2(new_h))\n",
    "        return y, new_h"
   ]
  },
  {
   "cell_type": "markdown",
   "metadata": {
    "deletable": false,
    "editable": false,
    "nbgrader": {
     "cell_type": "markdown",
     "checksum": "ef6f13ee64c864145910c8c572c69619",
     "grade": false,
     "grade_id": "cell-41a6ab734e65e9e2",
     "locked": true,
     "schema_version": 3,
     "solution": false
    }
   },
   "source": [
    "Run the following cell to test whether the shape of your outputs are correct. Note that this *only* checks the shapes, not the content (one way you can check the actual computations of your network is to `print` the tensors as they pass through the layers, in order to check that the computations do what you expected)."
   ]
  },
  {
   "cell_type": "code",
   "execution_count": 26,
   "metadata": {
    "deletable": false,
    "editable": false,
    "nbgrader": {
     "cell_type": "code",
     "checksum": "4315757096090786eee6690c324ba75c",
     "grade": false,
     "grade_id": "cell-0895e453938dcd22",
     "locked": true,
     "schema_version": 3,
     "solution": false
    }
   },
   "outputs": [
    {
     "name": "stdout",
     "output_type": "stream",
     "text": [
      "Test passed.\n"
     ]
    }
   ],
   "source": [
    "# Create a test tensor of size (1 x CHARSET LENGTH)\n",
    "t = torch.ones((1,len(charset))).to(device)\n",
    "\n",
    "# Forward-prop through the RNN\n",
    "rnn = RNN(len(charset), 3, len(names_dict)).to(device)\n",
    "h = torch.ones((1, 3)).to(device)\n",
    "y, new_h = rnn(t, h)\n",
    "\n",
    "# Test dimensions of the outputs\n",
    "err_str = 'The {} has incorrect dimension. Dimension is {}, but should\\'ve been {}'\n",
    "assert list(y.shape) == [1, len(names_dict)], err_str.format('output', list(y.shape), [1, len(names_dict)])\n",
    "assert list(new_h.shape) == [1, 3], err_str.format('new hidden state', list(new_h.shape), [1, 3])\n",
    "\n",
    "print('Test passed.')"
   ]
  },
  {
   "cell_type": "markdown",
   "metadata": {
    "deletable": false,
    "editable": false,
    "nbgrader": {
     "cell_type": "markdown",
     "checksum": "7edb9c4e033a5ad3c23761eb1c03e226",
     "grade": false,
     "grade_id": "cell-f879b658d2fe97d5",
     "locked": true,
     "schema_version": 3,
     "solution": false
    }
   },
   "source": [
    "**Question:**\n",
    "Suppose we now create an RNN using the following call: `RNN(x, y, z)`. How many parameters would this model have in total?"
   ]
  },
  {
   "cell_type": "markdown",
   "metadata": {
    "deletable": false,
    "nbgrader": {
     "cell_type": "markdown",
     "checksum": "0356f2c29e3329f580ad15f7b8710e92",
     "grade": true,
     "grade_id": "cell-d359daf8f96289bc",
     "locked": false,
     "points": 0,
     "schema_version": 3,
     "solution": true
    }
   },
   "source": [
    "**Your answer:** Number of parameters = y^2 + zy + xy + 2 (bias)"
   ]
  },
  {
   "cell_type": "markdown",
   "metadata": {
    "deletable": false,
    "editable": false,
    "nbgrader": {
     "cell_type": "markdown",
     "checksum": "0d5dc81f8efd4a09172a3480777b3273",
     "grade": false,
     "grade_id": "cell-e3ae784b6fd462cb",
     "locked": true,
     "schema_version": 3,
     "solution": false
    }
   },
   "source": [
    "We will use the Adam optimizer:"
   ]
  },
  {
   "cell_type": "code",
   "execution_count": 27,
   "metadata": {
    "deletable": false,
    "editable": false,
    "nbgrader": {
     "cell_type": "code",
     "checksum": "32abb30aecff746e6f8450bd2585ccd9",
     "grade": false,
     "grade_id": "cell-c8087333699def0c",
     "locked": true,
     "schema_version": 3,
     "solution": false
    }
   },
   "outputs": [],
   "source": [
    "from torch.optim import Adam"
   ]
  },
  {
   "cell_type": "markdown",
   "metadata": {
    "deletable": false,
    "editable": false,
    "nbgrader": {
     "cell_type": "markdown",
     "checksum": "b15d3c09337ae1769b273bee9e399a30",
     "grade": false,
     "grade_id": "cell-6411a391a74a5e36",
     "locked": true,
     "schema_version": 3,
     "solution": false
    }
   },
   "source": [
    "and since this is a classification problem we will use the [`NLLLoss`](https://pytorch.org/docs/stable/nn.html#nllloss) loss to train the model. We should account for the fact that our dataset is imbalanced, and one way of dealing with this problem is to assign different weights to each class in our problem. "
   ]
  },
  {
   "cell_type": "code",
   "execution_count": 28,
   "metadata": {
    "deletable": false,
    "editable": false,
    "nbgrader": {
     "cell_type": "code",
     "checksum": "03b88a4c73ebe26c0dba9ef4e33de623",
     "grade": false,
     "grade_id": "cell-934166eac20acb50",
     "locked": true,
     "schema_version": 3,
     "solution": false
    }
   },
   "outputs": [],
   "source": [
    "# Compute weights for each class\n",
    "n_names_for_each_country = [len(v) for v in names_dict.values()]\n",
    "ns = torch.tensor(n_names_for_each_country, dtype=torch.float)\n",
    "w = 1.0 / ns\n",
    "w = w / w.sum()\n",
    "\n",
    "# Define loss\n",
    "criterion = nn.NLLLoss(weight=w.to(device))"
   ]
  },
  {
   "cell_type": "markdown",
   "metadata": {
    "deletable": false,
    "editable": false,
    "nbgrader": {
     "cell_type": "markdown",
     "checksum": "45bd3428fe420fa10050ea3370094194",
     "grade": false,
     "grade_id": "cell-b333a7e050fbe007",
     "locked": true,
     "schema_version": 3,
     "solution": false
    }
   },
   "source": [
    "**Question:**\n",
    "Why is it a problem that the dataset is imbalanced? What would be the consequence of not dealing with this problem?"
   ]
  },
  {
   "cell_type": "markdown",
   "metadata": {
    "deletable": false,
    "nbgrader": {
     "cell_type": "markdown",
     "checksum": "2f9fa9a7eabdbbfe6da3d1d261cb03a0",
     "grade": true,
     "grade_id": "cell-a044d5b4e3bcf29b",
     "locked": false,
     "points": 0,
     "schema_version": 3,
     "solution": true
    }
   },
   "source": [
    "**Your answer:** With an imbalanced dataset the prediction of the names would always be biased towards a certain country since that is more frequently occuring. This wouldn't give a fair prediction of the output."
   ]
  },
  {
   "cell_type": "markdown",
   "metadata": {
    "deletable": false,
    "editable": false,
    "nbgrader": {
     "cell_type": "markdown",
     "checksum": "b251033f2673639c217223a84d617a77",
     "grade": false,
     "grade_id": "cell-0611001189dd369a",
     "locked": true,
     "schema_version": 3,
     "solution": false
    }
   },
   "source": [
    "**Question:**\n",
    "Why does assigning different weights to each class solve this problem? How should the weights be chosen?"
   ]
  },
  {
   "cell_type": "markdown",
   "metadata": {
    "deletable": false,
    "nbgrader": {
     "cell_type": "markdown",
     "checksum": "802d55ed7c144086b485fbc344a0590a",
     "grade": true,
     "grade_id": "cell-f19ff5370ea1e86d",
     "locked": false,
     "points": 0,
     "schema_version": 3,
     "solution": true
    }
   },
   "source": [
    "**Your answer:** When assigning different weights we take into account that some countries doesn't occur as often as others. Therefore we should give the countries with a smaller subset larger weights and countries with a lot of names smaller weights to counter the effect of the imbalance."
   ]
  },
  {
   "cell_type": "markdown",
   "metadata": {
    "deletable": false,
    "editable": false,
    "nbgrader": {
     "cell_type": "markdown",
     "checksum": "2785131f67457b798efd4ad4c47c1957",
     "grade": false,
     "grade_id": "cell-ced0796bf818f493",
     "locked": true,
     "schema_version": 3,
     "solution": false
    }
   },
   "source": [
    "**Question:**\n",
    "Is there any sitation where *we would want* class imbalances? How could we create such a class imbalance in a balanced dataset (without changing the dataset itself)? "
   ]
  },
  {
   "cell_type": "markdown",
   "metadata": {
    "deletable": false,
    "nbgrader": {
     "cell_type": "markdown",
     "checksum": "0e072e0c0af809a362829cb55e26eaba",
     "grade": true,
     "grade_id": "cell-821c6a2fb462d2f9",
     "locked": false,
     "points": 0,
     "schema_version": 3,
     "solution": true
    }
   },
   "source": [
    "**Your answer:** If there are names that exist in multiple countries but we know that they all come from a certain country in the beginning we could leave the imbalance to make our prediction point towards the country where the name is actually from. This would be done by assigning the weights such that they are larger towards where we want more predictions."
   ]
  },
  {
   "cell_type": "markdown",
   "metadata": {
    "deletable": false,
    "editable": false,
    "nbgrader": {
     "cell_type": "markdown",
     "checksum": "cbc3cc703eb376f0ad0be049bef4e506",
     "grade": false,
     "grade_id": "cell-95508ad6a5c542b5",
     "locked": true,
     "schema_version": 3,
     "solution": false
    }
   },
   "source": [
    "### 1.4 Helper functions for training"
   ]
  },
  {
   "cell_type": "markdown",
   "metadata": {
    "deletable": false,
    "editable": false,
    "nbgrader": {
     "cell_type": "markdown",
     "checksum": "ad5c79ccecd46f92d5d897724af0bc36",
     "grade": false,
     "grade_id": "cell-ccbb270d5fe1c30c",
     "locked": true,
     "schema_version": 3,
     "solution": false
    }
   },
   "source": [
    "Now that we defined the optimization problem, we can start creating the code to actually solve it. The first thing that we need is a function that, given a batch of samples, computes the output of the model for every sample and the average loss across all samples. \n",
    "\n",
    "Complete the function `batch_forward_prop` to produce this behavior.\n",
    "\n",
    "*Tips*:\n",
    "\n",
    "- Initialize the hidden state to a zero Tensor for the first forward-propagation.\n",
    "- If you get errors related to size mismatches when computing the forward-propagation in your model, try reading the documentation for the specific module where to problem is occurring (e.g. [`nn.Linear`](https://pytorch.org/docs/stable/nn.html#linear)), specially the part about the expected shape of inputs and outputs.\n",
    "- If you get errors related to size mismatches when computing the loss, try reading the [documentation for it](https://pytorch.org/docs/stable/nn.html#nllloss), specially the part about the expected shape of inputs and outputs."
   ]
  },
  {
   "cell_type": "code",
   "execution_count": 29,
   "metadata": {
    "deletable": false,
    "nbgrader": {
     "cell_type": "code",
     "checksum": "960f0e8e22c360ed63381c7a7d50b7da",
     "grade": true,
     "grade_id": "cell-080aad948708672d",
     "locked": false,
     "points": 0,
     "schema_version": 3,
     "solution": true
    }
   },
   "outputs": [],
   "source": [
    "def batch_forward_prop(rnn, xs, ys):  \n",
    "    \"\"\"\n",
    "    Inputs:\n",
    "        rnn            - The RNN model, instance of the RNN class.\n",
    "        xs             - Batch of input words.\n",
    "                         Tensor of shape (BATCH SIZE x `target_len` x CHARSET LENGTH).\n",
    "        ys             - Batch of ground-truth labels.\n",
    "                         Tensor of  shape (BATCH_SIZE).\n",
    "    \n",
    "    Returns:\n",
    "        output         - Output computed at the last character position in the batch.\n",
    "                         Tensor of shape (BATCH_SIZE x NUMBER OF COUNTRIES).\n",
    "        loss           - Value of the average loss across the predictions for this batch, later used for back-propagation.\n",
    "                         Tensor with a single element inside.\n",
    "    \"\"\"\n",
    "   \n",
    "    h = torch.zeros((len(ys), rnn.hidden_size)).to(device)\n",
    "    lossavg = []\n",
    "    for i in range(xs.shape[1]):\n",
    "        y, new_h = rnn(xs[:,i,:], h)\n",
    "        h = new_h\n",
    "        lossavg.append(criterion(y,ys))\n",
    "        output=y\n",
    "    loss = np.sum(lossavg)/xs.shape[1]\n",
    "    return output, loss"
   ]
  },
  {
   "cell_type": "markdown",
   "metadata": {
    "deletable": false,
    "editable": false,
    "nbgrader": {
     "cell_type": "markdown",
     "checksum": "99ee062817c7b56e5180058437d2f26d",
     "grade": false,
     "grade_id": "cell-644f9d6aaa50e21c",
     "locked": true,
     "schema_version": 3,
     "solution": false
    }
   },
   "source": [
    "Run the following cell to test whether the shape of your outputs are correct. Note that this *only* checks the shapes, not the content."
   ]
  },
  {
   "cell_type": "code",
   "execution_count": 30,
   "metadata": {
    "deletable": false,
    "editable": false,
    "nbgrader": {
     "cell_type": "code",
     "checksum": "02ab7b0a225b32aacb1810b99407c34b",
     "grade": false,
     "grade_id": "cell-02f7744a186b2ebe",
     "locked": true,
     "schema_version": 3,
     "solution": false
    }
   },
   "outputs": [
    {
     "name": "stdout",
     "output_type": "stream",
     "text": [
      "Test passed.\n"
     ]
    }
   ],
   "source": [
    "# Create two tensors\n",
    "t1 = name2tensor('Unit')\n",
    "t2 = name2tensor('Test')\n",
    "\n",
    "# Add the batch dimension to them and concatenate\n",
    "t = torch.cat([t1[None, :], t2[None, :]], dim=0)\n",
    "\n",
    "# Create label tensor\n",
    "l = torch.ones((2), dtype=torch.long)\n",
    "\n",
    "# Create RNN\n",
    "rnn = RNN(len(charset), 10, len(names_dict))\n",
    "\n",
    "# Put everything in the correct device\n",
    "t = t.to(device)\n",
    "h = h.to(device)\n",
    "l = l.to(device)\n",
    "rnn.to(device)\n",
    "\n",
    "# Perform the forward-prop\n",
    "y, loss = batch_forward_prop(rnn, t, l)\n",
    "\n",
    "# Test dimensions of the outputs\n",
    "err_str = 'The {} has incorrect dimension. Dimension is {}, but should\\'ve been {}'\n",
    "assert list(y.shape) == [2, len(names_dict)], err_str.format('output', list(y.shape), [2, len(names_dict)])\n",
    "assert list(loss.shape) == [], err_str.format('loss', list(loss.shape), [])\n",
    "\n",
    "print('Test passed.')"
   ]
  },
  {
   "cell_type": "markdown",
   "metadata": {
    "deletable": false,
    "editable": false,
    "nbgrader": {
     "cell_type": "markdown",
     "checksum": "d0829fc6b5254f539a66a81a3024bdfc",
     "grade": false,
     "grade_id": "cell-4010f6bcbc1e6245",
     "locked": true,
     "schema_version": 3,
     "solution": false
    }
   },
   "source": [
    "Using this function, it's straightforward to train on a single batch of data:"
   ]
  },
  {
   "cell_type": "code",
   "execution_count": 31,
   "metadata": {
    "deletable": false,
    "editable": false,
    "nbgrader": {
     "cell_type": "code",
     "checksum": "d31d4ef7500c06aea4ecdcf27d399fa8",
     "grade": false,
     "grade_id": "cell-78972c6d342b4da9",
     "locked": true,
     "schema_version": 3,
     "solution": false
    }
   },
   "outputs": [],
   "source": [
    "from torch.nn.utils import clip_grad_norm\n",
    "\n",
    "def train_batch(rnn, xs, ys, optimizer):\n",
    "    \n",
    "    # Compute the output for all samples in the batch and the average loss\n",
    "    output, loss = batch_forward_prop(rnn, xs, ys)\n",
    "    \n",
    "    # Zero gradients before computing backward-propagation\n",
    "    optimizer.zero_grad()\n",
    "\n",
    "    # Backward-propagation\n",
    "    loss.backward()\n",
    "    \n",
    "    # Clip the gradient norm (optional, helps to stabilize training)\n",
    "    nn.utils.clip_grad_norm_(rnn.parameters(), 2)\n",
    "    \n",
    "    # Perform one step of optimization\n",
    "    optimizer.step()\n",
    "    \n",
    "    return output, loss"
   ]
  },
  {
   "cell_type": "markdown",
   "metadata": {
    "deletable": false,
    "editable": false,
    "nbgrader": {
     "cell_type": "markdown",
     "checksum": "576143bb6960f21f2b68bd6bb977a9f0",
     "grade": false,
     "grade_id": "cell-f2b194756febe3f1",
     "locked": true,
     "schema_version": 3,
     "solution": false
    }
   },
   "source": [
    "We will also need a function for computing metrics of interest in the validation set. In this case, we will plot both the loss and the F1-score in the validation set. The F1-score of a classifier is the [harmonic mean](https://en.wikipedia.org/wiki/Harmonic_mean) of its [precision and recall](https://en.wikipedia.org/wiki/Precision_and_recall), two metrics that are more useful than accuracy for imbalanced datasets. [This blog post](https://towardsdatascience.com/accuracy-precision-recall-or-f1-331fb37c5cb9) can help you to familiarize yourself with these new metrics."
   ]
  },
  {
   "cell_type": "code",
   "execution_count": 32,
   "metadata": {
    "deletable": false,
    "editable": false,
    "nbgrader": {
     "cell_type": "code",
     "checksum": "8e3455a07c3f54b5b32d0b11eae460d5",
     "grade": false,
     "grade_id": "cell-94021e46113ec8cb",
     "locked": true,
     "schema_version": 3,
     "solution": false
    }
   },
   "outputs": [],
   "source": [
    "from sklearn.metrics import precision_recall_fscore_support\n",
    "\n",
    "def compute_metrics_on_validation_set(rnn, val_dataset):\n",
    "    # Get all the input and labels in the training set.\n",
    "    x_val, y_val = val_dataset[:]\n",
    "    \n",
    "    # Perform forward-prop in the entire validation set, with autograd disabled\n",
    "    with torch.no_grad():\n",
    "        val_output, val_loss = batch_forward_prop(rnn, x_val, y_val)\n",
    "    \n",
    "    # Get numpy arrays for the true labels and the predictions\n",
    "    y_true = y_val.cpu().numpy()\n",
    "    y_pred = val_output.argmax(dim=1).cpu().numpy()\n",
    "    \n",
    "    # Compute precision, recall, and F-score\n",
    "    precision, recall, fscore, _ = precision_recall_fscore_support(y_true, y_pred, average='macro')\n",
    "    \n",
    "    return val_loss, precision, recall, fscore"
   ]
  },
  {
   "cell_type": "markdown",
   "metadata": {
    "deletable": false,
    "editable": false,
    "nbgrader": {
     "cell_type": "markdown",
     "checksum": "06672da367df025e50d1fc66d1a14015",
     "grade": false,
     "grade_id": "cell-2e37e571600c2220",
     "locked": true,
     "schema_version": 3,
     "solution": false
    }
   },
   "source": [
    "Lastly, we define a function for plotting the metrics in real-time."
   ]
  },
  {
   "cell_type": "code",
   "execution_count": 33,
   "metadata": {
    "deletable": false,
    "editable": false,
    "nbgrader": {
     "cell_type": "code",
     "checksum": "859fef7a4f5ff12b633c79a3fb2e3201",
     "grade": false,
     "grade_id": "cell-2807fe4cfa2d8b29",
     "locked": true,
     "schema_version": 3,
     "solution": false
    }
   },
   "outputs": [],
   "source": [
    "def plot_metrics(fig, ax, ns, train_losses, train_fscores, val_losses, val_fscores):\n",
    "\n",
    "    # Plot losses\n",
    "    ax[0].clear()\n",
    "    ax[0].plot(ns, train_losses)\n",
    "    ax[0].plot(ns, val_losses)\n",
    "    ax[0].set_title('Loss')\n",
    "    ax[0].legend(['Train','Validation'])\n",
    "    ax[0].set_xlabel('Number of trained batches')\n",
    "    ax[0].grid()\n",
    "\n",
    "    # Plot F1-scores\n",
    "    ax[1].clear()\n",
    "    ax[1].plot(ns, train_fscores)\n",
    "    ax[1].plot(ns, val_fscores)\n",
    "    ax[1].plot(ns, [0.3]*len(ns), 'k--')\n",
    "    ax[1].set_title('Macro F1-score')\n",
    "    ax[1].legend(['Train','Validation', 'F1-score threshold'])\n",
    "    ax[1].set_xlabel('Number of trained batches')\n",
    "    ax[1].grid()\n",
    "    \n",
    "    \n",
    "    fig.canvas.draw()"
   ]
  },
  {
   "cell_type": "markdown",
   "metadata": {
    "deletable": false,
    "editable": false,
    "nbgrader": {
     "cell_type": "markdown",
     "checksum": "520a4c1ba775bfc75e1ed71009bcf6b9",
     "grade": false,
     "grade_id": "cell-2a8edc5c0c4d13d6",
     "locked": true,
     "schema_version": 3,
     "solution": false
    }
   },
   "source": [
    "With these helper functions, the `train` function becomes:"
   ]
  },
  {
   "cell_type": "code",
   "execution_count": 34,
   "metadata": {
    "deletable": false,
    "editable": false,
    "nbgrader": {
     "cell_type": "code",
     "checksum": "813b06b76f53b705f6d47981651c673c",
     "grade": false,
     "grade_id": "cell-61029512380ba880",
     "locked": true,
     "schema_version": 3,
     "solution": false
    }
   },
   "outputs": [],
   "source": [
    "from torch.utils.data import DataLoader\n",
    "\n",
    "def train(rnn, n_epochs, learning_rate, batch_size, train_dataset, val_dataset):\n",
    "    \n",
    "    # Setup the figure for plotting progress during training\n",
    "    %matplotlib notebook\n",
    "    fig, ax = plt.subplots(ncols=2, figsize=(12,4))\n",
    "    plt.ion()\n",
    "    plot_interval = 100\n",
    "    \n",
    "    # Create arrays to average training metrics across batches\n",
    "    preds = []\n",
    "    labels = []\n",
    "    losses = []\n",
    "    \n",
    "    # Create dictionaries to hold the computed metrics in\n",
    "    train_data = {'losses': [], 'fscores': []}\n",
    "    val_data = {'losses': [], 'fscores': []}\n",
    "    \n",
    "    optimizer = Adam(rnn.parameters(), lr=learning_rate)\n",
    "    train_data_loader = DataLoader(train_dataset, batch_size=batch_size, shuffle=True, drop_last=True)\n",
    "    batch_idxs = []\n",
    "    \n",
    "    # Training loop\n",
    "    i_batch = 0\n",
    "    for n in range(n_epochs):\n",
    "        for i, (x_batch, y_batch) in enumerate(train_data_loader):\n",
    "            i_batch += 1\n",
    "            \n",
    "            # Compute loss and outputs\n",
    "            output, loss = train_batch(rnn, x_batch, y_batch, optimizer)\n",
    "            \n",
    "            # Aggregate for later averaging\n",
    "            preds += output.argmax(dim=1).cpu().tolist()\n",
    "            labels += y_batch.cpu().tolist()\n",
    "            losses.append(loss)\n",
    "            \n",
    "            # Compute metrics and plot after every `plot_interval` batches\n",
    "            if i % plot_interval == 0:\n",
    "              \n",
    "                val_loss, _, _, val_fscore = compute_metrics_on_validation_set(rnn, val_dataset)\n",
    "                train_fscore = precision_recall_fscore_support(labels, preds, average='macro')[2]\n",
    "                \n",
    "                val_data['losses'].append(val_loss)\n",
    "                val_data['fscores'].append(val_fscore)\n",
    "                train_data['losses'].append(sum(losses)/len(losses))\n",
    "                train_data['fscores'].append(train_fscore)\n",
    "                batch_idxs.append(i_batch)\n",
    "\n",
    "                preds = []\n",
    "                labels = []\n",
    "                losses = []\n",
    "\n",
    "                plot_metrics(fig, ax, batch_idxs, train_data['losses'], train_data['fscores'], val_data['losses'], val_data['fscores'])"
   ]
  },
  {
   "cell_type": "markdown",
   "metadata": {
    "deletable": false,
    "editable": false,
    "nbgrader": {
     "cell_type": "markdown",
     "checksum": "0f89bbf2c0e1f3ab9e64a937f8e24863",
     "grade": false,
     "grade_id": "cell-f92f1fd576a8a7cb",
     "locked": true,
     "schema_version": 3,
     "solution": false
    }
   },
   "source": [
    "Make sure that you completely understand the `train` function before proceeding (e.g. that we aggregate predictions from different batches and compute metrics only at a certain interval, etc)."
   ]
  },
  {
   "cell_type": "markdown",
   "metadata": {
    "deletable": false,
    "editable": false,
    "nbgrader": {
     "cell_type": "markdown",
     "checksum": "0d2779ea738fff39cd540bc351be2c35",
     "grade": false,
     "grade_id": "cell-18f5c7620b914ebd",
     "locked": true,
     "schema_version": 3,
     "solution": false
    }
   },
   "source": [
    "### 1.5 Training!\n",
    "\n",
    "Now we're ready to train the network! Create an RNN and use the `train` function to train it.\n",
    "\n",
    "*Tips*:\n",
    "\n",
    "- Tuning the hyper-parameters (number of hidden units, learning rate, batch size, etc) will take some trial-and-error. Try simple things first, and then once you manage to train them, start scaling up. Also, have in mind the bias-variance tradeoff mentioned in the lectures.\n",
    "- When tuning the learning rate, focus first on being able to decrease the training loss. Keep decreasing the learning rate until that starts happening."
   ]
  },
  {
   "cell_type": "code",
   "execution_count": 35,
   "metadata": {
    "deletable": false,
    "nbgrader": {
     "cell_type": "code",
     "checksum": "0e3d64e9c5c79168399628331405b8ed",
     "grade": true,
     "grade_id": "cell-937381af9dcaf490",
     "locked": false,
     "points": 0,
     "schema_version": 3,
     "solution": true
    }
   },
   "outputs": [
    {
     "data": {
      "application/javascript": [
       "/* Put everything inside the global mpl namespace */\n",
       "window.mpl = {};\n",
       "\n",
       "\n",
       "mpl.get_websocket_type = function() {\n",
       "    if (typeof(WebSocket) !== 'undefined') {\n",
       "        return WebSocket;\n",
       "    } else if (typeof(MozWebSocket) !== 'undefined') {\n",
       "        return MozWebSocket;\n",
       "    } else {\n",
       "        alert('Your browser does not have WebSocket support. ' +\n",
       "              'Please try Chrome, Safari or Firefox ≥ 6. ' +\n",
       "              'Firefox 4 and 5 are also supported but you ' +\n",
       "              'have to enable WebSockets in about:config.');\n",
       "    };\n",
       "}\n",
       "\n",
       "mpl.figure = function(figure_id, websocket, ondownload, parent_element) {\n",
       "    this.id = figure_id;\n",
       "\n",
       "    this.ws = websocket;\n",
       "\n",
       "    this.supports_binary = (this.ws.binaryType != undefined);\n",
       "\n",
       "    if (!this.supports_binary) {\n",
       "        var warnings = document.getElementById(\"mpl-warnings\");\n",
       "        if (warnings) {\n",
       "            warnings.style.display = 'block';\n",
       "            warnings.textContent = (\n",
       "                \"This browser does not support binary websocket messages. \" +\n",
       "                    \"Performance may be slow.\");\n",
       "        }\n",
       "    }\n",
       "\n",
       "    this.imageObj = new Image();\n",
       "\n",
       "    this.context = undefined;\n",
       "    this.message = undefined;\n",
       "    this.canvas = undefined;\n",
       "    this.rubberband_canvas = undefined;\n",
       "    this.rubberband_context = undefined;\n",
       "    this.format_dropdown = undefined;\n",
       "\n",
       "    this.image_mode = 'full';\n",
       "\n",
       "    this.root = $('<div/>');\n",
       "    this._root_extra_style(this.root)\n",
       "    this.root.attr('style', 'display: inline-block');\n",
       "\n",
       "    $(parent_element).append(this.root);\n",
       "\n",
       "    this._init_header(this);\n",
       "    this._init_canvas(this);\n",
       "    this._init_toolbar(this);\n",
       "\n",
       "    var fig = this;\n",
       "\n",
       "    this.waiting = false;\n",
       "\n",
       "    this.ws.onopen =  function () {\n",
       "            fig.send_message(\"supports_binary\", {value: fig.supports_binary});\n",
       "            fig.send_message(\"send_image_mode\", {});\n",
       "            if (mpl.ratio != 1) {\n",
       "                fig.send_message(\"set_dpi_ratio\", {'dpi_ratio': mpl.ratio});\n",
       "            }\n",
       "            fig.send_message(\"refresh\", {});\n",
       "        }\n",
       "\n",
       "    this.imageObj.onload = function() {\n",
       "            if (fig.image_mode == 'full') {\n",
       "                // Full images could contain transparency (where diff images\n",
       "                // almost always do), so we need to clear the canvas so that\n",
       "                // there is no ghosting.\n",
       "                fig.context.clearRect(0, 0, fig.canvas.width, fig.canvas.height);\n",
       "            }\n",
       "            fig.context.drawImage(fig.imageObj, 0, 0);\n",
       "        };\n",
       "\n",
       "    this.imageObj.onunload = function() {\n",
       "        fig.ws.close();\n",
       "    }\n",
       "\n",
       "    this.ws.onmessage = this._make_on_message_function(this);\n",
       "\n",
       "    this.ondownload = ondownload;\n",
       "}\n",
       "\n",
       "mpl.figure.prototype._init_header = function() {\n",
       "    var titlebar = $(\n",
       "        '<div class=\"ui-dialog-titlebar ui-widget-header ui-corner-all ' +\n",
       "        'ui-helper-clearfix\"/>');\n",
       "    var titletext = $(\n",
       "        '<div class=\"ui-dialog-title\" style=\"width: 100%; ' +\n",
       "        'text-align: center; padding: 3px;\"/>');\n",
       "    titlebar.append(titletext)\n",
       "    this.root.append(titlebar);\n",
       "    this.header = titletext[0];\n",
       "}\n",
       "\n",
       "\n",
       "\n",
       "mpl.figure.prototype._canvas_extra_style = function(canvas_div) {\n",
       "\n",
       "}\n",
       "\n",
       "\n",
       "mpl.figure.prototype._root_extra_style = function(canvas_div) {\n",
       "\n",
       "}\n",
       "\n",
       "mpl.figure.prototype._init_canvas = function() {\n",
       "    var fig = this;\n",
       "\n",
       "    var canvas_div = $('<div/>');\n",
       "\n",
       "    canvas_div.attr('style', 'position: relative; clear: both; outline: 0');\n",
       "\n",
       "    function canvas_keyboard_event(event) {\n",
       "        return fig.key_event(event, event['data']);\n",
       "    }\n",
       "\n",
       "    canvas_div.keydown('key_press', canvas_keyboard_event);\n",
       "    canvas_div.keyup('key_release', canvas_keyboard_event);\n",
       "    this.canvas_div = canvas_div\n",
       "    this._canvas_extra_style(canvas_div)\n",
       "    this.root.append(canvas_div);\n",
       "\n",
       "    var canvas = $('<canvas/>');\n",
       "    canvas.addClass('mpl-canvas');\n",
       "    canvas.attr('style', \"left: 0; top: 0; z-index: 0; outline: 0\")\n",
       "\n",
       "    this.canvas = canvas[0];\n",
       "    this.context = canvas[0].getContext(\"2d\");\n",
       "\n",
       "    var backingStore = this.context.backingStorePixelRatio ||\n",
       "\tthis.context.webkitBackingStorePixelRatio ||\n",
       "\tthis.context.mozBackingStorePixelRatio ||\n",
       "\tthis.context.msBackingStorePixelRatio ||\n",
       "\tthis.context.oBackingStorePixelRatio ||\n",
       "\tthis.context.backingStorePixelRatio || 1;\n",
       "\n",
       "    mpl.ratio = (window.devicePixelRatio || 1) / backingStore;\n",
       "\n",
       "    var rubberband = $('<canvas/>');\n",
       "    rubberband.attr('style', \"position: absolute; left: 0; top: 0; z-index: 1;\")\n",
       "\n",
       "    var pass_mouse_events = true;\n",
       "\n",
       "    canvas_div.resizable({\n",
       "        start: function(event, ui) {\n",
       "            pass_mouse_events = false;\n",
       "        },\n",
       "        resize: function(event, ui) {\n",
       "            fig.request_resize(ui.size.width, ui.size.height);\n",
       "        },\n",
       "        stop: function(event, ui) {\n",
       "            pass_mouse_events = true;\n",
       "            fig.request_resize(ui.size.width, ui.size.height);\n",
       "        },\n",
       "    });\n",
       "\n",
       "    function mouse_event_fn(event) {\n",
       "        if (pass_mouse_events)\n",
       "            return fig.mouse_event(event, event['data']);\n",
       "    }\n",
       "\n",
       "    rubberband.mousedown('button_press', mouse_event_fn);\n",
       "    rubberband.mouseup('button_release', mouse_event_fn);\n",
       "    // Throttle sequential mouse events to 1 every 20ms.\n",
       "    rubberband.mousemove('motion_notify', mouse_event_fn);\n",
       "\n",
       "    rubberband.mouseenter('figure_enter', mouse_event_fn);\n",
       "    rubberband.mouseleave('figure_leave', mouse_event_fn);\n",
       "\n",
       "    canvas_div.on(\"wheel\", function (event) {\n",
       "        event = event.originalEvent;\n",
       "        event['data'] = 'scroll'\n",
       "        if (event.deltaY < 0) {\n",
       "            event.step = 1;\n",
       "        } else {\n",
       "            event.step = -1;\n",
       "        }\n",
       "        mouse_event_fn(event);\n",
       "    });\n",
       "\n",
       "    canvas_div.append(canvas);\n",
       "    canvas_div.append(rubberband);\n",
       "\n",
       "    this.rubberband = rubberband;\n",
       "    this.rubberband_canvas = rubberband[0];\n",
       "    this.rubberband_context = rubberband[0].getContext(\"2d\");\n",
       "    this.rubberband_context.strokeStyle = \"#000000\";\n",
       "\n",
       "    this._resize_canvas = function(width, height) {\n",
       "        // Keep the size of the canvas, canvas container, and rubber band\n",
       "        // canvas in synch.\n",
       "        canvas_div.css('width', width)\n",
       "        canvas_div.css('height', height)\n",
       "\n",
       "        canvas.attr('width', width * mpl.ratio);\n",
       "        canvas.attr('height', height * mpl.ratio);\n",
       "        canvas.attr('style', 'width: ' + width + 'px; height: ' + height + 'px;');\n",
       "\n",
       "        rubberband.attr('width', width);\n",
       "        rubberband.attr('height', height);\n",
       "    }\n",
       "\n",
       "    // Set the figure to an initial 600x600px, this will subsequently be updated\n",
       "    // upon first draw.\n",
       "    this._resize_canvas(600, 600);\n",
       "\n",
       "    // Disable right mouse context menu.\n",
       "    $(this.rubberband_canvas).bind(\"contextmenu\",function(e){\n",
       "        return false;\n",
       "    });\n",
       "\n",
       "    function set_focus () {\n",
       "        canvas.focus();\n",
       "        canvas_div.focus();\n",
       "    }\n",
       "\n",
       "    window.setTimeout(set_focus, 100);\n",
       "}\n",
       "\n",
       "mpl.figure.prototype._init_toolbar = function() {\n",
       "    var fig = this;\n",
       "\n",
       "    var nav_element = $('<div/>');\n",
       "    nav_element.attr('style', 'width: 100%');\n",
       "    this.root.append(nav_element);\n",
       "\n",
       "    // Define a callback function for later on.\n",
       "    function toolbar_event(event) {\n",
       "        return fig.toolbar_button_onclick(event['data']);\n",
       "    }\n",
       "    function toolbar_mouse_event(event) {\n",
       "        return fig.toolbar_button_onmouseover(event['data']);\n",
       "    }\n",
       "\n",
       "    for(var toolbar_ind in mpl.toolbar_items) {\n",
       "        var name = mpl.toolbar_items[toolbar_ind][0];\n",
       "        var tooltip = mpl.toolbar_items[toolbar_ind][1];\n",
       "        var image = mpl.toolbar_items[toolbar_ind][2];\n",
       "        var method_name = mpl.toolbar_items[toolbar_ind][3];\n",
       "\n",
       "        if (!name) {\n",
       "            // put a spacer in here.\n",
       "            continue;\n",
       "        }\n",
       "        var button = $('<button/>');\n",
       "        button.addClass('ui-button ui-widget ui-state-default ui-corner-all ' +\n",
       "                        'ui-button-icon-only');\n",
       "        button.attr('role', 'button');\n",
       "        button.attr('aria-disabled', 'false');\n",
       "        button.click(method_name, toolbar_event);\n",
       "        button.mouseover(tooltip, toolbar_mouse_event);\n",
       "\n",
       "        var icon_img = $('<span/>');\n",
       "        icon_img.addClass('ui-button-icon-primary ui-icon');\n",
       "        icon_img.addClass(image);\n",
       "        icon_img.addClass('ui-corner-all');\n",
       "\n",
       "        var tooltip_span = $('<span/>');\n",
       "        tooltip_span.addClass('ui-button-text');\n",
       "        tooltip_span.html(tooltip);\n",
       "\n",
       "        button.append(icon_img);\n",
       "        button.append(tooltip_span);\n",
       "\n",
       "        nav_element.append(button);\n",
       "    }\n",
       "\n",
       "    var fmt_picker_span = $('<span/>');\n",
       "\n",
       "    var fmt_picker = $('<select/>');\n",
       "    fmt_picker.addClass('mpl-toolbar-option ui-widget ui-widget-content');\n",
       "    fmt_picker_span.append(fmt_picker);\n",
       "    nav_element.append(fmt_picker_span);\n",
       "    this.format_dropdown = fmt_picker[0];\n",
       "\n",
       "    for (var ind in mpl.extensions) {\n",
       "        var fmt = mpl.extensions[ind];\n",
       "        var option = $(\n",
       "            '<option/>', {selected: fmt === mpl.default_extension}).html(fmt);\n",
       "        fmt_picker.append(option);\n",
       "    }\n",
       "\n",
       "    // Add hover states to the ui-buttons\n",
       "    $( \".ui-button\" ).hover(\n",
       "        function() { $(this).addClass(\"ui-state-hover\");},\n",
       "        function() { $(this).removeClass(\"ui-state-hover\");}\n",
       "    );\n",
       "\n",
       "    var status_bar = $('<span class=\"mpl-message\"/>');\n",
       "    nav_element.append(status_bar);\n",
       "    this.message = status_bar[0];\n",
       "}\n",
       "\n",
       "mpl.figure.prototype.request_resize = function(x_pixels, y_pixels) {\n",
       "    // Request matplotlib to resize the figure. Matplotlib will then trigger a resize in the client,\n",
       "    // which will in turn request a refresh of the image.\n",
       "    this.send_message('resize', {'width': x_pixels, 'height': y_pixels});\n",
       "}\n",
       "\n",
       "mpl.figure.prototype.send_message = function(type, properties) {\n",
       "    properties['type'] = type;\n",
       "    properties['figure_id'] = this.id;\n",
       "    this.ws.send(JSON.stringify(properties));\n",
       "}\n",
       "\n",
       "mpl.figure.prototype.send_draw_message = function() {\n",
       "    if (!this.waiting) {\n",
       "        this.waiting = true;\n",
       "        this.ws.send(JSON.stringify({type: \"draw\", figure_id: this.id}));\n",
       "    }\n",
       "}\n",
       "\n",
       "\n",
       "mpl.figure.prototype.handle_save = function(fig, msg) {\n",
       "    var format_dropdown = fig.format_dropdown;\n",
       "    var format = format_dropdown.options[format_dropdown.selectedIndex].value;\n",
       "    fig.ondownload(fig, format);\n",
       "}\n",
       "\n",
       "\n",
       "mpl.figure.prototype.handle_resize = function(fig, msg) {\n",
       "    var size = msg['size'];\n",
       "    if (size[0] != fig.canvas.width || size[1] != fig.canvas.height) {\n",
       "        fig._resize_canvas(size[0], size[1]);\n",
       "        fig.send_message(\"refresh\", {});\n",
       "    };\n",
       "}\n",
       "\n",
       "mpl.figure.prototype.handle_rubberband = function(fig, msg) {\n",
       "    var x0 = msg['x0'] / mpl.ratio;\n",
       "    var y0 = (fig.canvas.height - msg['y0']) / mpl.ratio;\n",
       "    var x1 = msg['x1'] / mpl.ratio;\n",
       "    var y1 = (fig.canvas.height - msg['y1']) / mpl.ratio;\n",
       "    x0 = Math.floor(x0) + 0.5;\n",
       "    y0 = Math.floor(y0) + 0.5;\n",
       "    x1 = Math.floor(x1) + 0.5;\n",
       "    y1 = Math.floor(y1) + 0.5;\n",
       "    var min_x = Math.min(x0, x1);\n",
       "    var min_y = Math.min(y0, y1);\n",
       "    var width = Math.abs(x1 - x0);\n",
       "    var height = Math.abs(y1 - y0);\n",
       "\n",
       "    fig.rubberband_context.clearRect(\n",
       "        0, 0, fig.canvas.width / mpl.ratio, fig.canvas.height / mpl.ratio);\n",
       "\n",
       "    fig.rubberband_context.strokeRect(min_x, min_y, width, height);\n",
       "}\n",
       "\n",
       "mpl.figure.prototype.handle_figure_label = function(fig, msg) {\n",
       "    // Updates the figure title.\n",
       "    fig.header.textContent = msg['label'];\n",
       "}\n",
       "\n",
       "mpl.figure.prototype.handle_cursor = function(fig, msg) {\n",
       "    var cursor = msg['cursor'];\n",
       "    switch(cursor)\n",
       "    {\n",
       "    case 0:\n",
       "        cursor = 'pointer';\n",
       "        break;\n",
       "    case 1:\n",
       "        cursor = 'default';\n",
       "        break;\n",
       "    case 2:\n",
       "        cursor = 'crosshair';\n",
       "        break;\n",
       "    case 3:\n",
       "        cursor = 'move';\n",
       "        break;\n",
       "    }\n",
       "    fig.rubberband_canvas.style.cursor = cursor;\n",
       "}\n",
       "\n",
       "mpl.figure.prototype.handle_message = function(fig, msg) {\n",
       "    fig.message.textContent = msg['message'];\n",
       "}\n",
       "\n",
       "mpl.figure.prototype.handle_draw = function(fig, msg) {\n",
       "    // Request the server to send over a new figure.\n",
       "    fig.send_draw_message();\n",
       "}\n",
       "\n",
       "mpl.figure.prototype.handle_image_mode = function(fig, msg) {\n",
       "    fig.image_mode = msg['mode'];\n",
       "}\n",
       "\n",
       "mpl.figure.prototype.updated_canvas_event = function() {\n",
       "    // Called whenever the canvas gets updated.\n",
       "    this.send_message(\"ack\", {});\n",
       "}\n",
       "\n",
       "// A function to construct a web socket function for onmessage handling.\n",
       "// Called in the figure constructor.\n",
       "mpl.figure.prototype._make_on_message_function = function(fig) {\n",
       "    return function socket_on_message(evt) {\n",
       "        if (evt.data instanceof Blob) {\n",
       "            /* FIXME: We get \"Resource interpreted as Image but\n",
       "             * transferred with MIME type text/plain:\" errors on\n",
       "             * Chrome.  But how to set the MIME type?  It doesn't seem\n",
       "             * to be part of the websocket stream */\n",
       "            evt.data.type = \"image/png\";\n",
       "\n",
       "            /* Free the memory for the previous frames */\n",
       "            if (fig.imageObj.src) {\n",
       "                (window.URL || window.webkitURL).revokeObjectURL(\n",
       "                    fig.imageObj.src);\n",
       "            }\n",
       "\n",
       "            fig.imageObj.src = (window.URL || window.webkitURL).createObjectURL(\n",
       "                evt.data);\n",
       "            fig.updated_canvas_event();\n",
       "            fig.waiting = false;\n",
       "            return;\n",
       "        }\n",
       "        else if (typeof evt.data === 'string' && evt.data.slice(0, 21) == \"data:image/png;base64\") {\n",
       "            fig.imageObj.src = evt.data;\n",
       "            fig.updated_canvas_event();\n",
       "            fig.waiting = false;\n",
       "            return;\n",
       "        }\n",
       "\n",
       "        var msg = JSON.parse(evt.data);\n",
       "        var msg_type = msg['type'];\n",
       "\n",
       "        // Call the  \"handle_{type}\" callback, which takes\n",
       "        // the figure and JSON message as its only arguments.\n",
       "        try {\n",
       "            var callback = fig[\"handle_\" + msg_type];\n",
       "        } catch (e) {\n",
       "            console.log(\"No handler for the '\" + msg_type + \"' message type: \", msg);\n",
       "            return;\n",
       "        }\n",
       "\n",
       "        if (callback) {\n",
       "            try {\n",
       "                // console.log(\"Handling '\" + msg_type + \"' message: \", msg);\n",
       "                callback(fig, msg);\n",
       "            } catch (e) {\n",
       "                console.log(\"Exception inside the 'handler_\" + msg_type + \"' callback:\", e, e.stack, msg);\n",
       "            }\n",
       "        }\n",
       "    };\n",
       "}\n",
       "\n",
       "// from http://stackoverflow.com/questions/1114465/getting-mouse-location-in-canvas\n",
       "mpl.findpos = function(e) {\n",
       "    //this section is from http://www.quirksmode.org/js/events_properties.html\n",
       "    var targ;\n",
       "    if (!e)\n",
       "        e = window.event;\n",
       "    if (e.target)\n",
       "        targ = e.target;\n",
       "    else if (e.srcElement)\n",
       "        targ = e.srcElement;\n",
       "    if (targ.nodeType == 3) // defeat Safari bug\n",
       "        targ = targ.parentNode;\n",
       "\n",
       "    // jQuery normalizes the pageX and pageY\n",
       "    // pageX,Y are the mouse positions relative to the document\n",
       "    // offset() returns the position of the element relative to the document\n",
       "    var x = e.pageX - $(targ).offset().left;\n",
       "    var y = e.pageY - $(targ).offset().top;\n",
       "\n",
       "    return {\"x\": x, \"y\": y};\n",
       "};\n",
       "\n",
       "/*\n",
       " * return a copy of an object with only non-object keys\n",
       " * we need this to avoid circular references\n",
       " * http://stackoverflow.com/a/24161582/3208463\n",
       " */\n",
       "function simpleKeys (original) {\n",
       "  return Object.keys(original).reduce(function (obj, key) {\n",
       "    if (typeof original[key] !== 'object')\n",
       "        obj[key] = original[key]\n",
       "    return obj;\n",
       "  }, {});\n",
       "}\n",
       "\n",
       "mpl.figure.prototype.mouse_event = function(event, name) {\n",
       "    var canvas_pos = mpl.findpos(event)\n",
       "\n",
       "    if (name === 'button_press')\n",
       "    {\n",
       "        this.canvas.focus();\n",
       "        this.canvas_div.focus();\n",
       "    }\n",
       "\n",
       "    var x = canvas_pos.x * mpl.ratio;\n",
       "    var y = canvas_pos.y * mpl.ratio;\n",
       "\n",
       "    this.send_message(name, {x: x, y: y, button: event.button,\n",
       "                             step: event.step,\n",
       "                             guiEvent: simpleKeys(event)});\n",
       "\n",
       "    /* This prevents the web browser from automatically changing to\n",
       "     * the text insertion cursor when the button is pressed.  We want\n",
       "     * to control all of the cursor setting manually through the\n",
       "     * 'cursor' event from matplotlib */\n",
       "    event.preventDefault();\n",
       "    return false;\n",
       "}\n",
       "\n",
       "mpl.figure.prototype._key_event_extra = function(event, name) {\n",
       "    // Handle any extra behaviour associated with a key event\n",
       "}\n",
       "\n",
       "mpl.figure.prototype.key_event = function(event, name) {\n",
       "\n",
       "    // Prevent repeat events\n",
       "    if (name == 'key_press')\n",
       "    {\n",
       "        if (event.which === this._key)\n",
       "            return;\n",
       "        else\n",
       "            this._key = event.which;\n",
       "    }\n",
       "    if (name == 'key_release')\n",
       "        this._key = null;\n",
       "\n",
       "    var value = '';\n",
       "    if (event.ctrlKey && event.which != 17)\n",
       "        value += \"ctrl+\";\n",
       "    if (event.altKey && event.which != 18)\n",
       "        value += \"alt+\";\n",
       "    if (event.shiftKey && event.which != 16)\n",
       "        value += \"shift+\";\n",
       "\n",
       "    value += 'k';\n",
       "    value += event.which.toString();\n",
       "\n",
       "    this._key_event_extra(event, name);\n",
       "\n",
       "    this.send_message(name, {key: value,\n",
       "                             guiEvent: simpleKeys(event)});\n",
       "    return false;\n",
       "}\n",
       "\n",
       "mpl.figure.prototype.toolbar_button_onclick = function(name) {\n",
       "    if (name == 'download') {\n",
       "        this.handle_save(this, null);\n",
       "    } else {\n",
       "        this.send_message(\"toolbar_button\", {name: name});\n",
       "    }\n",
       "};\n",
       "\n",
       "mpl.figure.prototype.toolbar_button_onmouseover = function(tooltip) {\n",
       "    this.message.textContent = tooltip;\n",
       "};\n",
       "mpl.toolbar_items = [[\"Home\", \"Reset original view\", \"fa fa-home icon-home\", \"home\"], [\"Back\", \"Back to previous view\", \"fa fa-arrow-left icon-arrow-left\", \"back\"], [\"Forward\", \"Forward to next view\", \"fa fa-arrow-right icon-arrow-right\", \"forward\"], [\"\", \"\", \"\", \"\"], [\"Pan\", \"Pan axes with left mouse, zoom with right\", \"fa fa-arrows icon-move\", \"pan\"], [\"Zoom\", \"Zoom to rectangle\", \"fa fa-square-o icon-check-empty\", \"zoom\"], [\"\", \"\", \"\", \"\"], [\"Download\", \"Download plot\", \"fa fa-floppy-o icon-save\", \"download\"]];\n",
       "\n",
       "mpl.extensions = [\"eps\", \"jpeg\", \"pdf\", \"png\", \"ps\", \"raw\", \"svg\", \"tif\"];\n",
       "\n",
       "mpl.default_extension = \"png\";var comm_websocket_adapter = function(comm) {\n",
       "    // Create a \"websocket\"-like object which calls the given IPython comm\n",
       "    // object with the appropriate methods. Currently this is a non binary\n",
       "    // socket, so there is still some room for performance tuning.\n",
       "    var ws = {};\n",
       "\n",
       "    ws.close = function() {\n",
       "        comm.close()\n",
       "    };\n",
       "    ws.send = function(m) {\n",
       "        //console.log('sending', m);\n",
       "        comm.send(m);\n",
       "    };\n",
       "    // Register the callback with on_msg.\n",
       "    comm.on_msg(function(msg) {\n",
       "        //console.log('receiving', msg['content']['data'], msg);\n",
       "        // Pass the mpl event to the overridden (by mpl) onmessage function.\n",
       "        ws.onmessage(msg['content']['data'])\n",
       "    });\n",
       "    return ws;\n",
       "}\n",
       "\n",
       "mpl.mpl_figure_comm = function(comm, msg) {\n",
       "    // This is the function which gets called when the mpl process\n",
       "    // starts-up an IPython Comm through the \"matplotlib\" channel.\n",
       "\n",
       "    var id = msg.content.data.id;\n",
       "    // Get hold of the div created by the display call when the Comm\n",
       "    // socket was opened in Python.\n",
       "    var element = $(\"#\" + id);\n",
       "    var ws_proxy = comm_websocket_adapter(comm)\n",
       "\n",
       "    function ondownload(figure, format) {\n",
       "        window.open(figure.imageObj.src);\n",
       "    }\n",
       "\n",
       "    var fig = new mpl.figure(id, ws_proxy,\n",
       "                           ondownload,\n",
       "                           element.get(0));\n",
       "\n",
       "    // Call onopen now - mpl needs it, as it is assuming we've passed it a real\n",
       "    // web socket which is closed, not our websocket->open comm proxy.\n",
       "    ws_proxy.onopen();\n",
       "\n",
       "    fig.parent_element = element.get(0);\n",
       "    fig.cell_info = mpl.find_output_cell(\"<div id='\" + id + \"'></div>\");\n",
       "    if (!fig.cell_info) {\n",
       "        console.error(\"Failed to find cell for figure\", id, fig);\n",
       "        return;\n",
       "    }\n",
       "\n",
       "    var output_index = fig.cell_info[2]\n",
       "    var cell = fig.cell_info[0];\n",
       "\n",
       "};\n",
       "\n",
       "mpl.figure.prototype.handle_close = function(fig, msg) {\n",
       "    var width = fig.canvas.width/mpl.ratio\n",
       "    fig.root.unbind('remove')\n",
       "\n",
       "    // Update the output cell to use the data from the current canvas.\n",
       "    fig.push_to_output();\n",
       "    var dataURL = fig.canvas.toDataURL();\n",
       "    // Re-enable the keyboard manager in IPython - without this line, in FF,\n",
       "    // the notebook keyboard shortcuts fail.\n",
       "    IPython.keyboard_manager.enable()\n",
       "    $(fig.parent_element).html('<img src=\"' + dataURL + '\" width=\"' + width + '\">');\n",
       "    fig.close_ws(fig, msg);\n",
       "}\n",
       "\n",
       "mpl.figure.prototype.close_ws = function(fig, msg){\n",
       "    fig.send_message('closing', msg);\n",
       "    // fig.ws.close()\n",
       "}\n",
       "\n",
       "mpl.figure.prototype.push_to_output = function(remove_interactive) {\n",
       "    // Turn the data on the canvas into data in the output cell.\n",
       "    var width = this.canvas.width/mpl.ratio\n",
       "    var dataURL = this.canvas.toDataURL();\n",
       "    this.cell_info[1]['text/html'] = '<img src=\"' + dataURL + '\" width=\"' + width + '\">';\n",
       "}\n",
       "\n",
       "mpl.figure.prototype.updated_canvas_event = function() {\n",
       "    // Tell IPython that the notebook contents must change.\n",
       "    IPython.notebook.set_dirty(true);\n",
       "    this.send_message(\"ack\", {});\n",
       "    var fig = this;\n",
       "    // Wait a second, then push the new image to the DOM so\n",
       "    // that it is saved nicely (might be nice to debounce this).\n",
       "    setTimeout(function () { fig.push_to_output() }, 1000);\n",
       "}\n",
       "\n",
       "mpl.figure.prototype._init_toolbar = function() {\n",
       "    var fig = this;\n",
       "\n",
       "    var nav_element = $('<div/>');\n",
       "    nav_element.attr('style', 'width: 100%');\n",
       "    this.root.append(nav_element);\n",
       "\n",
       "    // Define a callback function for later on.\n",
       "    function toolbar_event(event) {\n",
       "        return fig.toolbar_button_onclick(event['data']);\n",
       "    }\n",
       "    function toolbar_mouse_event(event) {\n",
       "        return fig.toolbar_button_onmouseover(event['data']);\n",
       "    }\n",
       "\n",
       "    for(var toolbar_ind in mpl.toolbar_items){\n",
       "        var name = mpl.toolbar_items[toolbar_ind][0];\n",
       "        var tooltip = mpl.toolbar_items[toolbar_ind][1];\n",
       "        var image = mpl.toolbar_items[toolbar_ind][2];\n",
       "        var method_name = mpl.toolbar_items[toolbar_ind][3];\n",
       "\n",
       "        if (!name) { continue; };\n",
       "\n",
       "        var button = $('<button class=\"btn btn-default\" href=\"#\" title=\"' + name + '\"><i class=\"fa ' + image + ' fa-lg\"></i></button>');\n",
       "        button.click(method_name, toolbar_event);\n",
       "        button.mouseover(tooltip, toolbar_mouse_event);\n",
       "        nav_element.append(button);\n",
       "    }\n",
       "\n",
       "    // Add the status bar.\n",
       "    var status_bar = $('<span class=\"mpl-message\" style=\"text-align:right; float: right;\"/>');\n",
       "    nav_element.append(status_bar);\n",
       "    this.message = status_bar[0];\n",
       "\n",
       "    // Add the close button to the window.\n",
       "    var buttongrp = $('<div class=\"btn-group inline pull-right\"></div>');\n",
       "    var button = $('<button class=\"btn btn-mini btn-primary\" href=\"#\" title=\"Stop Interaction\"><i class=\"fa fa-power-off icon-remove icon-large\"></i></button>');\n",
       "    button.click(function (evt) { fig.handle_close(fig, {}); } );\n",
       "    button.mouseover('Stop Interaction', toolbar_mouse_event);\n",
       "    buttongrp.append(button);\n",
       "    var titlebar = this.root.find($('.ui-dialog-titlebar'));\n",
       "    titlebar.prepend(buttongrp);\n",
       "}\n",
       "\n",
       "mpl.figure.prototype._root_extra_style = function(el){\n",
       "    var fig = this\n",
       "    el.on(\"remove\", function(){\n",
       "\tfig.close_ws(fig, {});\n",
       "    });\n",
       "}\n",
       "\n",
       "mpl.figure.prototype._canvas_extra_style = function(el){\n",
       "    // this is important to make the div 'focusable\n",
       "    el.attr('tabindex', 0)\n",
       "    // reach out to IPython and tell the keyboard manager to turn it's self\n",
       "    // off when our div gets focus\n",
       "\n",
       "    // location in version 3\n",
       "    if (IPython.notebook.keyboard_manager) {\n",
       "        IPython.notebook.keyboard_manager.register_events(el);\n",
       "    }\n",
       "    else {\n",
       "        // location in version 2\n",
       "        IPython.keyboard_manager.register_events(el);\n",
       "    }\n",
       "\n",
       "}\n",
       "\n",
       "mpl.figure.prototype._key_event_extra = function(event, name) {\n",
       "    var manager = IPython.notebook.keyboard_manager;\n",
       "    if (!manager)\n",
       "        manager = IPython.keyboard_manager;\n",
       "\n",
       "    // Check for shift+enter\n",
       "    if (event.shiftKey && event.which == 13) {\n",
       "        this.canvas_div.blur();\n",
       "        event.shiftKey = false;\n",
       "        // Send a \"J\" for go to next cell\n",
       "        event.which = 74;\n",
       "        event.keyCode = 74;\n",
       "        manager.command_mode();\n",
       "        manager.handle_keydown(event);\n",
       "    }\n",
       "}\n",
       "\n",
       "mpl.figure.prototype.handle_save = function(fig, msg) {\n",
       "    fig.ondownload(fig, null);\n",
       "}\n",
       "\n",
       "\n",
       "mpl.find_output_cell = function(html_output) {\n",
       "    // Return the cell and output element which can be found *uniquely* in the notebook.\n",
       "    // Note - this is a bit hacky, but it is done because the \"notebook_saving.Notebook\"\n",
       "    // IPython event is triggered only after the cells have been serialised, which for\n",
       "    // our purposes (turning an active figure into a static one), is too late.\n",
       "    var cells = IPython.notebook.get_cells();\n",
       "    var ncells = cells.length;\n",
       "    for (var i=0; i<ncells; i++) {\n",
       "        var cell = cells[i];\n",
       "        if (cell.cell_type === 'code'){\n",
       "            for (var j=0; j<cell.output_area.outputs.length; j++) {\n",
       "                var data = cell.output_area.outputs[j];\n",
       "                if (data.data) {\n",
       "                    // IPython >= 3 moved mimebundle to data attribute of output\n",
       "                    data = data.data;\n",
       "                }\n",
       "                if (data['text/html'] == html_output) {\n",
       "                    return [cell, data, j];\n",
       "                }\n",
       "            }\n",
       "        }\n",
       "    }\n",
       "}\n",
       "\n",
       "// Register the function which deals with the matplotlib target/channel.\n",
       "// The kernel may be null if the page has been refreshed.\n",
       "if (IPython.notebook.kernel != null) {\n",
       "    IPython.notebook.kernel.comm_manager.register_target('matplotlib', mpl.mpl_figure_comm);\n",
       "}\n"
      ],
      "text/plain": [
       "<IPython.core.display.Javascript object>"
      ]
     },
     "metadata": {},
     "output_type": "display_data"
    },
    {
     "data": {
      "text/html": [
       "<img src=\"data:image/png;base64,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\" width=\"864\">"
      ],
      "text/plain": [
       "<IPython.core.display.HTML object>"
      ]
     },
     "metadata": {},
     "output_type": "display_data"
    },
    {
     "name": "stderr",
     "output_type": "stream",
     "text": [
      "/home/condauser/.conda/envs/dml/lib/python3.7/site-packages/sklearn/metrics/classification.py:1437: UndefinedMetricWarning: Precision and F-score are ill-defined and being set to 0.0 in labels with no predicted samples.\n",
      "  'precision', 'predicted', average, warn_for)\n"
     ]
    },
    {
     "data": {
      "application/javascript": [
       "/* Put everything inside the global mpl namespace */\n",
       "window.mpl = {};\n",
       "\n",
       "\n",
       "mpl.get_websocket_type = function() {\n",
       "    if (typeof(WebSocket) !== 'undefined') {\n",
       "        return WebSocket;\n",
       "    } else if (typeof(MozWebSocket) !== 'undefined') {\n",
       "        return MozWebSocket;\n",
       "    } else {\n",
       "        alert('Your browser does not have WebSocket support. ' +\n",
       "              'Please try Chrome, Safari or Firefox ≥ 6. ' +\n",
       "              'Firefox 4 and 5 are also supported but you ' +\n",
       "              'have to enable WebSockets in about:config.');\n",
       "    };\n",
       "}\n",
       "\n",
       "mpl.figure = function(figure_id, websocket, ondownload, parent_element) {\n",
       "    this.id = figure_id;\n",
       "\n",
       "    this.ws = websocket;\n",
       "\n",
       "    this.supports_binary = (this.ws.binaryType != undefined);\n",
       "\n",
       "    if (!this.supports_binary) {\n",
       "        var warnings = document.getElementById(\"mpl-warnings\");\n",
       "        if (warnings) {\n",
       "            warnings.style.display = 'block';\n",
       "            warnings.textContent = (\n",
       "                \"This browser does not support binary websocket messages. \" +\n",
       "                    \"Performance may be slow.\");\n",
       "        }\n",
       "    }\n",
       "\n",
       "    this.imageObj = new Image();\n",
       "\n",
       "    this.context = undefined;\n",
       "    this.message = undefined;\n",
       "    this.canvas = undefined;\n",
       "    this.rubberband_canvas = undefined;\n",
       "    this.rubberband_context = undefined;\n",
       "    this.format_dropdown = undefined;\n",
       "\n",
       "    this.image_mode = 'full';\n",
       "\n",
       "    this.root = $('<div/>');\n",
       "    this._root_extra_style(this.root)\n",
       "    this.root.attr('style', 'display: inline-block');\n",
       "\n",
       "    $(parent_element).append(this.root);\n",
       "\n",
       "    this._init_header(this);\n",
       "    this._init_canvas(this);\n",
       "    this._init_toolbar(this);\n",
       "\n",
       "    var fig = this;\n",
       "\n",
       "    this.waiting = false;\n",
       "\n",
       "    this.ws.onopen =  function () {\n",
       "            fig.send_message(\"supports_binary\", {value: fig.supports_binary});\n",
       "            fig.send_message(\"send_image_mode\", {});\n",
       "            if (mpl.ratio != 1) {\n",
       "                fig.send_message(\"set_dpi_ratio\", {'dpi_ratio': mpl.ratio});\n",
       "            }\n",
       "            fig.send_message(\"refresh\", {});\n",
       "        }\n",
       "\n",
       "    this.imageObj.onload = function() {\n",
       "            if (fig.image_mode == 'full') {\n",
       "                // Full images could contain transparency (where diff images\n",
       "                // almost always do), so we need to clear the canvas so that\n",
       "                // there is no ghosting.\n",
       "                fig.context.clearRect(0, 0, fig.canvas.width, fig.canvas.height);\n",
       "            }\n",
       "            fig.context.drawImage(fig.imageObj, 0, 0);\n",
       "        };\n",
       "\n",
       "    this.imageObj.onunload = function() {\n",
       "        fig.ws.close();\n",
       "    }\n",
       "\n",
       "    this.ws.onmessage = this._make_on_message_function(this);\n",
       "\n",
       "    this.ondownload = ondownload;\n",
       "}\n",
       "\n",
       "mpl.figure.prototype._init_header = function() {\n",
       "    var titlebar = $(\n",
       "        '<div class=\"ui-dialog-titlebar ui-widget-header ui-corner-all ' +\n",
       "        'ui-helper-clearfix\"/>');\n",
       "    var titletext = $(\n",
       "        '<div class=\"ui-dialog-title\" style=\"width: 100%; ' +\n",
       "        'text-align: center; padding: 3px;\"/>');\n",
       "    titlebar.append(titletext)\n",
       "    this.root.append(titlebar);\n",
       "    this.header = titletext[0];\n",
       "}\n",
       "\n",
       "\n",
       "\n",
       "mpl.figure.prototype._canvas_extra_style = function(canvas_div) {\n",
       "\n",
       "}\n",
       "\n",
       "\n",
       "mpl.figure.prototype._root_extra_style = function(canvas_div) {\n",
       "\n",
       "}\n",
       "\n",
       "mpl.figure.prototype._init_canvas = function() {\n",
       "    var fig = this;\n",
       "\n",
       "    var canvas_div = $('<div/>');\n",
       "\n",
       "    canvas_div.attr('style', 'position: relative; clear: both; outline: 0');\n",
       "\n",
       "    function canvas_keyboard_event(event) {\n",
       "        return fig.key_event(event, event['data']);\n",
       "    }\n",
       "\n",
       "    canvas_div.keydown('key_press', canvas_keyboard_event);\n",
       "    canvas_div.keyup('key_release', canvas_keyboard_event);\n",
       "    this.canvas_div = canvas_div\n",
       "    this._canvas_extra_style(canvas_div)\n",
       "    this.root.append(canvas_div);\n",
       "\n",
       "    var canvas = $('<canvas/>');\n",
       "    canvas.addClass('mpl-canvas');\n",
       "    canvas.attr('style', \"left: 0; top: 0; z-index: 0; outline: 0\")\n",
       "\n",
       "    this.canvas = canvas[0];\n",
       "    this.context = canvas[0].getContext(\"2d\");\n",
       "\n",
       "    var backingStore = this.context.backingStorePixelRatio ||\n",
       "\tthis.context.webkitBackingStorePixelRatio ||\n",
       "\tthis.context.mozBackingStorePixelRatio ||\n",
       "\tthis.context.msBackingStorePixelRatio ||\n",
       "\tthis.context.oBackingStorePixelRatio ||\n",
       "\tthis.context.backingStorePixelRatio || 1;\n",
       "\n",
       "    mpl.ratio = (window.devicePixelRatio || 1) / backingStore;\n",
       "\n",
       "    var rubberband = $('<canvas/>');\n",
       "    rubberband.attr('style', \"position: absolute; left: 0; top: 0; z-index: 1;\")\n",
       "\n",
       "    var pass_mouse_events = true;\n",
       "\n",
       "    canvas_div.resizable({\n",
       "        start: function(event, ui) {\n",
       "            pass_mouse_events = false;\n",
       "        },\n",
       "        resize: function(event, ui) {\n",
       "            fig.request_resize(ui.size.width, ui.size.height);\n",
       "        },\n",
       "        stop: function(event, ui) {\n",
       "            pass_mouse_events = true;\n",
       "            fig.request_resize(ui.size.width, ui.size.height);\n",
       "        },\n",
       "    });\n",
       "\n",
       "    function mouse_event_fn(event) {\n",
       "        if (pass_mouse_events)\n",
       "            return fig.mouse_event(event, event['data']);\n",
       "    }\n",
       "\n",
       "    rubberband.mousedown('button_press', mouse_event_fn);\n",
       "    rubberband.mouseup('button_release', mouse_event_fn);\n",
       "    // Throttle sequential mouse events to 1 every 20ms.\n",
       "    rubberband.mousemove('motion_notify', mouse_event_fn);\n",
       "\n",
       "    rubberband.mouseenter('figure_enter', mouse_event_fn);\n",
       "    rubberband.mouseleave('figure_leave', mouse_event_fn);\n",
       "\n",
       "    canvas_div.on(\"wheel\", function (event) {\n",
       "        event = event.originalEvent;\n",
       "        event['data'] = 'scroll'\n",
       "        if (event.deltaY < 0) {\n",
       "            event.step = 1;\n",
       "        } else {\n",
       "            event.step = -1;\n",
       "        }\n",
       "        mouse_event_fn(event);\n",
       "    });\n",
       "\n",
       "    canvas_div.append(canvas);\n",
       "    canvas_div.append(rubberband);\n",
       "\n",
       "    this.rubberband = rubberband;\n",
       "    this.rubberband_canvas = rubberband[0];\n",
       "    this.rubberband_context = rubberband[0].getContext(\"2d\");\n",
       "    this.rubberband_context.strokeStyle = \"#000000\";\n",
       "\n",
       "    this._resize_canvas = function(width, height) {\n",
       "        // Keep the size of the canvas, canvas container, and rubber band\n",
       "        // canvas in synch.\n",
       "        canvas_div.css('width', width)\n",
       "        canvas_div.css('height', height)\n",
       "\n",
       "        canvas.attr('width', width * mpl.ratio);\n",
       "        canvas.attr('height', height * mpl.ratio);\n",
       "        canvas.attr('style', 'width: ' + width + 'px; height: ' + height + 'px;');\n",
       "\n",
       "        rubberband.attr('width', width);\n",
       "        rubberband.attr('height', height);\n",
       "    }\n",
       "\n",
       "    // Set the figure to an initial 600x600px, this will subsequently be updated\n",
       "    // upon first draw.\n",
       "    this._resize_canvas(600, 600);\n",
       "\n",
       "    // Disable right mouse context menu.\n",
       "    $(this.rubberband_canvas).bind(\"contextmenu\",function(e){\n",
       "        return false;\n",
       "    });\n",
       "\n",
       "    function set_focus () {\n",
       "        canvas.focus();\n",
       "        canvas_div.focus();\n",
       "    }\n",
       "\n",
       "    window.setTimeout(set_focus, 100);\n",
       "}\n",
       "\n",
       "mpl.figure.prototype._init_toolbar = function() {\n",
       "    var fig = this;\n",
       "\n",
       "    var nav_element = $('<div/>');\n",
       "    nav_element.attr('style', 'width: 100%');\n",
       "    this.root.append(nav_element);\n",
       "\n",
       "    // Define a callback function for later on.\n",
       "    function toolbar_event(event) {\n",
       "        return fig.toolbar_button_onclick(event['data']);\n",
       "    }\n",
       "    function toolbar_mouse_event(event) {\n",
       "        return fig.toolbar_button_onmouseover(event['data']);\n",
       "    }\n",
       "\n",
       "    for(var toolbar_ind in mpl.toolbar_items) {\n",
       "        var name = mpl.toolbar_items[toolbar_ind][0];\n",
       "        var tooltip = mpl.toolbar_items[toolbar_ind][1];\n",
       "        var image = mpl.toolbar_items[toolbar_ind][2];\n",
       "        var method_name = mpl.toolbar_items[toolbar_ind][3];\n",
       "\n",
       "        if (!name) {\n",
       "            // put a spacer in here.\n",
       "            continue;\n",
       "        }\n",
       "        var button = $('<button/>');\n",
       "        button.addClass('ui-button ui-widget ui-state-default ui-corner-all ' +\n",
       "                        'ui-button-icon-only');\n",
       "        button.attr('role', 'button');\n",
       "        button.attr('aria-disabled', 'false');\n",
       "        button.click(method_name, toolbar_event);\n",
       "        button.mouseover(tooltip, toolbar_mouse_event);\n",
       "\n",
       "        var icon_img = $('<span/>');\n",
       "        icon_img.addClass('ui-button-icon-primary ui-icon');\n",
       "        icon_img.addClass(image);\n",
       "        icon_img.addClass('ui-corner-all');\n",
       "\n",
       "        var tooltip_span = $('<span/>');\n",
       "        tooltip_span.addClass('ui-button-text');\n",
       "        tooltip_span.html(tooltip);\n",
       "\n",
       "        button.append(icon_img);\n",
       "        button.append(tooltip_span);\n",
       "\n",
       "        nav_element.append(button);\n",
       "    }\n",
       "\n",
       "    var fmt_picker_span = $('<span/>');\n",
       "\n",
       "    var fmt_picker = $('<select/>');\n",
       "    fmt_picker.addClass('mpl-toolbar-option ui-widget ui-widget-content');\n",
       "    fmt_picker_span.append(fmt_picker);\n",
       "    nav_element.append(fmt_picker_span);\n",
       "    this.format_dropdown = fmt_picker[0];\n",
       "\n",
       "    for (var ind in mpl.extensions) {\n",
       "        var fmt = mpl.extensions[ind];\n",
       "        var option = $(\n",
       "            '<option/>', {selected: fmt === mpl.default_extension}).html(fmt);\n",
       "        fmt_picker.append(option);\n",
       "    }\n",
       "\n",
       "    // Add hover states to the ui-buttons\n",
       "    $( \".ui-button\" ).hover(\n",
       "        function() { $(this).addClass(\"ui-state-hover\");},\n",
       "        function() { $(this).removeClass(\"ui-state-hover\");}\n",
       "    );\n",
       "\n",
       "    var status_bar = $('<span class=\"mpl-message\"/>');\n",
       "    nav_element.append(status_bar);\n",
       "    this.message = status_bar[0];\n",
       "}\n",
       "\n",
       "mpl.figure.prototype.request_resize = function(x_pixels, y_pixels) {\n",
       "    // Request matplotlib to resize the figure. Matplotlib will then trigger a resize in the client,\n",
       "    // which will in turn request a refresh of the image.\n",
       "    this.send_message('resize', {'width': x_pixels, 'height': y_pixels});\n",
       "}\n",
       "\n",
       "mpl.figure.prototype.send_message = function(type, properties) {\n",
       "    properties['type'] = type;\n",
       "    properties['figure_id'] = this.id;\n",
       "    this.ws.send(JSON.stringify(properties));\n",
       "}\n",
       "\n",
       "mpl.figure.prototype.send_draw_message = function() {\n",
       "    if (!this.waiting) {\n",
       "        this.waiting = true;\n",
       "        this.ws.send(JSON.stringify({type: \"draw\", figure_id: this.id}));\n",
       "    }\n",
       "}\n",
       "\n",
       "\n",
       "mpl.figure.prototype.handle_save = function(fig, msg) {\n",
       "    var format_dropdown = fig.format_dropdown;\n",
       "    var format = format_dropdown.options[format_dropdown.selectedIndex].value;\n",
       "    fig.ondownload(fig, format);\n",
       "}\n",
       "\n",
       "\n",
       "mpl.figure.prototype.handle_resize = function(fig, msg) {\n",
       "    var size = msg['size'];\n",
       "    if (size[0] != fig.canvas.width || size[1] != fig.canvas.height) {\n",
       "        fig._resize_canvas(size[0], size[1]);\n",
       "        fig.send_message(\"refresh\", {});\n",
       "    };\n",
       "}\n",
       "\n",
       "mpl.figure.prototype.handle_rubberband = function(fig, msg) {\n",
       "    var x0 = msg['x0'] / mpl.ratio;\n",
       "    var y0 = (fig.canvas.height - msg['y0']) / mpl.ratio;\n",
       "    var x1 = msg['x1'] / mpl.ratio;\n",
       "    var y1 = (fig.canvas.height - msg['y1']) / mpl.ratio;\n",
       "    x0 = Math.floor(x0) + 0.5;\n",
       "    y0 = Math.floor(y0) + 0.5;\n",
       "    x1 = Math.floor(x1) + 0.5;\n",
       "    y1 = Math.floor(y1) + 0.5;\n",
       "    var min_x = Math.min(x0, x1);\n",
       "    var min_y = Math.min(y0, y1);\n",
       "    var width = Math.abs(x1 - x0);\n",
       "    var height = Math.abs(y1 - y0);\n",
       "\n",
       "    fig.rubberband_context.clearRect(\n",
       "        0, 0, fig.canvas.width / mpl.ratio, fig.canvas.height / mpl.ratio);\n",
       "\n",
       "    fig.rubberband_context.strokeRect(min_x, min_y, width, height);\n",
       "}\n",
       "\n",
       "mpl.figure.prototype.handle_figure_label = function(fig, msg) {\n",
       "    // Updates the figure title.\n",
       "    fig.header.textContent = msg['label'];\n",
       "}\n",
       "\n",
       "mpl.figure.prototype.handle_cursor = function(fig, msg) {\n",
       "    var cursor = msg['cursor'];\n",
       "    switch(cursor)\n",
       "    {\n",
       "    case 0:\n",
       "        cursor = 'pointer';\n",
       "        break;\n",
       "    case 1:\n",
       "        cursor = 'default';\n",
       "        break;\n",
       "    case 2:\n",
       "        cursor = 'crosshair';\n",
       "        break;\n",
       "    case 3:\n",
       "        cursor = 'move';\n",
       "        break;\n",
       "    }\n",
       "    fig.rubberband_canvas.style.cursor = cursor;\n",
       "}\n",
       "\n",
       "mpl.figure.prototype.handle_message = function(fig, msg) {\n",
       "    fig.message.textContent = msg['message'];\n",
       "}\n",
       "\n",
       "mpl.figure.prototype.handle_draw = function(fig, msg) {\n",
       "    // Request the server to send over a new figure.\n",
       "    fig.send_draw_message();\n",
       "}\n",
       "\n",
       "mpl.figure.prototype.handle_image_mode = function(fig, msg) {\n",
       "    fig.image_mode = msg['mode'];\n",
       "}\n",
       "\n",
       "mpl.figure.prototype.updated_canvas_event = function() {\n",
       "    // Called whenever the canvas gets updated.\n",
       "    this.send_message(\"ack\", {});\n",
       "}\n",
       "\n",
       "// A function to construct a web socket function for onmessage handling.\n",
       "// Called in the figure constructor.\n",
       "mpl.figure.prototype._make_on_message_function = function(fig) {\n",
       "    return function socket_on_message(evt) {\n",
       "        if (evt.data instanceof Blob) {\n",
       "            /* FIXME: We get \"Resource interpreted as Image but\n",
       "             * transferred with MIME type text/plain:\" errors on\n",
       "             * Chrome.  But how to set the MIME type?  It doesn't seem\n",
       "             * to be part of the websocket stream */\n",
       "            evt.data.type = \"image/png\";\n",
       "\n",
       "            /* Free the memory for the previous frames */\n",
       "            if (fig.imageObj.src) {\n",
       "                (window.URL || window.webkitURL).revokeObjectURL(\n",
       "                    fig.imageObj.src);\n",
       "            }\n",
       "\n",
       "            fig.imageObj.src = (window.URL || window.webkitURL).createObjectURL(\n",
       "                evt.data);\n",
       "            fig.updated_canvas_event();\n",
       "            fig.waiting = false;\n",
       "            return;\n",
       "        }\n",
       "        else if (typeof evt.data === 'string' && evt.data.slice(0, 21) == \"data:image/png;base64\") {\n",
       "            fig.imageObj.src = evt.data;\n",
       "            fig.updated_canvas_event();\n",
       "            fig.waiting = false;\n",
       "            return;\n",
       "        }\n",
       "\n",
       "        var msg = JSON.parse(evt.data);\n",
       "        var msg_type = msg['type'];\n",
       "\n",
       "        // Call the  \"handle_{type}\" callback, which takes\n",
       "        // the figure and JSON message as its only arguments.\n",
       "        try {\n",
       "            var callback = fig[\"handle_\" + msg_type];\n",
       "        } catch (e) {\n",
       "            console.log(\"No handler for the '\" + msg_type + \"' message type: \", msg);\n",
       "            return;\n",
       "        }\n",
       "\n",
       "        if (callback) {\n",
       "            try {\n",
       "                // console.log(\"Handling '\" + msg_type + \"' message: \", msg);\n",
       "                callback(fig, msg);\n",
       "            } catch (e) {\n",
       "                console.log(\"Exception inside the 'handler_\" + msg_type + \"' callback:\", e, e.stack, msg);\n",
       "            }\n",
       "        }\n",
       "    };\n",
       "}\n",
       "\n",
       "// from http://stackoverflow.com/questions/1114465/getting-mouse-location-in-canvas\n",
       "mpl.findpos = function(e) {\n",
       "    //this section is from http://www.quirksmode.org/js/events_properties.html\n",
       "    var targ;\n",
       "    if (!e)\n",
       "        e = window.event;\n",
       "    if (e.target)\n",
       "        targ = e.target;\n",
       "    else if (e.srcElement)\n",
       "        targ = e.srcElement;\n",
       "    if (targ.nodeType == 3) // defeat Safari bug\n",
       "        targ = targ.parentNode;\n",
       "\n",
       "    // jQuery normalizes the pageX and pageY\n",
       "    // pageX,Y are the mouse positions relative to the document\n",
       "    // offset() returns the position of the element relative to the document\n",
       "    var x = e.pageX - $(targ).offset().left;\n",
       "    var y = e.pageY - $(targ).offset().top;\n",
       "\n",
       "    return {\"x\": x, \"y\": y};\n",
       "};\n",
       "\n",
       "/*\n",
       " * return a copy of an object with only non-object keys\n",
       " * we need this to avoid circular references\n",
       " * http://stackoverflow.com/a/24161582/3208463\n",
       " */\n",
       "function simpleKeys (original) {\n",
       "  return Object.keys(original).reduce(function (obj, key) {\n",
       "    if (typeof original[key] !== 'object')\n",
       "        obj[key] = original[key]\n",
       "    return obj;\n",
       "  }, {});\n",
       "}\n",
       "\n",
       "mpl.figure.prototype.mouse_event = function(event, name) {\n",
       "    var canvas_pos = mpl.findpos(event)\n",
       "\n",
       "    if (name === 'button_press')\n",
       "    {\n",
       "        this.canvas.focus();\n",
       "        this.canvas_div.focus();\n",
       "    }\n",
       "\n",
       "    var x = canvas_pos.x * mpl.ratio;\n",
       "    var y = canvas_pos.y * mpl.ratio;\n",
       "\n",
       "    this.send_message(name, {x: x, y: y, button: event.button,\n",
       "                             step: event.step,\n",
       "                             guiEvent: simpleKeys(event)});\n",
       "\n",
       "    /* This prevents the web browser from automatically changing to\n",
       "     * the text insertion cursor when the button is pressed.  We want\n",
       "     * to control all of the cursor setting manually through the\n",
       "     * 'cursor' event from matplotlib */\n",
       "    event.preventDefault();\n",
       "    return false;\n",
       "}\n",
       "\n",
       "mpl.figure.prototype._key_event_extra = function(event, name) {\n",
       "    // Handle any extra behaviour associated with a key event\n",
       "}\n",
       "\n",
       "mpl.figure.prototype.key_event = function(event, name) {\n",
       "\n",
       "    // Prevent repeat events\n",
       "    if (name == 'key_press')\n",
       "    {\n",
       "        if (event.which === this._key)\n",
       "            return;\n",
       "        else\n",
       "            this._key = event.which;\n",
       "    }\n",
       "    if (name == 'key_release')\n",
       "        this._key = null;\n",
       "\n",
       "    var value = '';\n",
       "    if (event.ctrlKey && event.which != 17)\n",
       "        value += \"ctrl+\";\n",
       "    if (event.altKey && event.which != 18)\n",
       "        value += \"alt+\";\n",
       "    if (event.shiftKey && event.which != 16)\n",
       "        value += \"shift+\";\n",
       "\n",
       "    value += 'k';\n",
       "    value += event.which.toString();\n",
       "\n",
       "    this._key_event_extra(event, name);\n",
       "\n",
       "    this.send_message(name, {key: value,\n",
       "                             guiEvent: simpleKeys(event)});\n",
       "    return false;\n",
       "}\n",
       "\n",
       "mpl.figure.prototype.toolbar_button_onclick = function(name) {\n",
       "    if (name == 'download') {\n",
       "        this.handle_save(this, null);\n",
       "    } else {\n",
       "        this.send_message(\"toolbar_button\", {name: name});\n",
       "    }\n",
       "};\n",
       "\n",
       "mpl.figure.prototype.toolbar_button_onmouseover = function(tooltip) {\n",
       "    this.message.textContent = tooltip;\n",
       "};\n",
       "mpl.toolbar_items = [[\"Home\", \"Reset original view\", \"fa fa-home icon-home\", \"home\"], [\"Back\", \"Back to previous view\", \"fa fa-arrow-left icon-arrow-left\", \"back\"], [\"Forward\", \"Forward to next view\", \"fa fa-arrow-right icon-arrow-right\", \"forward\"], [\"\", \"\", \"\", \"\"], [\"Pan\", \"Pan axes with left mouse, zoom with right\", \"fa fa-arrows icon-move\", \"pan\"], [\"Zoom\", \"Zoom to rectangle\", \"fa fa-square-o icon-check-empty\", \"zoom\"], [\"\", \"\", \"\", \"\"], [\"Download\", \"Download plot\", \"fa fa-floppy-o icon-save\", \"download\"]];\n",
       "\n",
       "mpl.extensions = [\"eps\", \"jpeg\", \"pdf\", \"png\", \"ps\", \"raw\", \"svg\", \"tif\"];\n",
       "\n",
       "mpl.default_extension = \"png\";var comm_websocket_adapter = function(comm) {\n",
       "    // Create a \"websocket\"-like object which calls the given IPython comm\n",
       "    // object with the appropriate methods. Currently this is a non binary\n",
       "    // socket, so there is still some room for performance tuning.\n",
       "    var ws = {};\n",
       "\n",
       "    ws.close = function() {\n",
       "        comm.close()\n",
       "    };\n",
       "    ws.send = function(m) {\n",
       "        //console.log('sending', m);\n",
       "        comm.send(m);\n",
       "    };\n",
       "    // Register the callback with on_msg.\n",
       "    comm.on_msg(function(msg) {\n",
       "        //console.log('receiving', msg['content']['data'], msg);\n",
       "        // Pass the mpl event to the overridden (by mpl) onmessage function.\n",
       "        ws.onmessage(msg['content']['data'])\n",
       "    });\n",
       "    return ws;\n",
       "}\n",
       "\n",
       "mpl.mpl_figure_comm = function(comm, msg) {\n",
       "    // This is the function which gets called when the mpl process\n",
       "    // starts-up an IPython Comm through the \"matplotlib\" channel.\n",
       "\n",
       "    var id = msg.content.data.id;\n",
       "    // Get hold of the div created by the display call when the Comm\n",
       "    // socket was opened in Python.\n",
       "    var element = $(\"#\" + id);\n",
       "    var ws_proxy = comm_websocket_adapter(comm)\n",
       "\n",
       "    function ondownload(figure, format) {\n",
       "        window.open(figure.imageObj.src);\n",
       "    }\n",
       "\n",
       "    var fig = new mpl.figure(id, ws_proxy,\n",
       "                           ondownload,\n",
       "                           element.get(0));\n",
       "\n",
       "    // Call onopen now - mpl needs it, as it is assuming we've passed it a real\n",
       "    // web socket which is closed, not our websocket->open comm proxy.\n",
       "    ws_proxy.onopen();\n",
       "\n",
       "    fig.parent_element = element.get(0);\n",
       "    fig.cell_info = mpl.find_output_cell(\"<div id='\" + id + \"'></div>\");\n",
       "    if (!fig.cell_info) {\n",
       "        console.error(\"Failed to find cell for figure\", id, fig);\n",
       "        return;\n",
       "    }\n",
       "\n",
       "    var output_index = fig.cell_info[2]\n",
       "    var cell = fig.cell_info[0];\n",
       "\n",
       "};\n",
       "\n",
       "mpl.figure.prototype.handle_close = function(fig, msg) {\n",
       "    var width = fig.canvas.width/mpl.ratio\n",
       "    fig.root.unbind('remove')\n",
       "\n",
       "    // Update the output cell to use the data from the current canvas.\n",
       "    fig.push_to_output();\n",
       "    var dataURL = fig.canvas.toDataURL();\n",
       "    // Re-enable the keyboard manager in IPython - without this line, in FF,\n",
       "    // the notebook keyboard shortcuts fail.\n",
       "    IPython.keyboard_manager.enable()\n",
       "    $(fig.parent_element).html('<img src=\"' + dataURL + '\" width=\"' + width + '\">');\n",
       "    fig.close_ws(fig, msg);\n",
       "}\n",
       "\n",
       "mpl.figure.prototype.close_ws = function(fig, msg){\n",
       "    fig.send_message('closing', msg);\n",
       "    // fig.ws.close()\n",
       "}\n",
       "\n",
       "mpl.figure.prototype.push_to_output = function(remove_interactive) {\n",
       "    // Turn the data on the canvas into data in the output cell.\n",
       "    var width = this.canvas.width/mpl.ratio\n",
       "    var dataURL = this.canvas.toDataURL();\n",
       "    this.cell_info[1]['text/html'] = '<img src=\"' + dataURL + '\" width=\"' + width + '\">';\n",
       "}\n",
       "\n",
       "mpl.figure.prototype.updated_canvas_event = function() {\n",
       "    // Tell IPython that the notebook contents must change.\n",
       "    IPython.notebook.set_dirty(true);\n",
       "    this.send_message(\"ack\", {});\n",
       "    var fig = this;\n",
       "    // Wait a second, then push the new image to the DOM so\n",
       "    // that it is saved nicely (might be nice to debounce this).\n",
       "    setTimeout(function () { fig.push_to_output() }, 1000);\n",
       "}\n",
       "\n",
       "mpl.figure.prototype._init_toolbar = function() {\n",
       "    var fig = this;\n",
       "\n",
       "    var nav_element = $('<div/>');\n",
       "    nav_element.attr('style', 'width: 100%');\n",
       "    this.root.append(nav_element);\n",
       "\n",
       "    // Define a callback function for later on.\n",
       "    function toolbar_event(event) {\n",
       "        return fig.toolbar_button_onclick(event['data']);\n",
       "    }\n",
       "    function toolbar_mouse_event(event) {\n",
       "        return fig.toolbar_button_onmouseover(event['data']);\n",
       "    }\n",
       "\n",
       "    for(var toolbar_ind in mpl.toolbar_items){\n",
       "        var name = mpl.toolbar_items[toolbar_ind][0];\n",
       "        var tooltip = mpl.toolbar_items[toolbar_ind][1];\n",
       "        var image = mpl.toolbar_items[toolbar_ind][2];\n",
       "        var method_name = mpl.toolbar_items[toolbar_ind][3];\n",
       "\n",
       "        if (!name) { continue; };\n",
       "\n",
       "        var button = $('<button class=\"btn btn-default\" href=\"#\" title=\"' + name + '\"><i class=\"fa ' + image + ' fa-lg\"></i></button>');\n",
       "        button.click(method_name, toolbar_event);\n",
       "        button.mouseover(tooltip, toolbar_mouse_event);\n",
       "        nav_element.append(button);\n",
       "    }\n",
       "\n",
       "    // Add the status bar.\n",
       "    var status_bar = $('<span class=\"mpl-message\" style=\"text-align:right; float: right;\"/>');\n",
       "    nav_element.append(status_bar);\n",
       "    this.message = status_bar[0];\n",
       "\n",
       "    // Add the close button to the window.\n",
       "    var buttongrp = $('<div class=\"btn-group inline pull-right\"></div>');\n",
       "    var button = $('<button class=\"btn btn-mini btn-primary\" href=\"#\" title=\"Stop Interaction\"><i class=\"fa fa-power-off icon-remove icon-large\"></i></button>');\n",
       "    button.click(function (evt) { fig.handle_close(fig, {}); } );\n",
       "    button.mouseover('Stop Interaction', toolbar_mouse_event);\n",
       "    buttongrp.append(button);\n",
       "    var titlebar = this.root.find($('.ui-dialog-titlebar'));\n",
       "    titlebar.prepend(buttongrp);\n",
       "}\n",
       "\n",
       "mpl.figure.prototype._root_extra_style = function(el){\n",
       "    var fig = this\n",
       "    el.on(\"remove\", function(){\n",
       "\tfig.close_ws(fig, {});\n",
       "    });\n",
       "}\n",
       "\n",
       "mpl.figure.prototype._canvas_extra_style = function(el){\n",
       "    // this is important to make the div 'focusable\n",
       "    el.attr('tabindex', 0)\n",
       "    // reach out to IPython and tell the keyboard manager to turn it's self\n",
       "    // off when our div gets focus\n",
       "\n",
       "    // location in version 3\n",
       "    if (IPython.notebook.keyboard_manager) {\n",
       "        IPython.notebook.keyboard_manager.register_events(el);\n",
       "    }\n",
       "    else {\n",
       "        // location in version 2\n",
       "        IPython.keyboard_manager.register_events(el);\n",
       "    }\n",
       "\n",
       "}\n",
       "\n",
       "mpl.figure.prototype._key_event_extra = function(event, name) {\n",
       "    var manager = IPython.notebook.keyboard_manager;\n",
       "    if (!manager)\n",
       "        manager = IPython.keyboard_manager;\n",
       "\n",
       "    // Check for shift+enter\n",
       "    if (event.shiftKey && event.which == 13) {\n",
       "        this.canvas_div.blur();\n",
       "        event.shiftKey = false;\n",
       "        // Send a \"J\" for go to next cell\n",
       "        event.which = 74;\n",
       "        event.keyCode = 74;\n",
       "        manager.command_mode();\n",
       "        manager.handle_keydown(event);\n",
       "    }\n",
       "}\n",
       "\n",
       "mpl.figure.prototype.handle_save = function(fig, msg) {\n",
       "    fig.ondownload(fig, null);\n",
       "}\n",
       "\n",
       "\n",
       "mpl.find_output_cell = function(html_output) {\n",
       "    // Return the cell and output element which can be found *uniquely* in the notebook.\n",
       "    // Note - this is a bit hacky, but it is done because the \"notebook_saving.Notebook\"\n",
       "    // IPython event is triggered only after the cells have been serialised, which for\n",
       "    // our purposes (turning an active figure into a static one), is too late.\n",
       "    var cells = IPython.notebook.get_cells();\n",
       "    var ncells = cells.length;\n",
       "    for (var i=0; i<ncells; i++) {\n",
       "        var cell = cells[i];\n",
       "        if (cell.cell_type === 'code'){\n",
       "            for (var j=0; j<cell.output_area.outputs.length; j++) {\n",
       "                var data = cell.output_area.outputs[j];\n",
       "                if (data.data) {\n",
       "                    // IPython >= 3 moved mimebundle to data attribute of output\n",
       "                    data = data.data;\n",
       "                }\n",
       "                if (data['text/html'] == html_output) {\n",
       "                    return [cell, data, j];\n",
       "                }\n",
       "            }\n",
       "        }\n",
       "    }\n",
       "}\n",
       "\n",
       "// Register the function which deals with the matplotlib target/channel.\n",
       "// The kernel may be null if the page has been refreshed.\n",
       "if (IPython.notebook.kernel != null) {\n",
       "    IPython.notebook.kernel.comm_manager.register_target('matplotlib', mpl.mpl_figure_comm);\n",
       "}\n"
      ],
      "text/plain": [
       "<IPython.core.display.Javascript object>"
      ]
     },
     "metadata": {},
     "output_type": "display_data"
    },
    {
     "data": {
      "text/html": [
       "<img src=\"data:image/png;base64,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\" width=\"864\">"
      ],
      "text/plain": [
       "<IPython.core.display.HTML object>"
      ]
     },
     "metadata": {},
     "output_type": "display_data"
    }
   ],
   "source": [
    "rnn = RNN(len(charset), 512, len(names_dict)).to(device) #120?\n",
    "n_epochs = 70\n",
    "learning_rate = 0.002 #0.004\n",
    "batch_size=1600\n",
    "\n",
    "train(rnn, n_epochs, learning_rate, batch_size, train_dataset, val_dataset)"
   ]
  },
  {
   "cell_type": "markdown",
   "metadata": {
    "deletable": false,
    "editable": false,
    "nbgrader": {
     "cell_type": "markdown",
     "checksum": "ec7510ce50876d9072ff172b5a6bed05",
     "grade": false,
     "grade_id": "cell-b59e32abfa0bf9ef",
     "locked": true,
     "schema_version": 3,
     "solution": false
    }
   },
   "source": [
    "Make sure you obtain at least 0.3 F1-score in the validation set before proceeding."
   ]
  },
  {
   "cell_type": "markdown",
   "metadata": {
    "deletable": false,
    "editable": false,
    "nbgrader": {
     "cell_type": "markdown",
     "checksum": "0c90c4448ae9e3cfffa5e8dc30b21411",
     "grade": false,
     "grade_id": "cell-09fe0d5786ed0073",
     "locked": true,
     "schema_version": 3,
     "solution": false
    }
   },
   "source": [
    "### 1.6 Evaluation"
   ]
  },
  {
   "cell_type": "markdown",
   "metadata": {
    "deletable": false,
    "editable": false,
    "nbgrader": {
     "cell_type": "markdown",
     "checksum": "32ba20bdba94d72537d559f5d7fed869",
     "grade": false,
     "grade_id": "cell-098308391c682cd8",
     "locked": true,
     "schema_version": 3,
     "solution": false
    }
   },
   "source": [
    "Now that our model is trained, we can evaluate its predictions on the test set. "
   ]
  },
  {
   "cell_type": "code",
   "execution_count": 36,
   "metadata": {
    "deletable": false,
    "editable": false,
    "nbgrader": {
     "cell_type": "code",
     "checksum": "d028367fa4f2b8e07b9f412bc0dc82cc",
     "grade": false,
     "grade_id": "cell-ee9fecbd4fc5e6cd",
     "locked": true,
     "schema_version": 3,
     "solution": false
    }
   },
   "outputs": [],
   "source": [
    "# Get all samples from the test set\n",
    "x_test, y_test = test_dataset[:]\n",
    "\n",
    "# Compute predictions\n",
    "with torch.no_grad():\n",
    "    test_out, _ = batch_forward_prop(rnn, x_test, y_test)\n",
    "\n",
    "# Transform them into hard predictions\n",
    "preds = test_out.argmax(dim=1)\n",
    "\n",
    "# Get `preds` as a numpy array\n",
    "preds = preds.cpu().numpy()"
   ]
  },
  {
   "cell_type": "markdown",
   "metadata": {
    "deletable": false,
    "editable": false,
    "nbgrader": {
     "cell_type": "markdown",
     "checksum": "5fdeb2d6a4e4a5402f0feb9554634e15",
     "grade": false,
     "grade_id": "cell-6968066e3b5b4085",
     "locked": true,
     "schema_version": 3,
     "solution": false
    }
   },
   "source": [
    "Using these predictions, we can compute the confusion matrix on the test set as follows."
   ]
  },
  {
   "cell_type": "code",
   "execution_count": 37,
   "metadata": {
    "deletable": false,
    "editable": false,
    "nbgrader": {
     "cell_type": "code",
     "checksum": "2ca8a97e26fea408fe09e4eed8350526",
     "grade": false,
     "grade_id": "cell-003dfbe728ab93f4",
     "locked": true,
     "schema_version": 3,
     "solution": false
    }
   },
   "outputs": [
    {
     "data": {
      "text/plain": [
       "array([[0.15231788, 0.1192053 , 0.03311258, ..., 0.01986755, 0.01324503,\n",
       "        0.02649007],\n",
       "       [0.19444444, 0.36111111, 0.        , ..., 0.        , 0.        ,\n",
       "        0.02777778],\n",
       "       [0.09931507, 0.04623288, 0.07534247, ..., 0.01027397, 0.00684932,\n",
       "        0.02739726],\n",
       "       ...,\n",
       "       [0.        , 0.00510204, 0.        , ..., 0.78571429, 0.01020408,\n",
       "        0.        ],\n",
       "       [0.01036269, 0.        , 0.00518135, ..., 0.        , 0.84974093,\n",
       "        0.07253886],\n",
       "       [0.        , 0.025     , 0.        , ..., 0.        , 0.05      ,\n",
       "        0.825     ]])"
      ]
     },
     "execution_count": 37,
     "metadata": {},
     "output_type": "execute_result"
    }
   ],
   "source": [
    "from sklearn.metrics import confusion_matrix\n",
    "\n",
    "# Compute the confusion matrix\n",
    "y_true = y_test.cpu().numpy()\n",
    "cm = confusion_matrix(y_true, preds)\n",
    "cm = cm.astype('float64')\n",
    "\n",
    "# Normalize each row\n",
    "for i in range(cm.shape[0]):\n",
    "    cm[i, :] = cm[i, :] / sum(cm[i, :])\n",
    "    \n",
    "cm"
   ]
  },
  {
   "cell_type": "markdown",
   "metadata": {
    "deletable": false,
    "editable": false,
    "nbgrader": {
     "cell_type": "markdown",
     "checksum": "498ae92e6253b9951570fd782bb67f28",
     "grade": false,
     "grade_id": "cell-d0a5d53862716ff5",
     "locked": true,
     "schema_version": 3,
     "solution": false
    }
   },
   "source": [
    "In order to make this easier to visualize, let's plot it as a heat map:"
   ]
  },
  {
   "cell_type": "code",
   "execution_count": 38,
   "metadata": {
    "deletable": false,
    "editable": false,
    "nbgrader": {
     "cell_type": "code",
     "checksum": "5eed47cfe9145966604d70f8a0ae1ab5",
     "grade": false,
     "grade_id": "cell-0ac30bac8eee0481",
     "locked": true,
     "schema_version": 3,
     "solution": false
    }
   },
   "outputs": [
    {
     "data": {
      "image/png": "[encoded data removed]",
      "text/plain": [
       "<Figure size 720x720 with 1 Axes>"
      ]
     },
     "metadata": {
      "needs_background": "light"
     },
     "output_type": "display_data"
    }
   ],
   "source": [
    "%matplotlib inline\n",
    "plt.figure(figsize=(10, 10))\n",
    "plt.imshow(cm)\n",
    "plt.xticks(range(len(names_dict)), names_dict.keys(), rotation='vertical')\n",
    "plt.yticks(range(len(names_dict)), names_dict.keys())\n",
    "plt.xlabel('Predicted label')\n",
    "plt.ylabel('True label')\n",
    "plt.show()"
   ]
  },
  {
   "cell_type": "markdown",
   "metadata": {
    "deletable": false,
    "editable": false,
    "nbgrader": {
     "cell_type": "markdown",
     "checksum": "5540d1703b6bc9d87a8135843b4ffd24",
     "grade": false,
     "grade_id": "cell-baa17f34d2c98af3",
     "locked": true,
     "schema_version": 3,
     "solution": false
    }
   },
   "source": [
    "**Question:**\n",
    "Why did we normalize the rows of the confusion matrix? "
   ]
  },
  {
   "cell_type": "markdown",
   "metadata": {
    "deletable": false,
    "nbgrader": {
     "cell_type": "markdown",
     "checksum": "02945e3740619fdfadc8beb6c4036561",
     "grade": true,
     "grade_id": "cell-5e952f1af1335cd1",
     "locked": false,
     "points": 0,
     "schema_version": 3,
     "solution": true
    }
   },
   "source": [
    "**Your answer:** Because we can't compare the performance if the correct predictions and errors aren't relative to the size of the subset of each contry. If we wouldn't use normalization we couldn't perform any analysis on the confusion matrix."
   ]
  },
  {
   "cell_type": "markdown",
   "metadata": {
    "deletable": false,
    "editable": false,
    "nbgrader": {
     "cell_type": "markdown",
     "checksum": "3f7dc92c5b22a835eeb124bf37a0f64a",
     "grade": false,
     "grade_id": "cell-b56067b9a8f982ed",
     "locked": true,
     "schema_version": 3,
     "solution": false
    }
   },
   "source": [
    "**Question:**\n",
    "What can you conclude from this confusion matrix? Which classes are easy/hard to classify? Which classes are being confused?"
   ]
  },
  {
   "cell_type": "markdown",
   "metadata": {
    "deletable": false,
    "nbgrader": {
     "cell_type": "markdown",
     "checksum": "890e6d741ec9c3b7890070c0578907d0",
     "grade": true,
     "grade_id": "cell-e3597dc61426d8a3",
     "locked": false,
     "points": 0,
     "schema_version": 3,
     "solution": true
    }
   },
   "source": [
    "**Your answer:** The network performs pretty well overall. It is easier to classify the asian countries, especially China. It is the hardest to classify USA and Sweden. The confusion is largest around Croatia, Kosova, Serbia and Albania."
   ]
  },
  {
   "cell_type": "markdown",
   "metadata": {
    "deletable": false,
    "editable": false,
    "nbgrader": {
     "cell_type": "markdown",
     "checksum": "9ff548903b15da02335b1f0111ac9c4a",
     "grade": false,
     "grade_id": "cell-a1cd31c6856025a5",
     "locked": true,
     "schema_version": 3,
     "solution": false
    }
   },
   "source": [
    "To end this task, we can now define a function to perform predictions on any input name we provide (as long as the name contains only characters in our character set)."
   ]
  },
  {
   "cell_type": "code",
   "execution_count": 39,
   "metadata": {
    "deletable": false,
    "editable": false,
    "nbgrader": {
     "cell_type": "code",
     "checksum": "16ff9962bca7277a96de8620d03b1264",
     "grade": false,
     "grade_id": "cell-07f9089a7c996db0",
     "locked": true,
     "schema_version": 3,
     "solution": false
    }
   },
   "outputs": [],
   "source": [
    "def evaluate(name_tensor):\n",
    "    with torch.no_grad():\n",
    "        hidden = torch.zeros(1, rnn.hidden_size).to(device)\n",
    "        for i in range(name_tensor.shape[1]):\n",
    "            output, hidden = rnn(name_tensor[:, i, :], hidden)\n",
    "    return output.exp()\n",
    "\n",
    "def predict(input_line, n_predictions=5):\n",
    "    tensor = name2tensor(input_line).to(device)[None, :]\n",
    "    output = evaluate(tensor)\n",
    "\n",
    "    # Get top N categories\n",
    "    topv, topi = output.topk(n_predictions, 1, True)\n",
    "    topv, topi = topv[0], topi[0]\n",
    "        \n",
    "    cats = [list(names_dict.keys())[i] for i in topi.cpu().numpy()]\n",
    "    vs = topv.cpu().numpy()\n",
    "\n",
    "    plt.figure(figsize=(10,3))\n",
    "    plt.bar(range(len(vs)), vs)\n",
    "    plt.xticks(range(len(vs)), cats)"
   ]
  },
  {
   "cell_type": "code",
   "execution_count": 40,
   "metadata": {
    "deletable": false,
    "editable": false,
    "nbgrader": {
     "cell_type": "code",
     "checksum": "663d002913d786ae06797435cabb49b3",
     "grade": false,
     "grade_id": "cell-ee607ec26d687e7a",
     "locked": true,
     "schema_version": 3,
     "solution": false
    }
   },
   "outputs": [
    {
     "data": {
      "image/png": "[encoded data removed]",
      "text/plain": [
       "<Figure size 720x216 with 1 Axes>"
      ]
     },
     "metadata": {
      "needs_background": "light"
     },
     "output_type": "display_data"
    }
   ],
   "source": [
    "predict('Åsakvi')"
   ]
  },
  {
   "cell_type": "code",
   "execution_count": 41,
   "metadata": {
    "deletable": false,
    "editable": false,
    "nbgrader": {
     "cell_type": "code",
     "checksum": "de6ea4fca69dcdfafe0989d3c5a18f2b",
     "grade": false,
     "grade_id": "cell-fcc84c5b71d65216",
     "locked": true,
     "schema_version": 3,
     "solution": false
    }
   },
   "outputs": [
    {
     "data": {
      "image/png": "[encoded data removed]",
      "text/plain": [
       "<Figure size 720x216 with 1 Axes>"
      ]
     },
     "metadata": {
      "needs_background": "light"
     },
     "output_type": "display_data"
    }
   ],
   "source": [
    "predict('Harakabim')"
   ]
  },
  {
   "cell_type": "code",
   "execution_count": 42,
   "metadata": {
    "deletable": false,
    "editable": false,
    "nbgrader": {
     "cell_type": "code",
     "checksum": "8677e866517c65d978435ec0bd2c7213",
     "grade": false,
     "grade_id": "cell-d8af5b38ed527dc0",
     "locked": true,
     "schema_version": 3,
     "solution": false
    }
   },
   "outputs": [
    {
     "data": {
      "image/png": "[encoded data removed]",
      "text/plain": [
       "<Figure size 720x216 with 1 Axes>"
      ]
     },
     "metadata": {
      "needs_background": "light"
     },
     "output_type": "display_data"
    }
   ],
   "source": [
    "predict('Alakazam')"
   ]
  },
  {
   "cell_type": "code",
   "execution_count": 43,
   "metadata": {
    "deletable": false,
    "editable": false,
    "nbgrader": {
     "cell_type": "code",
     "checksum": "8aeaf021219a2f4697067d2fd4a41506",
     "grade": false,
     "grade_id": "cell-608a1a0a87fdcfbc",
     "locked": true,
     "schema_version": 3,
     "solution": false
    }
   },
   "outputs": [
    {
     "data": {
      "image/png": "[encoded data removed]",
      "text/plain": [
       "<Figure size 720x216 with 1 Axes>"
      ]
     },
     "metadata": {
      "needs_background": "light"
     },
     "output_type": "display_data"
    }
   ],
   "source": [
    "predict('Jin Quaio')"
   ]
  },
  {
   "cell_type": "code",
   "execution_count": 44,
   "metadata": {
    "deletable": false,
    "editable": false,
    "nbgrader": {
     "cell_type": "code",
     "checksum": "82b217f4a574a2cc23ad6233505d1d3e",
     "grade": false,
     "grade_id": "cell-9e46296a62c4ad3b",
     "locked": true,
     "schema_version": 3,
     "solution": false
    }
   },
   "outputs": [
    {
     "data": {
      "image/png": "[encoded data removed]",
      "text/plain": [
       "<Figure size 720x216 with 1 Axes>"
      ]
     },
     "metadata": {
      "needs_background": "light"
     },
     "output_type": "display_data"
    }
   ],
   "source": [
    "predict('Leonardino')"
   ]
  },
  {
   "cell_type": "code",
   "execution_count": 45,
   "metadata": {
    "deletable": false,
    "editable": false,
    "nbgrader": {
     "cell_type": "code",
     "checksum": "e2cbe7f4dcf0f10d6f011dca38976ec9",
     "grade": false,
     "grade_id": "cell-7107524e76e71c41",
     "locked": true,
     "schema_version": 3,
     "solution": false
    }
   },
   "outputs": [
    {
     "data": {
      "image/png": "[encoded data removed]",
      "text/plain": [
       "<Figure size 720x216 with 1 Axes>"
      ]
     },
     "metadata": {
      "needs_background": "light"
     },
     "output_type": "display_data"
    }
   ],
   "source": [
    "predict('Kim Sung')"
   ]
  },
  {
   "cell_type": "code",
   "execution_count": 46,
   "metadata": {
    "deletable": false,
    "editable": false,
    "nbgrader": {
     "cell_type": "code",
     "checksum": "aafceedc4f3f9ddbacf4b76548e8aa95",
     "grade": false,
     "grade_id": "cell-e5c047f1d1960750",
     "locked": true,
     "schema_version": 3,
     "solution": false
    }
   },
   "outputs": [
    {
     "data": {
      "image/png": "[encoded data removed]",
      "text/plain": [
       "<Figure size 720x216 with 1 Axes>"
      ]
     },
     "metadata": {
      "needs_background": "light"
     },
     "output_type": "display_data"
    }
   ],
   "source": [
    "predict('Thanos')"
   ]
  },
  {
   "cell_type": "code",
   "execution_count": 47,
   "metadata": {
    "deletable": false,
    "editable": false,
    "nbgrader": {
     "cell_type": "code",
     "checksum": "7c82ec8b8c895b208611f139201ac560",
     "grade": false,
     "grade_id": "cell-fc41f7e0ab00a192",
     "locked": true,
     "schema_version": 3,
     "solution": false
    }
   },
   "outputs": [
    {
     "data": {
      "image/png": "[encoded data removed]",
      "text/plain": [
       "<Figure size 720x216 with 1 Axes>"
      ]
     },
     "metadata": {
      "needs_background": "light"
     },
     "output_type": "display_data"
    }
   ],
   "source": [
    "predict('Viiviika')"
   ]
  },
  {
   "cell_type": "markdown",
   "metadata": {
    "deletable": false,
    "editable": false,
    "nbgrader": {
     "cell_type": "markdown",
     "checksum": "bdf82da73d54b9f9e00cb0f323dcf206",
     "grade": false,
     "grade_id": "cell-5b8cdb44355a89df",
     "locked": true,
     "schema_version": 3,
     "solution": false
    }
   },
   "source": [
    "Experiment on new names using the next cell:"
   ]
  },
  {
   "cell_type": "code",
   "execution_count": 48,
   "metadata": {},
   "outputs": [
    {
     "data": {
      "image/png": "[encoded data removed]",
      "text/plain": [
       "<Figure size 720x216 with 1 Axes>"
      ]
     },
     "metadata": {
      "needs_background": "light"
     },
     "output_type": "display_data"
    }
   ],
   "source": [
    "predict('Sanjiv')"
   ]
  },
  {
   "cell_type": "code",
   "execution_count": null,
   "metadata": {},
   "outputs": [],
   "source": []
  }
 ],
 "metadata": {
  "kernelspec": {
   "display_name": "Python 3",
   "language": "python",
   "name": "python3"
  },
  "language_info": {
   "codemirror_mode": {
    "name": "ipython",
    "version": 3
   },
   "file_extension": ".py",
   "mimetype": "text/x-python",
   "name": "python",
   "nbconvert_exporter": "python",
   "pygments_lexer": "ipython3",
   "version": "3.7.4"
  }
 },
 "nbformat": 4,
 "nbformat_minor": 2
}
